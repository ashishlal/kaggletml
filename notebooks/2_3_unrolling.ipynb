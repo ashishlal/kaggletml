{
 "cells": [
  {
   "cell_type": "code",
   "execution_count": 4,
   "metadata": {},
   "outputs": [],
   "source": [
    "%matplotlib inline\n",
    "import matplotlib.pyplot as plt\n",
    "import numpy as np\n",
    "import pandas as pd\n",
    "import os\n",
    "\n",
    "from trackml.dataset import load_event, load_dataset\n",
    "from trackml.score import score_event"
   ]
  },
  {
   "cell_type": "code",
   "execution_count": 151,
   "metadata": {},
   "outputs": [],
   "source": [
    "from sklearn.preprocessing import StandardScaler\n",
    "import hdbscan\n",
    "from scipy import stats\n",
    "from tqdm import tqdm\n",
    "from sklearn.cluster import DBSCAN\n",
    "\n",
    "class Clusterer(object):\n",
    "    def __init__(self,eps, rz_scales=[0.65, 0.965, 1.528]):                        \n",
    "        self.rz_scales=rz_scales\n",
    "        self.eps = eps\n",
    "#     def __init__(self,rz_scales=[1., 1., 1.]):                        \n",
    "#         self.rz_scales=rz_scales\n",
    "        \n",
    "    def _eliminate_outliers(self,labels,M):\n",
    "        norms=np.zeros((len(labels)),np.float32)\n",
    "        indices=np.zeros((len(labels)),np.float32)\n",
    "        for i, cluster in tqdm(enumerate(labels),total=len(labels)):\n",
    "            if cluster == 0:\n",
    "                continue\n",
    "            index = np.argwhere(self.clusters==cluster)\n",
    "            index = np.reshape(index,(index.shape[0]))\n",
    "            indices[i] = len(index)\n",
    "            x = M[index]\n",
    "            norms[i] = self._test_quadric(x)\n",
    "        threshold1 = np.percentile(norms,90)*5\n",
    "        threshold2 = 20\n",
    "        threshold3 = 7\n",
    "        for i, cluster in enumerate(labels):\n",
    "            if norms[i] > threshold1 or indices[i] > threshold2 or indices[i] < threshold3:\n",
    "                self.clusters[self.clusters==cluster]=0            \n",
    "    def _test_quadric(self,x):\n",
    "        Z = np.zeros((x.shape[0],10), np.float32)\n",
    "        Z[:,0] = x[:,0]**2\n",
    "        Z[:,1] = 2*x[:,0]*x[:,1]\n",
    "        Z[:,2] = 2*x[:,0]*x[:,2]\n",
    "        Z[:,3] = 2*x[:,0]\n",
    "        Z[:,4] = x[:,1]**2\n",
    "        Z[:,5] = 2*x[:,1]*x[:,2]\n",
    "        Z[:,6] = 2*x[:,1]\n",
    "        Z[:,7] = x[:,2]**2\n",
    "        Z[:,8] = 2*x[:,2]\n",
    "        Z[:,9] = 1\n",
    "        v, s, t = np.linalg.svd(Z,full_matrices=False)        \n",
    "        smallest_index = np.argmin(np.array(s))\n",
    "        T = np.array(t)\n",
    "        T = T[smallest_index,:]        \n",
    "        norm = np.linalg.norm(np.dot(Z,T), ord=2)**2\n",
    "        return norm\n",
    "\n",
    "    def _preprocess(self, hits):\n",
    "        \n",
    "        x = hits.x.values\n",
    "        y = hits.y.values\n",
    "        z = hits.z.values\n",
    "\n",
    "        r = np.sqrt(x**2 + y**2 + z**2)\n",
    "        hits['x2'] = x/r\n",
    "        hits['y2'] = y/r\n",
    "\n",
    "        r = np.sqrt(x**2 + y**2)\n",
    "        hits['z2'] = z/r\n",
    "\n",
    "        ss = StandardScaler()\n",
    "        X = ss.fit_transform(hits[['x2', 'y2', 'z2']].values)\n",
    "        for i, rz_scale in enumerate(self.rz_scales):\n",
    "            X[:,i] = X[:,i] * rz_scale\n",
    "       \n",
    "        return X\n",
    "    def _init(self, dfh):\n",
    "        \n",
    "        dfh['r'] = np.sqrt(dfh.x**2+dfh.y**2+dfh.z**2)\n",
    "        dfh['rt'] = np.sqrt(dfh.x**2+dfh.y**2)\n",
    "        dfh['a0'] = np.arctan2(dfh.y,dfh.x)\n",
    "        dfh['a0_1'] = np.arctan2(dfh.y2,dfh.x2)\n",
    "        dfh['r2'] = np.sqrt(dfh.x**2+dfh.y**2)\n",
    "        dfh['z1'] = dfh['z']/dfh['rt'] \n",
    "        \n",
    "        x = dfh.x.values\n",
    "        y = dfh.y.values\n",
    "        z = dfh.z.values\n",
    "        \n",
    "        x2 = dfh.x2.values\n",
    "        y2 = dfh.y2.values\n",
    "        z2 = dfh.z2.values\n",
    "        dfh['rho'] = np.sqrt(x**2 + y**2 + z**2)\n",
    "        dfh['r'] = np.sqrt(x**2 + y**2)\n",
    "        dfh['r2'] = np.sqrt(x2**2 + y2**2)\n",
    "#         dfh['phi'] = np.degrees(np.arctan2(hits['y2'], hits['x2']))\n",
    "        dfh['phi'] = np.arctan2(dfh['y'], dfh['x'])\n",
    "        dfh['phi2'] = np.arctan2(dfh['y2'], dfh['x2'])\n",
    "#         dfh['phi_1'] = np.round(np.degrees(np.arctan2(hits['y2'], hits['x2'])), 5)\n",
    "#         dfh['theta'] = np.degrees(np.arctan2(hits['r'], hits['z2']))\n",
    "        dfh['theta'] = np.arctan2(dfh['r'], dfh['z'])\n",
    "        phi = dfh['phi'].values\n",
    "        theta = dfh['theta'].values\n",
    "        rho = dfh['rho'].values\n",
    "        r = dfh['r'].values\n",
    "        \n",
    "        phi = dfh['phi2'].values\n",
    "        r = dfh['r2'].values\n",
    "        \n",
    "        dfh['tan_dip'] = phi/theta\n",
    "        dfh['tan_dip1'] = phi/z2\n",
    "        dfh['z2_1'] = 1/z2\n",
    "        dfh['z2_2'] = phi/z2 + 1/z2\n",
    "\n",
    "        dz = 0.00012\n",
    "        stepdz = 0.000005\n",
    "        for ii in tqdm(range(24)):\n",
    "            dz = dz + ii*stepdz\n",
    "            dfh['a1'] = dfh['a0']+dz*dfh['z']*np.sign(dfh['z'].values)\n",
    "            dfh['x1'] = dfh['a1']/dfh['z1']\n",
    "            dfh['x2'] = 1/dfh['z1']\n",
    "            dfh['x3'] = dfh['x1']+dfh['x2']\n",
    "            \n",
    "            dfh['z2_1'] = dfh['a1']/z2\n",
    "            dfh['z2_2'] = 1/z2\n",
    "            dfh['z2_3'] =  dfh['z2_1'] + dfh['z2_2']\n",
    "            dz1 = 0.0012\n",
    "            stepdz1 = 0.00005\n",
    "            dz1 = dz1 + ii*stepdz1\n",
    "            ss = StandardScaler()\n",
    "            dfs = ss.fit_transform(dfh[['a1','z1','x1','x2','x3']].values)\n",
    "#             dfs = ss.fit_transform(dfh[['a1','z2','z2_1', 'z2_2', 'z2_3']].values)\n",
    "#             dfs = ss.fit_transform(dfh[['a1', 'z2', 'phi2', 'r2', 'z2_1', 'z2_2', 'z2_3']].values)\n",
    "#             'z2', 'phi2', 'r2','tan_dip1', 'z2_1', 'z2_2'\n",
    "#             clusters = DBSCAN(eps=self.eps-dz1,min_samples=1,metric='manhattan',n_jobs=8).fit(dfs).labels_\n",
    "            \n",
    "            clusters = DBSCAN(eps=0.0035-dz,min_samples=1,metric='manhattan',n_jobs=8).fit(dfs).labels_\n",
    "#             clusters = DBSCAN(self.eps-dz,min_samples=1,metric='manhattan',n_jobs=8).fit(dfs).labels_\n",
    "            if ii==0:\n",
    "                dfh['s1']= clusters\n",
    "                dfh['N1'] = dfh.groupby('s1')['s1'].transform('count')\n",
    "            else:\n",
    "                dfh['s2'] = clusters\n",
    "                dfh['N2'] = dfh.groupby('s2')['s2'].transform('count')\n",
    "                maxs1 = dfh['s1'].max()\n",
    "                cond = np.where(dfh['N2'].values>dfh['N1'].values)\n",
    "                s1 = dfh['s1'].values\n",
    "                s1[cond] = dfh['s2'].values[cond]+maxs1\n",
    "                dfh['s1'] = s1\n",
    "                dfh['s1'] = dfh['s1'].astype('int64')\n",
    "                self.clusters = dfh['s1'].values\n",
    "                dfh['N1'] = dfh.groupby('s1')['s1'].transform('count')\n",
    "        dz = 0.00012\n",
    "        stepdz = -0.000005\n",
    "        for ii in tqdm(range(24)):\n",
    "            dz = dz + ii*stepdz\n",
    "            dfh['a1'] = dfh['a0']+dz*dfh['z']*np.sign(dfh['z'].values)\n",
    "            dfh['x1'] = dfh['a1']/dfh['z1']\n",
    "            dfh['x2'] = 1/dfh['z1']\n",
    "            dfh['x3'] = dfh['x1']+dfh['x2']\n",
    "            \n",
    "            # vary phi2\n",
    "            dfh['a2'] = dfh['phi2']+dz*dfh['z']*np.sign(dfh['z'].values)\n",
    "            dfh['z2_1'] = dfh['a2']/z2 # dip angle?\n",
    "            dfh['z2_2'] = 1/z2\n",
    "            dfh['z2_3'] =  dfh['z2_1'] + dfh['z2_2']\n",
    "            \n",
    "            dz1 = 0.0012\n",
    "            stepdz1 = 0.00005\n",
    "            dz1 = dz1 + ii*stepdz1\n",
    "            ss = StandardScaler()\n",
    "            dfs = ss.fit_transform(dfh[['a1','z1','x1','x2','x3']].values)\n",
    "#             dfs = ss.fit_transform(dfh[['a1', 'z2', 'phi2', 'r2', 'z2_1', 'z2_2', 'z2_3']].values)\n",
    "#             dfs = ss.fit_transform(dfh[['a1','z2','z2_1', 'z2_2', 'z2_3']].values)\n",
    "            clusters = DBSCAN(eps=0.0035+dz,min_samples=1,metric='manhattan',n_jobs=8).fit(dfs).labels_\n",
    "#             clusters = DBSCAN(eps=self.eps+dz1,min_samples=1,metric='manhattan',n_jobs=8).fit(dfs).labels_\n",
    "#             clusters = DBSCAN(self.eps+dz,min_samples=1,metric='manhattan',n_jobs=8).fit(dfs).labels_\n",
    "#             'z2', 'phi2', 'r2','tan_dip1', 'z2_1', 'z2_2'\n",
    "#             dfs = ss.fit_transform(dfh[['a1','z2','r2','phi2','tan_dip1', 'z2_1', 'z2_2']].values)\n",
    "#             clusters = DBSCAN(eps=0.011+dz,min_samples=1,metric='mahattan',n_jobs=8).fit(dfs).labels_\n",
    "            \n",
    "            dfh['s2'] = clusters\n",
    "            dfh['N2'] = dfh.groupby('s2')['s2'].transform('count')\n",
    "            maxs1 = dfh['s1'].max()\n",
    "            cond = np.where(dfh['N2'].values>dfh['N1'].values)\n",
    "            s1 = dfh['s1'].values\n",
    "            s1[cond] = dfh['s2'].values[cond]+maxs1\n",
    "            dfh['s1'] = s1\n",
    "            dfh['s1'] = dfh['s1'].astype('int64')\n",
    "            dfh['N1'] = dfh.groupby('s1')['s1'].transform('count')\n",
    "            \n",
    "            # check\n",
    "            dfh['track_id'] = dfh['s1'].values\n",
    "            dfh['event_id'] = 0\n",
    "            print(score_event(dfh, dfh[['event_id', 'hit_id', 'track_id']]))\n",
    "        return dfh['s1'].values\n",
    "    def predict(self, hits):  \n",
    "        X = self._preprocess(hits)\n",
    "        self.clusters = self._init(hits)                \n",
    "        \n",
    "        cl = hdbscan.HDBSCAN(min_samples=1,min_cluster_size=7,\n",
    "                             metric='braycurtis',cluster_selection_method='leaf',algorithm='best', \n",
    "                             leaf_size=50)\n",
    "        labels = np.unique(self.clusters)\n",
    "        n_labels = 0\n",
    "        while n_labels < len(labels):\n",
    "            n_labels = len(labels)\n",
    "            self._eliminate_outliers(labels,X)\n",
    "            max_len = np.max(self.clusters)\n",
    "            self.clusters[self.clusters==0] = cl.fit_predict(X[self.clusters==0])+max_len\n",
    "            labels = np.unique(self.clusters)\n",
    "        return self.clusters"
   ]
  },
  {
   "cell_type": "code",
   "execution_count": 49,
   "metadata": {},
   "outputs": [],
   "source": [
    "def create_one_event_submission(event_id, hits, labels):\n",
    "    sub_data = np.column_stack(([event_id]*len(hits), hits.hit_id.values, labels))\n",
    "    submission = pd.DataFrame(data=sub_data, columns=[\"event_id\", \"hit_id\", \"track_id\"]).astype(int)\n",
    "    return submission"
   ]
  },
  {
   "cell_type": "code",
   "execution_count": 82,
   "metadata": {},
   "outputs": [],
   "source": [
    "path_to_train = '../data/train'\n",
    "event_prefix = \"event000001000\"\n",
    "hits, cells, particles, truth = load_event(os.path.join(path_to_train, event_prefix))"
   ]
  },
  {
   "cell_type": "code",
   "execution_count": 61,
   "metadata": {},
   "outputs": [
    {
     "name": "stderr",
     "output_type": "stream",
     "text": [
      " 42%|████▏     | 10/24 [00:08<00:12,  1.12it/s]\n"
     ]
    },
    {
     "ename": "KeyboardInterrupt",
     "evalue": "",
     "output_type": "error",
     "traceback": [
      "\u001b[0;31m---------------------------------------------------------------------------\u001b[0m",
      "\u001b[0;31mKeyboardInterrupt\u001b[0m                         Traceback (most recent call last)",
      "\u001b[0;32m<ipython-input-61-75c6523c66b0>\u001b[0m in \u001b[0;36m<module>\u001b[0;34m()\u001b[0m\n\u001b[1;32m      1\u001b[0m \u001b[0mmodel\u001b[0m \u001b[0;34m=\u001b[0m \u001b[0mClusterer\u001b[0m\u001b[0;34m(\u001b[0m\u001b[0;34m)\u001b[0m\u001b[0;34m\u001b[0m\u001b[0m\n\u001b[0;32m----> 2\u001b[0;31m \u001b[0mlabels\u001b[0m \u001b[0;34m=\u001b[0m \u001b[0mmodel\u001b[0m\u001b[0;34m.\u001b[0m\u001b[0mpredict\u001b[0m\u001b[0;34m(\u001b[0m\u001b[0mhits\u001b[0m\u001b[0;34m)\u001b[0m\u001b[0;34m\u001b[0m\u001b[0m\n\u001b[0m",
      "\u001b[0;32m<ipython-input-60-ced4646ccc04>\u001b[0m in \u001b[0;36mpredict\u001b[0;34m(self, hits)\u001b[0m\n\u001b[1;32m    159\u001b[0m     \u001b[0;32mdef\u001b[0m \u001b[0mpredict\u001b[0m\u001b[0;34m(\u001b[0m\u001b[0mself\u001b[0m\u001b[0;34m,\u001b[0m \u001b[0mhits\u001b[0m\u001b[0;34m)\u001b[0m\u001b[0;34m:\u001b[0m\u001b[0;34m\u001b[0m\u001b[0m\n\u001b[1;32m    160\u001b[0m         \u001b[0mX\u001b[0m \u001b[0;34m=\u001b[0m \u001b[0mself\u001b[0m\u001b[0;34m.\u001b[0m\u001b[0m_preprocess\u001b[0m\u001b[0;34m(\u001b[0m\u001b[0mhits\u001b[0m\u001b[0;34m)\u001b[0m\u001b[0;34m\u001b[0m\u001b[0m\n\u001b[0;32m--> 161\u001b[0;31m         \u001b[0mself\u001b[0m\u001b[0;34m.\u001b[0m\u001b[0mclusters\u001b[0m \u001b[0;34m=\u001b[0m \u001b[0mself\u001b[0m\u001b[0;34m.\u001b[0m\u001b[0m_init\u001b[0m\u001b[0;34m(\u001b[0m\u001b[0mhits\u001b[0m\u001b[0;34m)\u001b[0m\u001b[0;34m\u001b[0m\u001b[0m\n\u001b[0m\u001b[1;32m    162\u001b[0m \u001b[0;34m\u001b[0m\u001b[0m\n\u001b[1;32m    163\u001b[0m         cl = hdbscan.HDBSCAN(min_samples=1,min_cluster_size=7,\n",
      "\u001b[0;32m<ipython-input-60-ced4646ccc04>\u001b[0m in \u001b[0;36m_init\u001b[0;34m(self, dfh)\u001b[0m\n\u001b[1;32m    111\u001b[0m             \u001b[0mdfs\u001b[0m \u001b[0;34m=\u001b[0m \u001b[0mss\u001b[0m\u001b[0;34m.\u001b[0m\u001b[0mfit_transform\u001b[0m\u001b[0;34m(\u001b[0m\u001b[0mdfh\u001b[0m\u001b[0;34m[\u001b[0m\u001b[0;34m[\u001b[0m\u001b[0;34m'a1'\u001b[0m\u001b[0;34m,\u001b[0m\u001b[0;34m'z1'\u001b[0m\u001b[0;34m,\u001b[0m\u001b[0;34m'x1'\u001b[0m\u001b[0;34m,\u001b[0m\u001b[0;34m'x2'\u001b[0m\u001b[0;34m,\u001b[0m\u001b[0;34m'x3'\u001b[0m\u001b[0;34m]\u001b[0m\u001b[0;34m]\u001b[0m\u001b[0;34m.\u001b[0m\u001b[0mvalues\u001b[0m\u001b[0;34m)\u001b[0m\u001b[0;34m\u001b[0m\u001b[0m\n\u001b[1;32m    112\u001b[0m \u001b[0;31m#             dfs = ss.fit_transform(dfh[['a1','z2','z2_1', 'z2_2', 'z2_3']].values)\u001b[0m\u001b[0;34m\u001b[0m\u001b[0;34m\u001b[0m\u001b[0m\n\u001b[0;32m--> 113\u001b[0;31m             \u001b[0mclusters\u001b[0m \u001b[0;34m=\u001b[0m \u001b[0mDBSCAN\u001b[0m\u001b[0;34m(\u001b[0m\u001b[0meps\u001b[0m\u001b[0;34m=\u001b[0m\u001b[0;36m0.0035\u001b[0m\u001b[0;34m-\u001b[0m\u001b[0mdz\u001b[0m\u001b[0;34m,\u001b[0m\u001b[0mmin_samples\u001b[0m\u001b[0;34m=\u001b[0m\u001b[0;36m1\u001b[0m\u001b[0;34m,\u001b[0m\u001b[0mmetric\u001b[0m\u001b[0;34m=\u001b[0m\u001b[0;34m'manhattan'\u001b[0m\u001b[0;34m,\u001b[0m\u001b[0mn_jobs\u001b[0m\u001b[0;34m=\u001b[0m\u001b[0;36m8\u001b[0m\u001b[0;34m)\u001b[0m\u001b[0;34m.\u001b[0m\u001b[0mfit\u001b[0m\u001b[0;34m(\u001b[0m\u001b[0mdfs\u001b[0m\u001b[0;34m)\u001b[0m\u001b[0;34m.\u001b[0m\u001b[0mlabels_\u001b[0m\u001b[0;34m\u001b[0m\u001b[0m\n\u001b[0m\u001b[1;32m    114\u001b[0m             \u001b[0;32mif\u001b[0m \u001b[0mii\u001b[0m\u001b[0;34m==\u001b[0m\u001b[0;36m0\u001b[0m\u001b[0;34m:\u001b[0m\u001b[0;34m\u001b[0m\u001b[0m\n\u001b[1;32m    115\u001b[0m                 \u001b[0mdfh\u001b[0m\u001b[0;34m[\u001b[0m\u001b[0;34m's1'\u001b[0m\u001b[0;34m]\u001b[0m\u001b[0;34m=\u001b[0m \u001b[0mclusters\u001b[0m\u001b[0;34m\u001b[0m\u001b[0m\n",
      "\u001b[0;32m~/anaconda3/envs/tmlf/lib/python3.6/site-packages/sklearn/cluster/dbscan_.py\u001b[0m in \u001b[0;36mfit\u001b[0;34m(self, X, y, sample_weight)\u001b[0m\n\u001b[1;32m    282\u001b[0m         \u001b[0mX\u001b[0m \u001b[0;34m=\u001b[0m \u001b[0mcheck_array\u001b[0m\u001b[0;34m(\u001b[0m\u001b[0mX\u001b[0m\u001b[0;34m,\u001b[0m \u001b[0maccept_sparse\u001b[0m\u001b[0;34m=\u001b[0m\u001b[0;34m'csr'\u001b[0m\u001b[0;34m)\u001b[0m\u001b[0;34m\u001b[0m\u001b[0m\n\u001b[1;32m    283\u001b[0m         clust = dbscan(X, sample_weight=sample_weight,\n\u001b[0;32m--> 284\u001b[0;31m                        **self.get_params())\n\u001b[0m\u001b[1;32m    285\u001b[0m         \u001b[0mself\u001b[0m\u001b[0;34m.\u001b[0m\u001b[0mcore_sample_indices_\u001b[0m\u001b[0;34m,\u001b[0m \u001b[0mself\u001b[0m\u001b[0;34m.\u001b[0m\u001b[0mlabels_\u001b[0m \u001b[0;34m=\u001b[0m \u001b[0mclust\u001b[0m\u001b[0;34m\u001b[0m\u001b[0m\n\u001b[1;32m    286\u001b[0m         \u001b[0;32mif\u001b[0m \u001b[0mlen\u001b[0m\u001b[0;34m(\u001b[0m\u001b[0mself\u001b[0m\u001b[0;34m.\u001b[0m\u001b[0mcore_sample_indices_\u001b[0m\u001b[0;34m)\u001b[0m\u001b[0;34m:\u001b[0m\u001b[0;34m\u001b[0m\u001b[0m\n",
      "\u001b[0;31mKeyboardInterrupt\u001b[0m: "
     ]
    }
   ],
   "source": [
    "model = Clusterer()\n",
    "labels = model.predict(hits)"
   ]
  },
  {
   "cell_type": "code",
   "execution_count": 11,
   "metadata": {},
   "outputs": [
    {
     "name": "stdout",
     "output_type": "stream",
     "text": [
      "Your score:  0.3724995097633181\n"
     ]
    }
   ],
   "source": [
    "submission = create_one_event_submission(0, hits, labels)\n",
    "score = score_event(truth, submission)\n",
    "print(\"Your score: \", score)"
   ]
  },
  {
   "cell_type": "code",
   "execution_count": 127,
   "metadata": {},
   "outputs": [
    {
     "name": "stderr",
     "output_type": "stream",
     "text": [
      "100%|██████████| 24/24 [00:23<00:00,  1.03it/s]\n",
      "100%|██████████| 24/24 [00:22<00:00,  1.09it/s]\n",
      "100%|██████████| 46651/46651 [00:07<00:00, 6261.28it/s]\n"
     ]
    },
    {
     "name": "stdout",
     "output_type": "stream",
     "text": [
      "Your score:  0.33537467511461244\n"
     ]
    }
   ],
   "source": [
    "model = Clusterer()\n",
    "labels = model.predict(hits)\n",
    "submission = create_one_event_submission(0, hits, labels)\n",
    "score = score_event(truth, submission)\n",
    "print(\"Your score: \", score)"
   ]
  },
  {
   "cell_type": "code",
   "execution_count": 133,
   "metadata": {},
   "outputs": [
    {
     "name": "stderr",
     "output_type": "stream",
     "text": [
      "100%|██████████| 24/24 [00:21<00:00,  1.10it/s]\n",
      "100%|██████████| 24/24 [00:21<00:00,  1.11it/s]\n",
      "100%|██████████| 53076/53076 [00:08<00:00, 6418.19it/s]\n",
      "  0%|          | 0/24 [00:00<?, ?it/s]"
     ]
    },
    {
     "name": "stdout",
     "output_type": "stream",
     "text": [
      "Your score:  0.3316338683211663\n"
     ]
    },
    {
     "name": "stderr",
     "output_type": "stream",
     "text": [
      "100%|██████████| 24/24 [00:21<00:00,  1.09it/s]\n",
      "100%|██████████| 24/24 [00:21<00:00,  1.10it/s]\n",
      "100%|██████████| 48412/48412 [00:07<00:00, 6421.95it/s]\n",
      "  0%|          | 0/24 [00:00<?, ?it/s]"
     ]
    },
    {
     "name": "stdout",
     "output_type": "stream",
     "text": [
      "Your score:  0.35494782255692414\n"
     ]
    },
    {
     "name": "stderr",
     "output_type": "stream",
     "text": [
      "100%|██████████| 24/24 [00:22<00:00,  1.07it/s]\n",
      "100%|██████████| 24/24 [00:22<00:00,  1.09it/s]\n",
      "100%|██████████| 44451/44451 [00:06<00:00, 6377.71it/s]\n",
      "  0%|          | 0/24 [00:00<?, ?it/s]"
     ]
    },
    {
     "name": "stdout",
     "output_type": "stream",
     "text": [
      "Your score:  0.3724995097633181\n"
     ]
    },
    {
     "name": "stderr",
     "output_type": "stream",
     "text": [
      "100%|██████████| 24/24 [00:22<00:00,  1.07it/s]\n",
      "100%|██████████| 24/24 [00:22<00:00,  1.07it/s]\n",
      "100%|██████████| 41106/41106 [00:06<00:00, 6191.60it/s]\n",
      "  0%|          | 0/24 [00:00<?, ?it/s]"
     ]
    },
    {
     "name": "stdout",
     "output_type": "stream",
     "text": [
      "Your score:  0.3678402221992445\n"
     ]
    },
    {
     "name": "stderr",
     "output_type": "stream",
     "text": [
      "100%|██████████| 24/24 [00:22<00:00,  1.06it/s]\n",
      "100%|██████████| 24/24 [00:22<00:00,  1.07it/s]\n",
      "100%|██████████| 37930/37930 [00:06<00:00, 6316.72it/s]\n"
     ]
    },
    {
     "name": "stdout",
     "output_type": "stream",
     "text": [
      "Your score:  0.35777253808781195\n"
     ]
    }
   ],
   "source": [
    "for eps in [0.0025, 0.003, 0.0035, 0.004, 0.0045]:\n",
    "    model = Clusterer(eps)\n",
    "    labels = model.predict(hits)\n",
    "    submission = create_one_event_submission(0, hits, labels)\n",
    "    score = score_event(truth, submission)\n",
    "    print(\"Your score: \", score)"
   ]
  },
  {
   "cell_type": "code",
   "execution_count": 135,
   "metadata": {},
   "outputs": [
    {
     "name": "stderr",
     "output_type": "stream",
     "text": [
      "100%|██████████| 24/24 [00:24<00:00,  1.00s/it]\n",
      "100%|██████████| 24/24 [00:24<00:00,  1.02s/it]\n",
      "100%|██████████| 80524/80524 [00:11<00:00, 6869.86it/s]\n",
      "  0%|          | 0/24 [00:00<?, ?it/s]"
     ]
    },
    {
     "name": "stdout",
     "output_type": "stream",
     "text": [
      "Your score:  0.24455597857829214\n"
     ]
    },
    {
     "name": "stderr",
     "output_type": "stream",
     "text": [
      "100%|██████████| 24/24 [00:24<00:00,  1.01s/it]\n",
      "100%|██████████| 24/24 [00:24<00:00,  1.02s/it]\n",
      "100%|██████████| 76502/76502 [00:11<00:00, 6831.23it/s]\n",
      "  0%|          | 0/24 [00:00<?, ?it/s]"
     ]
    },
    {
     "name": "stdout",
     "output_type": "stream",
     "text": [
      "Your score:  0.24760303721305957\n"
     ]
    },
    {
     "name": "stderr",
     "output_type": "stream",
     "text": [
      "100%|██████████| 24/24 [00:25<00:00,  1.04s/it]\n",
      "100%|██████████| 24/24 [00:25<00:00,  1.05s/it]\n",
      "100%|██████████| 57403/57403 [00:08<00:00, 6614.96it/s]\n"
     ]
    },
    {
     "name": "stdout",
     "output_type": "stream",
     "text": [
      "Your score:  0.26580657537774616\n"
     ]
    }
   ],
   "source": [
    "for eps in [0.009, 0.01, 0.015]:\n",
    "    model = Clusterer(eps)\n",
    "    labels = model.predict(hits)\n",
    "    submission = create_one_event_submission(0, hits, labels)\n",
    "    score = score_event(truth, submission)\n",
    "    print(\"Your score: \", score)"
   ]
  },
  {
   "cell_type": "code",
   "execution_count": 136,
   "metadata": {},
   "outputs": [
    {
     "name": "stderr",
     "output_type": "stream",
     "text": [
      "100%|██████████| 24/24 [00:24<00:00,  1.03s/it]\n",
      "100%|██████████| 24/24 [00:25<00:00,  1.05s/it]\n",
      "100%|██████████| 57403/57403 [00:08<00:00, 6549.93it/s]\n",
      "  0%|          | 0/24 [00:00<?, ?it/s]"
     ]
    },
    {
     "name": "stdout",
     "output_type": "stream",
     "text": [
      "Your score:  0.26580657537774616\n"
     ]
    },
    {
     "name": "stderr",
     "output_type": "stream",
     "text": [
      "100%|██████████| 24/24 [00:25<00:00,  1.07s/it]\n",
      "100%|██████████| 24/24 [00:26<00:00,  1.09s/it]\n",
      "100%|██████████| 41323/41323 [00:06<00:00, 6391.09it/s]\n",
      "  0%|          | 0/24 [00:00<?, ?it/s]"
     ]
    },
    {
     "name": "stdout",
     "output_type": "stream",
     "text": [
      "Your score:  0.2779047770395823\n"
     ]
    },
    {
     "name": "stderr",
     "output_type": "stream",
     "text": [
      "100%|██████████| 24/24 [00:26<00:00,  1.10s/it]\n",
      "100%|██████████| 24/24 [00:26<00:00,  1.11s/it]\n",
      "100%|██████████| 28283/28283 [00:04<00:00, 6182.40it/s]\n",
      "  0%|          | 0/24 [00:00<?, ?it/s]"
     ]
    },
    {
     "name": "stdout",
     "output_type": "stream",
     "text": [
      "Your score:  0.2731438906619206\n"
     ]
    },
    {
     "name": "stderr",
     "output_type": "stream",
     "text": [
      "100%|██████████| 24/24 [00:27<00:00,  1.14s/it]\n",
      "100%|██████████| 24/24 [00:27<00:00,  1.14s/it]\n",
      "100%|██████████| 18087/18087 [00:02<00:00, 6032.42it/s]\n",
      "  0%|          | 0/24 [00:00<?, ?it/s]"
     ]
    },
    {
     "name": "stdout",
     "output_type": "stream",
     "text": [
      "Your score:  0.2510339295763603\n"
     ]
    },
    {
     "name": "stderr",
     "output_type": "stream",
     "text": [
      "100%|██████████| 24/24 [00:27<00:00,  1.16s/it]\n",
      "100%|██████████| 24/24 [00:28<00:00,  1.18s/it]\n",
      "100%|██████████| 10181/10181 [00:01<00:00, 5800.38it/s]\n"
     ]
    },
    {
     "name": "stdout",
     "output_type": "stream",
     "text": [
      "Your score:  0.2478649934517582\n"
     ]
    }
   ],
   "source": [
    "for eps in [0.015, 0.02, 0.025, 0.03, 0.035]:\n",
    "    model = Clusterer(eps)\n",
    "    labels = model.predict(hits)\n",
    "    submission = create_one_event_submission(0, hits, labels)\n",
    "    score = score_event(truth, submission)\n",
    "    print(\"Your score: \", score)"
   ]
  },
  {
   "cell_type": "code",
   "execution_count": 137,
   "metadata": {},
   "outputs": [
    {
     "name": "stderr",
     "output_type": "stream",
     "text": [
      "100%|██████████| 24/24 [00:25<00:00,  1.07s/it]\n",
      "100%|██████████| 24/24 [00:25<00:00,  1.08s/it]\n",
      "100%|██████████| 41323/41323 [00:06<00:00, 6466.63it/s]\n",
      "  0%|          | 0/24 [00:00<?, ?it/s]"
     ]
    },
    {
     "name": "stdout",
     "output_type": "stream",
     "text": [
      "Your score:  0.2779047770395823\n"
     ]
    },
    {
     "name": "stderr",
     "output_type": "stream",
     "text": [
      "100%|██████████| 24/24 [00:25<00:00,  1.07s/it]\n",
      "100%|██████████| 24/24 [00:26<00:00,  1.10s/it]\n",
      "100%|██████████| 38499/38499 [00:06<00:00, 6374.89it/s]\n",
      "  0%|          | 0/24 [00:00<?, ?it/s]"
     ]
    },
    {
     "name": "stdout",
     "output_type": "stream",
     "text": [
      "Your score:  0.27658018631173864\n"
     ]
    },
    {
     "name": "stderr",
     "output_type": "stream",
     "text": [
      "100%|██████████| 24/24 [00:26<00:00,  1.09s/it]\n",
      "100%|██████████| 24/24 [00:26<00:00,  1.10s/it]\n",
      "100%|██████████| 35718/35718 [00:05<00:00, 6221.50it/s]\n",
      "  0%|          | 0/24 [00:00<?, ?it/s]"
     ]
    },
    {
     "name": "stdout",
     "output_type": "stream",
     "text": [
      "Your score:  0.2773611788769742\n"
     ]
    },
    {
     "name": "stderr",
     "output_type": "stream",
     "text": [
      "100%|██████████| 24/24 [00:26<00:00,  1.09s/it]\n",
      "100%|██████████| 24/24 [00:26<00:00,  1.12s/it]\n",
      "100%|██████████| 33074/33074 [00:05<00:00, 6275.96it/s]\n",
      "  0%|          | 0/24 [00:00<?, ?it/s]"
     ]
    },
    {
     "name": "stdout",
     "output_type": "stream",
     "text": [
      "Your score:  0.27508225396290126\n"
     ]
    },
    {
     "name": "stderr",
     "output_type": "stream",
     "text": [
      "100%|██████████| 24/24 [00:26<00:00,  1.10s/it]\n",
      "100%|██████████| 24/24 [00:26<00:00,  1.12s/it]\n",
      "100%|██████████| 30645/30645 [00:05<00:00, 6120.09it/s]\n",
      "  0%|          | 0/24 [00:00<?, ?it/s]"
     ]
    },
    {
     "name": "stdout",
     "output_type": "stream",
     "text": [
      "Your score:  0.27420398561069526\n"
     ]
    },
    {
     "name": "stderr",
     "output_type": "stream",
     "text": [
      "100%|██████████| 24/24 [00:26<00:00,  1.10s/it]\n",
      "100%|██████████| 24/24 [00:26<00:00,  1.12s/it]\n",
      "100%|██████████| 28283/28283 [00:04<00:00, 6279.68it/s]\n"
     ]
    },
    {
     "name": "stdout",
     "output_type": "stream",
     "text": [
      "Your score:  0.2731438906619206\n"
     ]
    }
   ],
   "source": [
    "for eps in [0.02, 0.021, 0.022, 0.023, 0.024, 0.025]:\n",
    "    model = Clusterer(eps)\n",
    "    labels = model.predict(hits)\n",
    "    submission = create_one_event_submission(0, hits, labels)\n",
    "    score = score_event(truth, submission)\n",
    "    print(\"Your score: \", score)"
   ]
  },
  {
   "cell_type": "code",
   "execution_count": 138,
   "metadata": {},
   "outputs": [
    {
     "name": "stderr",
     "output_type": "stream",
     "text": [
      "100%|██████████| 24/24 [00:25<00:00,  1.07s/it]\n",
      "100%|██████████| 24/24 [00:26<00:00,  1.09s/it]\n",
      "100%|██████████| 42818/42818 [00:06<00:00, 6432.35it/s]\n",
      "  0%|          | 0/24 [00:00<?, ?it/s]"
     ]
    },
    {
     "name": "stdout",
     "output_type": "stream",
     "text": [
      "Your score:  0.27899005323946957\n"
     ]
    },
    {
     "name": "stderr",
     "output_type": "stream",
     "text": [
      "100%|██████████| 24/24 [00:25<00:00,  1.06s/it]\n",
      "100%|██████████| 24/24 [00:25<00:00,  1.08s/it]\n",
      "100%|██████████| 42494/42494 [00:06<00:00, 6484.42it/s]\n",
      "  0%|          | 0/24 [00:00<?, ?it/s]"
     ]
    },
    {
     "name": "stdout",
     "output_type": "stream",
     "text": [
      "Your score:  0.2783438965105194\n"
     ]
    },
    {
     "name": "stderr",
     "output_type": "stream",
     "text": [
      "100%|██████████| 24/24 [00:25<00:00,  1.06s/it]\n",
      "100%|██████████| 24/24 [00:25<00:00,  1.08s/it]\n",
      "100%|██████████| 42220/42220 [00:06<00:00, 6434.12it/s]\n",
      "  0%|          | 0/24 [00:00<?, ?it/s]"
     ]
    },
    {
     "name": "stdout",
     "output_type": "stream",
     "text": [
      "Your score:  0.2777166455682055\n"
     ]
    },
    {
     "name": "stderr",
     "output_type": "stream",
     "text": [
      "100%|██████████| 24/24 [00:25<00:00,  1.07s/it]\n",
      "100%|██████████| 24/24 [00:26<00:00,  1.09s/it]\n",
      "100%|██████████| 41917/41917 [00:06<00:00, 6428.08it/s]\n",
      "  0%|          | 0/24 [00:00<?, ?it/s]"
     ]
    },
    {
     "name": "stdout",
     "output_type": "stream",
     "text": [
      "Your score:  0.2782452993647748\n"
     ]
    },
    {
     "name": "stderr",
     "output_type": "stream",
     "text": [
      "100%|██████████| 24/24 [00:25<00:00,  1.06s/it]\n",
      "100%|██████████| 24/24 [00:25<00:00,  1.08s/it]\n",
      "100%|██████████| 41636/41636 [00:06<00:00, 6503.59it/s]\n",
      "  0%|          | 0/24 [00:00<?, ?it/s]"
     ]
    },
    {
     "name": "stdout",
     "output_type": "stream",
     "text": [
      "Your score:  0.27838525377865697\n"
     ]
    },
    {
     "name": "stderr",
     "output_type": "stream",
     "text": [
      "100%|██████████| 24/24 [00:25<00:00,  1.06s/it]\n",
      "100%|██████████| 24/24 [00:26<00:00,  1.08s/it]\n",
      "100%|██████████| 41323/41323 [00:06<00:00, 6288.11it/s]\n",
      "  0%|          | 0/24 [00:00<?, ?it/s]"
     ]
    },
    {
     "name": "stdout",
     "output_type": "stream",
     "text": [
      "Your score:  0.2779047770395823\n"
     ]
    },
    {
     "name": "stderr",
     "output_type": "stream",
     "text": [
      "100%|██████████| 24/24 [00:26<00:00,  1.09s/it]\n",
      "100%|██████████| 24/24 [00:26<00:00,  1.10s/it]\n",
      "100%|██████████| 35484/35484 [00:05<00:00, 6026.46it/s]\n"
     ]
    },
    {
     "name": "stdout",
     "output_type": "stream",
     "text": [
      "Your score:  0.2779769871040115\n"
     ]
    }
   ],
   "source": [
    "for eps in [0.0195, 0.0196, 0.0197, 0.0198, 0.0199, 0.02, 0.0221]:\n",
    "    model = Clusterer(eps)\n",
    "    labels = model.predict(hits)\n",
    "    submission = create_one_event_submission(0, hits, labels)\n",
    "    score = score_event(truth, submission)\n",
    "    print(\"Your score: \", score)"
   ]
  },
  {
   "cell_type": "code",
   "execution_count": 139,
   "metadata": {},
   "outputs": [
    {
     "name": "stderr",
     "output_type": "stream",
     "text": [
      "100%|██████████| 24/24 [00:25<00:00,  1.07s/it]\n",
      "100%|██████████| 24/24 [00:26<00:00,  1.09s/it]\n",
      "100%|██████████| 44330/44330 [00:07<00:00, 6165.24it/s]\n",
      "  0%|          | 0/24 [00:00<?, ?it/s]"
     ]
    },
    {
     "name": "stdout",
     "output_type": "stream",
     "text": [
      "Your score:  0.2784253653607127\n"
     ]
    },
    {
     "name": "stderr",
     "output_type": "stream",
     "text": [
      "100%|██████████| 24/24 [00:25<00:00,  1.07s/it]\n",
      "100%|██████████| 24/24 [00:25<00:00,  1.08s/it]\n",
      "100%|██████████| 44021/44021 [00:06<00:00, 6564.00it/s]\n",
      "  0%|          | 0/24 [00:00<?, ?it/s]"
     ]
    },
    {
     "name": "stdout",
     "output_type": "stream",
     "text": [
      "Your score:  0.27790839642284904\n"
     ]
    },
    {
     "name": "stderr",
     "output_type": "stream",
     "text": [
      "100%|██████████| 24/24 [00:25<00:00,  1.06s/it]\n",
      "100%|██████████| 24/24 [00:25<00:00,  1.08s/it]\n",
      "100%|██████████| 43723/43723 [00:06<00:00, 6550.50it/s]\n",
      "  0%|          | 0/24 [00:00<?, ?it/s]"
     ]
    },
    {
     "name": "stdout",
     "output_type": "stream",
     "text": [
      "Your score:  0.27825617823536675\n"
     ]
    },
    {
     "name": "stderr",
     "output_type": "stream",
     "text": [
      "100%|██████████| 24/24 [00:25<00:00,  1.06s/it]\n",
      "100%|██████████| 24/24 [00:25<00:00,  1.08s/it]\n",
      "100%|██████████| 43401/43401 [00:06<00:00, 6478.95it/s]\n",
      "  0%|          | 0/24 [00:00<?, ?it/s]"
     ]
    },
    {
     "name": "stdout",
     "output_type": "stream",
     "text": [
      "Your score:  0.2786410817632458\n"
     ]
    },
    {
     "name": "stderr",
     "output_type": "stream",
     "text": [
      "100%|██████████| 24/24 [00:25<00:00,  1.06s/it]\n",
      "100%|██████████| 24/24 [00:26<00:00,  1.09s/it]\n",
      "100%|██████████| 43135/43135 [00:06<00:00, 6441.88it/s]\n",
      "  0%|          | 0/24 [00:00<?, ?it/s]"
     ]
    },
    {
     "name": "stdout",
     "output_type": "stream",
     "text": [
      "Your score:  0.2794540779419116\n"
     ]
    },
    {
     "name": "stderr",
     "output_type": "stream",
     "text": [
      "100%|██████████| 24/24 [00:25<00:00,  1.06s/it]\n",
      "100%|██████████| 24/24 [00:25<00:00,  1.08s/it]\n",
      "100%|██████████| 42818/42818 [00:06<00:00, 6361.96it/s]\n"
     ]
    },
    {
     "name": "stdout",
     "output_type": "stream",
     "text": [
      "Your score:  0.27899005323946957\n"
     ]
    }
   ],
   "source": [
    "for eps in [0.0190, 0.0191, 0.0192, 0.0193, 0.0194, 0.0195]:\n",
    "    model = Clusterer(eps)\n",
    "    labels = model.predict(hits)\n",
    "    submission = create_one_event_submission(0, hits, labels)\n",
    "    score = score_event(truth, submission)\n",
    "    print(\"Your score: \", score)"
   ]
  },
  {
   "cell_type": "code",
   "execution_count": 140,
   "metadata": {},
   "outputs": [
    {
     "name": "stderr",
     "output_type": "stream",
     "text": [
      "100%|██████████| 24/24 [00:25<00:00,  1.06s/it]\n",
      "100%|██████████| 24/24 [00:26<00:00,  1.09s/it]\n",
      "100%|██████████| 43135/43135 [00:06<00:00, 6439.70it/s]\n",
      "  0%|          | 0/24 [00:00<?, ?it/s]"
     ]
    },
    {
     "name": "stdout",
     "output_type": "stream",
     "text": [
      "Your score:  0.2794540779419116\n"
     ]
    },
    {
     "name": "stderr",
     "output_type": "stream",
     "text": [
      "100%|██████████| 24/24 [00:25<00:00,  1.06s/it]\n",
      "100%|██████████| 24/24 [00:26<00:00,  1.09s/it]\n",
      "100%|██████████| 43096/43096 [00:06<00:00, 6405.98it/s]\n",
      "  0%|          | 0/24 [00:00<?, ?it/s]"
     ]
    },
    {
     "name": "stdout",
     "output_type": "stream",
     "text": [
      "Your score:  0.2796902112536624\n"
     ]
    },
    {
     "name": "stderr",
     "output_type": "stream",
     "text": [
      "100%|██████████| 24/24 [00:25<00:00,  1.07s/it]\n",
      "100%|██████████| 24/24 [00:25<00:00,  1.08s/it]\n",
      "100%|██████████| 43071/43071 [00:06<00:00, 6325.08it/s]\n",
      "  0%|          | 0/24 [00:00<?, ?it/s]"
     ]
    },
    {
     "name": "stdout",
     "output_type": "stream",
     "text": [
      "Your score:  0.2793524303109651\n"
     ]
    },
    {
     "name": "stderr",
     "output_type": "stream",
     "text": [
      "100%|██████████| 24/24 [00:25<00:00,  1.07s/it]\n",
      "100%|██████████| 24/24 [00:26<00:00,  1.08s/it]\n",
      "100%|██████████| 43039/43039 [00:06<00:00, 6524.31it/s]\n",
      "  0%|          | 0/24 [00:00<?, ?it/s]"
     ]
    },
    {
     "name": "stdout",
     "output_type": "stream",
     "text": [
      "Your score:  0.27919318824042855\n"
     ]
    },
    {
     "name": "stderr",
     "output_type": "stream",
     "text": [
      "100%|██████████| 24/24 [00:25<00:00,  1.07s/it]\n",
      "100%|██████████| 24/24 [00:26<00:00,  1.09s/it]\n",
      "100%|██████████| 43010/43010 [00:06<00:00, 6356.89it/s]\n",
      "  0%|          | 0/24 [00:00<?, ?it/s]"
     ]
    },
    {
     "name": "stdout",
     "output_type": "stream",
     "text": [
      "Your score:  0.27926378008881425\n"
     ]
    },
    {
     "name": "stderr",
     "output_type": "stream",
     "text": [
      "100%|██████████| 24/24 [00:25<00:00,  1.06s/it]\n",
      "100%|██████████| 24/24 [00:25<00:00,  1.08s/it]\n",
      "100%|██████████| 42979/42979 [00:06<00:00, 6473.17it/s]\n"
     ]
    },
    {
     "name": "stdout",
     "output_type": "stream",
     "text": [
      "Your score:  0.27910077055062\n"
     ]
    }
   ],
   "source": [
    "for eps in [0.01940, 0.01941, 0.01942, 0.01943, 0.01944, 0.01945]:\n",
    "    model = Clusterer(eps)\n",
    "    labels = model.predict(hits)\n",
    "    submission = create_one_event_submission(0, hits, labels)\n",
    "    score = score_event(truth, submission)\n",
    "    print(\"Your score: \", score)"
   ]
  },
  {
   "cell_type": "code",
   "execution_count": 141,
   "metadata": {},
   "outputs": [
    {
     "name": "stderr",
     "output_type": "stream",
     "text": [
      "100%|██████████| 24/24 [00:25<00:00,  1.07s/it]\n",
      "100%|██████████| 24/24 [00:26<00:00,  1.08s/it]\n",
      "100%|██████████| 43096/43096 [00:06<00:00, 6418.05it/s]\n",
      "  0%|          | 0/24 [00:00<?, ?it/s]"
     ]
    },
    {
     "name": "stdout",
     "output_type": "stream",
     "text": [
      "Your score:  0.2796902112536624\n"
     ]
    },
    {
     "name": "stderr",
     "output_type": "stream",
     "text": [
      "100%|██████████| 24/24 [00:25<00:00,  1.07s/it]\n",
      "100%|██████████| 24/24 [00:25<00:00,  1.08s/it]\n",
      "100%|██████████| 43093/43093 [00:06<00:00, 6361.04it/s]\n",
      "  0%|          | 0/24 [00:00<?, ?it/s]"
     ]
    },
    {
     "name": "stdout",
     "output_type": "stream",
     "text": [
      "Your score:  0.279684001582719\n"
     ]
    },
    {
     "name": "stderr",
     "output_type": "stream",
     "text": [
      "100%|██████████| 24/24 [00:25<00:00,  1.06s/it]\n",
      "100%|██████████| 24/24 [00:25<00:00,  1.08s/it]\n",
      "100%|██████████| 43091/43091 [00:06<00:00, 6490.36it/s]\n",
      "  0%|          | 0/24 [00:00<?, ?it/s]"
     ]
    },
    {
     "name": "stdout",
     "output_type": "stream",
     "text": [
      "Your score:  0.2795959374951502\n"
     ]
    },
    {
     "name": "stderr",
     "output_type": "stream",
     "text": [
      "100%|██████████| 24/24 [00:25<00:00,  1.06s/it]\n",
      "100%|██████████| 24/24 [00:26<00:00,  1.09s/it]\n",
      "100%|██████████| 43086/43086 [00:06<00:00, 6325.80it/s]\n",
      "  0%|          | 0/24 [00:00<?, ?it/s]"
     ]
    },
    {
     "name": "stdout",
     "output_type": "stream",
     "text": [
      "Your score:  0.27949082549908844\n"
     ]
    },
    {
     "name": "stderr",
     "output_type": "stream",
     "text": [
      "100%|██████████| 24/24 [00:25<00:00,  1.07s/it]\n",
      "100%|██████████| 24/24 [00:25<00:00,  1.07s/it]\n",
      "100%|██████████| 43079/43079 [00:06<00:00, 6479.18it/s]\n"
     ]
    },
    {
     "name": "stdout",
     "output_type": "stream",
     "text": [
      "Your score:  0.27949082549908844\n"
     ]
    }
   ],
   "source": [
    "for eps in [0.01941, 0.019412, 0.019413, 0.019414, 0.019415]:\n",
    "    model = Clusterer(eps)\n",
    "    labels = model.predict(hits)\n",
    "    submission = create_one_event_submission(0, hits, labels)\n",
    "    score = score_event(truth, submission)\n",
    "    print(\"Your score: \", score)"
   ]
  },
  {
   "cell_type": "code",
   "execution_count": 152,
   "metadata": {},
   "outputs": [
    {
     "name": "stderr",
     "output_type": "stream",
     "text": [
      "100%|██████████| 24/24 [00:22<00:00,  1.08it/s]\n",
      "  4%|▍         | 1/24 [00:01<00:42,  1.83s/it]"
     ]
    },
    {
     "name": "stdout",
     "output_type": "stream",
     "text": [
      "0.0752305681290277\n"
     ]
    },
    {
     "name": "stderr",
     "output_type": "stream",
     "text": [
      "\r",
      "  8%|▊         | 2/24 [00:03<00:40,  1.86s/it]"
     ]
    },
    {
     "name": "stdout",
     "output_type": "stream",
     "text": [
      "0.07860727762759465\n"
     ]
    },
    {
     "name": "stderr",
     "output_type": "stream",
     "text": [
      "\r",
      " 12%|█▎        | 3/24 [00:05<00:39,  1.86s/it]"
     ]
    },
    {
     "name": "stdout",
     "output_type": "stream",
     "text": [
      "0.08487206478655537\n"
     ]
    },
    {
     "name": "stderr",
     "output_type": "stream",
     "text": [
      "\r",
      " 17%|█▋        | 4/24 [00:07<00:36,  1.84s/it]"
     ]
    },
    {
     "name": "stdout",
     "output_type": "stream",
     "text": [
      "0.09836164652413468\n"
     ]
    },
    {
     "name": "stderr",
     "output_type": "stream",
     "text": [
      "\r",
      " 21%|██        | 5/24 [00:09<00:34,  1.82s/it]"
     ]
    },
    {
     "name": "stdout",
     "output_type": "stream",
     "text": [
      "0.12273995810518126\n"
     ]
    },
    {
     "name": "stderr",
     "output_type": "stream",
     "text": [
      "\r",
      " 25%|██▌       | 6/24 [00:10<00:32,  1.81s/it]"
     ]
    },
    {
     "name": "stdout",
     "output_type": "stream",
     "text": [
      "0.16390320049327797\n"
     ]
    },
    {
     "name": "stderr",
     "output_type": "stream",
     "text": [
      "\r",
      " 29%|██▉       | 7/24 [00:12<00:30,  1.79s/it]"
     ]
    },
    {
     "name": "stdout",
     "output_type": "stream",
     "text": [
      "0.20963877214138535\n"
     ]
    },
    {
     "name": "stderr",
     "output_type": "stream",
     "text": [
      "\r",
      " 33%|███▎      | 8/24 [00:14<00:28,  1.80s/it]"
     ]
    },
    {
     "name": "stdout",
     "output_type": "stream",
     "text": [
      "0.2550587275434543\n"
     ]
    },
    {
     "name": "stderr",
     "output_type": "stream",
     "text": [
      "\r",
      " 38%|███▊      | 9/24 [00:16<00:26,  1.78s/it]"
     ]
    },
    {
     "name": "stdout",
     "output_type": "stream",
     "text": [
      "0.28150570336789116\n"
     ]
    },
    {
     "name": "stderr",
     "output_type": "stream",
     "text": [
      "\r",
      " 42%|████▏     | 10/24 [00:17<00:24,  1.77s/it]"
     ]
    },
    {
     "name": "stdout",
     "output_type": "stream",
     "text": [
      "0.2965299353228473\n"
     ]
    },
    {
     "name": "stderr",
     "output_type": "stream",
     "text": [
      "\r",
      " 46%|████▌     | 11/24 [00:19<00:22,  1.76s/it]"
     ]
    },
    {
     "name": "stdout",
     "output_type": "stream",
     "text": [
      "0.305826575304673\n"
     ]
    },
    {
     "name": "stderr",
     "output_type": "stream",
     "text": [
      "\r",
      " 50%|█████     | 12/24 [00:21<00:21,  1.75s/it]"
     ]
    },
    {
     "name": "stdout",
     "output_type": "stream",
     "text": [
      "0.31338502129324364\n"
     ]
    },
    {
     "name": "stderr",
     "output_type": "stream",
     "text": [
      "\r",
      " 54%|█████▍    | 13/24 [00:22<00:19,  1.74s/it]"
     ]
    },
    {
     "name": "stdout",
     "output_type": "stream",
     "text": [
      "0.3191473262526317\n"
     ]
    },
    {
     "name": "stderr",
     "output_type": "stream",
     "text": [
      "\r",
      " 58%|█████▊    | 14/24 [00:24<00:17,  1.74s/it]"
     ]
    },
    {
     "name": "stdout",
     "output_type": "stream",
     "text": [
      "0.3234579119822572\n"
     ]
    },
    {
     "name": "stderr",
     "output_type": "stream",
     "text": [
      "\r",
      " 62%|██████▎   | 15/24 [00:25<00:15,  1.73s/it]"
     ]
    },
    {
     "name": "stdout",
     "output_type": "stream",
     "text": [
      "0.32712654568837507\n"
     ]
    },
    {
     "name": "stderr",
     "output_type": "stream",
     "text": [
      "\r",
      " 67%|██████▋   | 16/24 [00:27<00:13,  1.72s/it]"
     ]
    },
    {
     "name": "stdout",
     "output_type": "stream",
     "text": [
      "0.3294563154367999\n"
     ]
    },
    {
     "name": "stderr",
     "output_type": "stream",
     "text": [
      "\r",
      " 71%|███████   | 17/24 [00:29<00:11,  1.71s/it]"
     ]
    },
    {
     "name": "stdout",
     "output_type": "stream",
     "text": [
      "0.33212978778870617\n"
     ]
    },
    {
     "name": "stderr",
     "output_type": "stream",
     "text": [
      "\r",
      " 75%|███████▌  | 18/24 [00:30<00:10,  1.71s/it]"
     ]
    },
    {
     "name": "stdout",
     "output_type": "stream",
     "text": [
      "0.333400048336403\n"
     ]
    },
    {
     "name": "stderr",
     "output_type": "stream",
     "text": [
      "\r",
      " 79%|███████▉  | 19/24 [00:32<00:08,  1.72s/it]"
     ]
    },
    {
     "name": "stdout",
     "output_type": "stream",
     "text": [
      "0.3349611482924627\n"
     ]
    },
    {
     "name": "stderr",
     "output_type": "stream",
     "text": [
      "\r",
      " 83%|████████▎ | 20/24 [00:34<00:06,  1.72s/it]"
     ]
    },
    {
     "name": "stdout",
     "output_type": "stream",
     "text": [
      "0.3356844718040679\n"
     ]
    },
    {
     "name": "stderr",
     "output_type": "stream",
     "text": [
      "\r",
      " 88%|████████▊ | 21/24 [00:36<00:05,  1.72s/it]"
     ]
    },
    {
     "name": "stdout",
     "output_type": "stream",
     "text": [
      "0.336986740059513\n"
     ]
    },
    {
     "name": "stderr",
     "output_type": "stream",
     "text": [
      "\r",
      " 92%|█████████▏| 22/24 [00:37<00:03,  1.72s/it]"
     ]
    },
    {
     "name": "stdout",
     "output_type": "stream",
     "text": [
      "0.33829005048499017\n"
     ]
    },
    {
     "name": "stderr",
     "output_type": "stream",
     "text": [
      "\r",
      " 96%|█████████▌| 23/24 [00:39<00:01,  1.72s/it]"
     ]
    },
    {
     "name": "stdout",
     "output_type": "stream",
     "text": [
      "0.3393908779413055\n"
     ]
    },
    {
     "name": "stderr",
     "output_type": "stream",
     "text": [
      "100%|██████████| 24/24 [00:41<00:00,  1.72s/it]\n",
      "  1%|          | 481/44451 [00:00<00:09, 4806.48it/s]"
     ]
    },
    {
     "name": "stdout",
     "output_type": "stream",
     "text": [
      "0.34013065376921303\n"
     ]
    },
    {
     "name": "stderr",
     "output_type": "stream",
     "text": [
      "100%|██████████| 44451/44451 [00:07<00:00, 6047.93it/s]\n"
     ]
    },
    {
     "name": "stdout",
     "output_type": "stream",
     "text": [
      "Your score:  0.3724995097633181\n"
     ]
    }
   ],
   "source": [
    "path_to_train = '../data/train'\n",
    "event_prefix = \"event000001000\"\n",
    "hits, cells, particles, truth = load_event(os.path.join(path_to_train, event_prefix))\n",
    "\n",
    "truth = pd.merge(truth, particles, how='left', on='particle_id')\n",
    "hits = pd.merge(hits, truth, how='left', on='hit_id')\n",
    "\n",
    "hits = hits.fillna(0)\n",
    "    \n",
    "model = Clusterer(eps=0.0035)\n",
    "labels = model.predict(hits)\n",
    "submission = create_one_event_submission(0, hits, labels)\n",
    "score = score_event(truth, submission)\n",
    "print(\"Your score: \", score)"
   ]
  },
  {
   "cell_type": "code",
   "execution_count": null,
   "metadata": {},
   "outputs": [],
   "source": []
  }
 ],
 "metadata": {
  "kernelspec": {
   "display_name": "Python 3",
   "language": "python",
   "name": "python3"
  },
  "language_info": {
   "codemirror_mode": {
    "name": "ipython",
    "version": 3
   },
   "file_extension": ".py",
   "mimetype": "text/x-python",
   "name": "python",
   "nbconvert_exporter": "python",
   "pygments_lexer": "ipython3",
   "version": "3.6.4"
  }
 },
 "nbformat": 4,
 "nbformat_minor": 2
}
