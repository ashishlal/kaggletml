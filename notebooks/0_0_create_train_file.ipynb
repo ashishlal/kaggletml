{
 "cells": [
  {
   "cell_type": "code",
   "execution_count": null,
   "metadata": {},
   "outputs": [],
   "source": [
    "%matplotlib inline\n",
    "import matplotlib.pyplot as plt\n",
    "import numpy as np\n",
    "import pandas as pd\n",
    "import os\n",
    "from datetime import datetime\n",
    "from tqdm import tqdm\n",
    "\n",
    "from trackml.dataset import load_event, load_dataset\n",
    "from trackml.score import score_event\n",
    "\n",
    "import sys\n",
    "sys.stdout = open('/dev/stdout', 'w')\n",
    "\n",
    "import warnings\n",
    "warnings.filterwarnings('ignore')"
   ]
  },
  {
   "cell_type": "code",
   "execution_count": null,
   "metadata": {},
   "outputs": [],
   "source": [
    "def append_to_csv(batch, csv_file):\n",
    "    props = dict(encoding='utf-8', index=False)\n",
    "    if not os.path.exists(csv_file):\n",
    "        batch.to_csv(csv_file, **props)\n",
    "    else:\n",
    "        batch.to_csv(csv_file, mode='a', header=False, **props)\n",
    "\n",
    "def delete_file_if_exists(filename):\n",
    "    if os.path.exists(filename):\n",
    "        os.remove(filename)"
   ]
  },
  {
   "cell_type": "code",
   "execution_count": null,
   "metadata": {},
   "outputs": [],
   "source": [
    "path_to_train = \"../data/train\"\n",
    "\n",
    "path1 = '../cache/train_hits.csv'\n",
    "delete_file_if_exists(path1)\n",
    "\n",
    "path2 = '../cache/train_truth.csv'\n",
    "delete_file_if_exists(path2)\n",
    "\n",
    "\n",
    "index = 0   \n",
    "\n",
    "for event_id, hits, cells, particles, truth in tqdm(load_dataset(path_to_train)):\n",
    "\n",
    "#     if index > 2:\n",
    "#         continue\n",
    "    truth1 = pd.merge(truth, particles, how='left', on='particle_id')\n",
    "    hits1 = pd.merge(hits, truth1, how='left', on='hit_id')\n",
    "\n",
    "    hits2 = hits1.dropna()\n",
    "    truth2 = truth1.dropna()\n",
    "\n",
    "    hits3 = hits2[hits2.nhits > 3]\n",
    "    truth3 = truth2[truth2.nhits > 3]\n",
    "\n",
    "    # new particle_id\n",
    "    hits3['npid'] = hits3.particle_id.astype('str') + '_' + str(event_id)\n",
    "    truth3['npid'] = truth3.particle_id.astype('str') + '_' + str(event_id)\n",
    "#     train_hits = train_hits.append(hits3)\n",
    "#     model.fit(hits3)\n",
    "#     h_str = '{},{},{},{}'.format(hits3['hit_id'], hits3['x'], hits3['y'], hits3['z'])\n",
    "#     f_sub.write(h_str)\n",
    "    append_to_csv(hits3, path1)\n",
    "    append_to_csv(truth3, path2)\n",
    "    del hits1, truth1\n",
    "    del hits2, truth2\n",
    "    del hits3, truth3\n",
    "    "
   ]
  }
 ],
 "metadata": {
  "kernelspec": {
   "display_name": "tmlfg",
   "language": "python",
   "name": "tmlfg"
  },
  "language_info": {
   "codemirror_mode": {
    "name": "ipython",
    "version": 3
   },
   "file_extension": ".py",
   "mimetype": "text/x-python",
   "name": "python",
   "nbconvert_exporter": "python",
   "pygments_lexer": "ipython3",
   "version": "3.6.4"
  }
 },
 "nbformat": 4,
 "nbformat_minor": 2
}
