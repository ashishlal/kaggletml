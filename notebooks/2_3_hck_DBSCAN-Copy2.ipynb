{
 "cells": [
  {
   "cell_type": "code",
   "execution_count": 1,
   "metadata": {},
   "outputs": [],
   "source": [
    "%matplotlib inline\n",
    "import matplotlib.pyplot as plt\n",
    "import numpy as np\n",
    "import pandas as pd\n",
    "import os\n",
    "\n",
    "from trackml.dataset import load_event, load_dataset\n",
    "from trackml.score import score_event\n",
    "from trackml.randomize import shuffle_hits\n",
    "\n",
    "from sklearn.preprocessing import StandardScaler\n",
    "import hdbscan as _hdbscan\n",
    "from scipy import stats\n",
    "from tqdm import tqdm\n",
    "\n",
    "import time\n",
    "\n",
    "from sklearn.cluster.dbscan_ import dbscan\n",
    "from sklearn.cluster import DBSCAN\n",
    "from sklearn.preprocessing import StandardScaler\n",
    "\n",
    "from sklearn.neighbors import KDTree\n",
    "import hdbscan\n",
    "# https://www.ellicium.com/python-multiprocessing-pool-process/\n",
    "# http://sebastianraschka.com/Articles/2014_multiprocessing.html\n",
    "from multiprocessing import Pool"
   ]
  },
  {
   "cell_type": "code",
   "execution_count": 2,
   "metadata": {},
   "outputs": [],
   "source": [
    "import os\n",
    "import time\n",
    "import hdbscan as _hdbscan\n",
    "import numpy as np # linear algebra\n",
    "import pandas as pd # data processing, CSV file I/O (e.g. pd.read_csv)\n",
    "\n",
    "# Input data files are available in the \"../input/\" directory.\n",
    "# For example, running this (by clicking run or pressing Shift+Enter) will list the files in the input directory"
   ]
  },
  {
   "cell_type": "code",
   "execution_count": 3,
   "metadata": {},
   "outputs": [],
   "source": [
    "def create_one_event_submission(event_id, hits, labels):\n",
    "    sub_data = np.column_stack(([event_id]*len(hits), hits.hit_id.values, labels))\n",
    "    submission = pd.DataFrame(data=sub_data, columns=[\"event_id\", \"hit_id\", \"track_id\"]).astype(int)\n",
    "    return submission"
   ]
  },
  {
   "cell_type": "code",
   "execution_count": 4,
   "metadata": {},
   "outputs": [],
   "source": [
    "def preprocess(hits):        \n",
    "    x = hits.x.values\n",
    "    y = hits.y.values\n",
    "    z = hits.z.values\n",
    "\n",
    "    r = np.sqrt(x**2 + y**2 + z**2)\n",
    "    hits['x2'] = x/r\n",
    "    hits['y2'] = y/r\n",
    "\n",
    "    r = np.sqrt(x**2 + y**2)\n",
    "    hits['z2'] = z/r\n",
    "\n",
    "    ss = StandardScaler()\n",
    "    X = ss.fit_transform(hits[['x2', 'y2', 'z2']].values)\n",
    "#     for i, rz_scale in enumerate(self.rz_scales):\n",
    "#         X[:,i] = X[:,i] * rz_scale\n",
    "\n",
    "    return X"
   ]
  },
  {
   "cell_type": "code",
   "execution_count": 9,
   "metadata": {},
   "outputs": [],
   "source": [
    "# Input data files are available in the \"../input/\" directory.\n",
    "# For example, running this (by clicking run or pressing Shift+Enter) will list the files in the input directory\n",
    "\n",
    "#------------------------------------------------------\n",
    "\n",
    "def make_counts(labels):\n",
    "    \n",
    "    \n",
    "    _,reverse,count = np.unique(labels,return_counts=True,return_inverse=True)\n",
    "    counts = count[reverse]\n",
    "    counts[labels==0]=0\n",
    "    \n",
    "    return counts\n",
    "\n",
    "def one_loop(param):\n",
    "    \n",
    "    # <todo> tune your parameters or design your own features here! \n",
    "    \n",
    "    i,m, x,y,z, d,r, a, a_start,a_step = param\n",
    "    #print('\\r %3d  %+0.8f '%(i,da), end='', flush=True)\n",
    "    \n",
    "    da = m*(a_start - (i*a_step))\n",
    "    aa = a + np.sign(z)*z*da \n",
    "    zr = z/r\n",
    "    \n",
    "    X = StandardScaler().fit_transform(np.column_stack([aa, aa/zr, zr, 1/zr, aa/zr + 1/zr]))\n",
    "    _,l = dbscan(X, eps=0.0035, min_samples=1,)\n",
    "\n",
    "    return l\n",
    "\n",
    "def one_loop1(param):\n",
    "    \n",
    "    # <todo> tune your parameters or design your own features here! \n",
    "    \n",
    "    i,m, x,y,z, d,r,r2,z2,a, a_start,a_step = param\n",
    "    #print('\\r %3d  %+0.8f '%(i,da), end='', flush=True)\n",
    "    \n",
    "    da = m*(a_start - (i*a_step))\n",
    "    aa = a + np.sign(z)*z*da\n",
    "#     if m == 1:\n",
    "#         print(da)\n",
    "    zr = z/r # this is cot(theta), 1/zr is tan(theta)\n",
    "    \n",
    "    z1 = z/r\n",
    "    z2 = z/d\n",
    "    \n",
    "    theta = np.arctan2(r, z)\n",
    "    ct = np.cos(theta)\n",
    "    st = np.sin(theta)\n",
    "    tt = np.tan(theta)\n",
    "#     ctt = np.cot(theta)\n",
    "    z2r = z2/r\n",
    "    z2r2 = z2/r2\n",
    "#     X = StandardScaler().fit_transform(df[['r2', 'theta_1', 'dip_angle', 'z2', 'z2_1', 'z2_2']].values)\n",
    "\n",
    "    caa = np.cos(aa)\n",
    "    saa = np.sin(aa)\n",
    "    taa = np.tan(aa)\n",
    "    ctaa = 1/taa\n",
    "    \n",
    "#     0.000005\n",
    "    deps = 0.0000025\n",
    "    \n",
    "#     hits=[x, y, z, np.sin(a), np.cos(a), d, r, z/r, z/d, r/d,  ]\n",
    "#     X = StandardScaler().fit_transform(np.column_stack([caa, saa, tt, 1/tt]))\n",
    "    X = StandardScaler().fit_transform(np.column_stack([caa, saa, z1, z2]))\n",
    "    l= DBSCAN(eps=0.0035+i*deps,min_samples=1,metric='euclidean',n_jobs=8).fit(X).labels_\n",
    "#     _,l = dbscan(X, eps=0.0035, min_samples=1,algorithm='auto')\n",
    "    \n",
    "#     print(list(l).shape)\n",
    "#     print(list(l).count(0))\n",
    "#     print(list(l).count(-1))\n",
    "#     print('-------------')\n",
    "#     sub = create_one_event_submission(0, hits, l)\n",
    "    \n",
    "#     score = score_event(truth, sub)\n",
    "#     print('[%2d] score : %0.8f'%(0, score))\n",
    "    \n",
    "#     r = np.sqrt(x**2 + y**2 + z**2)\n",
    "#     x2 = x/r\n",
    "#     y2 = y/r\n",
    "\n",
    "#     r = np.sqrt(x**2 + y**2)\n",
    "#     z2= z/r\n",
    "\n",
    "#     ss = StandardScaler()\n",
    "#     X1= ss.fit_transform(np.column_stack([x2, y2, z2]))\n",
    "    \n",
    "#     cl = hdbscan.HDBSCAN(min_samples=1,min_cluster_size=7,\n",
    "#                          metric='braycurtis',cluster_selection_method='leaf',algorithm='best', \n",
    "#                          leaf_size=50)\n",
    "    \n",
    "    \n",
    "#     print('--------------------------------')\n",
    "#     print(len(l))\n",
    "#     _,counts = np.unique(l, return_counts = True)\n",
    "#     print(counts)\n",
    "#     l1 = pd.Series(l)\n",
    "#     print(len(l1[l1 == 0]))\n",
    "#     s = list(l1[l1 == 0].keys())\n",
    "#     print(len(s))\n",
    "#     X1= X1[s]\n",
    "#     print(X1.shape)\n",
    "#     print(X1)\n",
    "#     max_len = len(l1)\n",
    "#     print(X.shape)\n",
    "\n",
    "#     l1[l1 == 0] = cl.fit_predict(X1)+max_len\n",
    "\n",
    "#     print('--------------------------------')\n",
    "    \n",
    "    return l\n",
    "\n",
    "        \n",
    "def do_dbscan_predict(df):\n",
    "    x  = df.x.values\n",
    "    y  = df.y.values\n",
    "    z  = df.z.values\n",
    "    r  = np.sqrt(x**2+y**2)\n",
    "    d  = np.sqrt(x**2+y**2+z**2)\n",
    "    a  = np.arctan2(y,x)\n",
    "#     a = np.arctan2(z, r)\n",
    "    \n",
    "    x2 = df['x']/d\n",
    "    y2 = df['y']/d\n",
    "    z2 = df['z']/r\n",
    "    \n",
    "    r2 = np.sqrt(x2**2 + y2**2)\n",
    "    phi = np.arctan2(y, x)\n",
    "    phi_deg= np.degrees(np.arctan2(y, x))\n",
    "    phi2 = np.arctan2(y2, x2)\n",
    "    phi2_deg = np.degrees(np.arctan2(y2, x2))\n",
    "\n",
    "    theta= np.arctan2(r, z)\n",
    "    theta1 = np.arctan2(r2, z2)\n",
    "\n",
    "    \n",
    "    tan_dip = phi/theta\n",
    "    tan_dip1 = phi/z2\n",
    "    z2_1 = 1/z2\n",
    "    z2_2 = phi/z2 + 1/z2\n",
    "    \n",
    "    dip_angle = np.arctan2(z2, (np.sqrt(x2**2 +y2**2)) * np.arccos(x2/np.sqrt(x2**2 + y2**2)))\n",
    "    dip_angle1 = np.arctan2(z, (np.sqrt(x**2 +y**2)) * np.arccos(x2/np.sqrt(x**2 + y**2)))\n",
    "    scores = []\n",
    "\n",
    "    a_start,a_step,a_num = 0.00100,0.0000095,150\n",
    "    \n",
    "    \n",
    "    \n",
    "    params  = [(i,m, x,y,z,d,r,r2,z2, a, a_start,a_step) for i in range(a_num) for m in [-1,1]]\n",
    "\n",
    "    if 1: \n",
    "        pool = Pool(processes=1)\n",
    "        ls   = pool.map( one_loop1, params )\n",
    "\n",
    "\n",
    "    if 0:\n",
    "        ls = [ one_loop(param) for param in  params ]\n",
    "\n",
    "\n",
    "    ##------------------------------------------------\n",
    "\n",
    "    num_hits=len(df)\n",
    "    labels = np.zeros(num_hits,np.int32)\n",
    "    counts = np.zeros(num_hits,np.int32)\n",
    "    for l in ls:\n",
    "        c = make_counts(l)\n",
    "        idx = np.where((c-counts>0) & (c<20))[0]\n",
    "        labels[idx] = l[idx] + labels.max()\n",
    "        counts = make_counts(labels)\n",
    "       \n",
    "\n",
    "#     cl = hdbscan.HDBSCAN(min_samples=1,min_cluster_size=7,\n",
    "#                          metric='braycurtis',cluster_selection_method='leaf',algorithm='best', \n",
    "#                          leaf_size=50)\n",
    "    \n",
    "#     X = preprocess(df)\n",
    "#     l1 = pd.Series(labels)\n",
    "#     labels = np.unique(l1)\n",
    "   \n",
    "# #   print(X.shape)\n",
    "# #   print(len(labels_org))\n",
    "# #   print(len(labels_org[labels_org ==0]))\n",
    "# #   print(len(labels_org[labels_org ==-1]))\n",
    "    \n",
    "#     n_labels = 0\n",
    "#     while n_labels < len(labels):\n",
    "#         n_labels = len(labels)\n",
    "#         max_len = np.max(l1)\n",
    "#         s = list(l1[l1 == 0].keys())\n",
    "#         X = X[s]\n",
    "#         print(X.shape)\n",
    "#         if X.shape[0] <= 1:\n",
    "#             break\n",
    "#         l = cl.fit_predict(X)+max_len\n",
    "# #         print(len(l))\n",
    "#         l1[l1 == 0] = l\n",
    "#         labels = np.unique(l1)\n",
    "    \n",
    "    return labels\n",
    "\n",
    "## reference----------------------------------------------\n",
    "def do_dbscan0_predict(df):\n",
    "    x = df.x.values\n",
    "    y = df.y.values\n",
    "    z = df.z.values\n",
    "    r = np.sqrt(x**2+y**2)\n",
    "    d = np.sqrt(x**2+y**2+z**2)\n",
    "\n",
    "    X = StandardScaler().fit_transform(np.column_stack([\n",
    "        x/d, y/d, z/r]))\n",
    "    _,labels = dbscan(X,\n",
    "                eps=0.0075,\n",
    "                min_samples=1,\n",
    "                algorithm='auto',\n",
    "                n_jobs=-1)\n",
    "\n",
    "    #labels = hdbscan(X, min_samples=1, min_cluster_size=5, cluster_selection_method='eom')\n",
    "\n",
    "    return labels\n",
    "\n",
    "## reference----------------------------------------------\n",
    "def do_dbscan0_predict(df):\n",
    "    x = df.x.values\n",
    "    y = df.y.values\n",
    "    z = df.z.values\n",
    "    r = np.sqrt(x**2+y**2)\n",
    "    d = np.sqrt(x**2+y**2+z**2)\n",
    "\n",
    "    X = StandardScaler().fit_transform(np.column_stack([\n",
    "        x/d, y/d, z/r]))\n",
    "    _,labels = dbscan(X,\n",
    "                eps=0.0075,\n",
    "                min_samples=1,\n",
    "                algorithm='auto',\n",
    "                n_jobs=-1)\n",
    "\n",
    "    #labels = hdbscan(X, min_samples=1, min_cluster_size=5, cluster_selection_method='eom')\n",
    "\n",
    "    return labels\n",
    "\n",
    "def extend(submission,hits):\n",
    "    df = submission.merge(hits,  on=['hit_id'], how='left')\n",
    "#     df = submission.append(hits)\n",
    "#     print(df.head())\n",
    "    df = df.assign(d = np.sqrt( df.x**2 + df.y**2 + df.z**2 ))\n",
    "    df = df.assign(r = np.sqrt( df.x**2 + df.y**2))\n",
    "    df = df.assign(arctan2 = np.arctan2(df.z, df.r))\n",
    "\n",
    "    for angle in range(-180,180,1):\n",
    "\n",
    "        print ('\\r %f'%angle, end='',flush=True)\n",
    "        #df1 = df.loc[(df.arctan2>(angle-0.5)/180*np.pi) & (df.arctan2<(angle+0.5)/180*np.pi)]\n",
    "        df1 = df.loc[(df.arctan2>(angle-1.0)/180*np.pi) & (df.arctan2<(angle+1.0)/180*np.pi)]\n",
    "\n",
    "        min_num_neighbours = len(df1)\n",
    "        if min_num_neighbours<4: continue\n",
    "\n",
    "        hit_ids = df1.hit_id.values\n",
    "        x,y,z = df1.as_matrix(columns=['x', 'y', 'z']).T\n",
    "        r  = (x**2 + y**2)**0.5\n",
    "        r  = r/1000\n",
    "        a  = np.arctan2(y,x)\n",
    "        tree = KDTree(np.column_stack([a,r]), metric='euclidean')\n",
    "\n",
    "        track_ids = list(df1.track_id.unique())\n",
    "        num_track_ids = len(track_ids)\n",
    "        min_length=3\n",
    "\n",
    "        for i in range(num_track_ids):\n",
    "            p = track_ids[i]\n",
    "            if p==0: continue\n",
    "\n",
    "            idx = np.where(df1.track_id==p)[0]\n",
    "            if len(idx)<min_length: continue\n",
    "\n",
    "            if angle>0:\n",
    "                idx = idx[np.argsort( z[idx])]\n",
    "            else:\n",
    "                idx = idx[np.argsort(-z[idx])]\n",
    "\n",
    "\n",
    "            ## start and end points  ##\n",
    "            idx0,idx1 = idx[0],idx[-1]\n",
    "            a0 = a[idx0]\n",
    "            a1 = a[idx1]\n",
    "            r0 = r[idx0]\n",
    "            r1 = r[idx1]\n",
    "\n",
    "            da0 = a[idx[1]] - a[idx[0]]  #direction\n",
    "            dr0 = r[idx[1]] - r[idx[0]]\n",
    "            direction0 = np.arctan2(dr0,da0) \n",
    "\n",
    "            da1 = a[idx[-1]] - a[idx[-2]]\n",
    "            dr1 = r[idx[-1]] - r[idx[-2]]\n",
    "            direction1 = np.arctan2(dr1,da1) \n",
    "\n",
    "\n",
    "            ## extend start point\n",
    "            ns = tree.query([[a0,r0]], k=min(20,min_num_neighbours), return_distance=False)\n",
    "            ns = np.concatenate(ns)\n",
    "            direction = np.arctan2(r0-r[ns],a0-a[ns])\n",
    "            ns = ns[(r0-r[ns]>0.01) &(np.fabs(direction-direction0)<0.04)]\n",
    "\n",
    "            for n in ns:\n",
    "                df.loc[ df.hit_id==hit_ids[n],'track_id' ] = p \n",
    "\n",
    "            ## extend end point\n",
    "            ns = tree.query([[a1,r1]], k=min(20,min_num_neighbours), return_distance=False)\n",
    "            ns = np.concatenate(ns)\n",
    "\n",
    "            direction = np.arctan2(r[ns]-r1,a[ns]-a1)\n",
    "            ns = ns[(r[ns]-r1>0.01) &(np.fabs(direction-direction1)<0.04)] \n",
    "\n",
    "            for n in ns:\n",
    "                df.loc[ df.hit_id==hit_ids[n],'track_id' ] = p\n",
    "    #print ('\\r')\n",
    "#     df = df[['particle_id', 'weight', 'event_id', 'hit_id', 'track_id']]\n",
    "    df = df[['event_id', 'hit_id', 'track_id']]\n",
    "    return df"
   ]
  },
  {
   "cell_type": "code",
   "execution_count": 8,
   "metadata": {},
   "outputs": [
    {
     "name": "stdout",
     "output_type": "stream",
     "text": [
      " 179.0000000[ 0] score : 0.48404136\n",
      " 179.0000000[ 1] score : 0.49305034\n",
      " 179.0000000[ 2] score : 0.49466647\n",
      " 179.0000000[ 3] score : 0.49574636\n",
      " 179.0000000[ 4] score : 0.49589443\n",
      "--------------------------------------\n",
      "0.4926797929948159\n"
     ]
    }
   ],
   "source": [
    "#########################################\n",
    "\n",
    "# def run_dbscan():\n",
    "\n",
    "data_dir = '../data/train'\n",
    "\n",
    "#     event_ids = [\n",
    "#             '000001030',##\n",
    "#             '000001025','000001026','000001027','000001028','000001029',\n",
    "#     ]\n",
    "\n",
    "event_ids = [\n",
    "        '000001030',##\n",
    "\n",
    "]\n",
    "\n",
    "sum=0\n",
    "sum_score=0\n",
    "for i,event_id in enumerate(event_ids):\n",
    "    particles = pd.read_csv(data_dir + '/event%s-particles.csv'%event_id)\n",
    "    hits  = pd.read_csv(data_dir + '/event%s-hits.csv'%event_id)\n",
    "    cells = pd.read_csv(data_dir + '/event%s-cells.csv'%event_id)\n",
    "    truth = pd.read_csv(data_dir + '/event%s-truth.csv'%event_id)\n",
    "    particles = pd.read_csv(data_dir + '/event%s-particles.csv'%event_id)\n",
    "    \n",
    "    truth = pd.merge(truth, particles, how='left', on='particle_id')\n",
    "    hits = pd.merge(hits, truth, how='left', on='hit_id')\n",
    "\n",
    "#     hits = hits[hits.particle_id != 0]\n",
    "    track_id = do_dbscan_predict(hits)\n",
    "\n",
    "    submission = pd.DataFrame(columns=['event_id', 'hit_id', 'track_id'],\n",
    "        data=np.column_stack(([int(event_id),]*len(hits), hits.hit_id.values, track_id))\n",
    "    ).astype(int)\n",
    "    for i in range(5):\n",
    "        submission = extend(submission,hits)\n",
    "        score = score_event(truth, submission)\n",
    "        print('[%2d] score : %0.8f'%(i, score))\n",
    "        sum_score += score\n",
    "        sum += 1\n",
    "\n",
    "print('--------------------------------------')\n",
    "print(sum_score/sum)\n"
   ]
  },
  {
   "cell_type": "code",
   "execution_count": 10,
   "metadata": {},
   "outputs": [],
   "source": [
    "def run_make_submission():\n",
    "\n",
    "    data_dir = '../data/test'\n",
    "\n",
    "\n",
    "    tic = t = time.time()\n",
    "    event_ids = [ '%09d'%i for i in range(0,125) ]  #(0,125)\n",
    "\n",
    "    if 1:\n",
    "        submissions = []\n",
    "        for i,event_id in enumerate(event_ids):\n",
    "            hits  = pd.read_csv(data_dir + '/event%s-hits.csv'%event_id)\n",
    "            cells = pd.read_csv(data_dir + '/event%s-cells.csv'%event_id)\n",
    "\n",
    "            track_id = do_dbscan_predict(hits)\n",
    "            #track_id = back_fit(track_id,hits)\n",
    "\n",
    "            toc =  time.time()\n",
    "            print('\\revent_id : %s  , %0.0f min'%(event_id, (toc-tic)/60))\n",
    "\n",
    "            # Prepare submission for an event\n",
    "            submission = pd.DataFrame(columns=['event_id', 'hit_id', 'track_id'],\n",
    "                data=np.column_stack(([event_id,]*len(hits), hits.hit_id.values, track_id))\n",
    "            ).astype(int)\n",
    "            submissions.append(submission)\n",
    "            \n",
    "            for i in range(8):\n",
    "                submission = extend(submission,hits)\n",
    "            \n",
    "            \n",
    "            submission.to_csv('../cache/sub1/%s.csv.gz'%event_id,\n",
    "                                index=False, compression='gzip')\n",
    "\n",
    "            #------------------------------------------------------\n",
    "    if 1:\n",
    "\n",
    "        event_ids = [ '%09d'%i for i in range(0,125) ]  #(0,125)\n",
    "        submissions = []\n",
    "        for i,event_id in enumerate(event_ids):\n",
    "            submission  = pd.read_csv('../cache/sub1/%s.csv.gz'%event_id, compression='gzip')\n",
    "            submissions.append(submission)\n",
    "\n",
    "        \n",
    "        # Create submission file\n",
    "        submission = pd.concat(submissions, axis=0)\n",
    "        submission.to_csv('../submissions/sub1/submission-009.csv.gz',\n",
    "                            index=False, compression='gzip')\n",
    "        print(len(submission))"
   ]
  },
  {
   "cell_type": "code",
   "execution_count": 11,
   "metadata": {},
   "outputs": [
    {
     "name": "stdout",
     "output_type": "stream",
     "text": [
      "event_id : 000000000  , 4 min\n",
      "event_id : 000000001  , 12 min\n",
      "event_id : 000000002  , 19 min\n",
      "event_id : 000000003  , 25 min\n",
      "event_id : 000000004  , 32 min\n",
      "event_id : 000000005  , 39 min\n",
      "event_id : 000000006  , 46 min\n",
      "event_id : 000000007  , 53 min\n",
      "event_id : 000000008  , 60 min\n",
      "event_id : 000000009  , 67 min\n",
      "event_id : 000000010  , 74 min\n",
      "event_id : 000000011  , 81 min\n",
      "event_id : 000000012  , 88 min\n",
      "event_id : 000000013  , 95 min\n",
      "event_id : 000000014  , 102 min\n",
      "event_id : 000000015  , 108 min\n",
      "event_id : 000000016  , 114 min\n",
      "event_id : 000000017  , 122 min\n",
      "event_id : 000000018  , 129 min\n",
      "event_id : 000000019  , 136 min\n",
      "event_id : 000000020  , 142 min\n",
      "event_id : 000000021  , 148 min\n",
      "event_id : 000000022  , 155 min\n",
      "event_id : 000000023  , 163 min\n",
      "event_id : 000000024  , 170 min\n",
      "event_id : 000000025  , 177 min\n",
      "event_id : 000000026  , 183 min\n",
      "event_id : 000000027  , 189 min\n",
      "event_id : 000000028  , 195 min\n",
      "event_id : 000000029  , 201 min\n",
      "event_id : 000000030  , 208 min\n",
      "event_id : 000000031  , 214 min\n",
      "event_id : 000000032  , 220 min\n",
      "event_id : 000000033  , 225 min\n",
      "event_id : 000000034  , 232 min\n",
      "event_id : 000000035  , 239 min\n",
      "event_id : 000000036  , 246 min\n",
      "event_id : 000000037  , 253 min\n",
      "event_id : 000000038  , 260 min\n",
      "event_id : 000000039  , 267 min\n",
      "event_id : 000000040  , 275 min\n",
      "event_id : 000000041  , 282 min\n",
      "event_id : 000000042  , 289 min\n",
      "event_id : 000000043  , 295 min\n",
      "event_id : 000000044  , 304 min\n",
      "event_id : 000000045  , 311 min\n",
      "event_id : 000000046  , 317 min\n",
      "event_id : 000000047  , 322 min\n",
      "event_id : 000000048  , 329 min\n",
      "event_id : 000000049  , 336 min\n",
      "event_id : 000000050  , 343 min\n",
      "event_id : 000000051  , 350 min\n",
      "event_id : 000000052  , 357 min\n",
      "event_id : 000000053  , 364 min\n",
      "event_id : 000000054  , 371 min\n",
      "event_id : 000000055  , 378 min\n",
      "event_id : 000000056  , 385 min\n",
      "event_id : 000000057  , 392 min\n",
      "event_id : 000000058  , 400 min\n",
      "event_id : 000000059  , 408 min\n",
      "event_id : 000000060  , 415 min\n",
      "event_id : 000000061  , 422 min\n",
      "event_id : 000000062  , 429 min\n",
      "event_id : 000000063  , 436 min\n",
      "event_id : 000000064  , 443 min\n",
      "event_id : 000000065  , 450 min\n",
      "event_id : 000000066  , 456 min\n",
      "event_id : 000000067  , 464 min\n",
      "event_id : 000000068  , 471 min\n",
      "event_id : 000000069  , 478 min\n",
      "event_id : 000000070  , 484 min\n",
      "event_id : 000000071  , 491 min\n",
      "event_id : 000000072  , 498 min\n",
      "event_id : 000000073  , 505 min\n",
      "event_id : 000000074  , 512 min\n",
      "event_id : 000000075  , 519 min\n",
      "event_id : 000000076  , 525 min\n",
      "event_id : 000000077  , 531 min\n",
      "event_id : 000000078  , 538 min\n",
      "event_id : 000000079  , 544 min\n",
      "event_id : 000000080  , 552 min\n",
      "event_id : 000000081  , 559 min\n",
      "event_id : 000000082  , 566 min\n",
      "event_id : 000000083  , 573 min\n",
      "event_id : 000000084  , 580 min\n",
      "event_id : 000000085  , 587 min\n",
      "event_id : 000000086  , 594 min\n",
      "event_id : 000000087  , 602 min\n",
      "event_id : 000000088  , 609 min\n",
      "event_id : 000000089  , 617 min\n",
      "event_id : 000000090  , 624 min\n",
      "event_id : 000000091  , 631 min\n",
      "event_id : 000000092  , 637 min\n",
      "event_id : 000000093  , 645 min\n",
      "event_id : 000000094  , 652 min\n",
      "event_id : 000000095  , 659 min\n",
      "event_id : 000000096  , 666 min\n",
      "event_id : 000000097  , 673 min\n",
      "event_id : 000000098  , 680 min\n",
      "event_id : 000000099  , 687 min\n",
      "event_id : 000000100  , 695 min\n",
      "event_id : 000000101  , 703 min\n",
      "event_id : 000000102  , 711 min\n",
      "event_id : 000000103  , 717 min\n",
      "event_id : 000000104  , 725 min\n",
      "event_id : 000000105  , 731 min\n",
      "event_id : 000000106  , 738 min\n",
      "event_id : 000000107  , 746 min\n",
      "event_id : 000000108  , 753 min\n",
      "event_id : 000000109  , 760 min\n",
      "event_id : 000000110  , 768 min\n",
      "event_id : 000000111  , 775 min\n",
      "event_id : 000000112  , 782 min\n",
      "event_id : 000000113  , 790 min\n",
      "event_id : 000000114  , 797 min\n",
      "event_id : 000000115  , 803 min\n",
      "event_id : 000000116  , 810 min\n",
      "event_id : 000000117  , 817 min\n",
      "event_id : 000000118  , 824 min\n",
      "event_id : 000000119  , 830 min\n",
      "event_id : 000000120  , 837 min\n",
      "event_id : 000000121  , 844 min\n",
      "event_id : 000000122  , 850 min\n",
      "event_id : 000000123  , 857 min\n",
      "event_id : 000000124  , 864 min\n",
      " 179.000000013741466\n"
     ]
    }
   ],
   "source": [
    "run_make_submission()"
   ]
  },
  {
   "cell_type": "code",
   "execution_count": 60,
   "metadata": {},
   "outputs": [],
   "source": [
    "# run_dbscan()\n",
    "# 0.38886407617656094\n",
    "# 0.43999828380439265 after caa, saa\n",
    "# 0.48344805750948866 after extend\n",
    "# 0.4835126378397637 after removing aa/zr + 1/zr\n",
    "# with z2 goes down to 0.45\n",
    "# with r2 goes down to 0.40\n",
    "# with 1/r2 down to 0.43\n",
    "# with 1/r2 and theta down to 0.41\n",
    "# with 1/r2 and 1/theta down to 0.41\n",
    "# 0.13 with phi2\n",
    "# 0.417 with 1/phi2\n",
    "# 0.436 with tan_dip1\n",
    "# 0.422 with 1/tan_dip1\n",
    "# 0.434 with z2r2 and z2r2 and 1/z2r2\n",
    "# 0.334 if zr is replaced with z2r2\n",
    "# 0.4888877339626617 if aa/zr replaced with caa/zr\n",
    "# 0.4887566511321033 if aa/zr if replaces with saa/zr\n",
    "# 0.4895407603454436 if aa/zr is removed ( only caa, saa, zr, 1/zr remains)\n",
    "# 0.48876599546214305 with 0.0038 instead of 0.0035\n",
    "# 0.48769542639758245 if remove 1/zr\n",
    "# 0.0 if both zr and 1/zr are removed\n",
    "# 0.44026470041552757 if ct, st are added\n",
    "# 0.21311494225786964 if only caa, saa, ct\n",
    "# 0.40320264914764326 if only caa, saa, st\n",
    "# 0.3773604786775556 if only caa, saa, st, 1/st\n",
    "# 0.4895407603454436 if only caa, saa, tt, 1/tt\n",
    "# 0.13480299643426075 if only taa, 1/taa, tt, 1/tt\n",
    "# 0.0885347888971582 if only taa, 1/taa, ct, st\n",
    "# 0.04670868936897901 if only taa, ct, st\n",
    "# 0.025523671048730837 if only taa and st\n",
    "# 0.025057657406745617 if only 1/taa, st\n",
    "# 0.5025429199508328 caa, saa, tt, 1/tt  when particle_id != 0\n",
    "# 0.4909138125112928 with deps=0.000005\n",
    "# 0.4884101555506272 with deps=0.000010\n",
    "# 0.49112882444220873 with deps=0.0000025\n",
    "# 0.4903305156288079 with deps=0.0000021\n",
    "# 0.4900532530976269 with deps=0.0000022\n",
    "# 0.4908567128710496 with deps=0.0000023\n",
    "# 0.4906372351101146 with deps=0.0000024\n",
    "# 0.49066011553021205 with deps=0.0000026\n",
    "# 0.4907583816106307 with deps=0.0000027\n",
    "# 0.49015657761806697 with deps=0.0000028\n",
    "# 0.49027772717858303 with deps=0.0000029\n",
    "# 0.48968636878606386 wih deps=0.00000025\n",
    "# 0.48868485370179743 with 180 steps\n",
    "# 0.4922564475970125 with 170 steps\n",
    "# 0.4931891169309856 with 160 steps\n",
    "# 0.4940977643648564 with 150 steps\n",
    "# 0.4905422457697099 with 140 steps\n",
    "# 0.49255846616829907 with 130 steps\n",
    "# 0.4886465357416342 with 120 steps\n",
    "# 0.3215078003096232 with 110 steps\n",
    "# 0.49279218495929467 with 155 steps\n",
    "# 0.4918913043654569 with 145 steps"
   ]
  },
  {
   "cell_type": "code",
   "execution_count": 13,
   "metadata": {},
   "outputs": [
    {
     "ename": "NameError",
     "evalue": "name 'track_id' is not defined",
     "output_type": "error",
     "traceback": [
      "\u001b[0;31m---------------------------------------------------------------------------\u001b[0m",
      "\u001b[0;31mNameError\u001b[0m                                 Traceback (most recent call last)",
      "\u001b[0;32m<ipython-input-13-b25af2ee21af>\u001b[0m in \u001b[0;36m<module>\u001b[0;34m()\u001b[0m\n\u001b[0;32m----> 1\u001b[0;31m \u001b[0mtrack_id\u001b[0m\u001b[0;34m\u001b[0m\u001b[0m\n\u001b[0m",
      "\u001b[0;31mNameError\u001b[0m: name 'track_id' is not defined"
     ]
    }
   ],
   "source": [
    "track_id"
   ]
  },
  {
   "cell_type": "code",
   "execution_count": 35,
   "metadata": {},
   "outputs": [
    {
     "name": "stdout",
     "output_type": "stream",
     "text": [
      "(array([   0,    1,    2,    4,    5,   19,   34,   56, 7777, 9822]), array([1, 2, 0, 3, 4, 5, 6, 7, 2, 3, 8, 4, 9, 5, 0, 2, 1]), array([2, 2, 3, 2, 2, 2, 1, 1, 1, 1]))\n"
     ]
    }
   ],
   "source": [
    "l = pd.Series([1,2,0,4,5,19,34,56,2,4,7777,5, 9822, 19, 0, 2, 1])\n",
    "print(np.unique(l, return_counts=True, return_inverse=True))\n",
    "_, reverse, count = np.unique(l, return_counts=True, return_inverse=True)"
   ]
  },
  {
   "cell_type": "code",
   "execution_count": 36,
   "metadata": {},
   "outputs": [
    {
     "name": "stdout",
     "output_type": "stream",
     "text": [
      "[2 3 2 2 2 2 1 1 3 2 1 2 1 2 2 3 2]\n"
     ]
    }
   ],
   "source": [
    "counts = count[reverse]\n",
    "print(counts)"
   ]
  },
  {
   "cell_type": "code",
   "execution_count": 40,
   "metadata": {},
   "outputs": [
    {
     "data": {
      "text/plain": [
       "2"
      ]
     },
     "execution_count": 40,
     "metadata": {},
     "output_type": "execute_result"
    }
   ],
   "source": [
    "list(l).count(0)"
   ]
  },
  {
   "cell_type": "code",
   "execution_count": 26,
   "metadata": {},
   "outputs": [
    {
     "data": {
      "text/plain": [
       "array([2, 2, 3, 2, 2, 2, 1, 1, 1, 1])"
      ]
     },
     "execution_count": 26,
     "metadata": {},
     "output_type": "execute_result"
    }
   ],
   "source": [
    "count"
   ]
  },
  {
   "cell_type": "code",
   "execution_count": 43,
   "metadata": {},
   "outputs": [
    {
     "data": {
      "text/plain": [
       "(array([ 2, 14]),)"
      ]
     },
     "execution_count": 43,
     "metadata": {},
     "output_type": "execute_result"
    }
   ],
   "source": [
    "np.where(np.array(l)==0)"
   ]
  },
  {
   "cell_type": "code",
   "execution_count": 46,
   "metadata": {},
   "outputs": [
    {
     "data": {
      "text/plain": [
       "(array([ 2, 14]),)"
      ]
     },
     "execution_count": 46,
     "metadata": {},
     "output_type": "execute_result"
    }
   ],
   "source": [
    "np.where(pd.Series(l)==0)"
   ]
  },
  {
   "cell_type": "code",
   "execution_count": 50,
   "metadata": {},
   "outputs": [
    {
     "data": {
      "text/plain": [
       "0     False\n",
       "1     False\n",
       "2      True\n",
       "3     False\n",
       "4     False\n",
       "5     False\n",
       "6     False\n",
       "7     False\n",
       "8     False\n",
       "9     False\n",
       "10    False\n",
       "11    False\n",
       "12    False\n",
       "13    False\n",
       "14     True\n",
       "15    False\n",
       "16    False\n",
       "dtype: bool"
      ]
     },
     "execution_count": 50,
     "metadata": {},
     "output_type": "execute_result"
    }
   ],
   "source": [
    "pd.Series(l)==0"
   ]
  },
  {
   "cell_type": "code",
   "execution_count": 86,
   "metadata": {},
   "outputs": [],
   "source": [
    "l = pd.Series(l)"
   ]
  },
  {
   "cell_type": "code",
   "execution_count": 87,
   "metadata": {},
   "outputs": [],
   "source": [
    "l[l == 0] = 10"
   ]
  },
  {
   "cell_type": "code",
   "execution_count": 88,
   "metadata": {},
   "outputs": [
    {
     "data": {
      "text/plain": [
       "0        1\n",
       "1        2\n",
       "2       10\n",
       "3        4\n",
       "4        5\n",
       "5       19\n",
       "6       34\n",
       "7       56\n",
       "8        2\n",
       "9        4\n",
       "10    7777\n",
       "11       5\n",
       "12    9822\n",
       "13      19\n",
       "14      10\n",
       "15       2\n",
       "16       1\n",
       "dtype: int64"
      ]
     },
     "execution_count": 88,
     "metadata": {},
     "output_type": "execute_result"
    }
   ],
   "source": [
    "l"
   ]
  },
  {
   "cell_type": "code",
   "execution_count": 89,
   "metadata": {},
   "outputs": [
    {
     "data": {
      "text/plain": [
       "[1, 2, 10, 4, 5, 19, 34, 56, 2, 4, 7777, 5, 9822, 19, 10, 2, 1]"
      ]
     },
     "execution_count": 89,
     "metadata": {},
     "output_type": "execute_result"
    }
   ],
   "source": [
    "list(l)"
   ]
  },
  {
   "cell_type": "code",
   "execution_count": 70,
   "metadata": {},
   "outputs": [],
   "source": [
    "X = hits[['x2','y2','z2']].values"
   ]
  },
  {
   "cell_type": "code",
   "execution_count": 71,
   "metadata": {},
   "outputs": [
    {
     "data": {
      "text/plain": [
       "(113998, 3)"
      ]
     },
     "execution_count": 71,
     "metadata": {},
     "output_type": "execute_result"
    }
   ],
   "source": [
    "X.shape"
   ]
  },
  {
   "cell_type": "code",
   "execution_count": 73,
   "metadata": {},
   "outputs": [],
   "source": [
    "l1 = pd.Series(l)"
   ]
  },
  {
   "cell_type": "code",
   "execution_count": 83,
   "metadata": {},
   "outputs": [],
   "source": [
    "s = list(l1[l1 == 0].keys())"
   ]
  },
  {
   "cell_type": "code",
   "execution_count": 84,
   "metadata": {},
   "outputs": [
    {
     "data": {
      "text/plain": [
       "array([[-4.29421146e-02,  1.77294928e-03, -2.32458407e+01],\n",
       "       [-5.05565632e-02,  7.16865790e-05, -1.97545112e+01]])"
      ]
     },
     "execution_count": 84,
     "metadata": {},
     "output_type": "execute_result"
    }
   ],
   "source": [
    "X[s]"
   ]
  },
  {
   "cell_type": "code",
   "execution_count": null,
   "metadata": {},
   "outputs": [],
   "source": [
    "num_hits=6\n",
    "labels = np.zeros(num_hits,np.int32)\n",
    "counts = np.zeros(num_hits,np.int32)\n",
    "for l in ls:\n",
    "    c = make_counts(l)\n",
    "    print(len(c))\n",
    "    print(len(l))\n",
    "    idx = np.where((c-counts>0) & (c<20))[0]\n",
    "    labels[idx] = l[idx] + labels.max()\n",
    "    counts = make_counts(labels)\n",
    "    print(len(counts))\n",
    "    print('--------------')"
   ]
  },
  {
   "cell_type": "code",
   "execution_count": 21,
   "metadata": {},
   "outputs": [],
   "source": [
    "num_hits=17\n",
    "labels = np.zeros(num_hits,np.int32)\n",
    "counts = np.zeros(num_hits,np.int32)"
   ]
  },
  {
   "cell_type": "code",
   "execution_count": 22,
   "metadata": {},
   "outputs": [
    {
     "ename": "NameError",
     "evalue": "name 'l' is not defined",
     "output_type": "error",
     "traceback": [
      "\u001b[0;31m---------------------------------------------------------------------------\u001b[0m",
      "\u001b[0;31mNameError\u001b[0m                                 Traceback (most recent call last)",
      "\u001b[0;32m<ipython-input-22-cde25b5e10ad>\u001b[0m in \u001b[0;36m<module>\u001b[0;34m()\u001b[0m\n\u001b[0;32m----> 1\u001b[0;31m \u001b[0ml\u001b[0m\u001b[0;34m\u001b[0m\u001b[0m\n\u001b[0m",
      "\u001b[0;31mNameError\u001b[0m: name 'l' is not defined"
     ]
    }
   ],
   "source": [
    "l"
   ]
  },
  {
   "cell_type": "code",
   "execution_count": 108,
   "metadata": {},
   "outputs": [],
   "source": [
    "c = make_counts(l)"
   ]
  },
  {
   "cell_type": "code",
   "execution_count": 109,
   "metadata": {},
   "outputs": [
    {
     "data": {
      "text/plain": [
       "array([2, 3, 0, 2, 2, 2, 1, 1, 3, 2, 1, 2, 1, 2, 0, 3, 2])"
      ]
     },
     "execution_count": 109,
     "metadata": {},
     "output_type": "execute_result"
    }
   ],
   "source": [
    "c"
   ]
  },
  {
   "cell_type": "code",
   "execution_count": 112,
   "metadata": {},
   "outputs": [
    {
     "data": {
      "text/plain": [
       "array([0, 0, 0, 0, 0, 0], dtype=int32)"
      ]
     },
     "execution_count": 112,
     "metadata": {},
     "output_type": "execute_result"
    }
   ],
   "source": [
    "counts"
   ]
  },
  {
   "cell_type": "code",
   "execution_count": 119,
   "metadata": {},
   "outputs": [
    {
     "data": {
      "text/plain": [
       "array([ True,  True, False,  True,  True,  True,  True,  True,  True,\n",
       "        True,  True,  True,  True,  True, False,  True,  True])"
      ]
     },
     "execution_count": 119,
     "metadata": {},
     "output_type": "execute_result"
    }
   ],
   "source": [
    "c-counts > 0"
   ]
  },
  {
   "cell_type": "code",
   "execution_count": 125,
   "metadata": {},
   "outputs": [
    {
     "data": {
      "text/plain": [
       "array([ 6,  7, 10, 12])"
      ]
     },
     "execution_count": 125,
     "metadata": {},
     "output_type": "execute_result"
    }
   ],
   "source": [
    "np.where((c-counts>0) & (c<2))[0]"
   ]
  },
  {
   "cell_type": "code",
   "execution_count": 126,
   "metadata": {},
   "outputs": [],
   "source": [
    "idx = np.where((c-counts>0) & (c<2))[0]"
   ]
  },
  {
   "cell_type": "code",
   "execution_count": 127,
   "metadata": {},
   "outputs": [],
   "source": [
    "labels[idx] = l[idx] + labels.max()"
   ]
  },
  {
   "cell_type": "code",
   "execution_count": 128,
   "metadata": {},
   "outputs": [
    {
     "data": {
      "text/plain": [
       "array([   0,    0,    0,    0,    0,    0,   34,   56,    0,    0, 7777,\n",
       "          0, 9822,    0,    0,    0,    0], dtype=int32)"
      ]
     },
     "execution_count": 128,
     "metadata": {},
     "output_type": "execute_result"
    }
   ],
   "source": [
    "labels"
   ]
  },
  {
   "cell_type": "code",
   "execution_count": null,
   "metadata": {},
   "outputs": [],
   "source": []
  }
 ],
 "metadata": {
  "kernelspec": {
   "display_name": "tmlf",
   "language": "python",
   "name": "tmlf"
  },
  "language_info": {
   "codemirror_mode": {
    "name": "ipython",
    "version": 3
   },
   "file_extension": ".py",
   "mimetype": "text/x-python",
   "name": "python",
   "nbconvert_exporter": "python",
   "pygments_lexer": "ipython3",
   "version": "3.6.4"
  }
 },
 "nbformat": 4,
 "nbformat_minor": 2
}
