{
 "cells": [
  {
   "cell_type": "code",
   "execution_count": 2,
   "metadata": {},
   "outputs": [],
   "source": [
    "%matplotlib inline\n",
    "import matplotlib.pyplot as plt\n",
    "import numpy as np\n",
    "import pandas as pd\n",
    "import os\n",
    "from tqdm import tqdm\n",
    "\n",
    "from trackml.dataset import load_event, load_dataset\n",
    "from trackml.score import score_event\n",
    "\n",
    "import warnings\n",
    "warnings.filterwarnings('ignore')"
   ]
  },
  {
   "cell_type": "markdown",
   "metadata": {},
   "source": [
    "Identify tracks Using Hough Transform\n",
    "\n",
    "Consider a track pattern recognition method using the Hough Transform in polar system. In this system a circular track can be parametrized as follow:\n",
    "\n",
    "r=2r0Cos(ϕ−θ)\n",
    " \n",
    "where:\n",
    "\n",
    "r  and  ϕ  : are coordinates of a hit in the polar system.\n",
    "\n",
    "r0  and  θ  : are coordinates of a center of a circular track in the polar system.\n",
    "\n",
    "A linear track corresponds to the  r0=∞ .\n",
    "\n",
    "Transformation of cartesian coordinates of a hit to polar coordinates defined as:\n",
    "\n",
    "ϕ=arctan(yx)\n",
    " \n",
    "r=x2+y2‾‾‾‾‾‾‾√\n",
    " \n",
    "The Hough Transform converts a hit in  (r,ϕ)  space to a curve in  (1/r0,θ)  space of the track parameters as follow:\n",
    "\n",
    "1/r0=2Cos(ϕ−θ)r\n",
    " \n",
    "A linear track in this space represents as  (0,θ)  point.\n",
    "\n",
    "however, there are 3 dimensions: x, y, z. Thus, the track pattern recognition will be performed in cylindrical coordinate systems:  ϕ , r, z. For the simplicity (but you can create your own parameter) we suppose that for 3D tracks:\n",
    "\n",
    "γ=z/r=const\n",
    " \n",
    "which is true for high-PT tracks.\n",
    "\n",
    "This section demonstrates the track pattern recognition method using Hough Transfrom described above and histogramming technique. In this technique each 'hot' bin represents one recognized track as it is shown in the figure:\n",
    "\n",
    "hough.png\n",
    "\n",
    "To assign only one track lable to a hit, only bins with the highest number of hits are selected. But there is one additional requirement for the bins: these bins must not share hits. Please, look the method script for details."
   ]
  },
  {
   "cell_type": "code",
   "execution_count": 3,
   "metadata": {},
   "outputs": [],
   "source": [
    "def cartesian_to_cylindrical(x, y, z):\n",
    "    \n",
    "    r = np.sqrt(x**2 + y**2)\n",
    "    phi = np.arctan2(y, x)\n",
    "    z = z\n",
    "    \n",
    "    return r, phi, z\n",
    "\n",
    "\n",
    "def create_hough_matrix(hits):\n",
    "    \n",
    "    hough_matrix = hits[['hit_id', 'x', 'y', 'z']].copy()\n",
    "    hough_matrix.columns = ['HitID', 'X', 'Y', 'Z']\n",
    "    \n",
    "    r, phi, z = cartesian_to_cylindrical(hough_matrix['X'].values, \n",
    "                                         hough_matrix['Y'].values, \n",
    "                                         hough_matrix['Z'].values)\n",
    "\n",
    "    hough_matrix['R'] = r\n",
    "    hough_matrix['Phi'] = phi\n",
    "    \n",
    "    return hough_matrix\n",
    "\n",
    "\n",
    "def add_theta(hough_matrix, theta):\n",
    "    hough_matrix['Theta'] = theta\n",
    "    return hough_matrix\n",
    "\n",
    "def add_r0_inv(hough_matrix):\n",
    "    hough_matrix['R0Inv'] = (2. * np.cos(hough_matrix['Phi'] - hough_matrix['Theta']) / hough_matrix['R']).values\n",
    "    return hough_matrix\n",
    "\n",
    "def add_gamma(hough_matrix):\n",
    "    hough_matrix['Gamma'] = hough_matrix['Z']/hough_matrix['R']\n",
    "    return hough_matrix\n",
    "\n",
    "\n",
    "def digitize_column(hough_matrix, col, N, min_val=None, max_val=None):\n",
    "    \n",
    "    x = hough_matrix[col].values\n",
    "    if min_val is not None and max_val is not None:\n",
    "        bins = np.linspace(min_val, max_val, N)\n",
    "    else:\n",
    "        bins = np.linspace(x.min(), x.max(), N)\n",
    "    bin_ids = np.digitize(x, bins)\n",
    "    hough_matrix[col+'Digi'] = bin_ids\n",
    "    \n",
    "    return hough_matrix\n",
    "\n",
    "\n",
    "def combine_digi(hough_matrix, columns):\n",
    "    \n",
    "    hough_matrix['ComboDigi'] = np.zeros(len(hough_matrix))\n",
    "    \n",
    "    for i_col, acol in enumerate(columns):\n",
    "        digi = hough_matrix[acol]\n",
    "        hough_matrix['ComboDigi'] += digi * 10**(i_col * 5)\n",
    "    \n",
    "    return hough_matrix\n",
    "\n",
    "\n",
    "def count_combo_digi(hough_matrix):\n",
    "    \n",
    "    unique, indeces, counts = np.unique(hough_matrix['ComboDigi'].values, \n",
    "                                     return_counts=True, return_inverse=True)\n",
    "    hough_matrix['ComboDigiCounts'] = counts[indeces]\n",
    "    \n",
    "    return hough_matrix\n",
    "\n",
    "def out_of_border_counters_to_zero(hough_matrix, col, N):\n",
    "    hough_matrix['ComboDigiCounts'] *= (hough_matrix[col].values != 0) * (hough_matrix[col].values != N)\n",
    "    return hough_matrix\n",
    "\n",
    "def one_slice(hough_matrix, theta, N_bins_r0inv, N_bins_gamma, min_hits):\n",
    "        \n",
    "    tracks = []\n",
    "    \n",
    "    hough_matrix = add_theta(hough_matrix, theta)\n",
    "    hough_matrix = add_r0_inv(hough_matrix)\n",
    "    hough_matrix = add_gamma(hough_matrix)\n",
    "\n",
    "    hough_matrix = digitize_column(hough_matrix, 'R0Inv', N_bins_r0inv, -0.019, 0.019) # Tune it.\n",
    "    hough_matrix = digitize_column(hough_matrix, 'Gamma', N_bins_gamma, -50, 50) # Tune it.\n",
    "\n",
    "    hough_matrix = combine_digi(hough_matrix, ['R0InvDigi', 'GammaDigi'])\n",
    "    hough_matrix = count_combo_digi(hough_matrix)\n",
    "\n",
    "    hough_matrix = out_of_border_counters_to_zero(hough_matrix, 'R0InvDigi', N_bins_r0inv)\n",
    "    hough_matrix = out_of_border_counters_to_zero(hough_matrix, 'GammaDigi', N_bins_gamma)\n",
    "    \n",
    "    counts = hough_matrix.ComboDigiCounts.values\n",
    "    bins = hough_matrix.ComboDigi.values\n",
    "    hit_ids = np.arange(len(hough_matrix))\n",
    "    for abin in np.unique(bins[counts >= min_hits]):\n",
    "        atrack = hit_ids[(bins == abin)]\n",
    "        tracks.append(atrack)\n",
    "        \n",
    "    return tracks, hough_matrix\n",
    "\n"
   ]
  },
  {
   "cell_type": "code",
   "execution_count": 4,
   "metadata": {},
   "outputs": [],
   "source": [
    "class Clusterer(object):\n",
    "    \n",
    "    def __init__(self, N_bins_r0inv, N_bins_gamma, N_theta, min_hits):\n",
    "        \n",
    "        self.N_bins_r0inv = N_bins_r0inv \n",
    "        self.N_bins_gamma = N_bins_gamma\n",
    "        self.N_theta = N_theta\n",
    "        self.min_hits = min_hits\n",
    "    \n",
    "    def predict(self, hits):\n",
    "        \n",
    "        tracks = []\n",
    "\n",
    "        hough_matrix = create_hough_matrix(hits)\n",
    "        for theta in np.linspace(-np.pi, np.pi, self.N_theta):\n",
    "            slice_tracks, hough_matrix = one_slice(hough_matrix, theta, self.N_bins_r0inv, self.N_bins_gamma, self.min_hits)\n",
    "            tracks += list(slice_tracks)\n",
    "\n",
    "        labels = np.zeros(len(hits))\n",
    "        used = np.zeros(len(hits))\n",
    "        track_id = 0\n",
    "        for atrack in tracks:\n",
    "            u_track = atrack[used[atrack] == 0]\n",
    "            if len(u_track) >= self.min_hits:\n",
    "                labels[u_track] = track_id\n",
    "                used[u_track] = 1\n",
    "                track_id += 1\n",
    "            \n",
    "        return labels"
   ]
  },
  {
   "cell_type": "code",
   "execution_count": 5,
   "metadata": {},
   "outputs": [],
   "source": [
    "def create_one_event_submission(event_id, hits, labels):\n",
    "    sub_data = np.column_stack(([event_id]*len(hits), hits.hit_id.values, labels))\n",
    "    submission = pd.DataFrame(data=sub_data, columns=[\"event_id\", \"hit_id\", \"track_id\"]).astype(int)\n",
    "    return submission"
   ]
  },
  {
   "cell_type": "code",
   "execution_count": 6,
   "metadata": {},
   "outputs": [],
   "source": [
    "path_to_train = \"../data/train\"\n",
    "event_prefix = \"event000001000\"\n",
    "hits, cells, particles, truth = load_event(os.path.join(path_to_train, event_prefix))"
   ]
  },
  {
   "cell_type": "code",
   "execution_count": 62,
   "metadata": {},
   "outputs": [
    {
     "name": "stdout",
     "output_type": "stream",
     "text": [
      "0.13783569647757776\n",
      "0.13777901601678022\n",
      "0.1324603066060887\n",
      "CPU times: user 3min 53s, sys: 2.69 s, total: 3min 55s\n",
      "Wall time: 3min 48s\n"
     ]
    }
   ],
   "source": [
    "%%time\n",
    "# Warning: it takes about 100s per one event.\n",
    "# hough_matrix = digitize_column(hough_matrix, 'R0Inv', N_bins_r0inv, -0.025, 0.025) # Tune it.\n",
    "for h in [8,9, 10]:\n",
    "    model = Clusterer(N_bins_r0inv=200, N_bins_gamma=500, N_theta=500, min_hits=h)\n",
    "    labels = model.predict(hits)\n",
    "    submission = create_one_event_submission(0, hits, labels)\n",
    "    score = score_event(truth, submission)\n",
    "    print(score)"
   ]
  },
  {
   "cell_type": "code",
   "execution_count": 6,
   "metadata": {},
   "outputs": [
    {
     "name": "stdout",
     "output_type": "stream",
     "text": [
      "0.13138324946915658\n",
      "CPU times: user 1min 15s, sys: 1.02 s, total: 1min 16s\n",
      "Wall time: 1min 14s\n"
     ]
    }
   ],
   "source": [
    "%%time\n",
    "# Warning: it takes about 100s per one event.\n",
    "# hough_matrix = digitize_column(hough_matrix, 'R0Inv', N_bins_r0inv, -0.015, 0.015) # Tune it.\n",
    "for h in [9]:\n",
    "    model = Clusterer(N_bins_r0inv=200, N_bins_gamma=500, N_theta=500, min_hits=h)\n",
    "    labels = model.predict(hits)\n",
    "    submission = create_one_event_submission(0, hits, labels)\n",
    "    score = score_event(truth, submission)\n",
    "    print(score)"
   ]
  },
  {
   "cell_type": "code",
   "execution_count": 11,
   "metadata": {},
   "outputs": [
    {
     "name": "stdout",
     "output_type": "stream",
     "text": [
      "0.1348778779230148\n",
      "CPU times: user 1min 16s, sys: 977 ms, total: 1min 17s\n",
      "Wall time: 1min 14s\n"
     ]
    }
   ],
   "source": [
    "%%time\n",
    "# Warning: it takes about 100s per one event.\n",
    "# hough_matrix = digitize_column(hough_matrix, 'R0Inv', N_bins_r0inv, -0.016, 0.016) # Tune it.\n",
    "for h in [9]:\n",
    "    model = Clusterer(N_bins_r0inv=200, N_bins_gamma=500, N_theta=500, min_hits=h)\n",
    "    labels = model.predict(hits)\n",
    "    submission = create_one_event_submission(0, hits, labels)\n",
    "    score = score_event(truth, submission)\n",
    "    print(score)"
   ]
  },
  {
   "cell_type": "code",
   "execution_count": 16,
   "metadata": {},
   "outputs": [
    {
     "name": "stdout",
     "output_type": "stream",
     "text": [
      "0.1359058514533225\n",
      "CPU times: user 1min 18s, sys: 910 ms, total: 1min 19s\n",
      "Wall time: 1min 16s\n"
     ]
    }
   ],
   "source": [
    "%%time\n",
    "# Warning: it takes about 100s per one event.\n",
    "# hough_matrix = digitize_column(hough_matrix, 'R0Inv', N_bins_r0inv, -0.018, 0.018) # Tune it.\n",
    "for h in [9]:\n",
    "    model = Clusterer(N_bins_r0inv=200, N_bins_gamma=500, N_theta=500, min_hits=h)\n",
    "    labels = model.predict(hits)\n",
    "    submission = create_one_event_submission(0, hits, labels)\n",
    "    score = score_event(truth, submission)\n",
    "    print(score)"
   ]
  },
  {
   "cell_type": "code",
   "execution_count": 21,
   "metadata": {},
   "outputs": [
    {
     "name": "stdout",
     "output_type": "stream",
     "text": [
      "0.13791190851834\n",
      "CPU times: user 1min 17s, sys: 843 ms, total: 1min 18s\n",
      "Wall time: 1min 16s\n"
     ]
    }
   ],
   "source": [
    "%%time\n",
    "# Warning: it takes about 100s per one event.\n",
    "# hough_matrix = digitize_column(hough_matrix, 'R0Inv', N_bins_r0inv, -0.021, 0.021) # Tune it.\n",
    "for h in [9]:\n",
    "    model = Clusterer(N_bins_r0inv=200, N_bins_gamma=500, N_theta=500, min_hits=h)\n",
    "    labels = model.predict(hits)\n",
    "    submission = create_one_event_submission(0, hits, labels)\n",
    "    score = score_event(truth, submission)\n",
    "    print(score)"
   ]
  },
  {
   "cell_type": "code",
   "execution_count": 32,
   "metadata": {},
   "outputs": [
    {
     "name": "stdout",
     "output_type": "stream",
     "text": [
      "0.14085714317203724\n",
      "CPU times: user 1min 17s, sys: 760 ms, total: 1min 18s\n",
      "Wall time: 1min 16s\n"
     ]
    }
   ],
   "source": [
    "%%time\n",
    "# Warning: it takes about 100s per one event.\n",
    "# hough_matrix = digitize_column(hough_matrix, 'R0Inv', N_bins_r0inv, -0.019, 0.019) # Tune it.\n",
    "for h in [9]:\n",
    "    model = Clusterer(N_bins_r0inv=200, N_bins_gamma=500, N_theta=500, min_hits=h)\n",
    "    labels = model.predict(hits)\n",
    "    submission = create_one_event_submission(0, hits, labels)\n",
    "    score = score_event(truth, submission)\n",
    "    print(score)"
   ]
  },
  {
   "cell_type": "code",
   "execution_count": 37,
   "metadata": {},
   "outputs": [
    {
     "name": "stdout",
     "output_type": "stream",
     "text": [
      "0.140170559379583\n",
      "CPU times: user 1min 16s, sys: 1 s, total: 1min 17s\n",
      "Wall time: 1min 15s\n"
     ]
    }
   ],
   "source": [
    "%%time\n",
    "# Warning: it takes about 100s per one event.\n",
    "# hough_matrix = digitize_column(hough_matrix, 'R0Inv', N_bins_r0inv, -0.0195, 0.0195) # Tune it.\n",
    "for h in [9]:\n",
    "    model = Clusterer(N_bins_r0inv=200, N_bins_gamma=500, N_theta=500, min_hits=h)\n",
    "    labels = model.predict(hits)\n",
    "    submission = create_one_event_submission(0, hits, labels)\n",
    "    score = score_event(truth, submission)\n",
    "    print(score)"
   ]
  },
  {
   "cell_type": "code",
   "execution_count": 42,
   "metadata": {},
   "outputs": [
    {
     "name": "stdout",
     "output_type": "stream",
     "text": [
      "0.13905085748532384\n",
      "CPU times: user 1min 17s, sys: 730 ms, total: 1min 18s\n",
      "Wall time: 1min 16s\n"
     ]
    }
   ],
   "source": [
    "%%time\n",
    "# Warning: it takes about 100s per one event.\n",
    "# hough_matrix = digitize_column(hough_matrix, 'R0Inv', N_bins_r0inv, -0.0191, 0.0191) # Tune it.\n",
    "for h in [9]:\n",
    "    model = Clusterer(N_bins_r0inv=200, N_bins_gamma=500, N_theta=500, min_hits=h)\n",
    "    labels = model.predict(hits)\n",
    "    submission = create_one_event_submission(0, hits, labels)\n",
    "    score = score_event(truth, submission)\n",
    "    print(score)"
   ]
  },
  {
   "cell_type": "code",
   "execution_count": 47,
   "metadata": {},
   "outputs": [
    {
     "name": "stdout",
     "output_type": "stream",
     "text": [
      "0.13424264991861157\n",
      "CPU times: user 1min 17s, sys: 857 ms, total: 1min 18s\n",
      "Wall time: 1min 16s\n"
     ]
    }
   ],
   "source": [
    "%%time\n",
    "# Warning: it takes about 100s per one event.\n",
    "# hough_matrix = digitize_column(hough_matrix, 'R0Inv', N_bins_r0inv, -0.019, 0.03) # Tune it.\n",
    "for h in [9]:\n",
    "    model = Clusterer(N_bins_r0inv=200, N_bins_gamma=500, N_theta=500, min_hits=h)\n",
    "    labels = model.predict(hits)\n",
    "    submission = create_one_event_submission(0, hits, labels)\n",
    "    score = score_event(truth, submission)\n",
    "    print(score)"
   ]
  },
  {
   "cell_type": "code",
   "execution_count": 52,
   "metadata": {},
   "outputs": [
    {
     "name": "stdout",
     "output_type": "stream",
     "text": [
      "0.139683930249772\n",
      "CPU times: user 1min 17s, sys: 729 ms, total: 1min 18s\n",
      "Wall time: 1min 15s\n"
     ]
    }
   ],
   "source": [
    "%%time\n",
    "# Warning: it takes about 100s per one event.\n",
    "# hough_matrix = digitize_column(hough_matrix, 'R0Inv', N_bins_r0inv, -0.019, 0.03) # Tune it.\n",
    "for h in [9]:\n",
    "    model = Clusterer(N_bins_r0inv=200, N_bins_gamma=500, N_theta=500, min_hits=h)\n",
    "    labels = model.predict(hits)\n",
    "    submission = create_one_event_submission(0, hits, labels)\n",
    "    score = score_event(truth, submission)\n",
    "    print(score)"
   ]
  },
  {
   "cell_type": "code",
   "execution_count": 57,
   "metadata": {},
   "outputs": [
    {
     "name": "stdout",
     "output_type": "stream",
     "text": [
      "0.1376100310921274\n",
      "CPU times: user 1min 16s, sys: 783 ms, total: 1min 17s\n",
      "Wall time: 1min 15s\n"
     ]
    }
   ],
   "source": [
    "%%time\n",
    "# Warning: it takes about 100s per one event.\n",
    "# hough_matrix = digitize_column(hough_matrix, 'R0Inv', N_bins_r0inv, -0.019, 0.019) # Tune it.\n",
    "# hough_matrix = digitize_column(hough_matrix, 'Gamma', N_bins_gamma, -55, 55) # Tune it.\n",
    "for h in [9]:\n",
    "    model = Clusterer(N_bins_r0inv=200, N_bins_gamma=500, N_theta=500, min_hits=h)\n",
    "    labels = model.predict(hits)\n",
    "    submission = create_one_event_submission(0, hits, labels)\n",
    "    score = score_event(truth, submission)\n",
    "    print(score)"
   ]
  },
  {
   "cell_type": "code",
   "execution_count": 64,
   "metadata": {},
   "outputs": [
    {
     "name": "stdout",
     "output_type": "stream",
     "text": [
      "0.13777901601678022\n",
      "CPU times: user 1min 17s, sys: 910 ms, total: 1min 18s\n",
      "Wall time: 1min 15s\n"
     ]
    }
   ],
   "source": [
    "%%time\n",
    "# Warning: it takes about 100s per one event.\n",
    "# hough_matrix = digitize_column(hough_matrix, 'R0Inv', N_bins_r0inv, -0.019, 0.019) # Tune it.\n",
    "# hough_matrix = digitize_column(hough_matrix, 'Gamma', N_bins_gamma, -45, 55) # Tune it.\n",
    "for h in [9]:\n",
    "    model = Clusterer(N_bins_r0inv=200, N_bins_gamma=500, N_theta=500, min_hits=h)\n",
    "    labels = model.predict(hits)\n",
    "    submission = create_one_event_submission(0, hits, labels)\n",
    "    score = score_event(truth, submission)\n",
    "    print(score)"
   ]
  },
  {
   "cell_type": "code",
   "execution_count": 69,
   "metadata": {},
   "outputs": [
    {
     "name": "stdout",
     "output_type": "stream",
     "text": [
      "0.13409354053983796\n",
      "CPU times: user 1min 17s, sys: 802 ms, total: 1min 17s\n",
      "Wall time: 1min 15s\n"
     ]
    }
   ],
   "source": [
    "%%time\n",
    "# Warning: it takes about 100s per one event.\n",
    "# hough_matrix = digitize_column(hough_matrix, 'R0Inv', N_bins_r0inv, -0.019, 0.019) # Tune it.\n",
    "# hough_matrix = digitize_column(hough_matrix, 'Gamma', N_bins_gamma, -50, 51) # Tune it.\n",
    "for h in [9]:\n",
    "    model = Clusterer(N_bins_r0inv=200, N_bins_gamma=500, N_theta=500, min_hits=h)\n",
    "    labels = model.predict(hits)\n",
    "    submission = create_one_event_submission(0, hits, labels)\n",
    "    score = score_event(truth, submission)\n",
    "    print(score)"
   ]
  },
  {
   "cell_type": "code",
   "execution_count": 74,
   "metadata": {},
   "outputs": [
    {
     "name": "stdout",
     "output_type": "stream",
     "text": [
      "0.14085714317203724\n",
      "CPU times: user 1min 17s, sys: 808 ms, total: 1min 18s\n",
      "Wall time: 1min 15s\n"
     ]
    }
   ],
   "source": [
    "%%time\n",
    "# Warning: it takes about 100s per one event.\n",
    "# hough_matrix = digitize_column(hough_matrix, 'R0Inv', N_bins_r0inv, -0.019, 0.019) # Tune it.\n",
    "# hough_matrix = digitize_column(hough_matrix, 'Gamma', N_bins_gamma, -50, 50) # Tune it.\n",
    "for h in [9]:\n",
    "    model = Clusterer(N_bins_r0inv=200, N_bins_gamma=500, N_theta=500, min_hits=h)\n",
    "    labels = model.predict(hits)\n",
    "    submission = create_one_event_submission(0, hits, labels)\n",
    "    score = score_event(truth, submission)\n",
    "    print(score)"
   ]
  },
  {
   "cell_type": "code",
   "execution_count": 7,
   "metadata": {},
   "outputs": [
    {
     "name": "stdout",
     "output_type": "stream",
     "text": [
      "0.1413972293722589\n",
      "CPU times: user 2min 19s, sys: 406 ms, total: 2min 20s\n",
      "Wall time: 2min 19s\n"
     ]
    }
   ],
   "source": [
    "%%time\n",
    "# Warning: it takes about 100s per one event.\n",
    "# hough_matrix = digitize_column(hough_matrix, 'R0Inv', N_bins_r0inv, -0.019, 0.019) # Tune it.\n",
    "# hough_matrix = digitize_column(hough_matrix, 'Gamma', N_bins_gamma, -50, 50) # Tune it.\n",
    "for h in [9]:\n",
    "    model = Clusterer(N_bins_r0inv=200, N_bins_gamma=500, N_theta=600, min_hits=h)\n",
    "    labels = model.predict(hits)\n",
    "    submission = create_one_event_submission(0, hits, labels)\n",
    "    score = score_event(truth, submission)\n",
    "    print(score)"
   ]
  },
  {
   "cell_type": "code",
   "execution_count": 80,
   "metadata": {},
   "outputs": [
    {
     "name": "stderr",
     "output_type": "stream",
     "text": [
      "100it [1:18:10, 46.90s/it]\n"
     ]
    }
   ],
   "source": [
    "path_to_train = \"../data/train_100_events\"\n",
    "\n",
    "\n",
    "train_sample_scores = []\n",
    "for event_id, hits, cells, particles, truth in tqdm(load_dataset(path_to_train)):\n",
    "\n",
    "    truth1 = pd.merge(truth, particles, how='left', on='particle_id')\n",
    "    hits1 = pd.merge(hits, truth1, how='left', on='hit_id')\n",
    "\n",
    "    hits2 = hits1.dropna()\n",
    "    truth2 = truth1.dropna()\n",
    "\n",
    "    hits3 = hits2[hits2.nhits > 3]\n",
    "    truth3 = truth2[truth2.nhits > 3]\n",
    "\n",
    "    # Track pattern recognition\n",
    "    model = Clusterer(N_bins_r0inv=200, N_bins_gamma=500, N_theta=500, min_hits=9)\n",
    "    labels = model.predict(hits3)\n",
    "\n",
    "    # Prepare submission for an event\n",
    "    one_submission = create_one_event_submission(event_id, hits3, labels)\n",
    "    score = score_event(truth3, one_submission)\n",
    "\n",
    "    train_sample_scores.append(score)\n",
    "\n",
    "#     print(\"Score for event %d: %.3f\" % (event_id, score))\n",
    "\n",
    "#     print('Event ID: {}, Score: {}'.format(event_id, score))\n"
   ]
  },
  {
   "cell_type": "code",
   "execution_count": 81,
   "metadata": {},
   "outputs": [
    {
     "name": "stdout",
     "output_type": "stream",
     "text": [
      "min_hits: 9.0000, Mean score: 0.14964652\n"
     ]
    }
   ],
   "source": [
    "min_hits=9\n",
    "print('min_hits: {0:.4f}, Mean score: {1:.8f}'.format(min_hits, (np.mean(train_sample_scores))))"
   ]
  },
  {
   "cell_type": "code",
   "execution_count": null,
   "metadata": {},
   "outputs": [],
   "source": []
  }
 ],
 "metadata": {
  "kernelspec": {
   "display_name": "tml",
   "language": "python",
   "name": "tml"
  },
  "language_info": {
   "codemirror_mode": {
    "name": "ipython",
    "version": 3
   },
   "file_extension": ".py",
   "mimetype": "text/x-python",
   "name": "python",
   "nbconvert_exporter": "python",
   "pygments_lexer": "ipython3",
   "version": "3.6.4"
  }
 },
 "nbformat": 4,
 "nbformat_minor": 2
}
