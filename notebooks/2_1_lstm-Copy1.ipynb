{
 "cells": [
  {
   "cell_type": "code",
   "execution_count": 1,
   "metadata": {},
   "outputs": [
    {
     "name": "stderr",
     "output_type": "stream",
     "text": [
      "/home/watts/anaconda3/envs/tmlf/lib/python3.6/site-packages/h5py/__init__.py:36: FutureWarning: Conversion of the second argument of issubdtype from `float` to `np.floating` is deprecated. In future, it will be treated as `np.float64 == np.dtype(float).type`.\n",
      "  from ._conv import register_converters as _register_converters\n",
      "Using TensorFlow backend.\n"
     ]
    }
   ],
   "source": [
    "from keras.models import Sequential\n",
    "from keras.layers import Dense, Dropout, Embedding, LSTM, GRU, Bidirectional, TimeDistributed, BatchNormalization, Embedding\n",
    "\n",
    "from numpy import array\n",
    "from keras.models import load_model\n",
    "from keras.utils import np_utils\n",
    "from keras.callbacks import ModelCheckpoint\n",
    "import os\n",
    "\n",
    "import numpy as np\n",
    "import pandas as pd\n",
    "from tqdm import tqdm\n",
    "\n",
    "from trackml.dataset import load_event, load_dataset\n",
    "from trackml.score import score_event\n",
    "\n",
    "import matplotlib.pyplot as plt\n",
    "from mpl_toolkits.mplot3d import Axes3D\n",
    "\n",
    "import warnings\n",
    "warnings.filterwarnings('ignore')"
   ]
  },
  {
   "cell_type": "code",
   "execution_count": 18,
   "metadata": {},
   "outputs": [],
   "source": [
    "def append_to_csv(batch, csv_file):\n",
    "    props = dict(encoding='utf-8', index=False)\n",
    "    if not os.path.exists(csv_file):\n",
    "        batch.to_csv(csv_file, **props)\n",
    "    else:\n",
    "        batch.to_csv(csv_file, mode='a', header=False, **props)\n",
    "\n",
    "def delete_file_if_exists(filename):\n",
    "    if os.path.exists(filename):\n",
    "        os.remove(filename)"
   ]
  },
  {
   "cell_type": "code",
   "execution_count": 3,
   "metadata": {},
   "outputs": [],
   "source": [
    "def create_one_event_submission(event_id, hits, labels):\n",
    "    sub_data = np.column_stack(([event_id]*len(hits), hits.hit_id.values, labels))\n",
    "    submission = pd.DataFrame(data=sub_data, columns=[\"event_id\", \"hit_id\", \"track_id\"]).astype(int)\n",
    "    return submission"
   ]
  },
  {
   "cell_type": "code",
   "execution_count": 5,
   "metadata": {},
   "outputs": [],
   "source": [
    "from sklearn.preprocessing import StandardScaler\n",
    "import hdbscan\n",
    "from scipy import stats\n",
    "from tqdm import tqdm\n",
    "\n",
    "class Clusterer1(object):\n",
    "    def __init__(self,rz_scales=[0.65, 0.965, 1.428]):                        \n",
    "        self.rz_scales=rz_scales\n",
    "    \n",
    "    def _eliminate_outliers(self,labels,M):\n",
    "        norms=np.zeros((len(labels)),np.float32)\n",
    "        for i, cluster in tqdm(enumerate(labels),total=len(labels)):\n",
    "            if cluster == 0:\n",
    "                continue\n",
    "            index = np.argwhere(self.clusters==cluster)\n",
    "            x = M[index]\n",
    "            norms[i] = self._test_quadric(x)\n",
    "        threshold = np.percentile(norms,90)*5.3\n",
    "        for i, cluster in tqdm(enumerate(labels),total=len(labels)):\n",
    "            if norms[i] > threshold:\n",
    "                self.clusters[self.clusters==cluster]=0            \n",
    "    def _test_quadric(self,x):\n",
    "        if len(x.shape)==3:\n",
    "            x = np.reshape(x,(x.shape[0],3))\n",
    "        Z = np.zeros((x.shape[0],10), np.float32)\n",
    "        Z[:,0] = x[:,0]**2\n",
    "        Z[:,1] = 2*x[:,0]*x[:,1]\n",
    "        Z[:,2] = 2*x[:,0]*x[:,2]\n",
    "        Z[:,3] = 2*x[:,0]\n",
    "        Z[:,4] = x[:,1]**2\n",
    "        Z[:,5] = 2*x[:,1]*x[:,2]\n",
    "        Z[:,6] = 2*x[:,1]\n",
    "        Z[:,7] = x[:,2]**2\n",
    "        Z[:,8] = 2*x[:,2]\n",
    "        Z[:,9] = 1\n",
    "        v, s, t = np.linalg.svd(Z,full_matrices=False)        \n",
    "        smallest_index = np.argmin(np.array(s))\n",
    "        T = np.array(t)\n",
    "        T = T[smallest_index,:]        \n",
    "        norm = np.linalg.norm(np.dot(Z,T), ord=2)**2\n",
    "        return norm\n",
    "\n",
    "    def _preprocess(self, hits):\n",
    "        \n",
    "        x = hits.x.values\n",
    "        y = hits.y.values\n",
    "        z = hits.z.values\n",
    "\n",
    "        r = np.sqrt(x**2 + y**2 + z**2)\n",
    "        hits['x2'] = x/r\n",
    "        hits['y2'] = y/r\n",
    "\n",
    "        r = np.sqrt(x**2 + y**2)\n",
    "        hits['z2'] = z/r\n",
    "\n",
    "        ss = StandardScaler()\n",
    "        X = ss.fit_transform(hits[['x2', 'y2', 'z2']].values)\n",
    "        for i, rz_scale in enumerate(self.rz_scales):\n",
    "            X[:,i] = X[:,i] * rz_scale\n",
    "\n",
    "        \n",
    "        return X\n",
    "    \n",
    "    def predict(self, hits):        \n",
    "        volumes = np.unique(hits['volume_id'].values)\n",
    "        X = self._preprocess(hits)\n",
    "        self.clusters = np.zeros((len(X),1),np.int32)\n",
    "        max_len = 1\n",
    "        cl = hdbscan.HDBSCAN(min_samples=1,min_cluster_size=7,\n",
    "                             metric='braycurtis',cluster_selection_method='leaf',algorithm='best', leaf_size=100)\n",
    "        self.clusters = cl.fit_predict(X)+1\n",
    "        labels = np.unique(self.clusters)\n",
    "        n_labels = 0\n",
    "        while n_labels < len(labels):\n",
    "            n_labels = len(labels)\n",
    "            self._eliminate_outliers(labels,X)\n",
    "            max_len = np.max(self.clusters)\n",
    "            self.clusters[self.clusters==0] = cl.fit_predict(X[self.clusters==0])+max_len\n",
    "            labels = np.unique(self.clusters)\n",
    "        return self.clusters"
   ]
  },
  {
   "cell_type": "code",
   "execution_count": 4,
   "metadata": {},
   "outputs": [],
   "source": [
    "hits = pd.read_csv('../cache/train_100_hits.csv')"
   ]
  },
  {
   "cell_type": "code",
   "execution_count": 5,
   "metadata": {},
   "outputs": [
    {
     "data": {
      "text/plain": [
       "1004    118333\n",
       "1087    116845\n",
       "1023    108088\n",
       "1014    106026\n",
       "1002    105685\n",
       "1017    104523\n",
       "1040    104329\n",
       "1093    103558\n",
       "1026    103173\n",
       "1019    102851\n",
       "1015    102494\n",
       "1031    102468\n",
       "1000    101172\n",
       "1092    101103\n",
       "1097    101097\n",
       "1080    100835\n",
       "1086    100424\n",
       "1025    100182\n",
       "1058     99329\n",
       "1088     99225\n",
       "1079     98859\n",
       "1006     98801\n",
       "1084     98352\n",
       "1016     98146\n",
       "1099     97859\n",
       "1011     97811\n",
       "1051     97762\n",
       "1024     97395\n",
       "1053     97287\n",
       "1028     96852\n",
       "         ...  \n",
       "1070     84150\n",
       "1096     83828\n",
       "1054     83362\n",
       "1068     82379\n",
       "1041     82210\n",
       "1048     81768\n",
       "1032     81681\n",
       "1052     81437\n",
       "1071     81368\n",
       "1098     81021\n",
       "1076     80822\n",
       "1090     80619\n",
       "1078     80580\n",
       "1091     79737\n",
       "1057     78712\n",
       "1047     77182\n",
       "1063     77102\n",
       "1035     77006\n",
       "1077     76857\n",
       "1061     76805\n",
       "1033     76735\n",
       "1056     76670\n",
       "1067     75310\n",
       "1020     74872\n",
       "1001     74650\n",
       "1044     74548\n",
       "1082     73727\n",
       "1018     73301\n",
       "1039     69130\n",
       "1062     58499\n",
       "Name: event_id, Length: 100, dtype: int64"
      ]
     },
     "execution_count": 5,
     "metadata": {},
     "output_type": "execute_result"
    }
   ],
   "source": [
    "hits.event_id.value_counts()"
   ]
  },
  {
   "cell_type": "code",
   "execution_count": 4,
   "metadata": {},
   "outputs": [],
   "source": [
    "hits_1000_1050 = hits[(hits.event_id == 1000) & ]"
   ]
  },
  {
   "cell_type": "code",
   "execution_count": 5,
   "metadata": {},
   "outputs": [
    {
     "data": {
      "text/plain": [
       "(101172, 24)"
      ]
     },
     "execution_count": 5,
     "metadata": {},
     "output_type": "execute_result"
    }
   ],
   "source": [
    "hits_1000.shape"
   ]
  },
  {
   "cell_type": "code",
   "execution_count": 6,
   "metadata": {},
   "outputs": [
    {
     "data": {
      "text/plain": [
       "9292"
      ]
     },
     "execution_count": 6,
     "metadata": {},
     "output_type": "execute_result"
    }
   ],
   "source": [
    "hits_1000.particle_id.nunique()"
   ]
  },
  {
   "cell_type": "code",
   "execution_count": 7,
   "metadata": {},
   "outputs": [],
   "source": [
    "hits_1000_9 = hits_1000[hits_1000.nhits >= 9]"
   ]
  },
  {
   "cell_type": "code",
   "execution_count": 8,
   "metadata": {},
   "outputs": [
    {
     "data": {
      "text/plain": [
       "(90907, 24)"
      ]
     },
     "execution_count": 8,
     "metadata": {},
     "output_type": "execute_result"
    }
   ],
   "source": [
    "hits_1000_9.shape"
   ]
  },
  {
   "cell_type": "code",
   "execution_count": 9,
   "metadata": {},
   "outputs": [
    {
     "data": {
      "text/plain": [
       "7594"
      ]
     },
     "execution_count": 9,
     "metadata": {},
     "output_type": "execute_result"
    }
   ],
   "source": [
    "hits_1000_9.particle_id.nunique()"
   ]
  },
  {
   "cell_type": "code",
   "execution_count": 10,
   "metadata": {},
   "outputs": [],
   "source": [
    "hits['new_pid'] = hits.particle_id.astype('str') + '_' + hits.event_id.astype('str') \n",
    "hits = hits[hits.nhits >= 9]\n"
   ]
  },
  {
   "cell_type": "code",
   "execution_count": 11,
   "metadata": {},
   "outputs": [],
   "source": [
    "# new_pid_count = list(range(hits.new_pid.nunique()))\n",
    "# new_pid_list = list(set(hits.new_pid.values))\n",
    "# new_pid_dict = dict(zip(new_pid_list, new_pid_count))"
   ]
  },
  {
   "cell_type": "code",
   "execution_count": 12,
   "metadata": {},
   "outputs": [],
   "source": [
    "new_pid_count = list(range(100))\n",
    "new_pid_list = list(set(hits.new_pid.values))\n",
    "new_pid_list = np.random.choice(new_pid_list,100)\n",
    "new_pid_dict = dict(zip(new_pid_list, new_pid_count))"
   ]
  },
  {
   "cell_type": "code",
   "execution_count": 27,
   "metadata": {},
   "outputs": [],
   "source": [
    "hits = hits[hits.new_pid.isin(new_pid_list)]"
   ]
  },
  {
   "cell_type": "code",
   "execution_count": 28,
   "metadata": {},
   "outputs": [],
   "source": [
    "hits['nid'] = hits['new_pid'].map(lambda x: new_pid_dict[x])"
   ]
  },
  {
   "cell_type": "code",
   "execution_count": 29,
   "metadata": {},
   "outputs": [
    {
     "name": "stdout",
     "output_type": "stream",
     "text": [
      "[1034]\n"
     ]
    }
   ],
   "source": [
    "hits.sort_values(['nid', 'z'], inplace=True)\n",
    "\n",
    "event_list = list(set(hits.event_id.values))\n",
    "one_event = np.random.choice(event_list,1)\n",
    "print(one_event)\n",
    "\n",
    "hits_train = hits[hits.event_id != one_event[0]]\n",
    "hits_test = hits[hits.event_id == one_event[0]]"
   ]
  },
  {
   "cell_type": "code",
   "execution_count": 30,
   "metadata": {},
   "outputs": [
    {
     "data": {
      "text/html": [
       "<div>\n",
       "<style scoped>\n",
       "    .dataframe tbody tr th:only-of-type {\n",
       "        vertical-align: middle;\n",
       "    }\n",
       "\n",
       "    .dataframe tbody tr th {\n",
       "        vertical-align: top;\n",
       "    }\n",
       "\n",
       "    .dataframe thead th {\n",
       "        text-align: right;\n",
       "    }\n",
       "</style>\n",
       "<table border=\"1\" class=\"dataframe\">\n",
       "  <thead>\n",
       "    <tr style=\"text-align: right;\">\n",
       "      <th></th>\n",
       "      <th>hit_id</th>\n",
       "      <th>x</th>\n",
       "      <th>y</th>\n",
       "      <th>z</th>\n",
       "      <th>volume_id</th>\n",
       "      <th>layer_id</th>\n",
       "      <th>module_id</th>\n",
       "      <th>particle_id</th>\n",
       "      <th>tx</th>\n",
       "      <th>ty</th>\n",
       "      <th>...</th>\n",
       "      <th>vy</th>\n",
       "      <th>vz</th>\n",
       "      <th>px</th>\n",
       "      <th>py</th>\n",
       "      <th>pz</th>\n",
       "      <th>q</th>\n",
       "      <th>nhits</th>\n",
       "      <th>event_id</th>\n",
       "      <th>new_pid</th>\n",
       "      <th>nid</th>\n",
       "    </tr>\n",
       "  </thead>\n",
       "  <tbody>\n",
       "    <tr>\n",
       "      <th>3024406</th>\n",
       "      <td>115286</td>\n",
       "      <td>-114.81800</td>\n",
       "      <td>1016.4900</td>\n",
       "      <td>-601.80000</td>\n",
       "      <td>17</td>\n",
       "      <td>4</td>\n",
       "      <td>725</td>\n",
       "      <td>351284825384026112</td>\n",
       "      <td>-114.81500</td>\n",
       "      <td>1016.4900</td>\n",
       "      <td>...</td>\n",
       "      <td>-0.016244</td>\n",
       "      <td>-12.63500</td>\n",
       "      <td>0.181708</td>\n",
       "      <td>1.162610</td>\n",
       "      <td>-0.682243</td>\n",
       "      <td>-1.0</td>\n",
       "      <td>10.0</td>\n",
       "      <td>1031</td>\n",
       "      <td>351284825384026112_1031</td>\n",
       "      <td>0</td>\n",
       "    </tr>\n",
       "    <tr>\n",
       "      <th>3022102</th>\n",
       "      <td>110446</td>\n",
       "      <td>-46.83520</td>\n",
       "      <td>814.7320</td>\n",
       "      <td>-488.00000</td>\n",
       "      <td>17</td>\n",
       "      <td>2</td>\n",
       "      <td>692</td>\n",
       "      <td>351284825384026112</td>\n",
       "      <td>-46.82710</td>\n",
       "      <td>814.7320</td>\n",
       "      <td>...</td>\n",
       "      <td>-0.016244</td>\n",
       "      <td>-12.63500</td>\n",
       "      <td>0.181708</td>\n",
       "      <td>1.162610</td>\n",
       "      <td>-0.682243</td>\n",
       "      <td>-1.0</td>\n",
       "      <td>10.0</td>\n",
       "      <td>1031</td>\n",
       "      <td>351284825384026112_1031</td>\n",
       "      <td>0</td>\n",
       "    </tr>\n",
       "    <tr>\n",
       "      <th>3009764</th>\n",
       "      <td>94258</td>\n",
       "      <td>-11.59810</td>\n",
       "      <td>663.2530</td>\n",
       "      <td>-395.80000</td>\n",
       "      <td>13</td>\n",
       "      <td>8</td>\n",
       "      <td>689</td>\n",
       "      <td>351284825384026112</td>\n",
       "      <td>-11.60260</td>\n",
       "      <td>663.2540</td>\n",
       "      <td>...</td>\n",
       "      <td>-0.016244</td>\n",
       "      <td>-12.63500</td>\n",
       "      <td>0.181708</td>\n",
       "      <td>1.162610</td>\n",
       "      <td>-0.682243</td>\n",
       "      <td>-1.0</td>\n",
       "      <td>10.0</td>\n",
       "      <td>1031</td>\n",
       "      <td>351284825384026112_1031</td>\n",
       "      <td>0</td>\n",
       "    </tr>\n",
       "    <tr>\n",
       "      <th>3000380</th>\n",
       "      <td>81996</td>\n",
       "      <td>22.25660</td>\n",
       "      <td>360.5160</td>\n",
       "      <td>-221.00000</td>\n",
       "      <td>13</td>\n",
       "      <td>4</td>\n",
       "      <td>490</td>\n",
       "      <td>351284825384026112</td>\n",
       "      <td>22.25520</td>\n",
       "      <td>360.5160</td>\n",
       "      <td>...</td>\n",
       "      <td>-0.016244</td>\n",
       "      <td>-12.63500</td>\n",
       "      <td>0.181708</td>\n",
       "      <td>1.162610</td>\n",
       "      <td>-0.682243</td>\n",
       "      <td>-1.0</td>\n",
       "      <td>10.0</td>\n",
       "      <td>1031</td>\n",
       "      <td>351284825384026112_1031</td>\n",
       "      <td>0</td>\n",
       "    </tr>\n",
       "    <tr>\n",
       "      <th>2994180</th>\n",
       "      <td>74821</td>\n",
       "      <td>22.80610</td>\n",
       "      <td>260.1610</td>\n",
       "      <td>-163.40000</td>\n",
       "      <td>13</td>\n",
       "      <td>2</td>\n",
       "      <td>350</td>\n",
       "      <td>351284825384026112</td>\n",
       "      <td>22.79780</td>\n",
       "      <td>260.1630</td>\n",
       "      <td>...</td>\n",
       "      <td>-0.016244</td>\n",
       "      <td>-12.63500</td>\n",
       "      <td>0.181708</td>\n",
       "      <td>1.162610</td>\n",
       "      <td>-0.682243</td>\n",
       "      <td>-1.0</td>\n",
       "      <td>10.0</td>\n",
       "      <td>1031</td>\n",
       "      <td>351284825384026112_1031</td>\n",
       "      <td>0</td>\n",
       "    </tr>\n",
       "    <tr>\n",
       "      <th>2965213</th>\n",
       "      <td>42896</td>\n",
       "      <td>18.92340</td>\n",
       "      <td>171.4970</td>\n",
       "      <td>-112.46300</td>\n",
       "      <td>8</td>\n",
       "      <td>8</td>\n",
       "      <td>448</td>\n",
       "      <td>351284825384026112</td>\n",
       "      <td>18.92260</td>\n",
       "      <td>171.4970</td>\n",
       "      <td>...</td>\n",
       "      <td>-0.016244</td>\n",
       "      <td>-12.63500</td>\n",
       "      <td>0.181708</td>\n",
       "      <td>1.162610</td>\n",
       "      <td>-0.682243</td>\n",
       "      <td>-1.0</td>\n",
       "      <td>10.0</td>\n",
       "      <td>1031</td>\n",
       "      <td>351284825384026112_1031</td>\n",
       "      <td>0</td>\n",
       "    </tr>\n",
       "    <tr>\n",
       "      <th>2959464</th>\n",
       "      <td>36274</td>\n",
       "      <td>14.50140</td>\n",
       "      <td>116.1380</td>\n",
       "      <td>-80.39390</td>\n",
       "      <td>8</td>\n",
       "      <td>6</td>\n",
       "      <td>299</td>\n",
       "      <td>351284825384026112</td>\n",
       "      <td>14.50370</td>\n",
       "      <td>116.1380</td>\n",
       "      <td>...</td>\n",
       "      <td>-0.016244</td>\n",
       "      <td>-12.63500</td>\n",
       "      <td>0.181708</td>\n",
       "      <td>1.162610</td>\n",
       "      <td>-0.682243</td>\n",
       "      <td>-1.0</td>\n",
       "      <td>10.0</td>\n",
       "      <td>1031</td>\n",
       "      <td>351284825384026112_1031</td>\n",
       "      <td>0</td>\n",
       "    </tr>\n",
       "    <tr>\n",
       "      <th>2959449</th>\n",
       "      <td>36259</td>\n",
       "      <td>14.31060</td>\n",
       "      <td>114.1240</td>\n",
       "      <td>-79.22250</td>\n",
       "      <td>8</td>\n",
       "      <td>6</td>\n",
       "      <td>298</td>\n",
       "      <td>351284825384026112</td>\n",
       "      <td>14.31190</td>\n",
       "      <td>114.1240</td>\n",
       "      <td>...</td>\n",
       "      <td>-0.016244</td>\n",
       "      <td>-12.63500</td>\n",
       "      <td>0.181708</td>\n",
       "      <td>1.162610</td>\n",
       "      <td>-0.682243</td>\n",
       "      <td>-1.0</td>\n",
       "      <td>10.0</td>\n",
       "      <td>1031</td>\n",
       "      <td>351284825384026112_1031</td>\n",
       "      <td>0</td>\n",
       "    </tr>\n",
       "    <tr>\n",
       "      <th>2953760</th>\n",
       "      <td>29912</td>\n",
       "      <td>9.81963</td>\n",
       "      <td>72.0167</td>\n",
       "      <td>-54.76770</td>\n",
       "      <td>8</td>\n",
       "      <td>4</td>\n",
       "      <td>216</td>\n",
       "      <td>351284825384026112</td>\n",
       "      <td>9.82066</td>\n",
       "      <td>72.0167</td>\n",
       "      <td>...</td>\n",
       "      <td>-0.016244</td>\n",
       "      <td>-12.63500</td>\n",
       "      <td>0.181708</td>\n",
       "      <td>1.162610</td>\n",
       "      <td>-0.682243</td>\n",
       "      <td>-1.0</td>\n",
       "      <td>10.0</td>\n",
       "      <td>1031</td>\n",
       "      <td>351284825384026112_1031</td>\n",
       "      <td>0</td>\n",
       "    </tr>\n",
       "    <tr>\n",
       "      <th>2946054</th>\n",
       "      <td>21512</td>\n",
       "      <td>4.68117</td>\n",
       "      <td>31.7212</td>\n",
       "      <td>-31.23750</td>\n",
       "      <td>8</td>\n",
       "      <td>2</td>\n",
       "      <td>108</td>\n",
       "      <td>351284825384026112</td>\n",
       "      <td>4.68210</td>\n",
       "      <td>31.7211</td>\n",
       "      <td>...</td>\n",
       "      <td>-0.016244</td>\n",
       "      <td>-12.63500</td>\n",
       "      <td>0.181708</td>\n",
       "      <td>1.162610</td>\n",
       "      <td>-0.682243</td>\n",
       "      <td>-1.0</td>\n",
       "      <td>10.0</td>\n",
       "      <td>1031</td>\n",
       "      <td>351284825384026112_1031</td>\n",
       "      <td>0</td>\n",
       "    </tr>\n",
       "    <tr>\n",
       "      <th>8273513</th>\n",
       "      <td>22258</td>\n",
       "      <td>27.59040</td>\n",
       "      <td>-15.1672</td>\n",
       "      <td>2.57188</td>\n",
       "      <td>8</td>\n",
       "      <td>2</td>\n",
       "      <td>119</td>\n",
       "      <td>770121033838493696</td>\n",
       "      <td>27.59080</td>\n",
       "      <td>-15.1665</td>\n",
       "      <td>...</td>\n",
       "      <td>-0.016430</td>\n",
       "      <td>-1.50164</td>\n",
       "      <td>0.593444</td>\n",
       "      <td>-0.336765</td>\n",
       "      <td>0.088171</td>\n",
       "      <td>-1.0</td>\n",
       "      <td>10.0</td>\n",
       "      <td>1092</td>\n",
       "      <td>770121033838493696_1092</td>\n",
       "      <td>1</td>\n",
       "    </tr>\n",
       "    <tr>\n",
       "      <th>8280678</th>\n",
       "      <td>30130</td>\n",
       "      <td>63.39260</td>\n",
       "      <td>-33.5093</td>\n",
       "      <td>7.76627</td>\n",
       "      <td>8</td>\n",
       "      <td>4</td>\n",
       "      <td>238</td>\n",
       "      <td>770121033838493696</td>\n",
       "      <td>63.39380</td>\n",
       "      <td>-33.5060</td>\n",
       "      <td>...</td>\n",
       "      <td>-0.016430</td>\n",
       "      <td>-1.50164</td>\n",
       "      <td>0.593444</td>\n",
       "      <td>-0.336765</td>\n",
       "      <td>0.088171</td>\n",
       "      <td>-1.0</td>\n",
       "      <td>10.0</td>\n",
       "      <td>1092</td>\n",
       "      <td>770121033838493696_1092</td>\n",
       "      <td>1</td>\n",
       "    </tr>\n",
       "    <tr>\n",
       "      <th>8286889</th>\n",
       "      <td>37018</td>\n",
       "      <td>104.10100</td>\n",
       "      <td>-52.4977</td>\n",
       "      <td>13.63020</td>\n",
       "      <td>8</td>\n",
       "      <td>6</td>\n",
       "      <td>387</td>\n",
       "      <td>770121033838493696</td>\n",
       "      <td>104.10100</td>\n",
       "      <td>-52.4982</td>\n",
       "      <td>...</td>\n",
       "      <td>-0.016430</td>\n",
       "      <td>-1.50164</td>\n",
       "      <td>0.593444</td>\n",
       "      <td>-0.336765</td>\n",
       "      <td>0.088171</td>\n",
       "      <td>-1.0</td>\n",
       "      <td>10.0</td>\n",
       "      <td>1092</td>\n",
       "      <td>770121033838493696_1092</td>\n",
       "      <td>1</td>\n",
       "    </tr>\n",
       "    <tr>\n",
       "      <th>8292227</th>\n",
       "      <td>43252</td>\n",
       "      <td>155.13500</td>\n",
       "      <td>-73.7315</td>\n",
       "      <td>20.80390</td>\n",
       "      <td>8</td>\n",
       "      <td>8</td>\n",
       "      <td>580</td>\n",
       "      <td>770121033838493696</td>\n",
       "      <td>155.13600</td>\n",
       "      <td>-73.7306</td>\n",
       "      <td>...</td>\n",
       "      <td>-0.016430</td>\n",
       "      <td>-1.50164</td>\n",
       "      <td>0.593444</td>\n",
       "      <td>-0.336765</td>\n",
       "      <td>0.088171</td>\n",
       "      <td>-1.0</td>\n",
       "      <td>10.0</td>\n",
       "      <td>1092</td>\n",
       "      <td>770121033838493696_1092</td>\n",
       "      <td>1</td>\n",
       "    </tr>\n",
       "    <tr>\n",
       "      <th>8320853</th>\n",
       "      <td>74779</td>\n",
       "      <td>240.00900</td>\n",
       "      <td>-102.7010</td>\n",
       "      <td>31.80000</td>\n",
       "      <td>13</td>\n",
       "      <td>2</td>\n",
       "      <td>418</td>\n",
       "      <td>770121033838493696</td>\n",
       "      <td>240.00800</td>\n",
       "      <td>-102.7030</td>\n",
       "      <td>...</td>\n",
       "      <td>-0.016430</td>\n",
       "      <td>-1.50164</td>\n",
       "      <td>0.593444</td>\n",
       "      <td>-0.336765</td>\n",
       "      <td>0.088171</td>\n",
       "      <td>-1.0</td>\n",
       "      <td>10.0</td>\n",
       "      <td>1092</td>\n",
       "      <td>770121033838493696_1092</td>\n",
       "      <td>1</td>\n",
       "    </tr>\n",
       "    <tr>\n",
       "      <th>8326833</th>\n",
       "      <td>81735</td>\n",
       "      <td>340.35000</td>\n",
       "      <td>-127.7820</td>\n",
       "      <td>46.20000</td>\n",
       "      <td>13</td>\n",
       "      <td>4</td>\n",
       "      <td>585</td>\n",
       "      <td>770121033838493696</td>\n",
       "      <td>340.35600</td>\n",
       "      <td>-127.7720</td>\n",
       "      <td>...</td>\n",
       "      <td>-0.016430</td>\n",
       "      <td>-1.50164</td>\n",
       "      <td>0.593444</td>\n",
       "      <td>-0.336765</td>\n",
       "      <td>0.088171</td>\n",
       "      <td>-1.0</td>\n",
       "      <td>10.0</td>\n",
       "      <td>1092</td>\n",
       "      <td>770121033838493696_1092</td>\n",
       "      <td>1</td>\n",
       "    </tr>\n",
       "    <tr>\n",
       "      <th>8332254</th>\n",
       "      <td>88557</td>\n",
       "      <td>475.30600</td>\n",
       "      <td>-146.3110</td>\n",
       "      <td>64.00000</td>\n",
       "      <td>13</td>\n",
       "      <td>6</td>\n",
       "      <td>894</td>\n",
       "      <td>770121033838493696</td>\n",
       "      <td>475.30800</td>\n",
       "      <td>-146.3060</td>\n",
       "      <td>...</td>\n",
       "      <td>-0.016430</td>\n",
       "      <td>-1.50164</td>\n",
       "      <td>0.593444</td>\n",
       "      <td>-0.336765</td>\n",
       "      <td>0.088171</td>\n",
       "      <td>-1.0</td>\n",
       "      <td>10.0</td>\n",
       "      <td>1092</td>\n",
       "      <td>770121033838493696_1092</td>\n",
       "      <td>1</td>\n",
       "    </tr>\n",
       "    <tr>\n",
       "      <th>8336358</th>\n",
       "      <td>94511</td>\n",
       "      <td>641.11300</td>\n",
       "      <td>-146.4690</td>\n",
       "      <td>85.60000</td>\n",
       "      <td>13</td>\n",
       "      <td>8</td>\n",
       "      <td>1170</td>\n",
       "      <td>770121033838493696</td>\n",
       "      <td>641.12400</td>\n",
       "      <td>-146.4400</td>\n",
       "      <td>...</td>\n",
       "      <td>-0.016430</td>\n",
       "      <td>-1.50164</td>\n",
       "      <td>0.593444</td>\n",
       "      <td>-0.336765</td>\n",
       "      <td>0.088171</td>\n",
       "      <td>-1.0</td>\n",
       "      <td>10.0</td>\n",
       "      <td>1092</td>\n",
       "      <td>770121033838493696_1092</td>\n",
       "      <td>1</td>\n",
       "    </tr>\n",
       "    <tr>\n",
       "      <th>8348324</th>\n",
       "      <td>110605</td>\n",
       "      <td>807.29800</td>\n",
       "      <td>-121.3900</td>\n",
       "      <td>108.40000</td>\n",
       "      <td>17</td>\n",
       "      <td>2</td>\n",
       "      <td>1378</td>\n",
       "      <td>770121033838493696</td>\n",
       "      <td>807.29600</td>\n",
       "      <td>-121.3990</td>\n",
       "      <td>...</td>\n",
       "      <td>-0.016430</td>\n",
       "      <td>-1.50164</td>\n",
       "      <td>0.593444</td>\n",
       "      <td>-0.336765</td>\n",
       "      <td>0.088171</td>\n",
       "      <td>-1.0</td>\n",
       "      <td>10.0</td>\n",
       "      <td>1092</td>\n",
       "      <td>770121033838493696_1092</td>\n",
       "      <td>1</td>\n",
       "    </tr>\n",
       "    <tr>\n",
       "      <th>8350529</th>\n",
       "      <td>115678</td>\n",
       "      <td>1019.63000</td>\n",
       "      <td>-48.7683</td>\n",
       "      <td>140.80000</td>\n",
       "      <td>17</td>\n",
       "      <td>4</td>\n",
       "      <td>1747</td>\n",
       "      <td>770121033838493696</td>\n",
       "      <td>1019.64000</td>\n",
       "      <td>-48.7254</td>\n",
       "      <td>...</td>\n",
       "      <td>-0.016430</td>\n",
       "      <td>-1.50164</td>\n",
       "      <td>0.593444</td>\n",
       "      <td>-0.336765</td>\n",
       "      <td>0.088171</td>\n",
       "      <td>-1.0</td>\n",
       "      <td>10.0</td>\n",
       "      <td>1092</td>\n",
       "      <td>770121033838493696_1092</td>\n",
       "      <td>1</td>\n",
       "    </tr>\n",
       "  </tbody>\n",
       "</table>\n",
       "<p>20 rows × 26 columns</p>\n",
       "</div>"
      ],
      "text/plain": [
       "         hit_id           x          y          z  volume_id  layer_id  \\\n",
       "3024406  115286  -114.81800  1016.4900 -601.80000         17         4   \n",
       "3022102  110446   -46.83520   814.7320 -488.00000         17         2   \n",
       "3009764   94258   -11.59810   663.2530 -395.80000         13         8   \n",
       "3000380   81996    22.25660   360.5160 -221.00000         13         4   \n",
       "2994180   74821    22.80610   260.1610 -163.40000         13         2   \n",
       "2965213   42896    18.92340   171.4970 -112.46300          8         8   \n",
       "2959464   36274    14.50140   116.1380  -80.39390          8         6   \n",
       "2959449   36259    14.31060   114.1240  -79.22250          8         6   \n",
       "2953760   29912     9.81963    72.0167  -54.76770          8         4   \n",
       "2946054   21512     4.68117    31.7212  -31.23750          8         2   \n",
       "8273513   22258    27.59040   -15.1672    2.57188          8         2   \n",
       "8280678   30130    63.39260   -33.5093    7.76627          8         4   \n",
       "8286889   37018   104.10100   -52.4977   13.63020          8         6   \n",
       "8292227   43252   155.13500   -73.7315   20.80390          8         8   \n",
       "8320853   74779   240.00900  -102.7010   31.80000         13         2   \n",
       "8326833   81735   340.35000  -127.7820   46.20000         13         4   \n",
       "8332254   88557   475.30600  -146.3110   64.00000         13         6   \n",
       "8336358   94511   641.11300  -146.4690   85.60000         13         8   \n",
       "8348324  110605   807.29800  -121.3900  108.40000         17         2   \n",
       "8350529  115678  1019.63000   -48.7683  140.80000         17         4   \n",
       "\n",
       "         module_id         particle_id          tx         ty ...         vy  \\\n",
       "3024406        725  351284825384026112  -114.81500  1016.4900 ...  -0.016244   \n",
       "3022102        692  351284825384026112   -46.82710   814.7320 ...  -0.016244   \n",
       "3009764        689  351284825384026112   -11.60260   663.2540 ...  -0.016244   \n",
       "3000380        490  351284825384026112    22.25520   360.5160 ...  -0.016244   \n",
       "2994180        350  351284825384026112    22.79780   260.1630 ...  -0.016244   \n",
       "2965213        448  351284825384026112    18.92260   171.4970 ...  -0.016244   \n",
       "2959464        299  351284825384026112    14.50370   116.1380 ...  -0.016244   \n",
       "2959449        298  351284825384026112    14.31190   114.1240 ...  -0.016244   \n",
       "2953760        216  351284825384026112     9.82066    72.0167 ...  -0.016244   \n",
       "2946054        108  351284825384026112     4.68210    31.7211 ...  -0.016244   \n",
       "8273513        119  770121033838493696    27.59080   -15.1665 ...  -0.016430   \n",
       "8280678        238  770121033838493696    63.39380   -33.5060 ...  -0.016430   \n",
       "8286889        387  770121033838493696   104.10100   -52.4982 ...  -0.016430   \n",
       "8292227        580  770121033838493696   155.13600   -73.7306 ...  -0.016430   \n",
       "8320853        418  770121033838493696   240.00800  -102.7030 ...  -0.016430   \n",
       "8326833        585  770121033838493696   340.35600  -127.7720 ...  -0.016430   \n",
       "8332254        894  770121033838493696   475.30800  -146.3060 ...  -0.016430   \n",
       "8336358       1170  770121033838493696   641.12400  -146.4400 ...  -0.016430   \n",
       "8348324       1378  770121033838493696   807.29600  -121.3990 ...  -0.016430   \n",
       "8350529       1747  770121033838493696  1019.64000   -48.7254 ...  -0.016430   \n",
       "\n",
       "               vz        px        py        pz    q  nhits  event_id  \\\n",
       "3024406 -12.63500  0.181708  1.162610 -0.682243 -1.0   10.0      1031   \n",
       "3022102 -12.63500  0.181708  1.162610 -0.682243 -1.0   10.0      1031   \n",
       "3009764 -12.63500  0.181708  1.162610 -0.682243 -1.0   10.0      1031   \n",
       "3000380 -12.63500  0.181708  1.162610 -0.682243 -1.0   10.0      1031   \n",
       "2994180 -12.63500  0.181708  1.162610 -0.682243 -1.0   10.0      1031   \n",
       "2965213 -12.63500  0.181708  1.162610 -0.682243 -1.0   10.0      1031   \n",
       "2959464 -12.63500  0.181708  1.162610 -0.682243 -1.0   10.0      1031   \n",
       "2959449 -12.63500  0.181708  1.162610 -0.682243 -1.0   10.0      1031   \n",
       "2953760 -12.63500  0.181708  1.162610 -0.682243 -1.0   10.0      1031   \n",
       "2946054 -12.63500  0.181708  1.162610 -0.682243 -1.0   10.0      1031   \n",
       "8273513  -1.50164  0.593444 -0.336765  0.088171 -1.0   10.0      1092   \n",
       "8280678  -1.50164  0.593444 -0.336765  0.088171 -1.0   10.0      1092   \n",
       "8286889  -1.50164  0.593444 -0.336765  0.088171 -1.0   10.0      1092   \n",
       "8292227  -1.50164  0.593444 -0.336765  0.088171 -1.0   10.0      1092   \n",
       "8320853  -1.50164  0.593444 -0.336765  0.088171 -1.0   10.0      1092   \n",
       "8326833  -1.50164  0.593444 -0.336765  0.088171 -1.0   10.0      1092   \n",
       "8332254  -1.50164  0.593444 -0.336765  0.088171 -1.0   10.0      1092   \n",
       "8336358  -1.50164  0.593444 -0.336765  0.088171 -1.0   10.0      1092   \n",
       "8348324  -1.50164  0.593444 -0.336765  0.088171 -1.0   10.0      1092   \n",
       "8350529  -1.50164  0.593444 -0.336765  0.088171 -1.0   10.0      1092   \n",
       "\n",
       "                         new_pid  nid  \n",
       "3024406  351284825384026112_1031    0  \n",
       "3022102  351284825384026112_1031    0  \n",
       "3009764  351284825384026112_1031    0  \n",
       "3000380  351284825384026112_1031    0  \n",
       "2994180  351284825384026112_1031    0  \n",
       "2965213  351284825384026112_1031    0  \n",
       "2959464  351284825384026112_1031    0  \n",
       "2959449  351284825384026112_1031    0  \n",
       "2953760  351284825384026112_1031    0  \n",
       "2946054  351284825384026112_1031    0  \n",
       "8273513  770121033838493696_1092    1  \n",
       "8280678  770121033838493696_1092    1  \n",
       "8286889  770121033838493696_1092    1  \n",
       "8292227  770121033838493696_1092    1  \n",
       "8320853  770121033838493696_1092    1  \n",
       "8326833  770121033838493696_1092    1  \n",
       "8332254  770121033838493696_1092    1  \n",
       "8336358  770121033838493696_1092    1  \n",
       "8348324  770121033838493696_1092    1  \n",
       "8350529  770121033838493696_1092    1  \n",
       "\n",
       "[20 rows x 26 columns]"
      ]
     },
     "execution_count": 30,
     "metadata": {},
     "output_type": "execute_result"
    }
   ],
   "source": [
    "hits.head(20)"
   ]
  },
  {
   "cell_type": "code",
   "execution_count": 31,
   "metadata": {},
   "outputs": [
    {
     "data": {
      "text/html": [
       "<div>\n",
       "<style scoped>\n",
       "    .dataframe tbody tr th:only-of-type {\n",
       "        vertical-align: middle;\n",
       "    }\n",
       "\n",
       "    .dataframe tbody tr th {\n",
       "        vertical-align: top;\n",
       "    }\n",
       "\n",
       "    .dataframe thead th {\n",
       "        text-align: right;\n",
       "    }\n",
       "</style>\n",
       "<table border=\"1\" class=\"dataframe\">\n",
       "  <thead>\n",
       "    <tr style=\"text-align: right;\">\n",
       "      <th></th>\n",
       "      <th>hit_id</th>\n",
       "      <th>x</th>\n",
       "      <th>y</th>\n",
       "      <th>z</th>\n",
       "      <th>volume_id</th>\n",
       "      <th>layer_id</th>\n",
       "      <th>module_id</th>\n",
       "      <th>particle_id</th>\n",
       "      <th>tx</th>\n",
       "      <th>ty</th>\n",
       "      <th>...</th>\n",
       "      <th>vy</th>\n",
       "      <th>vz</th>\n",
       "      <th>px</th>\n",
       "      <th>py</th>\n",
       "      <th>pz</th>\n",
       "      <th>q</th>\n",
       "      <th>nhits</th>\n",
       "      <th>event_id</th>\n",
       "      <th>new_pid</th>\n",
       "      <th>nid</th>\n",
       "    </tr>\n",
       "  </thead>\n",
       "  <tbody>\n",
       "    <tr>\n",
       "      <th>3024406</th>\n",
       "      <td>115286</td>\n",
       "      <td>-114.8180</td>\n",
       "      <td>1016.490</td>\n",
       "      <td>-601.8</td>\n",
       "      <td>17</td>\n",
       "      <td>4</td>\n",
       "      <td>725</td>\n",
       "      <td>351284825384026112</td>\n",
       "      <td>-114.8150</td>\n",
       "      <td>1016.490</td>\n",
       "      <td>...</td>\n",
       "      <td>-0.016244</td>\n",
       "      <td>-12.635</td>\n",
       "      <td>0.181708</td>\n",
       "      <td>1.16261</td>\n",
       "      <td>-0.682243</td>\n",
       "      <td>-1.0</td>\n",
       "      <td>10.0</td>\n",
       "      <td>1031</td>\n",
       "      <td>351284825384026112_1031</td>\n",
       "      <td>0</td>\n",
       "    </tr>\n",
       "    <tr>\n",
       "      <th>3022102</th>\n",
       "      <td>110446</td>\n",
       "      <td>-46.8352</td>\n",
       "      <td>814.732</td>\n",
       "      <td>-488.0</td>\n",
       "      <td>17</td>\n",
       "      <td>2</td>\n",
       "      <td>692</td>\n",
       "      <td>351284825384026112</td>\n",
       "      <td>-46.8271</td>\n",
       "      <td>814.732</td>\n",
       "      <td>...</td>\n",
       "      <td>-0.016244</td>\n",
       "      <td>-12.635</td>\n",
       "      <td>0.181708</td>\n",
       "      <td>1.16261</td>\n",
       "      <td>-0.682243</td>\n",
       "      <td>-1.0</td>\n",
       "      <td>10.0</td>\n",
       "      <td>1031</td>\n",
       "      <td>351284825384026112_1031</td>\n",
       "      <td>0</td>\n",
       "    </tr>\n",
       "    <tr>\n",
       "      <th>3009764</th>\n",
       "      <td>94258</td>\n",
       "      <td>-11.5981</td>\n",
       "      <td>663.253</td>\n",
       "      <td>-395.8</td>\n",
       "      <td>13</td>\n",
       "      <td>8</td>\n",
       "      <td>689</td>\n",
       "      <td>351284825384026112</td>\n",
       "      <td>-11.6026</td>\n",
       "      <td>663.254</td>\n",
       "      <td>...</td>\n",
       "      <td>-0.016244</td>\n",
       "      <td>-12.635</td>\n",
       "      <td>0.181708</td>\n",
       "      <td>1.16261</td>\n",
       "      <td>-0.682243</td>\n",
       "      <td>-1.0</td>\n",
       "      <td>10.0</td>\n",
       "      <td>1031</td>\n",
       "      <td>351284825384026112_1031</td>\n",
       "      <td>0</td>\n",
       "    </tr>\n",
       "    <tr>\n",
       "      <th>3000380</th>\n",
       "      <td>81996</td>\n",
       "      <td>22.2566</td>\n",
       "      <td>360.516</td>\n",
       "      <td>-221.0</td>\n",
       "      <td>13</td>\n",
       "      <td>4</td>\n",
       "      <td>490</td>\n",
       "      <td>351284825384026112</td>\n",
       "      <td>22.2552</td>\n",
       "      <td>360.516</td>\n",
       "      <td>...</td>\n",
       "      <td>-0.016244</td>\n",
       "      <td>-12.635</td>\n",
       "      <td>0.181708</td>\n",
       "      <td>1.16261</td>\n",
       "      <td>-0.682243</td>\n",
       "      <td>-1.0</td>\n",
       "      <td>10.0</td>\n",
       "      <td>1031</td>\n",
       "      <td>351284825384026112_1031</td>\n",
       "      <td>0</td>\n",
       "    </tr>\n",
       "    <tr>\n",
       "      <th>2994180</th>\n",
       "      <td>74821</td>\n",
       "      <td>22.8061</td>\n",
       "      <td>260.161</td>\n",
       "      <td>-163.4</td>\n",
       "      <td>13</td>\n",
       "      <td>2</td>\n",
       "      <td>350</td>\n",
       "      <td>351284825384026112</td>\n",
       "      <td>22.7978</td>\n",
       "      <td>260.163</td>\n",
       "      <td>...</td>\n",
       "      <td>-0.016244</td>\n",
       "      <td>-12.635</td>\n",
       "      <td>0.181708</td>\n",
       "      <td>1.16261</td>\n",
       "      <td>-0.682243</td>\n",
       "      <td>-1.0</td>\n",
       "      <td>10.0</td>\n",
       "      <td>1031</td>\n",
       "      <td>351284825384026112_1031</td>\n",
       "      <td>0</td>\n",
       "    </tr>\n",
       "  </tbody>\n",
       "</table>\n",
       "<p>5 rows × 26 columns</p>\n",
       "</div>"
      ],
      "text/plain": [
       "         hit_id         x         y      z  volume_id  layer_id  module_id  \\\n",
       "3024406  115286 -114.8180  1016.490 -601.8         17         4        725   \n",
       "3022102  110446  -46.8352   814.732 -488.0         17         2        692   \n",
       "3009764   94258  -11.5981   663.253 -395.8         13         8        689   \n",
       "3000380   81996   22.2566   360.516 -221.0         13         4        490   \n",
       "2994180   74821   22.8061   260.161 -163.4         13         2        350   \n",
       "\n",
       "                particle_id        tx        ty ...         vy      vz  \\\n",
       "3024406  351284825384026112 -114.8150  1016.490 ...  -0.016244 -12.635   \n",
       "3022102  351284825384026112  -46.8271   814.732 ...  -0.016244 -12.635   \n",
       "3009764  351284825384026112  -11.6026   663.254 ...  -0.016244 -12.635   \n",
       "3000380  351284825384026112   22.2552   360.516 ...  -0.016244 -12.635   \n",
       "2994180  351284825384026112   22.7978   260.163 ...  -0.016244 -12.635   \n",
       "\n",
       "               px       py        pz    q  nhits  event_id  \\\n",
       "3024406  0.181708  1.16261 -0.682243 -1.0   10.0      1031   \n",
       "3022102  0.181708  1.16261 -0.682243 -1.0   10.0      1031   \n",
       "3009764  0.181708  1.16261 -0.682243 -1.0   10.0      1031   \n",
       "3000380  0.181708  1.16261 -0.682243 -1.0   10.0      1031   \n",
       "2994180  0.181708  1.16261 -0.682243 -1.0   10.0      1031   \n",
       "\n",
       "                         new_pid  nid  \n",
       "3024406  351284825384026112_1031    0  \n",
       "3022102  351284825384026112_1031    0  \n",
       "3009764  351284825384026112_1031    0  \n",
       "3000380  351284825384026112_1031    0  \n",
       "2994180  351284825384026112_1031    0  \n",
       "\n",
       "[5 rows x 26 columns]"
      ]
     },
     "execution_count": 31,
     "metadata": {},
     "output_type": "execute_result"
    }
   ],
   "source": [
    "hits_train.head()"
   ]
  },
  {
   "cell_type": "code",
   "execution_count": 32,
   "metadata": {},
   "outputs": [],
   "source": [
    "X_train = hits_train[['x', 'y','z']].values\n",
    "X_test = hits_test[['x', 'y', 'z']].values\n",
    "\n",
    "y = hits_train['nid'].values"
   ]
  },
  {
   "cell_type": "code",
   "execution_count": 33,
   "metadata": {},
   "outputs": [
    {
     "data": {
      "text/plain": [
       "(1196, 3)"
      ]
     },
     "execution_count": 33,
     "metadata": {},
     "output_type": "execute_result"
    }
   ],
   "source": [
    "X_train.shape"
   ]
  },
  {
   "cell_type": "code",
   "execution_count": 34,
   "metadata": {},
   "outputs": [
    {
     "data": {
      "text/plain": [
       "(23, 3)"
      ]
     },
     "execution_count": 34,
     "metadata": {},
     "output_type": "execute_result"
    }
   ],
   "source": [
    "X_test.shape"
   ]
  },
  {
   "cell_type": "code",
   "execution_count": 35,
   "metadata": {},
   "outputs": [],
   "source": [
    "# fix random seed for reproducibility\n",
    "seed = 7\n",
    "np.random.seed(seed)"
   ]
  },
  {
   "cell_type": "code",
   "execution_count": 36,
   "metadata": {},
   "outputs": [],
   "source": [
    "filepath='../cache/checkpoint-{epoch:02d}.hdf5'\n",
    "checkpoint = ModelCheckpoint(filepath, verbose=0, save_best_only=False)\n",
    "callbacks_list = [checkpoint]"
   ]
  },
  {
   "cell_type": "code",
   "execution_count": 37,
   "metadata": {},
   "outputs": [],
   "source": [
    "model = Sequential()\n",
    "# model.add(BatchNormalization(input_shape=(1,2)))\n",
    "model.add(Bidirectional(LSTM(100, return_sequences=True), input_shape=(1,3)))\n",
    "# model.add(Bidirectional(LSTM(100, return_sequences=True)))\n",
    "# model.add(Bidirectional(LSTM(2, return_sequences=True)))\n",
    "model.add(Bidirectional(LSTM(100)))\n",
    "# model.add(Dropout(0.3))\n",
    "model.add(Dense(32, activation='relu'))\n",
    "\n",
    "# model.add(Dense(100000, activation='relu'))\n",
    "\n",
    "# model.add(Dropout(0.1))\n",
    "model.add(Dense(100, activation='softmax'))\n",
    "model.compile(loss='sparse_categorical_crossentropy', optimizer='adam')"
   ]
  },
  {
   "cell_type": "code",
   "execution_count": 38,
   "metadata": {},
   "outputs": [
    {
     "name": "stdout",
     "output_type": "stream",
     "text": [
      "CPU times: user 45min 33s, sys: 2min 45s, total: 48min 19s\n",
      "Wall time: 33min 18s\n"
     ]
    },
    {
     "data": {
      "text/plain": [
       "<keras.callbacks.History at 0x7f2336824748>"
      ]
     },
     "execution_count": 38,
     "metadata": {},
     "output_type": "execute_result"
    }
   ],
   "source": [
    "%%time\n",
    "model.fit(X_train.reshape(X_train.shape[0], 1, 3), y, batch_size=32, epochs=3000, shuffle=False, verbose=0, \n",
    "          callbacks=callbacks_list)"
   ]
  },
  {
   "cell_type": "code",
   "execution_count": 39,
   "metadata": {},
   "outputs": [],
   "source": [
    "p = model.predict(X_test.reshape(X_test.shape[0],1,3))"
   ]
  },
  {
   "cell_type": "code",
   "execution_count": 40,
   "metadata": {},
   "outputs": [
    {
     "data": {
      "text/plain": [
       "array([[3.5299317e-17, 1.1957970e-31, 1.8576254e-25, ..., 1.9342209e-32,\n",
       "        0.0000000e+00, 5.2022955e-24],\n",
       "       [5.9805972e-17, 3.1903225e-31, 4.9929156e-25, ..., 8.0505976e-32,\n",
       "        0.0000000e+00, 1.2540087e-23],\n",
       "       [1.9447228e-12, 5.1224446e-18, 1.9589429e-13, ..., 1.2990869e-16,\n",
       "        1.0657946e-24, 4.2109126e-16],\n",
       "       ...,\n",
       "       [0.0000000e+00, 0.0000000e+00, 0.0000000e+00, ..., 2.6696397e-33,\n",
       "        0.0000000e+00, 6.3860166e-30],\n",
       "       [0.0000000e+00, 0.0000000e+00, 0.0000000e+00, ..., 2.0382572e-34,\n",
       "        0.0000000e+00, 1.0537752e-31],\n",
       "       [0.0000000e+00, 0.0000000e+00, 0.0000000e+00, ..., 7.1489153e-38,\n",
       "        0.0000000e+00, 1.3837446e-33]], dtype=float32)"
      ]
     },
     "execution_count": 40,
     "metadata": {},
     "output_type": "execute_result"
    }
   ],
   "source": [
    "p\n"
   ]
  },
  {
   "cell_type": "code",
   "execution_count": 41,
   "metadata": {},
   "outputs": [
    {
     "data": {
      "text/html": [
       "<div>\n",
       "<style scoped>\n",
       "    .dataframe tbody tr th:only-of-type {\n",
       "        vertical-align: middle;\n",
       "    }\n",
       "\n",
       "    .dataframe tbody tr th {\n",
       "        vertical-align: top;\n",
       "    }\n",
       "\n",
       "    .dataframe thead th {\n",
       "        text-align: right;\n",
       "    }\n",
       "</style>\n",
       "<table border=\"1\" class=\"dataframe\">\n",
       "  <thead>\n",
       "    <tr style=\"text-align: right;\">\n",
       "      <th></th>\n",
       "      <th>hit_id</th>\n",
       "      <th>x</th>\n",
       "      <th>y</th>\n",
       "      <th>z</th>\n",
       "      <th>volume_id</th>\n",
       "      <th>layer_id</th>\n",
       "      <th>module_id</th>\n",
       "      <th>particle_id</th>\n",
       "      <th>tx</th>\n",
       "      <th>ty</th>\n",
       "      <th>...</th>\n",
       "      <th>vy</th>\n",
       "      <th>vz</th>\n",
       "      <th>px</th>\n",
       "      <th>py</th>\n",
       "      <th>pz</th>\n",
       "      <th>q</th>\n",
       "      <th>nhits</th>\n",
       "      <th>event_id</th>\n",
       "      <th>new_pid</th>\n",
       "      <th>nid</th>\n",
       "    </tr>\n",
       "  </thead>\n",
       "  <tbody>\n",
       "    <tr>\n",
       "      <th>3207179</th>\n",
       "      <td>21897</td>\n",
       "      <td>-1.48676</td>\n",
       "      <td>31.5732</td>\n",
       "      <td>20.0519</td>\n",
       "      <td>8</td>\n",
       "      <td>2</td>\n",
       "      <td>124</td>\n",
       "      <td>333268159131811840</td>\n",
       "      <td>-1.48114</td>\n",
       "      <td>31.5729</td>\n",
       "      <td>...</td>\n",
       "      <td>0.006699</td>\n",
       "      <td>-4.79548</td>\n",
       "      <td>-0.005991</td>\n",
       "      <td>0.325940</td>\n",
       "      <td>0.256508</td>\n",
       "      <td>-1.0</td>\n",
       "      <td>12.0</td>\n",
       "      <td>1034</td>\n",
       "      <td>333268159131811840_1034</td>\n",
       "      <td>26</td>\n",
       "    </tr>\n",
       "    <tr>\n",
       "      <th>3207235</th>\n",
       "      <td>21955</td>\n",
       "      <td>-1.57258</td>\n",
       "      <td>32.7558</td>\n",
       "      <td>20.9826</td>\n",
       "      <td>8</td>\n",
       "      <td>2</td>\n",
       "      <td>125</td>\n",
       "      <td>333268159131811840</td>\n",
       "      <td>-1.57236</td>\n",
       "      <td>32.7559</td>\n",
       "      <td>...</td>\n",
       "      <td>0.006699</td>\n",
       "      <td>-4.79548</td>\n",
       "      <td>-0.005991</td>\n",
       "      <td>0.325940</td>\n",
       "      <td>0.256508</td>\n",
       "      <td>-1.0</td>\n",
       "      <td>12.0</td>\n",
       "      <td>1034</td>\n",
       "      <td>333268159131811840_1034</td>\n",
       "      <td>26</td>\n",
       "    </tr>\n",
       "    <tr>\n",
       "      <th>3213649</th>\n",
       "      <td>28993</td>\n",
       "      <td>-6.14156</td>\n",
       "      <td>71.6209</td>\n",
       "      <td>51.4871</td>\n",
       "      <td>8</td>\n",
       "      <td>4</td>\n",
       "      <td>249</td>\n",
       "      <td>333268159131811840</td>\n",
       "      <td>-6.14217</td>\n",
       "      <td>71.6207</td>\n",
       "      <td>...</td>\n",
       "      <td>0.006699</td>\n",
       "      <td>-4.79548</td>\n",
       "      <td>-0.005991</td>\n",
       "      <td>0.325940</td>\n",
       "      <td>0.256508</td>\n",
       "      <td>-1.0</td>\n",
       "      <td>12.0</td>\n",
       "      <td>1034</td>\n",
       "      <td>333268159131811840_1034</td>\n",
       "      <td>26</td>\n",
       "    </tr>\n",
       "    <tr>\n",
       "      <th>3220047</th>\n",
       "      <td>36128</td>\n",
       "      <td>-14.17280</td>\n",
       "      <td>114.5850</td>\n",
       "      <td>85.8295</td>\n",
       "      <td>8</td>\n",
       "      <td>6</td>\n",
       "      <td>456</td>\n",
       "      <td>333268159131811840</td>\n",
       "      <td>-14.17990</td>\n",
       "      <td>114.5830</td>\n",
       "      <td>...</td>\n",
       "      <td>0.006699</td>\n",
       "      <td>-4.79548</td>\n",
       "      <td>-0.005991</td>\n",
       "      <td>0.325940</td>\n",
       "      <td>0.256508</td>\n",
       "      <td>-1.0</td>\n",
       "      <td>12.0</td>\n",
       "      <td>1034</td>\n",
       "      <td>333268159131811840_1034</td>\n",
       "      <td>26</td>\n",
       "    </tr>\n",
       "    <tr>\n",
       "      <th>3220064</th>\n",
       "      <td>36145</td>\n",
       "      <td>-14.61110</td>\n",
       "      <td>116.4570</td>\n",
       "      <td>87.3451</td>\n",
       "      <td>8</td>\n",
       "      <td>6</td>\n",
       "      <td>457</td>\n",
       "      <td>333268159131811840</td>\n",
       "      <td>-14.60970</td>\n",
       "      <td>116.4570</td>\n",
       "      <td>...</td>\n",
       "      <td>0.006699</td>\n",
       "      <td>-4.79548</td>\n",
       "      <td>-0.005991</td>\n",
       "      <td>0.325940</td>\n",
       "      <td>0.256508</td>\n",
       "      <td>-1.0</td>\n",
       "      <td>12.0</td>\n",
       "      <td>1034</td>\n",
       "      <td>333268159131811840_1034</td>\n",
       "      <td>26</td>\n",
       "    </tr>\n",
       "    <tr>\n",
       "      <th>3225008</th>\n",
       "      <td>42012</td>\n",
       "      <td>-29.69190</td>\n",
       "      <td>169.3790</td>\n",
       "      <td>130.6700</td>\n",
       "      <td>8</td>\n",
       "      <td>8</td>\n",
       "      <td>685</td>\n",
       "      <td>333268159131811840</td>\n",
       "      <td>-29.69590</td>\n",
       "      <td>169.3780</td>\n",
       "      <td>...</td>\n",
       "      <td>0.006699</td>\n",
       "      <td>-4.79548</td>\n",
       "      <td>-0.005991</td>\n",
       "      <td>0.325940</td>\n",
       "      <td>0.256508</td>\n",
       "      <td>-1.0</td>\n",
       "      <td>12.0</td>\n",
       "      <td>1034</td>\n",
       "      <td>333268159131811840_1034</td>\n",
       "      <td>26</td>\n",
       "    </tr>\n",
       "    <tr>\n",
       "      <th>3251553</th>\n",
       "      <td>71392</td>\n",
       "      <td>-66.15700</td>\n",
       "      <td>253.8360</td>\n",
       "      <td>204.2000</td>\n",
       "      <td>13</td>\n",
       "      <td>2</td>\n",
       "      <td>512</td>\n",
       "      <td>333268159131811840</td>\n",
       "      <td>-66.18920</td>\n",
       "      <td>253.8330</td>\n",
       "      <td>...</td>\n",
       "      <td>0.006699</td>\n",
       "      <td>-4.79548</td>\n",
       "      <td>-0.005991</td>\n",
       "      <td>0.325940</td>\n",
       "      <td>0.256508</td>\n",
       "      <td>-1.0</td>\n",
       "      <td>12.0</td>\n",
       "      <td>1034</td>\n",
       "      <td>333268159131811840_1034</td>\n",
       "      <td>26</td>\n",
       "    </tr>\n",
       "    <tr>\n",
       "      <th>3257350</th>\n",
       "      <td>78277</td>\n",
       "      <td>-120.11700</td>\n",
       "      <td>335.4380</td>\n",
       "      <td>284.4000</td>\n",
       "      <td>13</td>\n",
       "      <td>4</td>\n",
       "      <td>774</td>\n",
       "      <td>333268159131811840</td>\n",
       "      <td>-120.09400</td>\n",
       "      <td>335.4440</td>\n",
       "      <td>...</td>\n",
       "      <td>0.006699</td>\n",
       "      <td>-4.79548</td>\n",
       "      <td>-0.005991</td>\n",
       "      <td>0.325940</td>\n",
       "      <td>0.256508</td>\n",
       "      <td>-1.0</td>\n",
       "      <td>12.0</td>\n",
       "      <td>1034</td>\n",
       "      <td>333268159131811840_1034</td>\n",
       "      <td>26</td>\n",
       "    </tr>\n",
       "    <tr>\n",
       "      <th>3262284</th>\n",
       "      <td>84728</td>\n",
       "      <td>-235.94100</td>\n",
       "      <td>443.0580</td>\n",
       "      <td>411.4000</td>\n",
       "      <td>13</td>\n",
       "      <td>6</td>\n",
       "      <td>1157</td>\n",
       "      <td>333268159131811840</td>\n",
       "      <td>-235.91600</td>\n",
       "      <td>443.0670</td>\n",
       "      <td>...</td>\n",
       "      <td>0.006699</td>\n",
       "      <td>-4.79548</td>\n",
       "      <td>-0.005991</td>\n",
       "      <td>0.325940</td>\n",
       "      <td>0.256508</td>\n",
       "      <td>-1.0</td>\n",
       "      <td>12.0</td>\n",
       "      <td>1034</td>\n",
       "      <td>333268159131811840_1034</td>\n",
       "      <td>26</td>\n",
       "    </tr>\n",
       "    <tr>\n",
       "      <th>3266238</th>\n",
       "      <td>90666</td>\n",
       "      <td>-401.39300</td>\n",
       "      <td>519.6880</td>\n",
       "      <td>560.6860</td>\n",
       "      <td>13</td>\n",
       "      <td>8</td>\n",
       "      <td>1618</td>\n",
       "      <td>333268159131811840</td>\n",
       "      <td>-401.39000</td>\n",
       "      <td>519.6900</td>\n",
       "      <td>...</td>\n",
       "      <td>0.006699</td>\n",
       "      <td>-4.79548</td>\n",
       "      <td>-0.005991</td>\n",
       "      <td>0.325940</td>\n",
       "      <td>0.256508</td>\n",
       "      <td>-1.0</td>\n",
       "      <td>12.0</td>\n",
       "      <td>1034</td>\n",
       "      <td>333268159131811840_1034</td>\n",
       "      <td>26</td>\n",
       "    </tr>\n",
       "    <tr>\n",
       "      <th>3266396</th>\n",
       "      <td>90932</td>\n",
       "      <td>-405.45600</td>\n",
       "      <td>520.7540</td>\n",
       "      <td>564.6000</td>\n",
       "      <td>13</td>\n",
       "      <td>8</td>\n",
       "      <td>1720</td>\n",
       "      <td>333268159131811840</td>\n",
       "      <td>-405.40400</td>\n",
       "      <td>520.7840</td>\n",
       "      <td>...</td>\n",
       "      <td>0.006699</td>\n",
       "      <td>-4.79548</td>\n",
       "      <td>-0.005991</td>\n",
       "      <td>0.325940</td>\n",
       "      <td>0.256508</td>\n",
       "      <td>-1.0</td>\n",
       "      <td>12.0</td>\n",
       "      <td>1034</td>\n",
       "      <td>333268159131811840_1034</td>\n",
       "      <td>26</td>\n",
       "    </tr>\n",
       "    <tr>\n",
       "      <th>3277211</th>\n",
       "      <td>106159</td>\n",
       "      <td>-620.46600</td>\n",
       "      <td>533.2420</td>\n",
       "      <td>748.0000</td>\n",
       "      <td>17</td>\n",
       "      <td>2</td>\n",
       "      <td>2147</td>\n",
       "      <td>333268159131811840</td>\n",
       "      <td>-620.44400</td>\n",
       "      <td>533.2610</td>\n",
       "      <td>...</td>\n",
       "      <td>0.006699</td>\n",
       "      <td>-4.79548</td>\n",
       "      <td>-0.005991</td>\n",
       "      <td>0.325940</td>\n",
       "      <td>0.256508</td>\n",
       "      <td>-1.0</td>\n",
       "      <td>12.0</td>\n",
       "      <td>1034</td>\n",
       "      <td>333268159131811840_1034</td>\n",
       "      <td>26</td>\n",
       "    </tr>\n",
       "    <tr>\n",
       "      <th>3277989</th>\n",
       "      <td>108192</td>\n",
       "      <td>44.02440</td>\n",
       "      <td>-1017.8400</td>\n",
       "      <td>-449.8000</td>\n",
       "      <td>17</td>\n",
       "      <td>4</td>\n",
       "      <td>952</td>\n",
       "      <td>698061515655217152</td>\n",
       "      <td>43.97030</td>\n",
       "      <td>-1017.8300</td>\n",
       "      <td>...</td>\n",
       "      <td>-0.008866</td>\n",
       "      <td>-1.55077</td>\n",
       "      <td>-0.291943</td>\n",
       "      <td>-0.443627</td>\n",
       "      <td>-0.219217</td>\n",
       "      <td>-1.0</td>\n",
       "      <td>11.0</td>\n",
       "      <td>1034</td>\n",
       "      <td>698061515655217152_1034</td>\n",
       "      <td>55</td>\n",
       "    </tr>\n",
       "    <tr>\n",
       "      <th>3275783</th>\n",
       "      <td>103411</td>\n",
       "      <td>-76.46000</td>\n",
       "      <td>-813.1290</td>\n",
       "      <td>-346.8000</td>\n",
       "      <td>17</td>\n",
       "      <td>2</td>\n",
       "      <td>869</td>\n",
       "      <td>698061515655217152</td>\n",
       "      <td>-76.45200</td>\n",
       "      <td>-813.1310</td>\n",
       "      <td>...</td>\n",
       "      <td>-0.008866</td>\n",
       "      <td>-1.55077</td>\n",
       "      <td>-0.291943</td>\n",
       "      <td>-0.443627</td>\n",
       "      <td>-0.219217</td>\n",
       "      <td>-1.0</td>\n",
       "      <td>11.0</td>\n",
       "      <td>1034</td>\n",
       "      <td>698061515655217152_1034</td>\n",
       "      <td>55</td>\n",
       "    </tr>\n",
       "    <tr>\n",
       "      <th>3264471</th>\n",
       "      <td>88015</td>\n",
       "      <td>-127.36700</td>\n",
       "      <td>-645.0720</td>\n",
       "      <td>-277.6800</td>\n",
       "      <td>13</td>\n",
       "      <td>8</td>\n",
       "      <td>737</td>\n",
       "      <td>698061515655217152</td>\n",
       "      <td>-127.35700</td>\n",
       "      <td>-645.0760</td>\n",
       "      <td>...</td>\n",
       "      <td>-0.008866</td>\n",
       "      <td>-1.55077</td>\n",
       "      <td>-0.291943</td>\n",
       "      <td>-0.443627</td>\n",
       "      <td>-0.219217</td>\n",
       "      <td>-1.0</td>\n",
       "      <td>11.0</td>\n",
       "      <td>1034</td>\n",
       "      <td>698061515655217152_1034</td>\n",
       "      <td>55</td>\n",
       "    </tr>\n",
       "    <tr>\n",
       "      <th>3260369</th>\n",
       "      <td>82301</td>\n",
       "      <td>-142.77000</td>\n",
       "      <td>-483.8830</td>\n",
       "      <td>-212.6000</td>\n",
       "      <td>13</td>\n",
       "      <td>6</td>\n",
       "      <td>640</td>\n",
       "      <td>698061515655217152</td>\n",
       "      <td>-142.76100</td>\n",
       "      <td>-483.8870</td>\n",
       "      <td>...</td>\n",
       "      <td>-0.008866</td>\n",
       "      <td>-1.55077</td>\n",
       "      <td>-0.291943</td>\n",
       "      <td>-0.443627</td>\n",
       "      <td>-0.219217</td>\n",
       "      <td>-1.0</td>\n",
       "      <td>11.0</td>\n",
       "      <td>1034</td>\n",
       "      <td>698061515655217152_1034</td>\n",
       "      <td>55</td>\n",
       "    </tr>\n",
       "    <tr>\n",
       "      <th>3255197</th>\n",
       "      <td>75802</td>\n",
       "      <td>-131.41300</td>\n",
       "      <td>-338.1600</td>\n",
       "      <td>-152.6000</td>\n",
       "      <td>13</td>\n",
       "      <td>4</td>\n",
       "      <td>459</td>\n",
       "      <td>698061515655217152</td>\n",
       "      <td>-131.43700</td>\n",
       "      <td>-338.1460</td>\n",
       "      <td>...</td>\n",
       "      <td>-0.008866</td>\n",
       "      <td>-1.55077</td>\n",
       "      <td>-0.291943</td>\n",
       "      <td>-0.443627</td>\n",
       "      <td>-0.219217</td>\n",
       "      <td>-1.0</td>\n",
       "      <td>11.0</td>\n",
       "      <td>1034</td>\n",
       "      <td>698061515655217152_1034</td>\n",
       "      <td>55</td>\n",
       "    </tr>\n",
       "    <tr>\n",
       "      <th>3255561</th>\n",
       "      <td>76235</td>\n",
       "      <td>-130.91500</td>\n",
       "      <td>-334.9960</td>\n",
       "      <td>-151.6000</td>\n",
       "      <td>13</td>\n",
       "      <td>4</td>\n",
       "      <td>515</td>\n",
       "      <td>698061515655217152</td>\n",
       "      <td>-130.91700</td>\n",
       "      <td>-334.9950</td>\n",
       "      <td>...</td>\n",
       "      <td>-0.008866</td>\n",
       "      <td>-1.55077</td>\n",
       "      <td>-0.291943</td>\n",
       "      <td>-0.443627</td>\n",
       "      <td>-0.219217</td>\n",
       "      <td>-1.0</td>\n",
       "      <td>11.0</td>\n",
       "      <td>1034</td>\n",
       "      <td>698061515655217152_1034</td>\n",
       "      <td>55</td>\n",
       "    </tr>\n",
       "    <tr>\n",
       "      <th>3249736</th>\n",
       "      <td>69429</td>\n",
       "      <td>-107.58100</td>\n",
       "      <td>-233.6010</td>\n",
       "      <td>-108.4000</td>\n",
       "      <td>13</td>\n",
       "      <td>2</td>\n",
       "      <td>368</td>\n",
       "      <td>698061515655217152</td>\n",
       "      <td>-107.59900</td>\n",
       "      <td>-233.5900</td>\n",
       "      <td>...</td>\n",
       "      <td>-0.008866</td>\n",
       "      <td>-1.55077</td>\n",
       "      <td>-0.291943</td>\n",
       "      <td>-0.443627</td>\n",
       "      <td>-0.219217</td>\n",
       "      <td>-1.0</td>\n",
       "      <td>11.0</td>\n",
       "      <td>1034</td>\n",
       "      <td>698061515655217152_1034</td>\n",
       "      <td>55</td>\n",
       "    </tr>\n",
       "    <tr>\n",
       "      <th>3223238</th>\n",
       "      <td>39940</td>\n",
       "      <td>-79.40960</td>\n",
       "      <td>-152.2220</td>\n",
       "      <td>-72.9828</td>\n",
       "      <td>8</td>\n",
       "      <td>8</td>\n",
       "      <td>404</td>\n",
       "      <td>698061515655217152</td>\n",
       "      <td>-79.40940</td>\n",
       "      <td>-152.2230</td>\n",
       "      <td>...</td>\n",
       "      <td>-0.008866</td>\n",
       "      <td>-1.55077</td>\n",
       "      <td>-0.291943</td>\n",
       "      <td>-0.443627</td>\n",
       "      <td>-0.219217</td>\n",
       "      <td>-1.0</td>\n",
       "      <td>11.0</td>\n",
       "      <td>1034</td>\n",
       "      <td>698061515655217152_1034</td>\n",
       "      <td>55</td>\n",
       "    </tr>\n",
       "    <tr>\n",
       "      <th>3218276</th>\n",
       "      <td>34191</td>\n",
       "      <td>-56.91940</td>\n",
       "      <td>-100.8610</td>\n",
       "      <td>-49.6498</td>\n",
       "      <td>8</td>\n",
       "      <td>6</td>\n",
       "      <td>321</td>\n",
       "      <td>698061515655217152</td>\n",
       "      <td>-56.91980</td>\n",
       "      <td>-100.8610</td>\n",
       "      <td>...</td>\n",
       "      <td>-0.008866</td>\n",
       "      <td>-1.55077</td>\n",
       "      <td>-0.291943</td>\n",
       "      <td>-0.443627</td>\n",
       "      <td>-0.219217</td>\n",
       "      <td>-1.0</td>\n",
       "      <td>11.0</td>\n",
       "      <td>1034</td>\n",
       "      <td>698061515655217152_1034</td>\n",
       "      <td>55</td>\n",
       "    </tr>\n",
       "    <tr>\n",
       "      <th>3211965</th>\n",
       "      <td>27222</td>\n",
       "      <td>-37.38060</td>\n",
       "      <td>-62.5028</td>\n",
       "      <td>-31.7799</td>\n",
       "      <td>8</td>\n",
       "      <td>4</td>\n",
       "      <td>198</td>\n",
       "      <td>698061515655217152</td>\n",
       "      <td>-37.38410</td>\n",
       "      <td>-62.5016</td>\n",
       "      <td>...</td>\n",
       "      <td>-0.008866</td>\n",
       "      <td>-1.55077</td>\n",
       "      <td>-0.291943</td>\n",
       "      <td>-0.443627</td>\n",
       "      <td>-0.219217</td>\n",
       "      <td>-1.0</td>\n",
       "      <td>11.0</td>\n",
       "      <td>1034</td>\n",
       "      <td>698061515655217152_1034</td>\n",
       "      <td>55</td>\n",
       "    </tr>\n",
       "    <tr>\n",
       "      <th>3204039</th>\n",
       "      <td>18625</td>\n",
       "      <td>-17.18930</td>\n",
       "      <td>-27.1656</td>\n",
       "      <td>-14.8256</td>\n",
       "      <td>8</td>\n",
       "      <td>2</td>\n",
       "      <td>99</td>\n",
       "      <td>698061515655217152</td>\n",
       "      <td>-17.19310</td>\n",
       "      <td>-27.1638</td>\n",
       "      <td>...</td>\n",
       "      <td>-0.008866</td>\n",
       "      <td>-1.55077</td>\n",
       "      <td>-0.291943</td>\n",
       "      <td>-0.443627</td>\n",
       "      <td>-0.219217</td>\n",
       "      <td>-1.0</td>\n",
       "      <td>11.0</td>\n",
       "      <td>1034</td>\n",
       "      <td>698061515655217152_1034</td>\n",
       "      <td>55</td>\n",
       "    </tr>\n",
       "  </tbody>\n",
       "</table>\n",
       "<p>23 rows × 26 columns</p>\n",
       "</div>"
      ],
      "text/plain": [
       "         hit_id          x          y         z  volume_id  layer_id  \\\n",
       "3207179   21897   -1.48676    31.5732   20.0519          8         2   \n",
       "3207235   21955   -1.57258    32.7558   20.9826          8         2   \n",
       "3213649   28993   -6.14156    71.6209   51.4871          8         4   \n",
       "3220047   36128  -14.17280   114.5850   85.8295          8         6   \n",
       "3220064   36145  -14.61110   116.4570   87.3451          8         6   \n",
       "3225008   42012  -29.69190   169.3790  130.6700          8         8   \n",
       "3251553   71392  -66.15700   253.8360  204.2000         13         2   \n",
       "3257350   78277 -120.11700   335.4380  284.4000         13         4   \n",
       "3262284   84728 -235.94100   443.0580  411.4000         13         6   \n",
       "3266238   90666 -401.39300   519.6880  560.6860         13         8   \n",
       "3266396   90932 -405.45600   520.7540  564.6000         13         8   \n",
       "3277211  106159 -620.46600   533.2420  748.0000         17         2   \n",
       "3277989  108192   44.02440 -1017.8400 -449.8000         17         4   \n",
       "3275783  103411  -76.46000  -813.1290 -346.8000         17         2   \n",
       "3264471   88015 -127.36700  -645.0720 -277.6800         13         8   \n",
       "3260369   82301 -142.77000  -483.8830 -212.6000         13         6   \n",
       "3255197   75802 -131.41300  -338.1600 -152.6000         13         4   \n",
       "3255561   76235 -130.91500  -334.9960 -151.6000         13         4   \n",
       "3249736   69429 -107.58100  -233.6010 -108.4000         13         2   \n",
       "3223238   39940  -79.40960  -152.2220  -72.9828          8         8   \n",
       "3218276   34191  -56.91940  -100.8610  -49.6498          8         6   \n",
       "3211965   27222  -37.38060   -62.5028  -31.7799          8         4   \n",
       "3204039   18625  -17.18930   -27.1656  -14.8256          8         2   \n",
       "\n",
       "         module_id         particle_id         tx         ty ...         vy  \\\n",
       "3207179        124  333268159131811840   -1.48114    31.5729 ...   0.006699   \n",
       "3207235        125  333268159131811840   -1.57236    32.7559 ...   0.006699   \n",
       "3213649        249  333268159131811840   -6.14217    71.6207 ...   0.006699   \n",
       "3220047        456  333268159131811840  -14.17990   114.5830 ...   0.006699   \n",
       "3220064        457  333268159131811840  -14.60970   116.4570 ...   0.006699   \n",
       "3225008        685  333268159131811840  -29.69590   169.3780 ...   0.006699   \n",
       "3251553        512  333268159131811840  -66.18920   253.8330 ...   0.006699   \n",
       "3257350        774  333268159131811840 -120.09400   335.4440 ...   0.006699   \n",
       "3262284       1157  333268159131811840 -235.91600   443.0670 ...   0.006699   \n",
       "3266238       1618  333268159131811840 -401.39000   519.6900 ...   0.006699   \n",
       "3266396       1720  333268159131811840 -405.40400   520.7840 ...   0.006699   \n",
       "3277211       2147  333268159131811840 -620.44400   533.2610 ...   0.006699   \n",
       "3277989        952  698061515655217152   43.97030 -1017.8300 ...  -0.008866   \n",
       "3275783        869  698061515655217152  -76.45200  -813.1310 ...  -0.008866   \n",
       "3264471        737  698061515655217152 -127.35700  -645.0760 ...  -0.008866   \n",
       "3260369        640  698061515655217152 -142.76100  -483.8870 ...  -0.008866   \n",
       "3255197        459  698061515655217152 -131.43700  -338.1460 ...  -0.008866   \n",
       "3255561        515  698061515655217152 -130.91700  -334.9950 ...  -0.008866   \n",
       "3249736        368  698061515655217152 -107.59900  -233.5900 ...  -0.008866   \n",
       "3223238        404  698061515655217152  -79.40940  -152.2230 ...  -0.008866   \n",
       "3218276        321  698061515655217152  -56.91980  -100.8610 ...  -0.008866   \n",
       "3211965        198  698061515655217152  -37.38410   -62.5016 ...  -0.008866   \n",
       "3204039         99  698061515655217152  -17.19310   -27.1638 ...  -0.008866   \n",
       "\n",
       "              vz        px        py        pz    q  nhits  event_id  \\\n",
       "3207179 -4.79548 -0.005991  0.325940  0.256508 -1.0   12.0      1034   \n",
       "3207235 -4.79548 -0.005991  0.325940  0.256508 -1.0   12.0      1034   \n",
       "3213649 -4.79548 -0.005991  0.325940  0.256508 -1.0   12.0      1034   \n",
       "3220047 -4.79548 -0.005991  0.325940  0.256508 -1.0   12.0      1034   \n",
       "3220064 -4.79548 -0.005991  0.325940  0.256508 -1.0   12.0      1034   \n",
       "3225008 -4.79548 -0.005991  0.325940  0.256508 -1.0   12.0      1034   \n",
       "3251553 -4.79548 -0.005991  0.325940  0.256508 -1.0   12.0      1034   \n",
       "3257350 -4.79548 -0.005991  0.325940  0.256508 -1.0   12.0      1034   \n",
       "3262284 -4.79548 -0.005991  0.325940  0.256508 -1.0   12.0      1034   \n",
       "3266238 -4.79548 -0.005991  0.325940  0.256508 -1.0   12.0      1034   \n",
       "3266396 -4.79548 -0.005991  0.325940  0.256508 -1.0   12.0      1034   \n",
       "3277211 -4.79548 -0.005991  0.325940  0.256508 -1.0   12.0      1034   \n",
       "3277989 -1.55077 -0.291943 -0.443627 -0.219217 -1.0   11.0      1034   \n",
       "3275783 -1.55077 -0.291943 -0.443627 -0.219217 -1.0   11.0      1034   \n",
       "3264471 -1.55077 -0.291943 -0.443627 -0.219217 -1.0   11.0      1034   \n",
       "3260369 -1.55077 -0.291943 -0.443627 -0.219217 -1.0   11.0      1034   \n",
       "3255197 -1.55077 -0.291943 -0.443627 -0.219217 -1.0   11.0      1034   \n",
       "3255561 -1.55077 -0.291943 -0.443627 -0.219217 -1.0   11.0      1034   \n",
       "3249736 -1.55077 -0.291943 -0.443627 -0.219217 -1.0   11.0      1034   \n",
       "3223238 -1.55077 -0.291943 -0.443627 -0.219217 -1.0   11.0      1034   \n",
       "3218276 -1.55077 -0.291943 -0.443627 -0.219217 -1.0   11.0      1034   \n",
       "3211965 -1.55077 -0.291943 -0.443627 -0.219217 -1.0   11.0      1034   \n",
       "3204039 -1.55077 -0.291943 -0.443627 -0.219217 -1.0   11.0      1034   \n",
       "\n",
       "                         new_pid  nid  \n",
       "3207179  333268159131811840_1034   26  \n",
       "3207235  333268159131811840_1034   26  \n",
       "3213649  333268159131811840_1034   26  \n",
       "3220047  333268159131811840_1034   26  \n",
       "3220064  333268159131811840_1034   26  \n",
       "3225008  333268159131811840_1034   26  \n",
       "3251553  333268159131811840_1034   26  \n",
       "3257350  333268159131811840_1034   26  \n",
       "3262284  333268159131811840_1034   26  \n",
       "3266238  333268159131811840_1034   26  \n",
       "3266396  333268159131811840_1034   26  \n",
       "3277211  333268159131811840_1034   26  \n",
       "3277989  698061515655217152_1034   55  \n",
       "3275783  698061515655217152_1034   55  \n",
       "3264471  698061515655217152_1034   55  \n",
       "3260369  698061515655217152_1034   55  \n",
       "3255197  698061515655217152_1034   55  \n",
       "3255561  698061515655217152_1034   55  \n",
       "3249736  698061515655217152_1034   55  \n",
       "3223238  698061515655217152_1034   55  \n",
       "3218276  698061515655217152_1034   55  \n",
       "3211965  698061515655217152_1034   55  \n",
       "3204039  698061515655217152_1034   55  \n",
       "\n",
       "[23 rows x 26 columns]"
      ]
     },
     "execution_count": 41,
     "metadata": {},
     "output_type": "execute_result"
    }
   ],
   "source": [
    "hits_test"
   ]
  },
  {
   "cell_type": "code",
   "execution_count": 45,
   "metadata": {},
   "outputs": [],
   "source": [
    "l = [np.argmax(p[i]) for i in range(len(p))]"
   ]
  },
  {
   "cell_type": "code",
   "execution_count": 46,
   "metadata": {},
   "outputs": [
    {
     "data": {
      "text/plain": [
       "[24,\n",
       " 24,\n",
       " 24,\n",
       " 24,\n",
       " 24,\n",
       " 79,\n",
       " 24,\n",
       " 79,\n",
       " 79,\n",
       " 79,\n",
       " 79,\n",
       " 74,\n",
       " 90,\n",
       " 90,\n",
       " 90,\n",
       " 3,\n",
       " 3,\n",
       " 3,\n",
       " 3,\n",
       " 3,\n",
       " 3,\n",
       " 3,\n",
       " 3]"
      ]
     },
     "execution_count": 46,
     "metadata": {},
     "output_type": "execute_result"
    }
   ],
   "source": [
    "l"
   ]
  },
  {
   "cell_type": "code",
   "execution_count": 47,
   "metadata": {},
   "outputs": [],
   "source": [
    "hits_test['l'] = l"
   ]
  },
  {
   "cell_type": "code",
   "execution_count": 51,
   "metadata": {},
   "outputs": [],
   "source": [
    "sub=create_one_event_submission(0, hits_test, l)"
   ]
  },
  {
   "cell_type": "code",
   "execution_count": 52,
   "metadata": {},
   "outputs": [],
   "source": [
    "score = score_event(hits_test, sub)"
   ]
  },
  {
   "cell_type": "code",
   "execution_count": 53,
   "metadata": {},
   "outputs": [
    {
     "data": {
      "text/plain": [
       "0.38280137363915484"
      ]
     },
     "execution_count": 53,
     "metadata": {},
     "output_type": "execute_result"
    }
   ],
   "source": [
    "score"
   ]
  },
  {
   "cell_type": "code",
   "execution_count": 48,
   "metadata": {},
   "outputs": [
    {
     "data": {
      "text/plain": [
       "<matplotlib.collections.PathCollection at 0x7f2354c1d1d0>"
      ]
     },
     "execution_count": 48,
     "metadata": {},
     "output_type": "execute_result"
    },
    {
     "data": {
      "image/png": "[encoded data removed]",
      "text/plain": [
       "<matplotlib.figure.Figure at 0x7f2354ef3978>"
      ]
     },
     "metadata": {},
     "output_type": "display_data"
    }
   ],
   "source": [
    "figure = plt.figure(figsize=(5,5))\n",
    "plt.scatter(hits_test.x, hits_test.y, marker='.', c=hits_test.l)"
   ]
  },
  {
   "cell_type": "code",
   "execution_count": null,
   "metadata": {},
   "outputs": [],
   "source": []
  },
  {
   "cell_type": "code",
   "execution_count": 21,
   "metadata": {},
   "outputs": [],
   "source": [
    "t = np.array([0,1,2,3,4,5])\n",
    "# Embedding(6, t)"
   ]
  },
  {
   "cell_type": "code",
   "execution_count": 22,
   "metadata": {},
   "outputs": [
    {
     "data": {
      "text/plain": [
       "(6,)"
      ]
     },
     "execution_count": 22,
     "metadata": {},
     "output_type": "execute_result"
    }
   ],
   "source": [
    "t.shape"
   ]
  },
  {
   "cell_type": "code",
   "execution_count": 23,
   "metadata": {},
   "outputs": [],
   "source": [
    "model = Sequential()\n",
    "model.add(Embedding(6, 1, input_length=1))\n",
    "model.compile(optimizer='adam', loss='categorical_crossentropy')\n",
    "output_array = model.predict(t)"
   ]
  },
  {
   "cell_type": "code",
   "execution_count": 24,
   "metadata": {},
   "outputs": [
    {
     "data": {
      "text/plain": [
       "array([[[-0.01161207]],\n",
       "\n",
       "       [[-0.03734656]],\n",
       "\n",
       "       [[-0.00973426]],\n",
       "\n",
       "       [[-0.04064435]],\n",
       "\n",
       "       [[ 0.00465965]],\n",
       "\n",
       "       [[ 0.04648033]]], dtype=float32)"
      ]
     },
     "execution_count": 24,
     "metadata": {},
     "output_type": "execute_result"
    }
   ],
   "source": [
    "output_array"
   ]
  },
  {
   "cell_type": "code",
   "execution_count": 20,
   "metadata": {},
   "outputs": [
    {
     "data": {
      "text/plain": [
       "0.047543276"
      ]
     },
     "execution_count": 20,
     "metadata": {},
     "output_type": "execute_result"
    }
   ],
   "source": [
    "output_array[0][0][0]"
   ]
  },
  {
   "cell_type": "code",
   "execution_count": 27,
   "metadata": {},
   "outputs": [
    {
     "data": {
      "text/plain": [
       "-0.037346564"
      ]
     },
     "execution_count": 27,
     "metadata": {},
     "output_type": "execute_result"
    }
   ],
   "source": [
    "output_array[1][0][0]"
   ]
  },
  {
   "cell_type": "code",
   "execution_count": 69,
   "metadata": {},
   "outputs": [],
   "source": [
    "model = Sequential()\n",
    "# model.add(BatchNormalization(input_shape=(1,2)))\n",
    "model.add(Bidirectional(LSTM(100, return_sequences=True), input_shape=(1,3)))\n",
    "# model.add(Bidirectional(LSTM(100, return_sequences=True)))\n",
    "# model.add(Bidirectional(LSTM(100, return_sequences=True)))\n",
    "model.add(Bidirectional(LSTM(100)))\n",
    "# model.add(Dropout(0.3))\n",
    "model.add(Dense(32, activation='relu'))\n",
    "\n",
    "# model.add(Dense(100000, activation='relu'))\n",
    "\n",
    "# model.add(Dropout(0.1))\n",
    "model.add(Dense(100, activation='softmax'))\n",
    "model.compile(loss='sparse_categorical_crossentropy', optimizer='adam')"
   ]
  },
  {
   "cell_type": "code",
   "execution_count": null,
   "metadata": {},
   "outputs": [],
   "source": [
    "%%time\n",
    "model.fit(X_train.reshape(X_train.shape[0], 1, 3), y, batch_size=32, epochs=3000, shuffle=False, verbose=0, \n",
    "          callbacks=callbacks_list)"
   ]
  },
  {
   "cell_type": "code",
   "execution_count": null,
   "metadata": {},
   "outputs": [],
   "source": [
    "p = model.predict(X_test.reshape(X_test.shape[0],1,3))"
   ]
  },
  {
   "cell_type": "code",
   "execution_count": null,
   "metadata": {},
   "outputs": [],
   "source": [
    "l = [np.argmax(p[i]) for i in range(len(p))]\n",
    "# hits_test['l'] = l\n",
    "sub=create_one_event_submission(0, hits_test, l)\n",
    "score = score_event(hits_test, sub)\n",
    "print(score)"
   ]
  },
  {
   "cell_type": "code",
   "execution_count": null,
   "metadata": {},
   "outputs": [],
   "source": [
    "# model.save('../cache/model-3-bilstm-100-particles.hdf5')\n",
    "model.save('../cache/model-2-bilstm-100-particles.hdf5')"
   ]
  },
  {
   "cell_type": "code",
   "execution_count": null,
   "metadata": {},
   "outputs": [],
   "source": [
    "hits_test = hits_test.sample(frac=1).reset_index(drop=True)\n",
    "hits_test = hits_test.sample(frac=1).reset_index(drop=True)\n",
    "hits_test = hits_test.sample(frac=1).reset_index(drop=True)"
   ]
  },
  {
   "cell_type": "code",
   "execution_count": null,
   "metadata": {},
   "outputs": [],
   "source": [
    "hits_test.head()"
   ]
  },
  {
   "cell_type": "code",
   "execution_count": null,
   "metadata": {},
   "outputs": [],
   "source": [
    "X_test = hits_test[['x', 'y', 'z']].values"
   ]
  },
  {
   "cell_type": "code",
   "execution_count": null,
   "metadata": {},
   "outputs": [],
   "source": [
    "p = model.predict(X_test.reshape(X_test.shape[0],1,3))\n",
    "l = [np.argmax(p[i]) for i in range(len(p))]\n",
    "hits_test['l'] = l\n",
    "sub=create_one_event_submission(0, hits_test, l)\n",
    "score = score_event(hits_test, sub)\n",
    "print(score)"
   ]
  },
  {
   "cell_type": "code",
   "execution_count": 4,
   "metadata": {},
   "outputs": [],
   "source": [
    "df_train = pd.read_csv('../cache/hits_6488_nid_z_sorted_ge9_train_100.csv')\n",
    "df_valid = pd.read_csv('../cache/hits_6488_nid_z_sorted_ge9_valid_25.csv')\n",
    "df_test = pd.read_csv('../cache/hits_6488_nid_z_sorted_ge9_test_10.csv')"
   ]
  },
  {
   "cell_type": "code",
   "execution_count": 7,
   "metadata": {},
   "outputs": [
    {
     "name": "stderr",
     "output_type": "stream",
     "text": [
      "100%|██████████| 5634/5634 [00:04<00:00, 1215.02it/s]\n",
      "100%|██████████| 5634/5634 [00:00<00:00, 73621.42it/s]\n",
      "100%|██████████| 6544/6544 [00:03<00:00, 1651.16it/s]\n",
      "100%|██████████| 6544/6544 [00:00<00:00, 113003.00it/s]\n",
      "100%|██████████| 6650/6650 [00:05<00:00, 1157.72it/s]\n",
      "100%|██████████| 6650/6650 [00:00<00:00, 108375.74it/s]\n",
      "100%|██████████| 6658/6658 [00:05<00:00, 1113.04it/s]\n",
      "100%|██████████| 6658/6658 [00:00<00:00, 119324.18it/s]\n"
     ]
    }
   ],
   "source": [
    "path_to_train = '../data/train'\n",
    "dataset_submissions = []\n",
    "dataset_scores = []\n",
    "\n",
    "mylabels1 = {}\n",
    "for event_id, hits, cells, particles, truth in load_dataset(path_to_train, skip=10, nevents=1):\n",
    "    \n",
    "    truth = pd.merge(truth, particles, how='left', on='particle_id')\n",
    "    hits = pd.merge(hits, truth, how='left', on='hit_id')\n",
    "\n",
    "    hits = hits.dropna()\n",
    "    truth = truth.dropna()\n",
    "\n",
    "    # Track pattern recognition\n",
    "    model = Clusterer1()\n",
    "    labels = model.predict(hits)\n",
    "    hits['labels'] = labels\n",
    "    mylabels1[event_id] = labels\n",
    "    "
   ]
  },
  {
   "cell_type": "code",
   "execution_count": 8,
   "metadata": {},
   "outputs": [
    {
     "data": {
      "text/html": [
       "<div>\n",
       "<style scoped>\n",
       "    .dataframe tbody tr th:only-of-type {\n",
       "        vertical-align: middle;\n",
       "    }\n",
       "\n",
       "    .dataframe tbody tr th {\n",
       "        vertical-align: top;\n",
       "    }\n",
       "\n",
       "    .dataframe thead th {\n",
       "        text-align: right;\n",
       "    }\n",
       "</style>\n",
       "<table border=\"1\" class=\"dataframe\">\n",
       "  <thead>\n",
       "    <tr style=\"text-align: right;\">\n",
       "      <th></th>\n",
       "      <th>hit_id</th>\n",
       "      <th>x</th>\n",
       "      <th>y</th>\n",
       "      <th>z</th>\n",
       "      <th>volume_id</th>\n",
       "      <th>layer_id</th>\n",
       "      <th>module_id</th>\n",
       "      <th>particle_id</th>\n",
       "      <th>tx</th>\n",
       "      <th>ty</th>\n",
       "      <th>...</th>\n",
       "      <th>vz</th>\n",
       "      <th>px</th>\n",
       "      <th>py</th>\n",
       "      <th>pz</th>\n",
       "      <th>q</th>\n",
       "      <th>nhits</th>\n",
       "      <th>x2</th>\n",
       "      <th>y2</th>\n",
       "      <th>z2</th>\n",
       "      <th>labels</th>\n",
       "    </tr>\n",
       "  </thead>\n",
       "  <tbody>\n",
       "    <tr>\n",
       "      <th>0</th>\n",
       "      <td>1</td>\n",
       "      <td>-95.104897</td>\n",
       "      <td>-11.22140</td>\n",
       "      <td>-1502.5</td>\n",
       "      <td>7</td>\n",
       "      <td>2</td>\n",
       "      <td>1</td>\n",
       "      <td>211675367239319552</td>\n",
       "      <td>-95.111397</td>\n",
       "      <td>-11.19950</td>\n",
       "      <td>...</td>\n",
       "      <td>1.224690</td>\n",
       "      <td>-0.655410</td>\n",
       "      <td>-0.105077</td>\n",
       "      <td>-10.50140</td>\n",
       "      <td>1.0</td>\n",
       "      <td>13.0</td>\n",
       "      <td>-0.063170</td>\n",
       "      <td>-0.007453</td>\n",
       "      <td>-15.689510</td>\n",
       "      <td>2498</td>\n",
       "    </tr>\n",
       "    <tr>\n",
       "      <th>1</th>\n",
       "      <td>2</td>\n",
       "      <td>-54.898102</td>\n",
       "      <td>-9.61188</td>\n",
       "      <td>-1502.5</td>\n",
       "      <td>7</td>\n",
       "      <td>2</td>\n",
       "      <td>1</td>\n",
       "      <td>689056171826348032</td>\n",
       "      <td>-54.898602</td>\n",
       "      <td>-9.58850</td>\n",
       "      <td>...</td>\n",
       "      <td>3.356830</td>\n",
       "      <td>-0.820384</td>\n",
       "      <td>-0.124732</td>\n",
       "      <td>-22.39010</td>\n",
       "      <td>-1.0</td>\n",
       "      <td>10.0</td>\n",
       "      <td>-0.036513</td>\n",
       "      <td>-0.006393</td>\n",
       "      <td>-26.958797</td>\n",
       "      <td>2981</td>\n",
       "    </tr>\n",
       "    <tr>\n",
       "      <th>2</th>\n",
       "      <td>3</td>\n",
       "      <td>-58.008400</td>\n",
       "      <td>3.08322</td>\n",
       "      <td>-1502.5</td>\n",
       "      <td>7</td>\n",
       "      <td>2</td>\n",
       "      <td>1</td>\n",
       "      <td>729583345792450560</td>\n",
       "      <td>-57.987900</td>\n",
       "      <td>3.07949</td>\n",
       "      <td>...</td>\n",
       "      <td>0.698072</td>\n",
       "      <td>-1.156670</td>\n",
       "      <td>0.077993</td>\n",
       "      <td>-29.99840</td>\n",
       "      <td>-1.0</td>\n",
       "      <td>13.0</td>\n",
       "      <td>-0.038579</td>\n",
       "      <td>0.002051</td>\n",
       "      <td>-25.864912</td>\n",
       "      <td>2982</td>\n",
       "    </tr>\n",
       "    <tr>\n",
       "      <th>3</th>\n",
       "      <td>4</td>\n",
       "      <td>-97.298401</td>\n",
       "      <td>-8.18418</td>\n",
       "      <td>-1502.5</td>\n",
       "      <td>7</td>\n",
       "      <td>2</td>\n",
       "      <td>1</td>\n",
       "      <td>698059110473531392</td>\n",
       "      <td>-97.308502</td>\n",
       "      <td>-8.20599</td>\n",
       "      <td>...</td>\n",
       "      <td>-5.299510</td>\n",
       "      <td>-0.406458</td>\n",
       "      <td>-0.063105</td>\n",
       "      <td>-6.29345</td>\n",
       "      <td>1.0</td>\n",
       "      <td>11.0</td>\n",
       "      <td>-0.064621</td>\n",
       "      <td>-0.005436</td>\n",
       "      <td>-15.387847</td>\n",
       "      <td>2496</td>\n",
       "    </tr>\n",
       "    <tr>\n",
       "      <th>5</th>\n",
       "      <td>6</td>\n",
       "      <td>-81.570198</td>\n",
       "      <td>-10.15620</td>\n",
       "      <td>-1502.5</td>\n",
       "      <td>7</td>\n",
       "      <td>2</td>\n",
       "      <td>1</td>\n",
       "      <td>9017163578867712</td>\n",
       "      <td>-81.572098</td>\n",
       "      <td>-10.16590</td>\n",
       "      <td>...</td>\n",
       "      <td>2.216800</td>\n",
       "      <td>-0.346195</td>\n",
       "      <td>-0.018787</td>\n",
       "      <td>-6.33541</td>\n",
       "      <td>-1.0</td>\n",
       "      <td>15.0</td>\n",
       "      <td>-0.054209</td>\n",
       "      <td>-0.006749</td>\n",
       "      <td>-18.278582</td>\n",
       "      <td>1131</td>\n",
       "    </tr>\n",
       "  </tbody>\n",
       "</table>\n",
       "<p>5 rows × 27 columns</p>\n",
       "</div>"
      ],
      "text/plain": [
       "   hit_id          x         y       z  volume_id  layer_id  module_id  \\\n",
       "0       1 -95.104897 -11.22140 -1502.5          7         2          1   \n",
       "1       2 -54.898102  -9.61188 -1502.5          7         2          1   \n",
       "2       3 -58.008400   3.08322 -1502.5          7         2          1   \n",
       "3       4 -97.298401  -8.18418 -1502.5          7         2          1   \n",
       "5       6 -81.570198 -10.15620 -1502.5          7         2          1   \n",
       "\n",
       "          particle_id         tx        ty   ...          vz        px  \\\n",
       "0  211675367239319552 -95.111397 -11.19950   ...    1.224690 -0.655410   \n",
       "1  689056171826348032 -54.898602  -9.58850   ...    3.356830 -0.820384   \n",
       "2  729583345792450560 -57.987900   3.07949   ...    0.698072 -1.156670   \n",
       "3  698059110473531392 -97.308502  -8.20599   ...   -5.299510 -0.406458   \n",
       "5    9017163578867712 -81.572098 -10.16590   ...    2.216800 -0.346195   \n",
       "\n",
       "         py        pz    q  nhits        x2        y2         z2  labels  \n",
       "0 -0.105077 -10.50140  1.0   13.0 -0.063170 -0.007453 -15.689510    2498  \n",
       "1 -0.124732 -22.39010 -1.0   10.0 -0.036513 -0.006393 -26.958797    2981  \n",
       "2  0.077993 -29.99840 -1.0   13.0 -0.038579  0.002051 -25.864912    2982  \n",
       "3 -0.063105  -6.29345  1.0   11.0 -0.064621 -0.005436 -15.387847    2496  \n",
       "5 -0.018787  -6.33541 -1.0   15.0 -0.054209 -0.006749 -18.278582    1131  \n",
       "\n",
       "[5 rows x 27 columns]"
      ]
     },
     "execution_count": 8,
     "metadata": {},
     "output_type": "execute_result"
    }
   ],
   "source": [
    "hits.head()"
   ]
  },
  {
   "cell_type": "code",
   "execution_count": 9,
   "metadata": {},
   "outputs": [],
   "source": [
    "hits.sort_values('particle_id', inplace=True)"
   ]
  },
  {
   "cell_type": "code",
   "execution_count": 11,
   "metadata": {},
   "outputs": [],
   "source": [
    "pids = list(set(hits.particle_id.values))"
   ]
  },
  {
   "cell_type": "code",
   "execution_count": 15,
   "metadata": {},
   "outputs": [
    {
     "name": "stdout",
     "output_type": "stream",
     "text": [
      "15 14\n",
      "630507796122566656 648521301278851072\n"
     ]
    }
   ],
   "source": [
    "max_n = 0\n",
    "max_n2 = 0\n",
    "max_pid = 0\n",
    "max_pid2 = 0\n",
    "for i, p_id in enumerate(pids):\n",
    "    h = hits[hits.particle_id == p_id]\n",
    "    n = h['labels'].nunique()\n",
    "    if n > max_n:\n",
    "        max_n2 = max_n\n",
    "        max_n = n\n",
    "        max_pid2 = max_pid\n",
    "        max_pid = p_id \n",
    "    elif n > max_n2:\n",
    "        max_n2 = n\n",
    "        max_pid2 = p_id\n",
    "print(max_n, max_n2)\n",
    "print(max_pid, max_pid2)"
   ]
  },
  {
   "cell_type": "code",
   "execution_count": 28,
   "metadata": {},
   "outputs": [],
   "source": [
    "\n",
    "epoch = 0\n",
    "while epoch < 3000:\n",
    "    str1='../cache/checkpoint/checkpoint-6488-100'\n",
    "    str2 = '{:2d}.hdf5'.format(epoch)\n",
    "    filepath = str1 + '-' + str2\n",
    "    delete_file_if_exists(filepath)\n",
    "    epoch += 1"
   ]
  },
  {
   "cell_type": "code",
   "execution_count": 29,
   "metadata": {},
   "outputs": [],
   "source": [
    "epoch = 0\n",
    "while epoch < 3000:\n",
    "    str1='../cache/checkpoint/checkpoint-6488-100-1'\n",
    "    str2 = '{:2d}.hdf5'.format(epoch)\n",
    "    filepath = str1 + '-' + str2\n",
    "    delete_file_if_exists(filepath)\n",
    "    epoch += 1"
   ]
  },
  {
   "cell_type": "code",
   "execution_count": 30,
   "metadata": {},
   "outputs": [],
   "source": [
    "hits = pd.read_csv('../cache/hits_6488_nid_z_sorted_ge9.csv')\n",
    "part = list(set(hits.particle_id.values))\n",
    "part_l = np.random.choice(part, 20)\n",
    "part_v = list(set(part) - set(part_l))\n",
    "part_v = np.random.choice(part_v, 6)\n",
    "part_test = list(set(part) - set(part_l) - set(part_v))\n",
    "part_test = np.random.choice(part_test, 5)\n",
    "df_train = hits[hits.particle_id.isin(part_l)]\n",
    "df_valid = hits[hits.particle_id.isin(part_v)]\n",
    "df_test = hits[hits.particle_id.isin(part_test)]\n",
    "\n",
    "df_train.to_csv('../cache/hits_6488_nid_z_sorted_ge9_train_20.csv',index=False)\n",
    "df_valid.to_csv('../cache/hits_6488_nid_z_sorted_ge9_valid_6.csv',index=False)\n",
    "df_test.to_csv('../cache/hits_6488_nid_z_sorted_ge9_test_5.csv',index=False)"
   ]
  },
  {
   "cell_type": "code",
   "execution_count": 33,
   "metadata": {},
   "outputs": [],
   "source": [
    "model = Sequential()\n",
    "# model.add(BatchNormalization(input_shape=(1,2)))\n",
    "model.add(Bidirectional(LSTM(128, return_sequences=True), input_shape=(1,3)))\n",
    "# model.add(Bidirectional(LSTM(100, return_sequences=True)))\n",
    "# model.add(Bidirectional(LSTM(100, return_sequences=True)))\n",
    "model.add(Bidirectional(LSTM(128)))\n",
    "# model.add(Dropout(0.3))\n",
    "model.add(Dense(64, activation='relu'))\n",
    "\n",
    "# model.add(Dense(100000, activation='relu'))\n",
    "\n",
    "# model.add(Dropout(0.1))\n",
    "model.add(Dense(20, activation='softmax'))\n",
    "\n",
    "model.compile(loss='sparse_categorical_crossentropy', optimizer='adam')"
   ]
  },
  {
   "cell_type": "code",
   "execution_count": 31,
   "metadata": {},
   "outputs": [
    {
     "name": "stdout",
     "output_type": "stream",
     "text": [
      "(243, 3)\n"
     ]
    }
   ],
   "source": [
    "str1='../cache/checkpoint/checkpoint-6488-20'\n",
    "str2 = '{epoch:02d}.hdf5'\n",
    "filepath = str1 + '-' + str2\n",
    "checkpoint = ModelCheckpoint(filepath, verbose=0, save_best_only=False)\n",
    "callbacks_list = [checkpoint]\n",
    "\n",
    "X_train = df_train[['x', 'y', 'z']].values\n",
    "X_valid = df_valid[['x', 'y', 'z']].values\n",
    "\n",
    "y_l = list(range(20))\n",
    "y_nid = list(set(df_train['nid'].values))\n",
    "y_map = dict(zip(y_nid, y_l))\n",
    "y_rev_map = dict(zip(y_l, y_nid))\n",
    "# print(y)\n",
    "print(X_train.shape)\n",
    "\n",
    "y_l_v = list(range(6))\n",
    "y_nid_v = list(set(df_valid['nid'].values))\n",
    "y_map_v = dict(zip(y_nid_v, y_l_v))\n",
    "y_rev_map_v = dict(zip(y_l_v, y_nid_v))\n",
    "\n",
    "y = [y_map[nid] for nid in df_train.nid.values]\n",
    "y_v = [y_map_v[nid] for nid in df_valid.nid.values]"
   ]
  },
  {
   "cell_type": "code",
   "execution_count": 34,
   "metadata": {},
   "outputs": [
    {
     "name": "stdout",
     "output_type": "stream",
     "text": [
      "CPU times: user 17min 12s, sys: 2min 15s, total: 19min 27s\n",
      "Wall time: 4min 32s\n"
     ]
    },
    {
     "data": {
      "text/plain": [
       "<keras.callbacks.History at 0x7f7253d26128>"
      ]
     },
     "execution_count": 34,
     "metadata": {},
     "output_type": "execute_result"
    }
   ],
   "source": [
    "%%time\n",
    "model.fit(X_train.reshape(X_train.shape[0], 1, 3), y, batch_size=32, epochs=3000, shuffle=False, verbose=0,\n",
    "          callbacks=callbacks_list)\n",
    "#          validation_data=[X_valid.reshape(X_valid.shape[0],1,3), y_v])"
   ]
  },
  {
   "cell_type": "code",
   "execution_count": 35,
   "metadata": {},
   "outputs": [
    {
     "name": "stderr",
     "output_type": "stream",
     "text": [
      "100%|██████████| 5634/5634 [00:01<00:00, 4728.44it/s]\n",
      "100%|██████████| 5634/5634 [00:00<00:00, 183839.34it/s]\n",
      "100%|██████████| 6544/6544 [00:01<00:00, 4166.71it/s]\n",
      "100%|██████████| 6544/6544 [00:00<00:00, 155748.31it/s]\n",
      "100%|██████████| 6650/6650 [00:01<00:00, 4912.08it/s]\n",
      "100%|██████████| 6650/6650 [00:00<00:00, 253705.43it/s]\n",
      "100%|██████████| 6658/6658 [00:01<00:00, 3630.89it/s]\n",
      "100%|██████████| 6658/6658 [00:00<00:00, 165318.94it/s]\n",
      "6657it [11:27,  9.69it/s]\n"
     ]
    },
    {
     "name": "stdout",
     "output_type": "stream",
     "text": [
      "Score for event 1010: 0.237230727\n",
      "Mean score: 0.237230727\n"
     ]
    }
   ],
   "source": [
    "path_to_train = \"../data/train\"\n",
    "dataset_submissions = []\n",
    "dataset_scores = []\n",
    "\n",
    "mylabels1 = {}\n",
    "for event_id, hits, cells, particles, truth in load_dataset(path_to_train, skip=10, nevents=1):\n",
    "    \n",
    "    truth = pd.merge(truth, particles, how='left', on='particle_id')\n",
    "    hits = pd.merge(hits, truth, how='left', on='hit_id')\n",
    "\n",
    "    hits = hits.dropna()\n",
    "    truth = truth.dropna()\n",
    "\n",
    "    # Track pattern recognition\n",
    "    model1 = Clusterer1()\n",
    "    labs = model1.predict(hits)\n",
    "    hits['labels'] = labs\n",
    "    mylabels1[event_id] = labs\n",
    "    \n",
    "    all_hits = pd.DataFrame()\n",
    "    prev_p_len = 0\n",
    "    for i, label in tqdm(enumerate(list(set(labs)))):\n",
    "#         print(i)\n",
    "#         print(label)\n",
    "        myhits = hits[hits['labels'] == label]\n",
    "        X_test = myhits[['x2', 'y2', 'z2']].values\n",
    "\n",
    "        p = model.predict(X_test.reshape(X_test.shape[0],1,3))    \n",
    "        p = [np.argmax(p[j]) + 1 + (i * prev_p_len) for j in range(len(p))]\n",
    "        prev_p_len = len(p)\n",
    "        myhits['labels1'] = p\n",
    "        all_hits = all_hits.append(myhits)\n",
    "    all_hits.sort_values('hit_id', inplace=True)\n",
    "    # Prepare submission for an event\n",
    "    one_submission = create_one_event_submission(event_id, all_hits, all_hits['labels1'].values)\n",
    "#     dataset_submissions.append(one_submission)\n",
    "\n",
    "    # Score for the event\n",
    "    score = score_event(truth, one_submission)\n",
    "    dataset_scores.append(score)\n",
    "\n",
    "    print(\"Score for event %d: %.9f\" % (event_id, score))\n",
    "print('Mean score: %.9f' % (np.mean(dataset_scores)))"
   ]
  },
  {
   "cell_type": "code",
   "execution_count": 36,
   "metadata": {},
   "outputs": [
    {
     "name": "stderr",
     "output_type": "stream",
     "text": [
      "100%|██████████| 5634/5634 [00:01<00:00, 4332.56it/s]\n",
      "100%|██████████| 5634/5634 [00:00<00:00, 231803.15it/s]\n",
      "100%|██████████| 6544/6544 [00:01<00:00, 4083.97it/s]\n",
      "100%|██████████| 6544/6544 [00:00<00:00, 158442.82it/s]\n",
      "100%|██████████| 6650/6650 [00:01<00:00, 4700.94it/s]\n",
      "100%|██████████| 6650/6650 [00:00<00:00, 223167.32it/s]\n",
      "100%|██████████| 6658/6658 [00:01<00:00, 4384.82it/s]\n",
      "100%|██████████| 6658/6658 [00:00<00:00, 144898.33it/s]\n",
      "6657it [11:26,  9.70it/s]\n"
     ]
    },
    {
     "name": "stdout",
     "output_type": "stream",
     "text": [
      "Score for event 1010: 0.255072055\n",
      "Mean score: 0.255072055\n"
     ]
    }
   ],
   "source": [
    "path_to_train = \"../data/train\"\n",
    "dataset_submissions = []\n",
    "dataset_scores = []\n",
    "\n",
    "mylabels1 = {}\n",
    "for event_id, hits, cells, particles, truth in load_dataset(path_to_train, skip=10, nevents=1):\n",
    "    \n",
    "    truth = pd.merge(truth, particles, how='left', on='particle_id')\n",
    "    hits = pd.merge(hits, truth, how='left', on='hit_id')\n",
    "\n",
    "    hits = hits.dropna()\n",
    "    truth = truth.dropna()\n",
    "\n",
    "    # Track pattern recognition\n",
    "    model1 = Clusterer1()\n",
    "    labs = model1.predict(hits)\n",
    "    hits['labels'] = labs\n",
    "    mylabels1[event_id] = labs\n",
    "    \n",
    "    all_hits = pd.DataFrame()\n",
    "    prev_p_len = 0\n",
    "    for i, label in tqdm(enumerate(list(set(labs)))):\n",
    "#         print(i)\n",
    "#         print(label)\n",
    "        myhits = hits[hits['labels'] == label]\n",
    "        X_test = myhits[['x2', 'y2', 'z2']].values\n",
    "\n",
    "        p = model.predict(X_test.reshape(X_test.shape[0],1,3))    \n",
    "        p = [np.argmax(p[j]) + 1 + (i * prev_p_len) for j in range(len(p))]\n",
    "        prev_p_len = len(p)\n",
    "        if prev_p_len < 100:\n",
    "            prev_p_len = 100\n",
    "        myhits['labels1'] = p\n",
    "        all_hits = all_hits.append(myhits)\n",
    "    all_hits.sort_values('hit_id', inplace=True)\n",
    "    # Prepare submission for an event\n",
    "    one_submission = create_one_event_submission(event_id, all_hits, all_hits['labels1'].values)\n",
    "#     dataset_submissions.append(one_submission)\n",
    "\n",
    "    # Score for the event\n",
    "    score = score_event(truth, one_submission)\n",
    "    dataset_scores.append(score)\n",
    "\n",
    "    print(\"Score for event %d: %.9f\" % (event_id, score))\n",
    "print('Mean score: %.9f' % (np.mean(dataset_scores)))"
   ]
  },
  {
   "cell_type": "code",
   "execution_count": 37,
   "metadata": {},
   "outputs": [
    {
     "name": "stderr",
     "output_type": "stream",
     "text": [
      "100%|██████████| 5634/5634 [00:01<00:00, 3986.29it/s]\n",
      "100%|██████████| 5634/5634 [00:00<00:00, 245541.92it/s]\n",
      "100%|██████████| 6544/6544 [00:01<00:00, 4661.61it/s]\n",
      "100%|██████████| 6544/6544 [00:00<00:00, 183550.06it/s]\n",
      "100%|██████████| 6650/6650 [00:01<00:00, 4859.95it/s]\n",
      "100%|██████████| 6650/6650 [00:00<00:00, 230153.91it/s]\n",
      "100%|██████████| 6658/6658 [00:01<00:00, 4384.85it/s]\n",
      "100%|██████████| 6658/6658 [00:00<00:00, 260503.14it/s]\n",
      "6657it [11:03, 10.03it/s]\n"
     ]
    },
    {
     "name": "stdout",
     "output_type": "stream",
     "text": [
      "Score for event 1010: 0.255072055\n",
      "Mean score: 0.255072055\n"
     ]
    }
   ],
   "source": [
    "path_to_train = \"../data/train\"\n",
    "dataset_submissions = []\n",
    "dataset_scores = []\n",
    "\n",
    "mylabels1 = {}\n",
    "for event_id, hits, cells, particles, truth in load_dataset(path_to_train, skip=10, nevents=1):\n",
    "    \n",
    "    truth = pd.merge(truth, particles, how='left', on='particle_id')\n",
    "    hits = pd.merge(hits, truth, how='left', on='hit_id')\n",
    "\n",
    "    hits = hits.dropna()\n",
    "    truth = truth.dropna()\n",
    "\n",
    "    # Track pattern recognition\n",
    "    model1 = Clusterer1()\n",
    "    labs = model1.predict(hits)\n",
    "    hits['labels'] = labs\n",
    "    mylabels1[event_id] = labs\n",
    "    \n",
    "    all_hits = pd.DataFrame()\n",
    "    prev_p_len = 0\n",
    "    for i, label in tqdm(enumerate(list(set(labs)))):\n",
    "#         print(i)\n",
    "#         print(label)\n",
    "        myhits = hits[hits['labels'] == label]\n",
    "        X_test = myhits[['x2', 'y2', 'z2']].values\n",
    "\n",
    "        p = model.predict(X_test.reshape(X_test.shape[0],1,3))    \n",
    "        p = [np.argmax(p[j]) + 1 + (i * prev_p_len) for j in range(len(p))]\n",
    "        prev_p_len = len(p)\n",
    "        if prev_p_len < 1000:\n",
    "            prev_p_len = 1000\n",
    "        myhits['labels1'] = p\n",
    "        all_hits = all_hits.append(myhits)\n",
    "    all_hits.sort_values('hit_id', inplace=True)\n",
    "    # Prepare submission for an event\n",
    "    one_submission = create_one_event_submission(event_id, all_hits, all_hits['labels1'].values)\n",
    "#     dataset_submissions.append(one_submission)\n",
    "\n",
    "    # Score for the event\n",
    "    score = score_event(truth, one_submission)\n",
    "    dataset_scores.append(score)\n",
    "\n",
    "    print(\"Score for event %d: %.9f\" % (event_id, score))\n",
    "print('Mean score: %.9f' % (np.mean(dataset_scores)))"
   ]
  },
  {
   "cell_type": "code",
   "execution_count": 38,
   "metadata": {},
   "outputs": [
    {
     "name": "stderr",
     "output_type": "stream",
     "text": [
      "100%|██████████| 7645/7645 [00:03<00:00, 2250.15it/s]\n",
      "100%|██████████| 7645/7645 [00:00<00:00, 223872.30it/s]\n",
      "100%|██████████| 8966/8966 [00:03<00:00, 2345.94it/s]\n",
      "100%|██████████| 8966/8966 [00:00<00:00, 133345.14it/s]\n",
      "100%|██████████| 9139/9139 [00:03<00:00, 2471.75it/s]\n",
      "100%|██████████| 9139/9139 [00:00<00:00, 130758.57it/s]\n",
      "100%|██████████| 9154/9154 [00:04<00:00, 2186.40it/s]\n",
      "100%|██████████| 9154/9154 [00:00<00:00, 119944.70it/s]\n",
      "100%|██████████| 9157/9157 [00:04<00:00, 2269.36it/s]\n",
      "100%|██████████| 9157/9157 [00:00<00:00, 164340.69it/s]\n",
      "9156it [24:35,  6.20it/s]\n"
     ]
    },
    {
     "name": "stdout",
     "output_type": "stream",
     "text": [
      "Event ID:  0\n"
     ]
    },
    {
     "name": "stderr",
     "output_type": "stream",
     "text": [
      "100%|██████████| 7875/7875 [00:02<00:00, 2692.82it/s]\n",
      "100%|██████████| 7875/7875 [00:00<00:00, 132406.04it/s]\n",
      "100%|██████████| 9272/9272 [00:03<00:00, 2358.92it/s]\n",
      "100%|██████████| 9272/9272 [00:00<00:00, 190610.94it/s]\n",
      "100%|██████████| 9437/9437 [00:03<00:00, 2378.38it/s]\n",
      "100%|██████████| 9437/9437 [00:00<00:00, 223447.12it/s]\n",
      "100%|██████████| 9452/9452 [00:03<00:00, 2673.50it/s]\n",
      "100%|██████████| 9452/9452 [00:00<00:00, 216066.67it/s]\n",
      "100%|██████████| 9453/9453 [00:03<00:00, 2370.60it/s]\n",
      "100%|██████████| 9453/9453 [00:00<00:00, 215110.60it/s]\n",
      "9453it [18:00,  8.75it/s]\n"
     ]
    },
    {
     "name": "stdout",
     "output_type": "stream",
     "text": [
      "Event ID:  1\n"
     ]
    },
    {
     "name": "stderr",
     "output_type": "stream",
     "text": [
      "100%|██████████| 6766/6766 [00:01<00:00, 4262.30it/s]\n",
      "100%|██████████| 6766/6766 [00:00<00:00, 190861.75it/s]\n",
      "100%|██████████| 7944/7944 [00:01<00:00, 4375.94it/s]\n",
      "100%|██████████| 7944/7944 [00:00<00:00, 155792.02it/s]\n",
      "100%|██████████| 8101/8101 [00:01<00:00, 4184.74it/s]\n",
      "100%|██████████| 8101/8101 [00:00<00:00, 153980.27it/s]\n",
      "100%|██████████| 8112/8112 [00:01<00:00, 4659.65it/s]\n",
      "100%|██████████| 8112/8112 [00:00<00:00, 163695.12it/s]\n",
      "100%|██████████| 8113/8113 [00:01<00:00, 4240.35it/s]\n",
      "100%|██████████| 8113/8113 [00:00<00:00, 160816.97it/s]\n",
      "8112it [13:13, 10.22it/s]\n"
     ]
    },
    {
     "name": "stdout",
     "output_type": "stream",
     "text": [
      "Event ID:  2\n"
     ]
    },
    {
     "name": "stderr",
     "output_type": "stream",
     "text": [
      "100%|██████████| 6994/6994 [00:01<00:00, 4328.17it/s]\n",
      "100%|██████████| 6994/6994 [00:00<00:00, 232839.34it/s]\n",
      "100%|██████████| 8194/8194 [00:02<00:00, 3874.60it/s]\n",
      "100%|██████████| 8194/8194 [00:00<00:00, 149351.31it/s]\n",
      "100%|██████████| 8340/8340 [00:02<00:00, 4059.16it/s]\n",
      "100%|██████████| 8340/8340 [00:00<00:00, 217407.89it/s]\n",
      "100%|██████████| 8357/8357 [00:02<00:00, 3778.17it/s]\n",
      "100%|██████████| 8357/8357 [00:00<00:00, 246345.76it/s]\n",
      "8357it [12:42, 10.97it/s]\n"
     ]
    },
    {
     "name": "stdout",
     "output_type": "stream",
     "text": [
      "Event ID:  3\n"
     ]
    },
    {
     "name": "stderr",
     "output_type": "stream",
     "text": [
      "100%|██████████| 7620/7620 [00:01<00:00, 4856.45it/s]\n",
      "100%|██████████| 7620/7620 [00:00<00:00, 224993.82it/s]\n",
      "100%|██████████| 8966/8966 [00:01<00:00, 4833.76it/s]\n",
      "100%|██████████| 8966/8966 [00:00<00:00, 239744.80it/s]\n",
      "100%|██████████| 9144/9144 [00:01<00:00, 4926.99it/s]\n",
      "100%|██████████| 9144/9144 [00:00<00:00, 252619.65it/s]\n",
      "100%|██████████| 9149/9149 [00:01<00:00, 4858.76it/s]\n",
      "100%|██████████| 9149/9149 [00:00<00:00, 256477.75it/s]\n",
      "100%|██████████| 9150/9150 [00:01<00:00, 4819.62it/s]\n",
      "100%|██████████| 9150/9150 [00:00<00:00, 157987.63it/s]\n",
      "9149it [13:54, 10.97it/s]\n"
     ]
    },
    {
     "name": "stdout",
     "output_type": "stream",
     "text": [
      "Event ID:  4\n"
     ]
    },
    {
     "name": "stderr",
     "output_type": "stream",
     "text": [
      "100%|██████████| 6879/6879 [00:01<00:00, 4959.17it/s]\n",
      "100%|██████████| 6879/6879 [00:00<00:00, 247868.33it/s]\n",
      "100%|██████████| 8043/8043 [00:01<00:00, 4793.37it/s]\n",
      "100%|██████████| 8043/8043 [00:00<00:00, 228557.02it/s]\n",
      "100%|██████████| 8209/8209 [00:01<00:00, 4970.78it/s]\n",
      "100%|██████████| 8209/8209 [00:00<00:00, 264797.13it/s]\n",
      "100%|██████████| 8229/8229 [00:01<00:00, 4984.54it/s]\n",
      "100%|██████████| 8229/8229 [00:00<00:00, 268812.03it/s]\n",
      "8229it [13:05, 10.48it/s]\n"
     ]
    },
    {
     "name": "stdout",
     "output_type": "stream",
     "text": [
      "Event ID:  5\n"
     ]
    },
    {
     "name": "stderr",
     "output_type": "stream",
     "text": [
      "100%|██████████| 6841/6841 [00:01<00:00, 4994.63it/s]\n",
      "100%|██████████| 6841/6841 [00:00<00:00, 133826.01it/s]\n",
      "100%|██████████| 8102/8102 [00:01<00:00, 4954.95it/s]\n",
      "100%|██████████| 8102/8102 [00:00<00:00, 248490.01it/s]\n",
      "100%|██████████| 8247/8247 [00:01<00:00, 4922.61it/s]\n",
      "100%|██████████| 8247/8247 [00:00<00:00, 264305.28it/s]\n",
      "100%|██████████| 8252/8252 [00:01<00:00, 4895.09it/s]\n",
      "100%|██████████| 8252/8252 [00:00<00:00, 214341.25it/s]\n",
      "100%|██████████| 8255/8255 [00:01<00:00, 4789.30it/s]\n",
      "100%|██████████| 8255/8255 [00:00<00:00, 269187.55it/s]\n",
      "8255it [12:34, 10.95it/s]\n"
     ]
    },
    {
     "name": "stdout",
     "output_type": "stream",
     "text": [
      "Event ID:  6\n"
     ]
    },
    {
     "name": "stderr",
     "output_type": "stream",
     "text": [
      "100%|██████████| 7467/7467 [00:01<00:00, 4849.33it/s]\n",
      "100%|██████████| 7467/7467 [00:00<00:00, 235581.17it/s]\n",
      "100%|██████████| 8761/8761 [00:02<00:00, 4379.57it/s]\n",
      "100%|██████████| 8761/8761 [00:00<00:00, 148930.82it/s]\n",
      "100%|██████████| 8931/8931 [00:01<00:00, 4604.42it/s]\n",
      "100%|██████████| 8931/8931 [00:00<00:00, 267545.61it/s]\n",
      "100%|██████████| 8944/8944 [00:01<00:00, 4909.55it/s]\n",
      "100%|██████████| 8944/8944 [00:00<00:00, 266180.30it/s]\n",
      "8944it [14:31, 10.26it/s]\n"
     ]
    },
    {
     "name": "stdout",
     "output_type": "stream",
     "text": [
      "Event ID:  7\n"
     ]
    },
    {
     "name": "stderr",
     "output_type": "stream",
     "text": [
      "100%|██████████| 7378/7378 [00:01<00:00, 4760.40it/s]\n",
      "100%|██████████| 7378/7378 [00:00<00:00, 143366.77it/s]\n",
      "100%|██████████| 8702/8702 [00:02<00:00, 3601.77it/s]\n",
      "100%|██████████| 8702/8702 [00:00<00:00, 147736.86it/s]\n",
      "100%|██████████| 8879/8879 [00:02<00:00, 3937.16it/s]\n",
      "100%|██████████| 8879/8879 [00:00<00:00, 154085.47it/s]\n",
      "100%|██████████| 8901/8901 [00:02<00:00, 3480.04it/s]\n",
      "100%|██████████| 8901/8901 [00:00<00:00, 212986.20it/s]\n",
      "8901it [15:24,  9.63it/s]\n"
     ]
    },
    {
     "name": "stdout",
     "output_type": "stream",
     "text": [
      "Event ID:  8\n"
     ]
    },
    {
     "name": "stderr",
     "output_type": "stream",
     "text": [
      "100%|██████████| 7365/7365 [00:01<00:00, 4034.77it/s]\n",
      "100%|██████████| 7365/7365 [00:00<00:00, 151883.10it/s]\n",
      "100%|██████████| 8640/8640 [00:01<00:00, 4827.46it/s]\n",
      "100%|██████████| 8640/8640 [00:00<00:00, 254376.89it/s]\n",
      "100%|██████████| 8809/8809 [00:01<00:00, 4833.21it/s]\n",
      "100%|██████████| 8809/8809 [00:00<00:00, 274067.77it/s]\n",
      "100%|██████████| 8823/8823 [00:01<00:00, 4802.98it/s]\n",
      "100%|██████████| 8823/8823 [00:00<00:00, 265280.35it/s]\n",
      "8822it [13:34, 10.83it/s]\n"
     ]
    },
    {
     "name": "stdout",
     "output_type": "stream",
     "text": [
      "Event ID:  9\n"
     ]
    },
    {
     "name": "stderr",
     "output_type": "stream",
     "text": [
      "100%|██████████| 7485/7485 [00:01<00:00, 4936.99it/s]\n",
      "100%|██████████| 7485/7485 [00:00<00:00, 236800.99it/s]\n",
      "100%|██████████| 8825/8825 [00:01<00:00, 4936.56it/s]\n",
      "100%|██████████| 8825/8825 [00:00<00:00, 244249.12it/s]\n",
      "100%|██████████| 8996/8996 [00:01<00:00, 4893.43it/s]\n",
      "100%|██████████| 8996/8996 [00:00<00:00, 259556.30it/s]\n",
      "100%|██████████| 9007/9007 [00:01<00:00, 4877.86it/s]\n",
      "100%|██████████| 9007/9007 [00:00<00:00, 254711.84it/s]\n",
      "9005it [13:36, 11.03it/s]\n"
     ]
    },
    {
     "name": "stdout",
     "output_type": "stream",
     "text": [
      "Event ID:  10\n"
     ]
    },
    {
     "name": "stderr",
     "output_type": "stream",
     "text": [
      "100%|██████████| 6932/6932 [00:01<00:00, 5063.87it/s]\n",
      "100%|██████████| 6932/6932 [00:00<00:00, 168270.27it/s]\n",
      "100%|██████████| 8141/8141 [00:01<00:00, 5039.98it/s]\n",
      "100%|██████████| 8141/8141 [00:00<00:00, 260087.36it/s]\n",
      "100%|██████████| 8306/8306 [00:01<00:00, 4911.14it/s]\n",
      "100%|██████████| 8306/8306 [00:00<00:00, 270800.08it/s]\n",
      "100%|██████████| 8316/8316 [00:01<00:00, 4963.25it/s]\n",
      "100%|██████████| 8316/8316 [00:00<00:00, 276057.24it/s]\n",
      "8316it [12:32, 11.05it/s]\n"
     ]
    },
    {
     "name": "stdout",
     "output_type": "stream",
     "text": [
      "Event ID:  11\n"
     ]
    },
    {
     "name": "stderr",
     "output_type": "stream",
     "text": [
      "100%|██████████| 6614/6614 [00:01<00:00, 5120.43it/s]\n",
      "100%|██████████| 6614/6614 [00:00<00:00, 248516.28it/s]\n",
      "100%|██████████| 7774/7774 [00:01<00:00, 4979.77it/s]\n",
      "100%|██████████| 7774/7774 [00:00<00:00, 249321.53it/s]\n",
      "100%|██████████| 7933/7933 [00:01<00:00, 5135.66it/s]\n",
      "100%|██████████| 7933/7933 [00:00<00:00, 270726.86it/s]\n",
      "100%|██████████| 7943/7943 [00:01<00:00, 5099.61it/s]\n",
      "100%|██████████| 7943/7943 [00:00<00:00, 269099.75it/s]\n",
      "100%|██████████| 7944/7944 [00:01<00:00, 5108.48it/s]\n",
      "100%|██████████| 7944/7944 [00:00<00:00, 172769.07it/s]\n",
      "7944it [11:59, 11.04it/s]\n"
     ]
    },
    {
     "name": "stdout",
     "output_type": "stream",
     "text": [
      "Event ID:  12\n"
     ]
    },
    {
     "name": "stderr",
     "output_type": "stream",
     "text": [
      "100%|██████████| 8090/8090 [00:01<00:00, 4876.82it/s]\n",
      "100%|██████████| 8090/8090 [00:00<00:00, 241017.71it/s]\n",
      "100%|██████████| 9509/9509 [00:01<00:00, 4835.31it/s]\n",
      "100%|██████████| 9509/9509 [00:00<00:00, 236055.12it/s]\n",
      "100%|██████████| 9685/9685 [00:02<00:00, 4769.99it/s]\n",
      "100%|██████████| 9685/9685 [00:00<00:00, 245542.62it/s]\n",
      "100%|██████████| 9696/9696 [00:02<00:00, 4820.78it/s]\n",
      "100%|██████████| 9696/9696 [00:00<00:00, 255363.86it/s]\n",
      "100%|██████████| 9698/9698 [00:02<00:00, 4819.82it/s]\n",
      "100%|██████████| 9698/9698 [00:00<00:00, 254062.11it/s]\n",
      "9697it [14:40, 11.01it/s]\n"
     ]
    },
    {
     "name": "stdout",
     "output_type": "stream",
     "text": [
      "Event ID:  13\n"
     ]
    },
    {
     "name": "stderr",
     "output_type": "stream",
     "text": [
      "100%|██████████| 6546/6546 [00:01<00:00, 4800.23it/s]\n",
      "100%|██████████| 6546/6546 [00:00<00:00, 149938.91it/s]\n",
      "100%|██████████| 7731/7731 [00:01<00:00, 5068.83it/s]\n",
      "100%|██████████| 7731/7731 [00:00<00:00, 149150.27it/s]\n",
      "100%|██████████| 7873/7873 [00:01<00:00, 4894.09it/s]\n",
      "100%|██████████| 7873/7873 [00:00<00:00, 265849.96it/s]\n",
      "100%|██████████| 7889/7889 [00:01<00:00, 4908.15it/s]\n",
      "100%|██████████| 7889/7889 [00:00<00:00, 267700.59it/s]\n",
      "100%|██████████| 7890/7890 [00:01<00:00, 5086.99it/s]\n",
      "100%|██████████| 7890/7890 [00:00<00:00, 265944.41it/s]\n",
      "7890it [11:54, 11.04it/s]\n"
     ]
    },
    {
     "name": "stdout",
     "output_type": "stream",
     "text": [
      "Event ID:  14\n"
     ]
    },
    {
     "name": "stderr",
     "output_type": "stream",
     "text": [
      "100%|██████████| 5748/5748 [00:01<00:00, 5159.34it/s]\n",
      "100%|██████████| 5748/5748 [00:00<00:00, 228641.36it/s]\n",
      "100%|██████████| 6784/6784 [00:01<00:00, 5263.83it/s]\n",
      "100%|██████████| 6784/6784 [00:00<00:00, 240164.07it/s]\n",
      "100%|██████████| 6908/6908 [00:01<00:00, 5290.14it/s]\n",
      "100%|██████████| 6908/6908 [00:00<00:00, 154035.61it/s]\n",
      "100%|██████████| 6914/6914 [00:01<00:00, 5301.67it/s]\n",
      "100%|██████████| 6914/6914 [00:00<00:00, 265258.80it/s]\n",
      "100%|██████████| 6916/6916 [00:01<00:00, 4981.04it/s]\n",
      "100%|██████████| 6916/6916 [00:00<00:00, 233949.02it/s]\n",
      "6916it [10:31, 10.95it/s]\n"
     ]
    },
    {
     "name": "stdout",
     "output_type": "stream",
     "text": [
      "Event ID:  15\n"
     ]
    },
    {
     "name": "stderr",
     "output_type": "stream",
     "text": [
      "100%|██████████| 6242/6242 [00:01<00:00, 4840.29it/s]\n",
      "100%|██████████| 6242/6242 [00:00<00:00, 226766.26it/s]\n",
      "100%|██████████| 7285/7285 [00:01<00:00, 5146.01it/s]\n",
      "100%|██████████| 7285/7285 [00:00<00:00, 256859.60it/s]\n",
      "100%|██████████| 7439/7439 [00:01<00:00, 5117.37it/s]\n",
      "100%|██████████| 7439/7439 [00:00<00:00, 273045.26it/s]\n",
      "100%|██████████| 7456/7456 [00:01<00:00, 5164.47it/s]\n",
      "100%|██████████| 7456/7456 [00:00<00:00, 273805.81it/s]\n",
      "7455it [11:21, 10.94it/s]\n"
     ]
    },
    {
     "name": "stdout",
     "output_type": "stream",
     "text": [
      "Event ID:  16\n"
     ]
    },
    {
     "name": "stderr",
     "output_type": "stream",
     "text": [
      "100%|██████████| 8416/8416 [00:01<00:00, 4608.63it/s]\n",
      "100%|██████████| 8416/8416 [00:00<00:00, 225522.69it/s]\n",
      "100%|██████████| 9906/9906 [00:02<00:00, 4483.37it/s]\n",
      "100%|██████████| 9906/9906 [00:00<00:00, 231214.46it/s]\n",
      "100%|██████████| 10092/10092 [00:02<00:00, 4498.53it/s]\n",
      "100%|██████████| 10092/10092 [00:00<00:00, 253101.31it/s]\n",
      "100%|██████████| 10103/10103 [00:02<00:00, 4789.74it/s]\n",
      "100%|██████████| 10103/10103 [00:00<00:00, 253993.79it/s]\n",
      "100%|██████████| 10107/10107 [00:02<00:00, 4764.51it/s]\n",
      "100%|██████████| 10107/10107 [00:00<00:00, 217092.30it/s]\n",
      "10107it [15:27, 10.89it/s]\n"
     ]
    },
    {
     "name": "stdout",
     "output_type": "stream",
     "text": [
      "Event ID:  17\n"
     ]
    },
    {
     "name": "stderr",
     "output_type": "stream",
     "text": [
      "100%|██████████| 6251/6251 [00:01<00:00, 4922.96it/s]\n",
      "100%|██████████| 6251/6251 [00:00<00:00, 241860.03it/s]\n",
      "100%|██████████| 7318/7318 [00:01<00:00, 4949.20it/s]\n",
      "100%|██████████| 7318/7318 [00:00<00:00, 254457.34it/s]\n",
      "100%|██████████| 7458/7458 [00:01<00:00, 5059.27it/s]\n",
      "100%|██████████| 7458/7458 [00:00<00:00, 267762.78it/s]\n",
      "100%|██████████| 7468/7468 [00:01<00:00, 5090.21it/s]\n",
      "100%|██████████| 7468/7468 [00:00<00:00, 209680.10it/s]\n",
      "100%|██████████| 7470/7470 [00:01<00:00, 4910.75it/s]\n",
      "100%|██████████| 7470/7470 [00:00<00:00, 263495.43it/s]\n",
      "7468it [11:21, 10.95it/s]\n"
     ]
    },
    {
     "name": "stdout",
     "output_type": "stream",
     "text": [
      "Event ID:  18\n"
     ]
    },
    {
     "name": "stderr",
     "output_type": "stream",
     "text": [
      "100%|██████████| 6774/6774 [00:01<00:00, 4871.29it/s]\n",
      "100%|██████████| 6774/6774 [00:00<00:00, 216388.29it/s]\n",
      "100%|██████████| 7900/7900 [00:01<00:00, 4844.32it/s]\n",
      "100%|██████████| 7900/7900 [00:00<00:00, 235715.52it/s]\n",
      "100%|██████████| 8027/8027 [00:01<00:00, 4835.88it/s]\n",
      "100%|██████████| 8027/8027 [00:00<00:00, 258544.60it/s]\n",
      "100%|██████████| 8039/8039 [00:01<00:00, 4397.02it/s]\n",
      "100%|██████████| 8039/8039 [00:00<00:00, 262490.93it/s]\n",
      "100%|██████████| 8040/8040 [00:01<00:00, 4828.97it/s]\n",
      "100%|██████████| 8040/8040 [00:00<00:00, 264680.94it/s]\n",
      "8040it [12:28, 10.74it/s]\n"
     ]
    },
    {
     "name": "stdout",
     "output_type": "stream",
     "text": [
      "Event ID:  19\n"
     ]
    },
    {
     "name": "stderr",
     "output_type": "stream",
     "text": [
      "100%|██████████| 5139/5139 [00:01<00:00, 3650.35it/s]\n",
      "100%|██████████| 5139/5139 [00:00<00:00, 149638.50it/s]\n",
      "100%|██████████| 6056/6056 [00:01<00:00, 3607.58it/s]\n",
      "100%|██████████| 6056/6056 [00:00<00:00, 160402.54it/s]\n",
      "100%|██████████| 6156/6156 [00:01<00:00, 3601.64it/s]\n",
      "100%|██████████| 6156/6156 [00:00<00:00, 285365.27it/s]\n",
      "100%|██████████| 6162/6162 [00:01<00:00, 3358.93it/s]\n",
      "100%|██████████| 6162/6162 [00:00<00:00, 168348.07it/s]\n",
      "100%|██████████| 6163/6163 [00:01<00:00, 4949.48it/s]\n",
      "100%|██████████| 6163/6163 [00:00<00:00, 168743.61it/s]\n",
      "6163it [09:26, 10.88it/s]\n"
     ]
    },
    {
     "name": "stdout",
     "output_type": "stream",
     "text": [
      "Event ID:  20\n"
     ]
    },
    {
     "name": "stderr",
     "output_type": "stream",
     "text": [
      "100%|██████████| 6771/6771 [00:01<00:00, 4608.43it/s]\n",
      "100%|██████████| 6771/6771 [00:00<00:00, 252228.18it/s]\n",
      "100%|██████████| 7988/7988 [00:01<00:00, 4995.24it/s]\n",
      "100%|██████████| 7988/7988 [00:00<00:00, 222159.53it/s]\n",
      "100%|██████████| 8141/8141 [00:01<00:00, 4719.25it/s]\n",
      "100%|██████████| 8141/8141 [00:00<00:00, 256752.93it/s]\n",
      "100%|██████████| 8153/8153 [00:01<00:00, 5014.32it/s]\n",
      "100%|██████████| 8153/8153 [00:00<00:00, 259038.27it/s]\n",
      "8153it [14:00,  9.70it/s]\n"
     ]
    },
    {
     "name": "stdout",
     "output_type": "stream",
     "text": [
      "Event ID:  21\n"
     ]
    },
    {
     "name": "stderr",
     "output_type": "stream",
     "text": [
      "100%|██████████| 7707/7707 [00:01<00:00, 4205.06it/s]\n",
      "100%|██████████| 7707/7707 [00:00<00:00, 228363.23it/s]\n",
      "100%|██████████| 9049/9049 [00:02<00:00, 3704.37it/s]\n",
      "100%|██████████| 9049/9049 [00:00<00:00, 131460.61it/s]\n",
      "100%|██████████| 9216/9216 [00:02<00:00, 3784.97it/s]\n",
      "100%|██████████| 9216/9216 [00:00<00:00, 126415.11it/s]\n",
      "100%|██████████| 9227/9227 [00:02<00:00, 3756.86it/s]\n",
      "100%|██████████| 9227/9227 [00:00<00:00, 243815.55it/s]\n",
      "9227it [16:26,  9.35it/s]\n"
     ]
    },
    {
     "name": "stdout",
     "output_type": "stream",
     "text": [
      "Event ID:  22\n"
     ]
    },
    {
     "name": "stderr",
     "output_type": "stream",
     "text": [
      "100%|██████████| 7527/7527 [00:01<00:00, 4100.21it/s]\n",
      "100%|██████████| 7527/7527 [00:00<00:00, 142477.20it/s]\n",
      "100%|██████████| 8817/8817 [00:02<00:00, 4135.80it/s]\n",
      "100%|██████████| 8817/8817 [00:00<00:00, 251826.18it/s]\n",
      "100%|██████████| 8986/8986 [00:02<00:00, 3880.99it/s]\n",
      "100%|██████████| 8986/8986 [00:00<00:00, 260010.04it/s]\n",
      "100%|██████████| 8996/8996 [00:02<00:00, 3731.97it/s]\n",
      "100%|██████████| 8996/8996 [00:00<00:00, 254699.57it/s]\n",
      "100%|██████████| 8998/8998 [00:02<00:00, 3838.69it/s]\n",
      "100%|██████████| 8998/8998 [00:00<00:00, 162554.10it/s]\n",
      "8998it [16:00,  9.37it/s]\n"
     ]
    },
    {
     "name": "stdout",
     "output_type": "stream",
     "text": [
      "Event ID:  23\n"
     ]
    },
    {
     "name": "stderr",
     "output_type": "stream",
     "text": [
      "100%|██████████| 7501/7501 [00:01<00:00, 3938.96it/s]\n",
      "100%|██████████| 7501/7501 [00:00<00:00, 155621.99it/s]\n",
      "100%|██████████| 8843/8843 [00:02<00:00, 3987.15it/s]\n",
      "100%|██████████| 8843/8843 [00:00<00:00, 216151.09it/s]\n",
      "100%|██████████| 8987/8987 [00:02<00:00, 3832.76it/s]\n",
      "100%|██████████| 8987/8987 [00:00<00:00, 240087.45it/s]\n",
      "100%|██████████| 9000/9000 [00:02<00:00, 3845.19it/s]\n",
      "100%|██████████| 9000/9000 [00:00<00:00, 152003.03it/s]\n",
      "9000it [16:01,  9.36it/s]\n"
     ]
    },
    {
     "name": "stdout",
     "output_type": "stream",
     "text": [
      "Event ID:  24\n"
     ]
    },
    {
     "name": "stderr",
     "output_type": "stream",
     "text": [
      "100%|██████████| 7038/7038 [00:01<00:00, 3923.30it/s]\n",
      "100%|██████████| 7038/7038 [00:00<00:00, 140821.24it/s]\n",
      "100%|██████████| 8252/8252 [00:02<00:00, 3868.86it/s]\n",
      "100%|██████████| 8252/8252 [00:00<00:00, 211730.64it/s]\n",
      "100%|██████████| 8425/8425 [00:02<00:00, 4029.17it/s]\n",
      "100%|██████████| 8425/8425 [00:00<00:00, 152181.54it/s]\n",
      "100%|██████████| 8438/8438 [00:02<00:00, 3674.98it/s]\n",
      "100%|██████████| 8438/8438 [00:00<00:00, 146557.30it/s]\n",
      "100%|██████████| 8442/8442 [00:02<00:00, 3741.42it/s]\n",
      "100%|██████████| 8442/8442 [00:00<00:00, 255995.79it/s]\n",
      "100%|██████████| 8443/8443 [00:02<00:00, 3743.14it/s]\n",
      "100%|██████████| 8443/8443 [00:00<00:00, 257661.70it/s]\n",
      "8443it [14:58,  9.39it/s]\n"
     ]
    },
    {
     "name": "stdout",
     "output_type": "stream",
     "text": [
      "Event ID:  25\n"
     ]
    },
    {
     "name": "stderr",
     "output_type": "stream",
     "text": [
      "100%|██████████| 6041/6041 [00:01<00:00, 4205.93it/s]\n",
      "100%|██████████| 6041/6041 [00:00<00:00, 152861.98it/s]\n",
      "100%|██████████| 7145/7145 [00:01<00:00, 4353.39it/s]\n",
      "100%|██████████| 7145/7145 [00:00<00:00, 154662.34it/s]\n",
      "100%|██████████| 7284/7284 [00:01<00:00, 4387.90it/s]\n",
      "100%|██████████| 7284/7284 [00:00<00:00, 224252.84it/s]\n",
      "100%|██████████| 7302/7302 [00:01<00:00, 3780.00it/s]\n",
      "100%|██████████| 7302/7302 [00:00<00:00, 266023.97it/s]\n",
      "7302it [12:59,  9.37it/s]\n"
     ]
    },
    {
     "name": "stdout",
     "output_type": "stream",
     "text": [
      "Event ID:  26\n"
     ]
    },
    {
     "name": "stderr",
     "output_type": "stream",
     "text": [
      "100%|██████████| 6430/6430 [00:01<00:00, 4469.60it/s]\n",
      "100%|██████████| 6430/6430 [00:00<00:00, 246453.21it/s]\n",
      "100%|██████████| 7561/7561 [00:01<00:00, 4069.44it/s]\n",
      "100%|██████████| 7561/7561 [00:00<00:00, 152796.08it/s]\n",
      "100%|██████████| 7698/7698 [00:02<00:00, 3835.89it/s]\n",
      "100%|██████████| 7698/7698 [00:00<00:00, 163489.74it/s]\n",
      "100%|██████████| 7709/7709 [00:01<00:00, 3997.56it/s]\n",
      "100%|██████████| 7709/7709 [00:00<00:00, 267897.51it/s]\n",
      "7707it [13:40,  9.40it/s]\n"
     ]
    },
    {
     "name": "stdout",
     "output_type": "stream",
     "text": [
      "Event ID:  27\n"
     ]
    },
    {
     "name": "stderr",
     "output_type": "stream",
     "text": [
      "100%|██████████| 6933/6933 [00:01<00:00, 4168.61it/s]\n",
      "100%|██████████| 6933/6933 [00:00<00:00, 251219.07it/s]\n",
      "100%|██████████| 8142/8142 [00:02<00:00, 4028.28it/s]\n",
      "100%|██████████| 8142/8142 [00:00<00:00, 251578.52it/s]\n",
      "100%|██████████| 8289/8289 [00:02<00:00, 3786.60it/s]\n",
      "100%|██████████| 8289/8289 [00:00<00:00, 265651.32it/s]\n",
      "100%|██████████| 8307/8307 [00:02<00:00, 3869.57it/s]\n",
      "100%|██████████| 8307/8307 [00:00<00:00, 159286.83it/s]\n",
      "100%|██████████| 8308/8308 [00:02<00:00, 4002.58it/s]\n",
      "100%|██████████| 8308/8308 [00:00<00:00, 229312.17it/s]\n",
      "8308it [14:46,  9.38it/s]\n"
     ]
    },
    {
     "name": "stdout",
     "output_type": "stream",
     "text": [
      "Event ID:  28\n"
     ]
    },
    {
     "name": "stderr",
     "output_type": "stream",
     "text": [
      "100%|██████████| 5659/5659 [00:01<00:00, 4053.45it/s]\n",
      "100%|██████████| 5659/5659 [00:00<00:00, 158095.88it/s]\n",
      "100%|██████████| 6649/6649 [00:01<00:00, 4431.90it/s]\n",
      "100%|██████████| 6649/6649 [00:00<00:00, 224717.79it/s]\n",
      "100%|██████████| 6781/6781 [00:01<00:00, 3920.53it/s]\n",
      "100%|██████████| 6781/6781 [00:00<00:00, 218498.98it/s]\n",
      "100%|██████████| 6794/6794 [00:01<00:00, 4421.65it/s]\n",
      "100%|██████████| 6794/6794 [00:00<00:00, 276333.87it/s]\n",
      "100%|██████████| 6795/6795 [00:01<00:00, 3930.73it/s]\n",
      "100%|██████████| 6795/6795 [00:00<00:00, 154781.87it/s]\n",
      "100%|██████████| 6796/6796 [00:01<00:00, 4224.87it/s]\n",
      "100%|██████████| 6796/6796 [00:00<00:00, 281982.57it/s]\n",
      "6795it [12:02,  9.40it/s]\n"
     ]
    },
    {
     "name": "stdout",
     "output_type": "stream",
     "text": [
      "Event ID:  29\n"
     ]
    },
    {
     "name": "stderr",
     "output_type": "stream",
     "text": [
      "100%|██████████| 7220/7220 [00:01<00:00, 3885.39it/s]\n",
      "100%|██████████| 7220/7220 [00:00<00:00, 200081.10it/s]\n",
      "100%|██████████| 8474/8474 [00:02<00:00, 3541.34it/s]\n",
      "100%|██████████| 8474/8474 [00:00<00:00, 143178.68it/s]\n",
      "100%|██████████| 8641/8641 [00:02<00:00, 3546.14it/s]\n",
      "100%|██████████| 8641/8641 [00:00<00:00, 146868.29it/s]\n",
      "100%|██████████| 8657/8657 [00:02<00:00, 3718.27it/s]\n",
      "100%|██████████| 8657/8657 [00:00<00:00, 166712.23it/s]\n",
      "100%|██████████| 8658/8658 [00:02<00:00, 3854.22it/s]\n",
      "100%|██████████| 8658/8658 [00:00<00:00, 134748.38it/s]\n",
      "100%|██████████| 8659/8659 [00:02<00:00, 3923.21it/s]\n",
      "100%|██████████| 8659/8659 [00:00<00:00, 147270.31it/s]\n",
      "8658it [15:27,  9.34it/s]\n"
     ]
    },
    {
     "name": "stdout",
     "output_type": "stream",
     "text": [
      "Event ID:  30\n"
     ]
    },
    {
     "name": "stderr",
     "output_type": "stream",
     "text": [
      "100%|██████████| 6655/6655 [00:01<00:00, 3955.98it/s]\n",
      "100%|██████████| 6655/6655 [00:00<00:00, 150454.62it/s]\n",
      "100%|██████████| 7814/7814 [00:01<00:00, 3997.38it/s]\n",
      "100%|██████████| 7814/7814 [00:00<00:00, 261074.84it/s]\n",
      "100%|██████████| 7972/7972 [00:01<00:00, 4254.78it/s]\n",
      "100%|██████████| 7972/7972 [00:00<00:00, 232281.98it/s]\n",
      "100%|██████████| 7989/7989 [00:01<00:00, 4110.66it/s]\n",
      "100%|██████████| 7989/7989 [00:00<00:00, 168287.83it/s]\n",
      "100%|██████████| 7991/7991 [00:01<00:00, 4075.78it/s]\n",
      "100%|██████████| 7991/7991 [00:00<00:00, 160103.39it/s]\n",
      "7991it [14:15,  9.35it/s]\n"
     ]
    },
    {
     "name": "stdout",
     "output_type": "stream",
     "text": [
      "Event ID:  31\n"
     ]
    },
    {
     "name": "stderr",
     "output_type": "stream",
     "text": [
      "100%|██████████| 5415/5415 [00:01<00:00, 3989.10it/s]\n",
      "100%|██████████| 5415/5415 [00:00<00:00, 268363.69it/s]\n",
      "100%|██████████| 6339/6339 [00:01<00:00, 4354.77it/s]\n",
      "100%|██████████| 6339/6339 [00:00<00:00, 161478.11it/s]\n",
      "100%|██████████| 6467/6467 [00:01<00:00, 3957.94it/s]\n",
      "100%|██████████| 6467/6467 [00:00<00:00, 225979.65it/s]\n",
      "100%|██████████| 6477/6477 [00:01<00:00, 4560.98it/s]\n",
      "100%|██████████| 6477/6477 [00:00<00:00, 284064.48it/s]\n",
      "100%|██████████| 6479/6479 [00:01<00:00, 4547.30it/s]\n",
      "100%|██████████| 6479/6479 [00:00<00:00, 282102.10it/s]\n",
      "6477it [11:27,  9.42it/s]\n"
     ]
    },
    {
     "name": "stdout",
     "output_type": "stream",
     "text": [
      "Event ID:  32\n"
     ]
    },
    {
     "name": "stderr",
     "output_type": "stream",
     "text": [
      "100%|██████████| 5494/5494 [00:01<00:00, 4042.30it/s]\n",
      "100%|██████████| 5494/5494 [00:00<00:00, 159850.07it/s]\n",
      "100%|██████████| 6448/6448 [00:01<00:00, 4092.37it/s]\n",
      "100%|██████████| 6448/6448 [00:00<00:00, 262691.44it/s]\n",
      "100%|██████████| 6574/6574 [00:01<00:00, 4456.38it/s]\n",
      "100%|██████████| 6574/6574 [00:00<00:00, 199236.64it/s]\n",
      "100%|██████████| 6588/6588 [00:01<00:00, 4040.76it/s]\n",
      "100%|██████████| 6588/6588 [00:00<00:00, 264586.34it/s]\n",
      "100%|██████████| 6589/6589 [00:01<00:00, 3567.52it/s]\n",
      "100%|██████████| 6589/6589 [00:00<00:00, 159100.70it/s]\n",
      "6589it [11:39,  9.42it/s]\n"
     ]
    },
    {
     "name": "stdout",
     "output_type": "stream",
     "text": [
      "Event ID:  33\n"
     ]
    },
    {
     "name": "stderr",
     "output_type": "stream",
     "text": [
      "100%|██████████| 7977/7977 [00:02<00:00, 3738.10it/s]\n",
      "100%|██████████| 7977/7977 [00:00<00:00, 143949.18it/s]\n",
      "100%|██████████| 9408/9408 [00:02<00:00, 4173.27it/s]\n",
      "100%|██████████| 9408/9408 [00:00<00:00, 243934.18it/s]\n",
      "100%|██████████| 9573/9573 [00:02<00:00, 3633.71it/s]\n",
      "100%|██████████| 9573/9573 [00:00<00:00, 172774.37it/s]\n",
      "100%|██████████| 9590/9590 [00:02<00:00, 3970.23it/s]\n",
      "100%|██████████| 9590/9590 [00:00<00:00, 155544.63it/s]\n",
      "100%|██████████| 9591/9591 [00:02<00:00, 4077.26it/s]\n",
      "100%|██████████| 9591/9591 [00:00<00:00, 216067.00it/s]\n",
      "9591it [17:07,  9.34it/s]\n"
     ]
    },
    {
     "name": "stdout",
     "output_type": "stream",
     "text": [
      "Event ID:  34\n"
     ]
    },
    {
     "name": "stderr",
     "output_type": "stream",
     "text": [
      "100%|██████████| 6599/6599 [00:01<00:00, 3743.85it/s]\n",
      "100%|██████████| 6599/6599 [00:00<00:00, 152244.55it/s]\n",
      "100%|██████████| 7807/7807 [00:01<00:00, 3976.19it/s]\n",
      "100%|██████████| 7807/7807 [00:00<00:00, 203437.74it/s]\n",
      "100%|██████████| 7951/7951 [00:01<00:00, 4159.79it/s]\n",
      "100%|██████████| 7951/7951 [00:00<00:00, 156019.03it/s]\n",
      "100%|██████████| 7953/7953 [00:02<00:00, 3685.59it/s]\n",
      "100%|██████████| 7953/7953 [00:00<00:00, 154024.06it/s]\n",
      "100%|██████████| 7956/7956 [00:01<00:00, 4143.29it/s]\n",
      "100%|██████████| 7956/7956 [00:00<00:00, 255639.35it/s]\n",
      "7956it [14:11,  9.34it/s]\n"
     ]
    },
    {
     "name": "stdout",
     "output_type": "stream",
     "text": [
      "Event ID:  35\n"
     ]
    },
    {
     "name": "stderr",
     "output_type": "stream",
     "text": [
      "100%|██████████| 7087/7087 [00:02<00:00, 3533.41it/s]\n",
      "100%|██████████| 7087/7087 [00:00<00:00, 183268.39it/s]\n",
      "100%|██████████| 8376/8376 [00:02<00:00, 4035.14it/s]\n",
      "100%|██████████| 8376/8376 [00:00<00:00, 238003.71it/s]\n",
      "100%|██████████| 8547/8547 [00:02<00:00, 3482.53it/s]\n",
      "100%|██████████| 8547/8547 [00:00<00:00, 151598.14it/s]\n",
      "100%|██████████| 8564/8564 [00:02<00:00, 3768.43it/s]\n",
      "100%|██████████| 8564/8564 [00:00<00:00, 258772.99it/s]\n",
      "100%|██████████| 8567/8567 [00:02<00:00, 4096.80it/s]\n",
      "100%|██████████| 8567/8567 [00:00<00:00, 192218.74it/s]\n",
      "8566it [15:14,  9.37it/s]\n"
     ]
    },
    {
     "name": "stdout",
     "output_type": "stream",
     "text": [
      "Event ID:  36\n"
     ]
    },
    {
     "name": "stderr",
     "output_type": "stream",
     "text": [
      "100%|██████████| 7911/7911 [00:02<00:00, 3936.25it/s]\n",
      "100%|██████████| 7911/7911 [00:00<00:00, 144947.71it/s]\n",
      "100%|██████████| 9315/9315 [00:02<00:00, 3553.17it/s]\n",
      "100%|██████████| 9315/9315 [00:00<00:00, 254593.65it/s]\n",
      "100%|██████████| 9489/9489 [00:02<00:00, 3660.91it/s]\n",
      "100%|██████████| 9489/9489 [00:00<00:00, 265093.09it/s]\n",
      "100%|██████████| 9505/9505 [00:02<00:00, 3610.28it/s]\n",
      "100%|██████████| 9505/9505 [00:00<00:00, 155108.88it/s]\n",
      "100%|██████████| 9506/9506 [00:02<00:00, 3674.26it/s]\n",
      "100%|██████████| 9506/9506 [00:00<00:00, 159243.44it/s]\n",
      "9506it [16:57,  9.34it/s]\n"
     ]
    },
    {
     "name": "stdout",
     "output_type": "stream",
     "text": [
      "Event ID:  37\n"
     ]
    },
    {
     "name": "stderr",
     "output_type": "stream",
     "text": [
      "100%|██████████| 6817/6817 [00:01<00:00, 3993.08it/s]\n",
      "100%|██████████| 6817/6817 [00:00<00:00, 139738.39it/s]\n",
      "100%|██████████| 8024/8024 [00:01<00:00, 4289.29it/s]\n",
      "100%|██████████| 8024/8024 [00:00<00:00, 144832.21it/s]\n",
      "100%|██████████| 8185/8185 [00:01<00:00, 4283.95it/s]\n",
      "100%|██████████| 8185/8185 [00:00<00:00, 251210.14it/s]\n",
      "100%|██████████| 8203/8203 [00:02<00:00, 3908.82it/s]\n",
      "100%|██████████| 8203/8203 [00:00<00:00, 181084.51it/s]\n",
      "100%|██████████| 8205/8205 [00:02<00:00, 4054.13it/s]\n",
      "100%|██████████| 8205/8205 [00:00<00:00, 256106.15it/s]\n",
      "100%|██████████| 8206/8206 [00:02<00:00, 3537.70it/s]\n",
      "100%|██████████| 8206/8206 [00:00<00:00, 150639.03it/s]\n",
      "8206it [14:36,  9.36it/s]\n"
     ]
    },
    {
     "name": "stdout",
     "output_type": "stream",
     "text": [
      "Event ID:  38\n"
     ]
    },
    {
     "name": "stderr",
     "output_type": "stream",
     "text": [
      "100%|██████████| 7785/7785 [00:01<00:00, 4035.69it/s]\n",
      "100%|██████████| 7785/7785 [00:00<00:00, 152092.83it/s]\n",
      "100%|██████████| 9126/9126 [00:02<00:00, 3739.08it/s]\n",
      "100%|██████████| 9126/9126 [00:00<00:00, 147025.54it/s]\n",
      "100%|██████████| 9305/9305 [00:02<00:00, 3981.56it/s]\n",
      "100%|██████████| 9305/9305 [00:00<00:00, 149132.02it/s]\n",
      "100%|██████████| 9313/9313 [00:02<00:00, 3902.82it/s]\n",
      "100%|██████████| 9313/9313 [00:00<00:00, 261429.93it/s]\n",
      "100%|██████████| 9316/9316 [00:02<00:00, 3697.06it/s]\n",
      "100%|██████████| 9316/9316 [00:00<00:00, 255016.49it/s]\n",
      "9316it [16:39,  9.32it/s]\n"
     ]
    },
    {
     "name": "stdout",
     "output_type": "stream",
     "text": [
      "Event ID:  39\n"
     ]
    },
    {
     "name": "stderr",
     "output_type": "stream",
     "text": [
      "100%|██████████| 7574/7574 [00:02<00:00, 3619.94it/s]\n",
      "100%|██████████| 7574/7574 [00:00<00:00, 125526.66it/s]\n",
      "100%|██████████| 8879/8879 [00:02<00:00, 3849.76it/s]\n",
      "100%|██████████| 8879/8879 [00:00<00:00, 145258.49it/s]\n",
      "100%|██████████| 9037/9037 [00:02<00:00, 3782.36it/s]\n",
      "100%|██████████| 9037/9037 [00:00<00:00, 143769.35it/s]\n",
      "100%|██████████| 9048/9048 [00:02<00:00, 3739.79it/s]\n",
      "100%|██████████| 9048/9048 [00:00<00:00, 195094.94it/s]\n",
      "9048it [16:08,  9.35it/s]\n"
     ]
    },
    {
     "name": "stdout",
     "output_type": "stream",
     "text": [
      "Event ID:  40\n"
     ]
    },
    {
     "name": "stderr",
     "output_type": "stream",
     "text": [
      "100%|██████████| 7075/7075 [00:02<00:00, 3528.03it/s]\n",
      "100%|██████████| 7075/7075 [00:00<00:00, 241668.37it/s]\n",
      "100%|██████████| 8309/8309 [00:02<00:00, 3894.99it/s]\n",
      "100%|██████████| 8309/8309 [00:00<00:00, 162528.38it/s]\n",
      "100%|██████████| 8480/8480 [00:02<00:00, 3895.70it/s]\n",
      "100%|██████████| 8480/8480 [00:00<00:00, 255801.75it/s]\n",
      "100%|██████████| 8495/8495 [00:02<00:00, 3794.39it/s]\n",
      "100%|██████████| 8495/8495 [00:00<00:00, 257645.81it/s]\n",
      "100%|██████████| 8496/8496 [00:02<00:00, 3868.05it/s]\n",
      "100%|██████████| 8496/8496 [00:00<00:00, 152441.85it/s]\n",
      "8496it [15:05,  9.39it/s]\n"
     ]
    },
    {
     "name": "stdout",
     "output_type": "stream",
     "text": [
      "Event ID:  41\n"
     ]
    },
    {
     "name": "stderr",
     "output_type": "stream",
     "text": [
      "100%|██████████| 7025/7025 [00:01<00:00, 4016.85it/s]\n",
      "100%|██████████| 7025/7025 [00:00<00:00, 146661.29it/s]\n",
      "100%|██████████| 8239/8239 [00:02<00:00, 3867.19it/s]\n",
      "100%|██████████| 8239/8239 [00:00<00:00, 141710.15it/s]\n",
      "100%|██████████| 8389/8389 [00:02<00:00, 3561.51it/s]\n",
      "100%|██████████| 8389/8389 [00:00<00:00, 161671.47it/s]\n",
      "100%|██████████| 8402/8402 [00:01<00:00, 4241.63it/s]\n",
      "100%|██████████| 8402/8402 [00:00<00:00, 160661.15it/s]\n",
      "8401it [14:56,  9.37it/s]\n"
     ]
    },
    {
     "name": "stdout",
     "output_type": "stream",
     "text": [
      "Event ID:  42\n"
     ]
    },
    {
     "name": "stderr",
     "output_type": "stream",
     "text": [
      "100%|██████████| 6988/6988 [00:02<00:00, 3432.44it/s]\n",
      "100%|██████████| 6988/6988 [00:00<00:00, 143333.30it/s]\n",
      "100%|██████████| 8251/8251 [00:02<00:00, 4047.76it/s]\n",
      "100%|██████████| 8251/8251 [00:00<00:00, 186714.73it/s]\n",
      "100%|██████████| 8406/8406 [00:02<00:00, 3837.90it/s]\n",
      "100%|██████████| 8406/8406 [00:00<00:00, 138526.93it/s]\n",
      "100%|██████████| 8416/8416 [00:02<00:00, 3926.40it/s]\n",
      "100%|██████████| 8416/8416 [00:00<00:00, 191010.22it/s]\n",
      "100%|██████████| 8419/8419 [00:02<00:00, 3694.10it/s]\n",
      "100%|██████████| 8419/8419 [00:00<00:00, 159229.49it/s]\n",
      "8418it [14:57,  9.38it/s]\n"
     ]
    },
    {
     "name": "stdout",
     "output_type": "stream",
     "text": [
      "Event ID:  43\n"
     ]
    },
    {
     "name": "stderr",
     "output_type": "stream",
     "text": [
      "100%|██████████| 8919/8919 [00:02<00:00, 3793.49it/s]\n",
      "100%|██████████| 8919/8919 [00:00<00:00, 139589.98it/s]\n",
      "100%|██████████| 10452/10452 [00:02<00:00, 3826.54it/s]\n",
      "100%|██████████| 10452/10452 [00:00<00:00, 145968.01it/s]\n",
      "100%|██████████| 10647/10647 [00:02<00:00, 3719.63it/s]\n",
      "100%|██████████| 10647/10647 [00:00<00:00, 254895.97it/s]\n",
      "100%|██████████| 10661/10661 [00:02<00:00, 3758.77it/s]\n",
      "100%|██████████| 10661/10661 [00:00<00:00, 189219.79it/s]\n",
      "10660it [19:04,  9.31it/s]\n"
     ]
    },
    {
     "name": "stdout",
     "output_type": "stream",
     "text": [
      "Event ID:  44\n"
     ]
    },
    {
     "name": "stderr",
     "output_type": "stream",
     "text": [
      "100%|██████████| 6358/6358 [00:01<00:00, 3849.69it/s]\n",
      "100%|██████████| 6358/6358 [00:00<00:00, 238852.33it/s]\n",
      "100%|██████████| 7433/7433 [00:01<00:00, 4100.57it/s]\n",
      "100%|██████████| 7433/7433 [00:00<00:00, 155425.91it/s]\n",
      "100%|██████████| 7569/7569 [00:01<00:00, 4138.05it/s]\n",
      "100%|██████████| 7569/7569 [00:00<00:00, 162876.19it/s]\n",
      "100%|██████████| 7577/7577 [00:01<00:00, 4461.97it/s]\n",
      "100%|██████████| 7577/7577 [00:00<00:00, 275363.41it/s]\n",
      "100%|██████████| 7579/7579 [00:01<00:00, 3797.05it/s]\n",
      "100%|██████████| 7579/7579 [00:00<00:00, 164987.47it/s]\n",
      "7579it [13:27,  9.39it/s]\n"
     ]
    },
    {
     "name": "stdout",
     "output_type": "stream",
     "text": [
      "Event ID:  45\n"
     ]
    },
    {
     "name": "stderr",
     "output_type": "stream",
     "text": [
      "100%|██████████| 6094/6094 [00:01<00:00, 4112.03it/s]\n",
      "100%|██████████| 6094/6094 [00:00<00:00, 256313.44it/s]\n",
      "100%|██████████| 7198/7198 [00:01<00:00, 3993.79it/s]\n",
      "100%|██████████| 7198/7198 [00:00<00:00, 254397.31it/s]\n",
      "100%|██████████| 7329/7329 [00:01<00:00, 4072.68it/s]\n",
      "100%|██████████| 7329/7329 [00:00<00:00, 156006.83it/s]\n",
      "100%|██████████| 7334/7334 [00:01<00:00, 4292.21it/s]\n",
      "100%|██████████| 7334/7334 [00:00<00:00, 158455.81it/s]\n",
      "100%|██████████| 7335/7335 [00:01<00:00, 3874.64it/s]\n",
      "100%|██████████| 7335/7335 [00:00<00:00, 161929.03it/s]\n",
      "100%|██████████| 7336/7336 [00:01<00:00, 3784.19it/s]\n",
      "100%|██████████| 7336/7336 [00:00<00:00, 149546.85it/s]\n",
      "7336it [12:59,  9.41it/s]\n"
     ]
    },
    {
     "name": "stdout",
     "output_type": "stream",
     "text": [
      "Event ID:  46\n"
     ]
    },
    {
     "name": "stderr",
     "output_type": "stream",
     "text": [
      "100%|██████████| 5698/5698 [00:01<00:00, 4286.30it/s]\n",
      "100%|██████████| 5698/5698 [00:00<00:00, 152161.82it/s]\n",
      "100%|██████████| 6722/6722 [00:01<00:00, 4375.47it/s]\n",
      "100%|██████████| 6722/6722 [00:00<00:00, 159457.23it/s]\n",
      "100%|██████████| 6869/6869 [00:01<00:00, 4577.74it/s]\n",
      "100%|██████████| 6869/6869 [00:00<00:00, 266950.88it/s]\n",
      "100%|██████████| 6873/6873 [00:01<00:00, 4323.29it/s]\n",
      "100%|██████████| 6873/6873 [00:00<00:00, 154394.45it/s]\n",
      "6873it [12:10,  9.41it/s]\n"
     ]
    },
    {
     "name": "stdout",
     "output_type": "stream",
     "text": [
      "Event ID:  47\n"
     ]
    },
    {
     "name": "stderr",
     "output_type": "stream",
     "text": [
      "100%|██████████| 6697/6697 [00:01<00:00, 4012.02it/s]\n",
      "100%|██████████| 6697/6697 [00:00<00:00, 241293.81it/s]\n",
      "100%|██████████| 7839/7839 [00:02<00:00, 3626.69it/s]\n",
      "100%|██████████| 7839/7839 [00:00<00:00, 146811.41it/s]\n",
      "100%|██████████| 7976/7976 [00:02<00:00, 3969.59it/s]\n",
      "100%|██████████| 7976/7976 [00:00<00:00, 242509.99it/s]\n",
      "100%|██████████| 7994/7994 [00:01<00:00, 4004.39it/s]\n",
      "100%|██████████| 7994/7994 [00:00<00:00, 153598.94it/s]\n",
      "7994it [14:15,  9.35it/s]\n"
     ]
    },
    {
     "name": "stdout",
     "output_type": "stream",
     "text": [
      "Event ID:  48\n"
     ]
    },
    {
     "name": "stderr",
     "output_type": "stream",
     "text": [
      "100%|██████████| 7668/7668 [00:01<00:00, 4101.94it/s]\n",
      "100%|██████████| 7668/7668 [00:00<00:00, 234156.93it/s]\n",
      "100%|██████████| 8983/8983 [00:02<00:00, 4055.81it/s]\n",
      "100%|██████████| 8983/8983 [00:00<00:00, 249130.05it/s]\n",
      "100%|██████████| 9146/9146 [00:02<00:00, 3813.42it/s]\n",
      "100%|██████████| 9146/9146 [00:00<00:00, 156564.43it/s]\n",
      "100%|██████████| 9157/9157 [00:02<00:00, 3888.85it/s]\n",
      "100%|██████████| 9157/9157 [00:00<00:00, 221725.21it/s]\n",
      "9157it [16:12,  9.41it/s]\n"
     ]
    },
    {
     "name": "stdout",
     "output_type": "stream",
     "text": [
      "Event ID:  49\n"
     ]
    },
    {
     "name": "stderr",
     "output_type": "stream",
     "text": [
      "100%|██████████| 7618/7618 [00:01<00:00, 3841.10it/s]\n",
      "100%|██████████| 7618/7618 [00:00<00:00, 239849.03it/s]\n",
      "100%|██████████| 8969/8969 [00:02<00:00, 3689.46it/s]\n",
      "100%|██████████| 8969/8969 [00:00<00:00, 152489.54it/s]\n",
      "100%|██████████| 9162/9162 [00:02<00:00, 3836.00it/s]\n",
      "100%|██████████| 9162/9162 [00:00<00:00, 257278.95it/s]\n",
      "100%|██████████| 9177/9177 [00:02<00:00, 3805.37it/s]\n",
      "100%|██████████| 9177/9177 [00:00<00:00, 173294.47it/s]\n",
      "9177it [16:15,  9.40it/s]\n"
     ]
    },
    {
     "name": "stdout",
     "output_type": "stream",
     "text": [
      "Event ID:  50\n"
     ]
    },
    {
     "name": "stderr",
     "output_type": "stream",
     "text": [
      "100%|██████████| 7227/7227 [00:01<00:00, 4293.28it/s]\n",
      "100%|██████████| 7227/7227 [00:00<00:00, 207645.07it/s]\n",
      "100%|██████████| 8464/8464 [00:02<00:00, 4221.60it/s]\n",
      "100%|██████████| 8464/8464 [00:00<00:00, 199564.84it/s]\n",
      "100%|██████████| 8631/8631 [00:02<00:00, 3730.05it/s]\n",
      "100%|██████████| 8631/8631 [00:00<00:00, 251007.38it/s]\n",
      "100%|██████████| 8645/8645 [00:02<00:00, 3665.05it/s]\n",
      "100%|██████████| 8645/8645 [00:00<00:00, 159684.67it/s]\n",
      "8644it [15:18,  9.41it/s]\n"
     ]
    },
    {
     "name": "stdout",
     "output_type": "stream",
     "text": [
      "Event ID:  51\n"
     ]
    },
    {
     "name": "stderr",
     "output_type": "stream",
     "text": [
      "100%|██████████| 7305/7305 [00:01<00:00, 4124.84it/s]\n",
      "100%|██████████| 7305/7305 [00:00<00:00, 242067.02it/s]\n",
      "100%|██████████| 8575/8575 [00:02<00:00, 3866.80it/s]\n",
      "100%|██████████| 8575/8575 [00:00<00:00, 150058.44it/s]\n",
      "100%|██████████| 8750/8750 [00:02<00:00, 3890.78it/s]\n",
      "100%|██████████| 8750/8750 [00:00<00:00, 167540.09it/s]\n",
      "100%|██████████| 8763/8763 [00:02<00:00, 4285.45it/s]\n",
      "100%|██████████| 8763/8763 [00:00<00:00, 258999.97it/s]\n",
      "8763it [15:31,  9.41it/s]\n"
     ]
    },
    {
     "name": "stdout",
     "output_type": "stream",
     "text": [
      "Event ID:  52\n"
     ]
    },
    {
     "name": "stderr",
     "output_type": "stream",
     "text": [
      "100%|██████████| 7018/7018 [00:01<00:00, 4197.25it/s]\n",
      "100%|██████████| 7018/7018 [00:00<00:00, 144564.40it/s]\n",
      "100%|██████████| 8196/8196 [00:01<00:00, 4338.61it/s]\n",
      "100%|██████████| 8196/8196 [00:00<00:00, 145640.99it/s]\n",
      "100%|██████████| 8359/8359 [00:01<00:00, 4325.58it/s]\n",
      "100%|██████████| 8359/8359 [00:00<00:00, 253281.13it/s]\n",
      "100%|██████████| 8376/8376 [00:02<00:00, 4087.74it/s]\n",
      "100%|██████████| 8376/8376 [00:00<00:00, 250837.09it/s]\n",
      "100%|██████████| 8377/8377 [00:02<00:00, 4137.39it/s]\n",
      "100%|██████████| 8377/8377 [00:00<00:00, 228609.53it/s]\n",
      "100%|██████████| 8378/8378 [00:02<00:00, 3851.51it/s]\n",
      "100%|██████████| 8378/8378 [00:00<00:00, 236006.01it/s]\n",
      "8377it [14:48,  9.43it/s]\n"
     ]
    },
    {
     "name": "stdout",
     "output_type": "stream",
     "text": [
      "Event ID:  53\n"
     ]
    },
    {
     "name": "stderr",
     "output_type": "stream",
     "text": [
      "100%|██████████| 7528/7528 [00:01<00:00, 3834.63it/s]\n",
      "100%|██████████| 7528/7528 [00:00<00:00, 144544.44it/s]\n",
      "100%|██████████| 8905/8905 [00:02<00:00, 3569.59it/s]\n",
      "100%|██████████| 8905/8905 [00:00<00:00, 170746.47it/s]\n",
      "100%|██████████| 9075/9075 [00:02<00:00, 3818.33it/s]\n",
      "100%|██████████| 9075/9075 [00:00<00:00, 160551.84it/s]\n",
      "100%|██████████| 9088/9088 [00:02<00:00, 3880.30it/s]\n",
      "100%|██████████| 9088/9088 [00:00<00:00, 260211.31it/s]\n",
      "9088it [16:07,  9.40it/s]\n"
     ]
    },
    {
     "name": "stdout",
     "output_type": "stream",
     "text": [
      "Event ID:  54\n"
     ]
    },
    {
     "name": "stderr",
     "output_type": "stream",
     "text": [
      "100%|██████████| 6324/6324 [00:01<00:00, 4070.08it/s]\n",
      "100%|██████████| 6324/6324 [00:00<00:00, 226785.04it/s]\n",
      "100%|██████████| 7387/7387 [00:01<00:00, 4164.69it/s]\n",
      "100%|██████████| 7387/7387 [00:00<00:00, 249605.84it/s]\n",
      "100%|██████████| 7524/7524 [00:01<00:00, 4469.17it/s]\n",
      "100%|██████████| 7524/7524 [00:00<00:00, 161660.68it/s]\n",
      "100%|██████████| 7536/7536 [00:01<00:00, 4327.97it/s]\n",
      "100%|██████████| 7536/7536 [00:00<00:00, 254501.11it/s]\n",
      "100%|██████████| 7537/7537 [00:01<00:00, 4020.12it/s]\n",
      "100%|██████████| 7537/7537 [00:00<00:00, 255124.44it/s]\n",
      "7537it [13:18,  9.44it/s]\n"
     ]
    },
    {
     "name": "stdout",
     "output_type": "stream",
     "text": [
      "Event ID:  55\n"
     ]
    },
    {
     "name": "stderr",
     "output_type": "stream",
     "text": [
      "100%|██████████| 7221/7221 [00:01<00:00, 3906.48it/s]\n",
      "100%|██████████| 7221/7221 [00:00<00:00, 199013.50it/s]\n",
      "100%|██████████| 8433/8433 [00:01<00:00, 4433.99it/s]\n",
      "100%|██████████| 8433/8433 [00:00<00:00, 185541.75it/s]\n",
      "100%|██████████| 8583/8583 [00:02<00:00, 3794.91it/s]\n",
      "100%|██████████| 8583/8583 [00:00<00:00, 218860.53it/s]\n",
      "100%|██████████| 8593/8593 [00:02<00:00, 4166.36it/s]\n",
      "100%|██████████| 8593/8593 [00:00<00:00, 157755.00it/s]\n",
      "8593it [15:13,  9.41it/s]\n"
     ]
    },
    {
     "name": "stdout",
     "output_type": "stream",
     "text": [
      "Event ID:  56\n"
     ]
    },
    {
     "name": "stderr",
     "output_type": "stream",
     "text": [
      "100%|██████████| 7825/7825 [00:01<00:00, 4172.55it/s]\n",
      "100%|██████████| 7825/7825 [00:00<00:00, 219593.39it/s]\n",
      "100%|██████████| 9254/9254 [00:02<00:00, 4004.24it/s]\n",
      "100%|██████████| 9254/9254 [00:00<00:00, 147886.30it/s]\n",
      "100%|██████████| 9421/9421 [00:02<00:00, 3960.25it/s]\n",
      "100%|██████████| 9421/9421 [00:00<00:00, 177534.38it/s]\n",
      "100%|██████████| 9439/9439 [00:02<00:00, 3987.65it/s]\n",
      "100%|██████████| 9439/9439 [00:00<00:00, 216605.31it/s]\n",
      "100%|██████████| 9441/9441 [00:02<00:00, 3819.41it/s]\n",
      "100%|██████████| 9441/9441 [00:00<00:00, 176258.56it/s]\n",
      "9441it [16:45,  9.39it/s]\n"
     ]
    },
    {
     "name": "stdout",
     "output_type": "stream",
     "text": [
      "Event ID:  57\n"
     ]
    },
    {
     "name": "stderr",
     "output_type": "stream",
     "text": [
      "100%|██████████| 7796/7796 [00:02<00:00, 3864.85it/s]\n",
      "100%|██████████| 7796/7796 [00:00<00:00, 170741.97it/s]\n",
      "100%|██████████| 9161/9161 [00:02<00:00, 4261.12it/s]\n",
      "100%|██████████| 9161/9161 [00:00<00:00, 249694.70it/s]\n",
      "100%|██████████| 9321/9321 [00:02<00:00, 4087.15it/s]\n",
      "100%|██████████| 9321/9321 [00:00<00:00, 175624.68it/s]\n",
      "100%|██████████| 9331/9331 [00:02<00:00, 3682.44it/s]\n",
      "100%|██████████| 9331/9331 [00:00<00:00, 260672.11it/s]\n",
      "100%|██████████| 9334/9334 [00:02<00:00, 3685.90it/s]\n",
      "100%|██████████| 9334/9334 [00:00<00:00, 157194.62it/s]\n",
      "9334it [16:35,  9.38it/s]\n"
     ]
    },
    {
     "name": "stdout",
     "output_type": "stream",
     "text": [
      "Event ID:  58\n"
     ]
    },
    {
     "name": "stderr",
     "output_type": "stream",
     "text": [
      "100%|██████████| 7205/7205 [00:01<00:00, 4037.79it/s]\n",
      "100%|██████████| 7205/7205 [00:00<00:00, 147964.44it/s]\n",
      "100%|██████████| 8459/8459 [00:02<00:00, 3963.23it/s]\n",
      "100%|██████████| 8459/8459 [00:00<00:00, 153961.32it/s]\n",
      "100%|██████████| 8614/8614 [00:02<00:00, 3611.83it/s]\n",
      "100%|██████████| 8614/8614 [00:00<00:00, 154678.87it/s]\n",
      "100%|██████████| 8623/8623 [00:02<00:00, 3941.69it/s]\n",
      "100%|██████████| 8623/8623 [00:00<00:00, 234934.64it/s]\n",
      "8622it [15:15,  9.42it/s]\n"
     ]
    },
    {
     "name": "stdout",
     "output_type": "stream",
     "text": [
      "Event ID:  59\n"
     ]
    },
    {
     "name": "stderr",
     "output_type": "stream",
     "text": [
      "100%|██████████| 6453/6453 [00:01<00:00, 4346.78it/s]\n",
      "100%|██████████| 6453/6453 [00:00<00:00, 153821.66it/s]\n",
      "100%|██████████| 7659/7659 [00:01<00:00, 4191.00it/s]\n",
      "100%|██████████| 7659/7659 [00:00<00:00, 161794.69it/s]\n",
      "100%|██████████| 7818/7818 [00:02<00:00, 3897.48it/s]\n",
      "100%|██████████| 7818/7818 [00:00<00:00, 163655.04it/s]\n",
      "100%|██████████| 7832/7832 [00:02<00:00, 3760.97it/s]\n",
      "100%|██████████| 7832/7832 [00:00<00:00, 171958.71it/s]\n",
      "100%|██████████| 7833/7833 [00:02<00:00, 3888.57it/s]\n",
      "100%|██████████| 7833/7833 [00:00<00:00, 267409.92it/s]\n",
      "7833it [13:51,  9.42it/s]\n"
     ]
    },
    {
     "name": "stdout",
     "output_type": "stream",
     "text": [
      "Event ID:  60\n"
     ]
    },
    {
     "name": "stderr",
     "output_type": "stream",
     "text": [
      "100%|██████████| 6739/6739 [00:01<00:00, 3729.81it/s]\n",
      "100%|██████████| 6739/6739 [00:00<00:00, 245946.61it/s]\n",
      "100%|██████████| 7918/7918 [00:01<00:00, 4328.64it/s]\n",
      "100%|██████████| 7918/7918 [00:00<00:00, 147367.74it/s]\n",
      "100%|██████████| 8069/8069 [00:01<00:00, 4145.99it/s]\n",
      "100%|██████████| 8069/8069 [00:00<00:00, 153170.04it/s]\n",
      "100%|██████████| 8075/8075 [00:01<00:00, 4286.09it/s]\n",
      "100%|██████████| 8075/8075 [00:00<00:00, 153682.47it/s]\n",
      "100%|██████████| 8078/8078 [00:02<00:00, 3924.24it/s]\n",
      "100%|██████████| 8078/8078 [00:00<00:00, 233028.11it/s]\n",
      "8077it [14:17,  9.42it/s]\n"
     ]
    },
    {
     "name": "stdout",
     "output_type": "stream",
     "text": [
      "Event ID:  61\n"
     ]
    },
    {
     "name": "stderr",
     "output_type": "stream",
     "text": [
      "100%|██████████| 7278/7278 [00:01<00:00, 3672.21it/s]\n",
      "100%|██████████| 7278/7278 [00:00<00:00, 152065.04it/s]\n",
      "100%|██████████| 8552/8552 [00:02<00:00, 3999.70it/s]\n",
      "100%|██████████| 8552/8552 [00:00<00:00, 151623.99it/s]\n",
      "100%|██████████| 8711/8711 [00:02<00:00, 3695.10it/s]\n",
      "100%|██████████| 8711/8711 [00:00<00:00, 260888.00it/s]\n",
      "100%|██████████| 8727/8727 [00:02<00:00, 4181.25it/s]\n",
      "100%|██████████| 8727/8727 [00:00<00:00, 192427.18it/s]\n",
      "100%|██████████| 8728/8728 [00:02<00:00, 3704.98it/s]\n",
      "100%|██████████| 8728/8728 [00:00<00:00, 259350.81it/s]\n",
      "8727it [15:27,  9.41it/s]\n"
     ]
    },
    {
     "name": "stdout",
     "output_type": "stream",
     "text": [
      "Event ID:  62\n"
     ]
    },
    {
     "name": "stderr",
     "output_type": "stream",
     "text": [
      "100%|██████████| 7659/7659 [00:01<00:00, 4171.39it/s]\n",
      "100%|██████████| 7659/7659 [00:00<00:00, 232679.33it/s]\n",
      "100%|██████████| 9018/9018 [00:02<00:00, 3758.00it/s]\n",
      "100%|██████████| 9018/9018 [00:00<00:00, 231217.84it/s]\n",
      "100%|██████████| 9183/9183 [00:02<00:00, 4165.23it/s]\n",
      "100%|██████████| 9183/9183 [00:00<00:00, 181277.03it/s]\n",
      "100%|██████████| 9197/9197 [00:02<00:00, 4051.77it/s]\n",
      "100%|██████████| 9197/9197 [00:00<00:00, 143578.74it/s]\n",
      "100%|██████████| 9198/9198 [00:02<00:00, 3791.57it/s]\n",
      "100%|██████████| 9198/9198 [00:00<00:00, 160275.89it/s]\n",
      "9198it [16:18,  9.40it/s]\n"
     ]
    },
    {
     "name": "stdout",
     "output_type": "stream",
     "text": [
      "Event ID:  63\n"
     ]
    },
    {
     "name": "stderr",
     "output_type": "stream",
     "text": [
      "100%|██████████| 7362/7362 [00:01<00:00, 4278.83it/s]\n",
      "100%|██████████| 7362/7362 [00:00<00:00, 237462.73it/s]\n",
      "100%|██████████| 8638/8638 [00:02<00:00, 3579.05it/s]\n",
      "100%|██████████| 8638/8638 [00:00<00:00, 249280.29it/s]\n",
      "100%|██████████| 8800/8800 [00:02<00:00, 4073.77it/s]\n",
      "100%|██████████| 8800/8800 [00:00<00:00, 157097.39it/s]\n",
      "100%|██████████| 8809/8809 [00:02<00:00, 3886.25it/s]\n",
      "100%|██████████| 8809/8809 [00:00<00:00, 159817.05it/s]\n",
      "100%|██████████| 8812/8812 [00:02<00:00, 3812.43it/s]\n",
      "100%|██████████| 8812/8812 [00:00<00:00, 233563.19it/s]\n",
      "8812it [15:36,  9.41it/s]\n"
     ]
    },
    {
     "name": "stdout",
     "output_type": "stream",
     "text": [
      "Event ID:  64\n"
     ]
    },
    {
     "name": "stderr",
     "output_type": "stream",
     "text": [
      "100%|██████████| 6078/6078 [00:01<00:00, 4070.05it/s]\n",
      "100%|██████████| 6078/6078 [00:00<00:00, 237965.25it/s]\n",
      "100%|██████████| 7143/7143 [00:01<00:00, 3953.02it/s]\n",
      "100%|██████████| 7143/7143 [00:00<00:00, 255177.79it/s]\n",
      "100%|██████████| 7260/7260 [00:01<00:00, 3990.22it/s]\n",
      "100%|██████████| 7260/7260 [00:00<00:00, 266342.28it/s]\n",
      "100%|██████████| 7272/7272 [00:01<00:00, 4210.46it/s]\n",
      "100%|██████████| 7272/7272 [00:00<00:00, 249466.15it/s]\n",
      "7272it [12:53,  9.40it/s]\n"
     ]
    },
    {
     "name": "stdout",
     "output_type": "stream",
     "text": [
      "Event ID:  65\n"
     ]
    },
    {
     "name": "stderr",
     "output_type": "stream",
     "text": [
      "100%|██████████| 7043/7043 [00:01<00:00, 3973.36it/s]\n",
      "100%|██████████| 7043/7043 [00:00<00:00, 240217.31it/s]\n",
      "100%|██████████| 8312/8312 [00:02<00:00, 3781.02it/s]\n",
      "100%|██████████| 8312/8312 [00:00<00:00, 147101.50it/s]\n",
      "100%|██████████| 8456/8456 [00:02<00:00, 4047.83it/s]\n",
      "100%|██████████| 8456/8456 [00:00<00:00, 149096.33it/s]\n",
      "100%|██████████| 8461/8461 [00:02<00:00, 4027.73it/s]\n",
      "100%|██████████| 8461/8461 [00:00<00:00, 154121.45it/s]\n",
      "8461it [14:59,  9.41it/s]\n"
     ]
    },
    {
     "name": "stdout",
     "output_type": "stream",
     "text": [
      "Event ID:  66\n"
     ]
    },
    {
     "name": "stderr",
     "output_type": "stream",
     "text": [
      "100%|██████████| 8051/8051 [00:02<00:00, 3997.99it/s]\n",
      "100%|██████████| 8051/8051 [00:00<00:00, 232604.38it/s]\n",
      "100%|██████████| 9457/9457 [00:02<00:00, 4083.87it/s]\n",
      "100%|██████████| 9457/9457 [00:00<00:00, 196627.82it/s]\n",
      "100%|██████████| 9640/9640 [00:02<00:00, 4084.08it/s]\n",
      "100%|██████████| 9640/9640 [00:00<00:00, 266387.48it/s]\n",
      "100%|██████████| 9660/9660 [00:02<00:00, 3733.08it/s]\n",
      "100%|██████████| 9660/9660 [00:00<00:00, 170729.35it/s]\n",
      "100%|██████████| 9662/9662 [00:02<00:00, 3395.21it/s]\n",
      "100%|██████████| 9662/9662 [00:00<00:00, 151167.80it/s]\n",
      "100%|██████████| 9663/9663 [00:02<00:00, 3993.97it/s]\n",
      "100%|██████████| 9663/9663 [00:00<00:00, 231474.47it/s]\n",
      "9663it [17:10,  9.38it/s]\n"
     ]
    },
    {
     "name": "stdout",
     "output_type": "stream",
     "text": [
      "Event ID:  67\n"
     ]
    },
    {
     "name": "stderr",
     "output_type": "stream",
     "text": [
      "100%|██████████| 6958/6958 [00:01<00:00, 4128.41it/s]\n",
      "100%|██████████| 6958/6958 [00:00<00:00, 137942.61it/s]\n",
      "100%|██████████| 8145/8145 [00:02<00:00, 3698.85it/s]\n",
      "100%|██████████| 8145/8145 [00:00<00:00, 145745.53it/s]\n",
      "100%|██████████| 8292/8292 [00:02<00:00, 3503.64it/s]\n",
      "100%|██████████| 8292/8292 [00:00<00:00, 153193.98it/s]\n",
      "100%|██████████| 8308/8308 [00:02<00:00, 3850.42it/s]\n",
      "100%|██████████| 8308/8308 [00:00<00:00, 153979.95it/s]\n",
      "8308it [14:42,  9.41it/s]\n"
     ]
    },
    {
     "name": "stdout",
     "output_type": "stream",
     "text": [
      "Event ID:  68\n"
     ]
    },
    {
     "name": "stderr",
     "output_type": "stream",
     "text": [
      "100%|██████████| 6446/6446 [00:01<00:00, 4576.32it/s]\n",
      "100%|██████████| 6446/6446 [00:00<00:00, 168446.36it/s]\n",
      "100%|██████████| 7566/7566 [00:02<00:00, 3721.95it/s]\n",
      "100%|██████████| 7566/7566 [00:00<00:00, 199857.06it/s]\n",
      "100%|██████████| 7720/7720 [00:02<00:00, 3462.25it/s]\n",
      "100%|██████████| 7720/7720 [00:00<00:00, 151867.04it/s]\n",
      "100%|██████████| 7732/7732 [00:02<00:00, 3500.06it/s]\n",
      "100%|██████████| 7732/7732 [00:00<00:00, 160985.45it/s]\n",
      "7731it [13:40,  9.42it/s]\n"
     ]
    },
    {
     "name": "stdout",
     "output_type": "stream",
     "text": [
      "Event ID:  69\n"
     ]
    },
    {
     "name": "stderr",
     "output_type": "stream",
     "text": [
      "100%|██████████| 6516/6516 [00:01<00:00, 3802.71it/s]\n",
      "100%|██████████| 6516/6516 [00:00<00:00, 149928.88it/s]\n",
      "100%|██████████| 7666/7666 [00:01<00:00, 4359.62it/s]\n",
      "100%|██████████| 7666/7666 [00:00<00:00, 167063.46it/s]\n",
      "100%|██████████| 7800/7800 [00:01<00:00, 4113.05it/s]\n",
      "100%|██████████| 7800/7800 [00:00<00:00, 152915.09it/s]\n",
      "100%|██████████| 7809/7809 [00:01<00:00, 4073.38it/s]\n",
      "100%|██████████| 7809/7809 [00:00<00:00, 157026.25it/s]\n",
      "100%|██████████| 7810/7810 [00:01<00:00, 4052.21it/s]\n",
      "100%|██████████| 7810/7810 [00:00<00:00, 157950.51it/s]\n",
      "7809it [13:49,  9.41it/s]\n"
     ]
    },
    {
     "name": "stdout",
     "output_type": "stream",
     "text": [
      "Event ID:  70\n"
     ]
    },
    {
     "name": "stderr",
     "output_type": "stream",
     "text": [
      "100%|██████████| 7459/7459 [00:01<00:00, 3980.99it/s]\n",
      "100%|██████████| 7459/7459 [00:00<00:00, 219425.95it/s]\n",
      "100%|██████████| 8772/8772 [00:02<00:00, 3692.36it/s]\n",
      "100%|██████████| 8772/8772 [00:00<00:00, 223158.92it/s]\n",
      "100%|██████████| 8936/8936 [00:02<00:00, 3810.40it/s]\n",
      "100%|██████████| 8936/8936 [00:00<00:00, 136332.65it/s]\n",
      "100%|██████████| 8949/8949 [00:02<00:00, 3615.58it/s]\n",
      "100%|██████████| 8949/8949 [00:00<00:00, 183162.83it/s]\n",
      "100%|██████████| 8950/8950 [00:02<00:00, 4087.13it/s]\n",
      "100%|██████████| 8950/8950 [00:00<00:00, 255180.01it/s]\n",
      "8950it [15:56,  9.35it/s]\n"
     ]
    },
    {
     "name": "stdout",
     "output_type": "stream",
     "text": [
      "Event ID:  71\n"
     ]
    },
    {
     "name": "stderr",
     "output_type": "stream",
     "text": [
      "100%|██████████| 6795/6795 [00:01<00:00, 4288.69it/s]\n",
      "100%|██████████| 6795/6795 [00:00<00:00, 240992.84it/s]\n",
      "100%|██████████| 7992/7992 [00:01<00:00, 4148.78it/s]\n",
      "100%|██████████| 7992/7992 [00:00<00:00, 220391.44it/s]\n",
      "100%|██████████| 8117/8117 [00:01<00:00, 4422.85it/s]\n",
      "100%|██████████| 8117/8117 [00:00<00:00, 266327.41it/s]\n",
      "100%|██████████| 8133/8133 [00:01<00:00, 4309.65it/s]\n",
      "100%|██████████| 8133/8133 [00:00<00:00, 218874.67it/s]\n",
      "100%|██████████| 8135/8135 [00:01<00:00, 4209.09it/s]\n",
      "100%|██████████| 8135/8135 [00:00<00:00, 160402.52it/s]\n",
      "8135it [14:25,  9.40it/s]\n"
     ]
    },
    {
     "name": "stdout",
     "output_type": "stream",
     "text": [
      "Event ID:  72\n"
     ]
    },
    {
     "name": "stderr",
     "output_type": "stream",
     "text": [
      "100%|██████████| 7129/7129 [00:01<00:00, 4235.19it/s]\n",
      "100%|██████████| 7129/7129 [00:00<00:00, 147217.47it/s]\n",
      "100%|██████████| 8387/8387 [00:02<00:00, 3984.55it/s]\n",
      "100%|██████████| 8387/8387 [00:00<00:00, 155553.42it/s]\n",
      "100%|██████████| 8543/8543 [00:02<00:00, 3861.29it/s]\n",
      "100%|██████████| 8543/8543 [00:00<00:00, 159460.01it/s]\n",
      "100%|██████████| 8559/8559 [00:02<00:00, 3672.21it/s]\n",
      "100%|██████████| 8559/8559 [00:00<00:00, 276945.40it/s]\n",
      "8559it [15:11,  9.39it/s]\n"
     ]
    },
    {
     "name": "stdout",
     "output_type": "stream",
     "text": [
      "Event ID:  73\n"
     ]
    },
    {
     "name": "stderr",
     "output_type": "stream",
     "text": [
      "100%|██████████| 7282/7282 [00:01<00:00, 4049.59it/s]\n",
      "100%|██████████| 7282/7282 [00:00<00:00, 208780.53it/s]\n",
      "100%|██████████| 8595/8595 [00:02<00:00, 4004.21it/s]\n",
      "100%|██████████| 8595/8595 [00:00<00:00, 148360.19it/s]\n",
      "100%|██████████| 8764/8764 [00:02<00:00, 3937.56it/s]\n",
      "100%|██████████| 8764/8764 [00:00<00:00, 171103.64it/s]\n",
      "100%|██████████| 8768/8768 [00:02<00:00, 3649.97it/s]\n",
      "100%|██████████| 8768/8768 [00:00<00:00, 143697.01it/s]\n",
      "8767it [15:35,  9.37it/s]\n"
     ]
    },
    {
     "name": "stdout",
     "output_type": "stream",
     "text": [
      "Event ID:  74\n"
     ]
    },
    {
     "name": "stderr",
     "output_type": "stream",
     "text": [
      "100%|██████████| 6255/6255 [00:01<00:00, 3683.60it/s]\n",
      "100%|██████████| 6255/6255 [00:00<00:00, 153014.29it/s]\n",
      "100%|██████████| 7414/7414 [00:01<00:00, 3950.59it/s]\n",
      "100%|██████████| 7414/7414 [00:00<00:00, 262007.06it/s]\n",
      "100%|██████████| 7581/7581 [00:01<00:00, 3919.31it/s]\n",
      "100%|██████████| 7581/7581 [00:00<00:00, 181949.90it/s]\n",
      "100%|██████████| 7589/7589 [00:02<00:00, 3551.66it/s]\n",
      "100%|██████████| 7589/7589 [00:00<00:00, 279907.96it/s]\n",
      "100%|██████████| 7591/7591 [00:02<00:00, 3712.82it/s]\n",
      "100%|██████████| 7591/7591 [00:00<00:00, 272523.85it/s]\n",
      "7591it [13:27,  9.40it/s]\n"
     ]
    },
    {
     "name": "stdout",
     "output_type": "stream",
     "text": [
      "Event ID:  75\n"
     ]
    },
    {
     "name": "stderr",
     "output_type": "stream",
     "text": [
      "100%|██████████| 6632/6632 [00:01<00:00, 4189.13it/s]\n",
      "100%|██████████| 6632/6632 [00:00<00:00, 124189.67it/s]\n",
      "100%|██████████| 7795/7795 [00:01<00:00, 3950.07it/s]\n",
      "100%|██████████| 7795/7795 [00:00<00:00, 149189.59it/s]\n",
      "100%|██████████| 7936/7936 [00:01<00:00, 4090.96it/s]\n",
      "100%|██████████| 7936/7936 [00:00<00:00, 259317.52it/s]\n",
      "100%|██████████| 7945/7945 [00:01<00:00, 4034.77it/s]\n",
      "100%|██████████| 7945/7945 [00:00<00:00, 153767.60it/s]\n",
      "100%|██████████| 7946/7946 [00:02<00:00, 3878.96it/s]\n",
      "100%|██████████| 7946/7946 [00:00<00:00, 153879.97it/s]\n",
      "100%|██████████| 7947/7947 [00:01<00:00, 4044.64it/s]\n",
      "100%|██████████| 7947/7947 [00:00<00:00, 202670.08it/s]\n",
      "7947it [14:04,  9.41it/s]\n"
     ]
    },
    {
     "name": "stdout",
     "output_type": "stream",
     "text": [
      "Event ID:  76\n"
     ]
    },
    {
     "name": "stderr",
     "output_type": "stream",
     "text": [
      "100%|██████████| 5871/5871 [00:01<00:00, 3787.67it/s]\n",
      "100%|██████████| 5871/5871 [00:00<00:00, 152123.94it/s]\n",
      "100%|██████████| 6872/6872 [00:01<00:00, 4254.66it/s]\n",
      "100%|██████████| 6872/6872 [00:00<00:00, 257456.25it/s]\n",
      "100%|██████████| 7009/7009 [00:01<00:00, 4532.14it/s]\n",
      "100%|██████████| 7009/7009 [00:00<00:00, 176341.41it/s]\n",
      "100%|██████████| 7016/7016 [00:01<00:00, 4345.38it/s]\n",
      "100%|██████████| 7016/7016 [00:00<00:00, 223958.39it/s]\n",
      "100%|██████████| 7018/7018 [00:01<00:00, 3973.12it/s]\n",
      "100%|██████████| 7018/7018 [00:00<00:00, 264136.41it/s]\n",
      "7017it [12:23,  9.44it/s]\n"
     ]
    },
    {
     "name": "stdout",
     "output_type": "stream",
     "text": [
      "Event ID:  77\n"
     ]
    },
    {
     "name": "stderr",
     "output_type": "stream",
     "text": [
      "100%|██████████| 7156/7156 [00:01<00:00, 3793.72it/s]\n",
      "100%|██████████| 7156/7156 [00:00<00:00, 246401.72it/s]\n",
      "100%|██████████| 8375/8375 [00:01<00:00, 4282.41it/s]\n",
      "100%|██████████| 8375/8375 [00:00<00:00, 251969.33it/s]\n",
      "100%|██████████| 8537/8537 [00:02<00:00, 4081.38it/s]\n",
      "100%|██████████| 8537/8537 [00:00<00:00, 262418.73it/s]\n",
      "100%|██████████| 8548/8548 [00:02<00:00, 3963.85it/s]\n",
      "100%|██████████| 8548/8548 [00:00<00:00, 234622.58it/s]\n",
      "100%|██████████| 8549/8549 [00:02<00:00, 3759.54it/s]\n",
      "100%|██████████| 8549/8549 [00:00<00:00, 155337.19it/s]\n",
      "8549it [15:14,  9.35it/s]\n"
     ]
    },
    {
     "name": "stdout",
     "output_type": "stream",
     "text": [
      "Event ID:  78\n"
     ]
    },
    {
     "name": "stderr",
     "output_type": "stream",
     "text": [
      "100%|██████████| 5900/5900 [00:01<00:00, 3569.99it/s]\n",
      "100%|██████████| 5900/5900 [00:00<00:00, 158995.60it/s]\n",
      "100%|██████████| 6978/6978 [00:01<00:00, 4989.79it/s]\n",
      "100%|██████████| 6978/6978 [00:00<00:00, 263131.50it/s]\n",
      "100%|██████████| 7111/7111 [00:01<00:00, 5208.15it/s]\n",
      "100%|██████████| 7111/7111 [00:00<00:00, 164383.24it/s]\n",
      "100%|██████████| 7119/7119 [00:01<00:00, 3898.81it/s]\n",
      "100%|██████████| 7119/7119 [00:00<00:00, 278784.84it/s]\n",
      "7119it [12:37,  9.40it/s]\n"
     ]
    },
    {
     "name": "stdout",
     "output_type": "stream",
     "text": [
      "Event ID:  79\n"
     ]
    },
    {
     "name": "stderr",
     "output_type": "stream",
     "text": [
      "100%|██████████| 8244/8244 [00:02<00:00, 3683.74it/s]\n",
      "100%|██████████| 8244/8244 [00:00<00:00, 165263.14it/s]\n",
      "100%|██████████| 9638/9638 [00:02<00:00, 4058.64it/s]\n",
      "100%|██████████| 9638/9638 [00:00<00:00, 148037.87it/s]\n",
      "100%|██████████| 9835/9835 [00:02<00:00, 3736.81it/s]\n",
      "100%|██████████| 9835/9835 [00:00<00:00, 159865.83it/s]\n",
      "100%|██████████| 9848/9848 [00:02<00:00, 3631.37it/s]\n",
      "100%|██████████| 9848/9848 [00:00<00:00, 152467.22it/s]\n",
      "9848it [17:32,  9.36it/s]\n"
     ]
    },
    {
     "name": "stdout",
     "output_type": "stream",
     "text": [
      "Event ID:  80\n"
     ]
    },
    {
     "name": "stderr",
     "output_type": "stream",
     "text": [
      "100%|██████████| 6870/6870 [00:01<00:00, 4060.87it/s]\n",
      "100%|██████████| 6870/6870 [00:00<00:00, 195833.01it/s]\n",
      "100%|██████████| 8062/8062 [00:02<00:00, 3580.68it/s]\n",
      "100%|██████████| 8062/8062 [00:00<00:00, 228060.15it/s]\n",
      "100%|██████████| 8203/8203 [00:02<00:00, 4018.25it/s]\n",
      "100%|██████████| 8203/8203 [00:00<00:00, 171881.56it/s]\n",
      "100%|██████████| 8219/8219 [00:02<00:00, 3471.24it/s]\n",
      "100%|██████████| 8219/8219 [00:00<00:00, 228263.14it/s]\n",
      "8219it [14:34,  9.40it/s]\n"
     ]
    },
    {
     "name": "stdout",
     "output_type": "stream",
     "text": [
      "Event ID:  81\n"
     ]
    },
    {
     "name": "stderr",
     "output_type": "stream",
     "text": [
      "100%|██████████| 6895/6895 [00:01<00:00, 3730.21it/s]\n",
      "100%|██████████| 6895/6895 [00:00<00:00, 181696.52it/s]\n",
      "100%|██████████| 8049/8049 [00:01<00:00, 4242.85it/s]\n",
      "100%|██████████| 8049/8049 [00:00<00:00, 250400.17it/s]\n",
      "100%|██████████| 8203/8203 [00:02<00:00, 4028.18it/s]\n",
      "100%|██████████| 8203/8203 [00:00<00:00, 163716.66it/s]\n",
      "100%|██████████| 8218/8218 [00:02<00:00, 3762.59it/s]\n",
      "100%|██████████| 8218/8218 [00:00<00:00, 158695.36it/s]\n",
      "8218it [14:34,  9.39it/s]\n"
     ]
    },
    {
     "name": "stdout",
     "output_type": "stream",
     "text": [
      "Event ID:  82\n"
     ]
    },
    {
     "name": "stderr",
     "output_type": "stream",
     "text": [
      "100%|██████████| 8039/8039 [00:02<00:00, 3871.42it/s]\n",
      "100%|██████████| 8039/8039 [00:00<00:00, 223870.36it/s]\n",
      "100%|██████████| 9456/9456 [00:02<00:00, 3499.49it/s]\n",
      "100%|██████████| 9456/9456 [00:00<00:00, 129932.80it/s]\n",
      "100%|██████████| 9623/9623 [00:02<00:00, 3893.09it/s]\n",
      "100%|██████████| 9623/9623 [00:00<00:00, 243143.30it/s]\n",
      "100%|██████████| 9637/9637 [00:02<00:00, 3780.27it/s]\n",
      "100%|██████████| 9637/9637 [00:00<00:00, 252352.16it/s]\n",
      "100%|██████████| 9638/9638 [00:02<00:00, 3855.37it/s]\n",
      "100%|██████████| 9638/9638 [00:00<00:00, 212183.11it/s]\n",
      "9638it [17:10,  9.36it/s]\n"
     ]
    },
    {
     "name": "stdout",
     "output_type": "stream",
     "text": [
      "Event ID:  83\n"
     ]
    },
    {
     "name": "stderr",
     "output_type": "stream",
     "text": [
      "100%|██████████| 6226/6226 [00:01<00:00, 4214.12it/s]\n",
      "100%|██████████| 6226/6226 [00:00<00:00, 154869.21it/s]\n",
      "100%|██████████| 7335/7335 [00:01<00:00, 4588.11it/s]\n",
      "100%|██████████| 7335/7335 [00:00<00:00, 273687.57it/s]\n",
      "100%|██████████| 7463/7463 [00:02<00:00, 3695.64it/s]\n",
      "100%|██████████| 7463/7463 [00:00<00:00, 169335.04it/s]\n",
      "100%|██████████| 7480/7480 [00:01<00:00, 3922.65it/s]\n",
      "100%|██████████| 7480/7480 [00:00<00:00, 156880.30it/s]\n",
      "100%|██████████| 7481/7481 [00:01<00:00, 4273.73it/s]\n",
      "100%|██████████| 7481/7481 [00:00<00:00, 167862.81it/s]\n",
      "7480it [13:14,  9.41it/s]\n"
     ]
    },
    {
     "name": "stdout",
     "output_type": "stream",
     "text": [
      "Event ID:  84\n"
     ]
    },
    {
     "name": "stderr",
     "output_type": "stream",
     "text": [
      "100%|██████████| 7197/7197 [00:02<00:00, 3466.39it/s]\n",
      "100%|██████████| 7197/7197 [00:00<00:00, 152200.62it/s]\n",
      "100%|██████████| 8468/8468 [00:02<00:00, 4185.53it/s]\n",
      "100%|██████████| 8468/8468 [00:00<00:00, 246943.34it/s]\n",
      "100%|██████████| 8643/8643 [00:02<00:00, 4311.29it/s]\n",
      "100%|██████████| 8643/8643 [00:00<00:00, 266995.91it/s]\n",
      "100%|██████████| 8654/8654 [00:02<00:00, 3637.34it/s]\n",
      "100%|██████████| 8654/8654 [00:00<00:00, 170434.03it/s]\n",
      "100%|██████████| 8655/8655 [00:02<00:00, 4020.64it/s]\n",
      "100%|██████████| 8655/8655 [00:00<00:00, 159722.37it/s]\n",
      "100%|██████████| 8657/8657 [00:02<00:00, 4063.24it/s]\n",
      "100%|██████████| 8657/8657 [00:00<00:00, 159643.39it/s]\n",
      "8657it [15:21,  9.39it/s]\n"
     ]
    },
    {
     "name": "stdout",
     "output_type": "stream",
     "text": [
      "Event ID:  85\n"
     ]
    },
    {
     "name": "stderr",
     "output_type": "stream",
     "text": [
      "100%|██████████| 7767/7767 [00:02<00:00, 3645.39it/s]\n",
      "100%|██████████| 7767/7767 [00:00<00:00, 142835.29it/s]\n",
      "100%|██████████| 9135/9135 [00:02<00:00, 3769.91it/s]\n",
      "100%|██████████| 9135/9135 [00:00<00:00, 242611.88it/s]\n",
      "100%|██████████| 9289/9289 [00:02<00:00, 4172.21it/s]\n",
      "100%|██████████| 9289/9289 [00:00<00:00, 249546.14it/s]\n",
      "100%|██████████| 9301/9301 [00:02<00:00, 3757.23it/s]\n",
      "100%|██████████| 9301/9301 [00:00<00:00, 161590.68it/s]\n",
      "9301it [16:32,  9.37it/s]\n"
     ]
    },
    {
     "name": "stdout",
     "output_type": "stream",
     "text": [
      "Event ID:  86\n"
     ]
    },
    {
     "name": "stderr",
     "output_type": "stream",
     "text": [
      "100%|██████████| 7692/7692 [00:01<00:00, 4079.21it/s]\n",
      "100%|██████████| 7692/7692 [00:00<00:00, 150668.93it/s]\n",
      "100%|██████████| 9021/9021 [00:02<00:00, 4230.48it/s]\n",
      "100%|██████████| 9021/9021 [00:00<00:00, 148810.35it/s]\n",
      "100%|██████████| 9181/9181 [00:02<00:00, 3920.18it/s]\n",
      "100%|██████████| 9181/9181 [00:00<00:00, 260258.89it/s]\n",
      "100%|██████████| 9195/9195 [00:02<00:00, 3795.75it/s]\n",
      "100%|██████████| 9195/9195 [00:00<00:00, 135572.18it/s]\n",
      "100%|██████████| 9196/9196 [00:02<00:00, 3919.83it/s]\n",
      "100%|██████████| 9196/9196 [00:00<00:00, 161260.03it/s]\n",
      "9196it [16:25,  9.33it/s]\n"
     ]
    },
    {
     "name": "stdout",
     "output_type": "stream",
     "text": [
      "Event ID:  87\n"
     ]
    },
    {
     "name": "stderr",
     "output_type": "stream",
     "text": [
      "100%|██████████| 7594/7594 [00:02<00:00, 3676.07it/s]\n",
      "100%|██████████| 7594/7594 [00:00<00:00, 146989.94it/s]\n",
      "100%|██████████| 8943/8943 [00:02<00:00, 4197.83it/s]\n",
      "100%|██████████| 8943/8943 [00:00<00:00, 151167.56it/s]\n",
      "100%|██████████| 9115/9115 [00:02<00:00, 4230.22it/s]\n",
      "100%|██████████| 9115/9115 [00:00<00:00, 175484.63it/s]\n",
      "100%|██████████| 9133/9133 [00:02<00:00, 4177.80it/s]\n",
      "100%|██████████| 9133/9133 [00:00<00:00, 183430.76it/s]\n",
      "100%|██████████| 9134/9134 [00:02<00:00, 3769.69it/s]\n",
      "100%|██████████| 9134/9134 [00:00<00:00, 156742.85it/s]\n",
      "9134it [16:15,  9.36it/s]\n"
     ]
    },
    {
     "name": "stdout",
     "output_type": "stream",
     "text": [
      "Event ID:  88\n"
     ]
    },
    {
     "name": "stderr",
     "output_type": "stream",
     "text": [
      "100%|██████████| 7665/7665 [00:02<00:00, 3803.62it/s]\n",
      "100%|██████████| 7665/7665 [00:00<00:00, 143185.05it/s]\n",
      "100%|██████████| 8953/8953 [00:02<00:00, 3966.16it/s]\n",
      "100%|██████████| 8953/8953 [00:00<00:00, 243672.28it/s]\n",
      "100%|██████████| 9120/9120 [00:02<00:00, 3972.52it/s]\n",
      "100%|██████████| 9120/9120 [00:00<00:00, 249812.59it/s]\n",
      "100%|██████████| 9136/9136 [00:02<00:00, 3741.78it/s]\n",
      "100%|██████████| 9136/9136 [00:00<00:00, 220917.02it/s]\n",
      "100%|██████████| 9138/9138 [00:02<00:00, 3976.79it/s]\n",
      "100%|██████████| 9138/9138 [00:00<00:00, 265224.21it/s]\n",
      "9138it [16:18,  9.34it/s]\n"
     ]
    },
    {
     "name": "stdout",
     "output_type": "stream",
     "text": [
      "Event ID:  89\n"
     ]
    },
    {
     "name": "stderr",
     "output_type": "stream",
     "text": [
      "100%|██████████| 7091/7091 [00:01<00:00, 3985.82it/s]\n",
      "100%|██████████| 7091/7091 [00:00<00:00, 162950.07it/s]\n",
      "100%|██████████| 8308/8308 [00:02<00:00, 4098.33it/s]\n",
      "100%|██████████| 8308/8308 [00:00<00:00, 195515.17it/s]\n",
      "100%|██████████| 8462/8462 [00:02<00:00, 3799.02it/s]\n",
      "100%|██████████| 8462/8462 [00:00<00:00, 230334.22it/s]\n",
      "100%|██████████| 8473/8473 [00:02<00:00, 4038.04it/s]\n",
      "100%|██████████| 8473/8473 [00:00<00:00, 263574.95it/s]\n",
      "100%|██████████| 8474/8474 [00:02<00:00, 3911.85it/s]\n",
      "100%|██████████| 8474/8474 [00:00<00:00, 249298.82it/s]\n",
      "8474it [15:03,  9.38it/s]\n"
     ]
    },
    {
     "name": "stdout",
     "output_type": "stream",
     "text": [
      "Event ID:  90\n"
     ]
    },
    {
     "name": "stderr",
     "output_type": "stream",
     "text": [
      "100%|██████████| 6588/6588 [00:01<00:00, 3883.50it/s]\n",
      "100%|██████████| 6588/6588 [00:00<00:00, 239242.89it/s]\n",
      "100%|██████████| 7781/7781 [00:01<00:00, 4202.93it/s]\n",
      "100%|██████████| 7781/7781 [00:00<00:00, 255739.02it/s]\n",
      "100%|██████████| 7931/7931 [00:02<00:00, 3879.91it/s]\n",
      "100%|██████████| 7931/7931 [00:00<00:00, 272539.04it/s]\n",
      "100%|██████████| 7940/7940 [00:02<00:00, 3699.57it/s]\n",
      "100%|██████████| 7940/7940 [00:00<00:00, 179428.21it/s]\n",
      "100%|██████████| 7941/7941 [00:01<00:00, 4239.83it/s]\n",
      "100%|██████████| 7941/7941 [00:00<00:00, 163871.12it/s]\n",
      "7941it [14:05,  9.39it/s]\n"
     ]
    },
    {
     "name": "stdout",
     "output_type": "stream",
     "text": [
      "Event ID:  91\n"
     ]
    },
    {
     "name": "stderr",
     "output_type": "stream",
     "text": [
      "100%|██████████| 6365/6365 [00:01<00:00, 3944.88it/s]\n",
      "100%|██████████| 6365/6365 [00:00<00:00, 240054.90it/s]\n",
      "100%|██████████| 7479/7479 [00:01<00:00, 4379.49it/s]\n",
      "100%|██████████| 7479/7479 [00:00<00:00, 160767.93it/s]\n",
      "100%|██████████| 7629/7629 [00:01<00:00, 4255.37it/s]\n",
      "100%|██████████| 7629/7629 [00:00<00:00, 184524.22it/s]\n",
      "100%|██████████| 7641/7641 [00:01<00:00, 4420.23it/s]\n",
      "100%|██████████| 7641/7641 [00:00<00:00, 159138.96it/s]\n",
      "7641it [13:32,  9.40it/s]\n"
     ]
    },
    {
     "name": "stdout",
     "output_type": "stream",
     "text": [
      "Event ID:  92\n"
     ]
    },
    {
     "name": "stderr",
     "output_type": "stream",
     "text": [
      "100%|██████████| 8522/8522 [00:02<00:00, 4107.51it/s]\n",
      "100%|██████████| 8522/8522 [00:00<00:00, 142453.49it/s]\n",
      "100%|██████████| 10083/10083 [00:02<00:00, 3759.39it/s]\n",
      "100%|██████████| 10083/10083 [00:00<00:00, 242221.61it/s]\n",
      "100%|██████████| 10283/10283 [00:02<00:00, 3820.53it/s]\n",
      "100%|██████████| 10283/10283 [00:00<00:00, 157027.75it/s]\n",
      "100%|██████████| 10299/10299 [00:02<00:00, 3885.39it/s]\n",
      "100%|██████████| 10299/10299 [00:00<00:00, 262169.46it/s]\n",
      "10299it [18:22,  9.34it/s]\n"
     ]
    },
    {
     "name": "stdout",
     "output_type": "stream",
     "text": [
      "Event ID:  93\n"
     ]
    },
    {
     "name": "stderr",
     "output_type": "stream",
     "text": [
      "100%|██████████| 6239/6239 [00:01<00:00, 4035.77it/s]\n",
      "100%|██████████| 6239/6239 [00:00<00:00, 150562.78it/s]\n",
      "100%|██████████| 7289/7289 [00:01<00:00, 4351.89it/s]\n",
      "100%|██████████| 7289/7289 [00:00<00:00, 141505.59it/s]\n",
      "100%|██████████| 7405/7405 [00:02<00:00, 3689.46it/s]\n",
      "100%|██████████| 7405/7405 [00:00<00:00, 256260.90it/s]\n",
      "100%|██████████| 7417/7417 [00:01<00:00, 3857.24it/s]\n",
      "100%|██████████| 7417/7417 [00:00<00:00, 178058.60it/s]\n",
      "100%|██████████| 7418/7418 [00:01<00:00, 3920.19it/s]\n",
      "100%|██████████| 7418/7418 [00:00<00:00, 263420.17it/s]\n",
      "7418it [13:09,  9.40it/s]\n"
     ]
    },
    {
     "name": "stdout",
     "output_type": "stream",
     "text": [
      "Event ID:  94\n"
     ]
    },
    {
     "name": "stderr",
     "output_type": "stream",
     "text": [
      "100%|██████████| 7335/7335 [00:01<00:00, 4368.40it/s]\n",
      "100%|██████████| 7335/7335 [00:00<00:00, 221093.93it/s]\n",
      "100%|██████████| 8655/8655 [00:02<00:00, 3649.95it/s]\n",
      "100%|██████████| 8655/8655 [00:00<00:00, 148847.01it/s]\n",
      "100%|██████████| 8812/8812 [00:02<00:00, 4144.44it/s]\n",
      "100%|██████████| 8812/8812 [00:00<00:00, 238273.09it/s]\n",
      "100%|██████████| 8821/8821 [00:02<00:00, 3987.15it/s]\n",
      "100%|██████████| 8821/8821 [00:00<00:00, 249319.09it/s]\n",
      "100%|██████████| 8822/8822 [00:02<00:00, 3990.32it/s]\n",
      "100%|██████████| 8822/8822 [00:00<00:00, 155832.64it/s]\n",
      "8822it [15:42,  9.36it/s]\n"
     ]
    },
    {
     "name": "stdout",
     "output_type": "stream",
     "text": [
      "Event ID:  95\n"
     ]
    },
    {
     "name": "stderr",
     "output_type": "stream",
     "text": [
      "100%|██████████| 6727/6727 [00:01<00:00, 4093.68it/s]\n",
      "100%|██████████| 6727/6727 [00:00<00:00, 238073.84it/s]\n",
      "100%|██████████| 7867/7867 [00:01<00:00, 4526.56it/s]\n",
      "100%|██████████| 7867/7867 [00:00<00:00, 249663.97it/s]\n",
      "100%|██████████| 8003/8003 [00:02<00:00, 3937.73it/s]\n",
      "100%|██████████| 8003/8003 [00:00<00:00, 244449.08it/s]\n",
      "100%|██████████| 8012/8012 [00:01<00:00, 4008.87it/s]\n",
      "100%|██████████| 8012/8012 [00:00<00:00, 161114.43it/s]\n",
      "100%|██████████| 8015/8015 [00:01<00:00, 4105.62it/s]\n",
      "100%|██████████| 8015/8015 [00:00<00:00, 269190.74it/s]\n",
      "8015it [14:13,  9.39it/s]\n"
     ]
    },
    {
     "name": "stdout",
     "output_type": "stream",
     "text": [
      "Event ID:  96\n"
     ]
    },
    {
     "name": "stderr",
     "output_type": "stream",
     "text": [
      "100%|██████████| 7123/7123 [00:01<00:00, 4207.17it/s]\n",
      "100%|██████████| 7123/7123 [00:00<00:00, 238468.33it/s]\n",
      "100%|██████████| 8396/8396 [00:02<00:00, 4034.51it/s]\n",
      "100%|██████████| 8396/8396 [00:00<00:00, 140574.73it/s]\n",
      "100%|██████████| 8542/8542 [00:02<00:00, 3575.48it/s]\n",
      "100%|██████████| 8542/8542 [00:00<00:00, 158541.77it/s]\n",
      "100%|██████████| 8555/8555 [00:02<00:00, 3888.42it/s]\n",
      "100%|██████████| 8555/8555 [00:00<00:00, 173725.32it/s]\n",
      "100%|██████████| 8556/8556 [00:02<00:00, 3629.04it/s]\n",
      "100%|██████████| 8556/8556 [00:00<00:00, 207927.79it/s]\n",
      "8556it [15:16,  9.34it/s]\n"
     ]
    },
    {
     "name": "stdout",
     "output_type": "stream",
     "text": [
      "Event ID:  97\n"
     ]
    },
    {
     "name": "stderr",
     "output_type": "stream",
     "text": [
      "100%|██████████| 7483/7483 [00:01<00:00, 4279.98it/s]\n",
      "100%|██████████| 7483/7483 [00:00<00:00, 142669.37it/s]\n",
      "100%|██████████| 8771/8771 [00:02<00:00, 4104.30it/s]\n",
      "100%|██████████| 8771/8771 [00:00<00:00, 152822.68it/s]\n",
      "100%|██████████| 8920/8920 [00:02<00:00, 4316.69it/s]\n",
      "100%|██████████| 8920/8920 [00:00<00:00, 185023.30it/s]\n",
      "100%|██████████| 8934/8934 [00:02<00:00, 3824.55it/s]\n",
      "100%|██████████| 8934/8934 [00:00<00:00, 161528.70it/s]\n",
      "100%|██████████| 8935/8935 [00:02<00:00, 3852.19it/s]\n",
      "100%|██████████| 8935/8935 [00:00<00:00, 164917.89it/s]\n",
      "8935it [15:54,  9.36it/s]\n"
     ]
    },
    {
     "name": "stdout",
     "output_type": "stream",
     "text": [
      "Event ID:  98\n"
     ]
    },
    {
     "name": "stderr",
     "output_type": "stream",
     "text": [
      "100%|██████████| 7382/7382 [00:01<00:00, 4347.19it/s]\n",
      "100%|██████████| 7382/7382 [00:00<00:00, 240499.23it/s]\n",
      "100%|██████████| 8694/8694 [00:02<00:00, 3721.24it/s]\n",
      "100%|██████████| 8694/8694 [00:00<00:00, 196438.54it/s]\n",
      "100%|██████████| 8861/8861 [00:02<00:00, 4174.29it/s]\n",
      "100%|██████████| 8861/8861 [00:00<00:00, 254531.89it/s]\n",
      "100%|██████████| 8876/8876 [00:02<00:00, 4189.03it/s]\n",
      "100%|██████████| 8876/8876 [00:00<00:00, 180740.87it/s]\n",
      "100%|██████████| 8877/8877 [00:02<00:00, 3781.94it/s]\n",
      "100%|██████████| 8877/8877 [00:00<00:00, 265916.54it/s]\n",
      "8876it [15:49,  9.35it/s]\n"
     ]
    },
    {
     "name": "stdout",
     "output_type": "stream",
     "text": [
      "Event ID:  99\n"
     ]
    },
    {
     "name": "stderr",
     "output_type": "stream",
     "text": [
      "100%|██████████| 8261/8261 [00:01<00:00, 4279.98it/s]\n",
      "100%|██████████| 8261/8261 [00:00<00:00, 233669.03it/s]\n",
      "100%|██████████| 9672/9672 [00:02<00:00, 3804.38it/s]\n",
      "100%|██████████| 9672/9672 [00:00<00:00, 151698.86it/s]\n",
      "100%|██████████| 9860/9860 [00:02<00:00, 3760.88it/s]\n",
      "100%|██████████| 9860/9860 [00:00<00:00, 221628.28it/s]\n",
      "100%|██████████| 9874/9874 [00:02<00:00, 3656.81it/s]\n",
      "100%|██████████| 9874/9874 [00:00<00:00, 270222.42it/s]\n",
      "9874it [17:37,  9.34it/s]\n"
     ]
    },
    {
     "name": "stdout",
     "output_type": "stream",
     "text": [
      "Event ID:  100\n"
     ]
    },
    {
     "name": "stderr",
     "output_type": "stream",
     "text": [
      "100%|██████████| 8212/8212 [00:01<00:00, 4282.20it/s]\n",
      "100%|██████████| 8212/8212 [00:00<00:00, 156010.93it/s]\n",
      "100%|██████████| 9612/9612 [00:02<00:00, 3478.88it/s]\n",
      "100%|██████████| 9612/9612 [00:00<00:00, 243803.86it/s]\n",
      "100%|██████████| 9792/9792 [00:02<00:00, 3844.93it/s]\n",
      "100%|██████████| 9792/9792 [00:00<00:00, 155067.75it/s]\n",
      "100%|██████████| 9802/9802 [00:02<00:00, 4078.82it/s]\n",
      "100%|██████████| 9802/9802 [00:00<00:00, 180736.03it/s]\n",
      "9801it [17:29,  9.34it/s]\n"
     ]
    },
    {
     "name": "stdout",
     "output_type": "stream",
     "text": [
      "Event ID:  101\n"
     ]
    },
    {
     "name": "stderr",
     "output_type": "stream",
     "text": [
      "100%|██████████| 7231/7231 [00:02<00:00, 3588.27it/s]\n",
      "100%|██████████| 7231/7231 [00:00<00:00, 150706.91it/s]\n",
      "100%|██████████| 8536/8536 [00:02<00:00, 3782.56it/s]\n",
      "100%|██████████| 8536/8536 [00:00<00:00, 152220.55it/s]\n",
      "100%|██████████| 8678/8678 [00:02<00:00, 3924.03it/s]\n",
      "100%|██████████| 8678/8678 [00:00<00:00, 200923.91it/s]\n",
      "100%|██████████| 8692/8692 [00:02<00:00, 3718.86it/s]\n",
      "100%|██████████| 8692/8692 [00:00<00:00, 151336.20it/s]\n",
      "8692it [15:28,  9.36it/s]\n"
     ]
    },
    {
     "name": "stdout",
     "output_type": "stream",
     "text": [
      "Event ID:  102\n"
     ]
    },
    {
     "name": "stderr",
     "output_type": "stream",
     "text": [
      "100%|██████████| 6526/6526 [00:01<00:00, 4008.80it/s]\n",
      "100%|██████████| 6526/6526 [00:00<00:00, 145371.65it/s]\n",
      "100%|██████████| 7720/7720 [00:02<00:00, 3687.08it/s]\n",
      "100%|██████████| 7720/7720 [00:00<00:00, 135262.26it/s]\n",
      "100%|██████████| 7863/7863 [00:01<00:00, 3951.42it/s]\n",
      "100%|██████████| 7863/7863 [00:00<00:00, 229997.58it/s]\n",
      "100%|██████████| 7878/7878 [00:01<00:00, 4229.44it/s]\n",
      "100%|██████████| 7878/7878 [00:00<00:00, 173319.80it/s]\n",
      "100%|██████████| 7879/7879 [00:01<00:00, 4007.73it/s]\n",
      "100%|██████████| 7879/7879 [00:00<00:00, 252687.08it/s]\n",
      "100%|██████████| 7880/7880 [00:01<00:00, 4406.39it/s]\n",
      "100%|██████████| 7880/7880 [00:00<00:00, 154824.29it/s]\n",
      "7879it [14:00,  9.38it/s]\n"
     ]
    },
    {
     "name": "stdout",
     "output_type": "stream",
     "text": [
      "Event ID:  103\n"
     ]
    },
    {
     "name": "stderr",
     "output_type": "stream",
     "text": [
      "100%|██████████| 7563/7563 [00:01<00:00, 4240.33it/s]\n",
      "100%|██████████| 7563/7563 [00:00<00:00, 168311.61it/s]\n",
      "100%|██████████| 8912/8912 [00:02<00:00, 4021.48it/s]\n",
      "100%|██████████| 8912/8912 [00:00<00:00, 176113.85it/s]\n",
      "100%|██████████| 9097/9097 [00:02<00:00, 4005.68it/s]\n",
      "100%|██████████| 9097/9097 [00:00<00:00, 267253.98it/s]\n",
      "100%|██████████| 9108/9108 [00:02<00:00, 3753.15it/s]\n",
      "100%|██████████| 9108/9108 [00:00<00:00, 272402.46it/s]\n",
      "100%|██████████| 9110/9110 [00:02<00:00, 3763.85it/s]\n",
      "100%|██████████| 9110/9110 [00:00<00:00, 271739.52it/s]\n",
      "9109it [16:14,  9.34it/s]\n"
     ]
    },
    {
     "name": "stdout",
     "output_type": "stream",
     "text": [
      "Event ID:  104\n"
     ]
    },
    {
     "name": "stderr",
     "output_type": "stream",
     "text": [
      "100%|██████████| 5879/5879 [00:01<00:00, 3824.84it/s]\n",
      "100%|██████████| 5879/5879 [00:00<00:00, 152331.23it/s]\n",
      "100%|██████████| 6908/6908 [00:01<00:00, 4064.44it/s]\n",
      "100%|██████████| 6908/6908 [00:00<00:00, 254738.85it/s]\n",
      "100%|██████████| 7054/7054 [00:01<00:00, 4407.58it/s]\n",
      "100%|██████████| 7054/7054 [00:00<00:00, 237590.10it/s]\n",
      "100%|██████████| 7063/7063 [00:01<00:00, 4067.49it/s]\n",
      "100%|██████████| 7063/7063 [00:00<00:00, 155410.60it/s]\n",
      "100%|██████████| 7064/7064 [00:01<00:00, 4397.04it/s]\n",
      "100%|██████████| 7064/7064 [00:00<00:00, 155989.89it/s]\n",
      "7064it [12:32,  9.39it/s]\n"
     ]
    },
    {
     "name": "stdout",
     "output_type": "stream",
     "text": [
      "Event ID:  105\n"
     ]
    },
    {
     "name": "stderr",
     "output_type": "stream",
     "text": [
      "100%|██████████| 7275/7275 [00:01<00:00, 3838.60it/s]\n",
      "100%|██████████| 7275/7275 [00:00<00:00, 145104.36it/s]\n",
      "100%|██████████| 8565/8565 [00:02<00:00, 3932.23it/s]\n",
      "100%|██████████| 8565/8565 [00:00<00:00, 165995.34it/s]\n",
      "100%|██████████| 8742/8742 [00:02<00:00, 4000.82it/s]\n",
      "100%|██████████| 8742/8742 [00:00<00:00, 261801.47it/s]\n",
      "100%|██████████| 8754/8754 [00:02<00:00, 4280.97it/s]\n",
      "100%|██████████| 8754/8754 [00:00<00:00, 269634.49it/s]\n",
      "100%|██████████| 8755/8755 [00:02<00:00, 3724.54it/s]\n",
      "100%|██████████| 8755/8755 [00:00<00:00, 198378.94it/s]\n",
      "8755it [15:35,  9.36it/s]\n"
     ]
    },
    {
     "name": "stdout",
     "output_type": "stream",
     "text": [
      "Event ID:  106\n"
     ]
    },
    {
     "name": "stderr",
     "output_type": "stream",
     "text": [
      "100%|██████████| 8183/8183 [00:02<00:00, 3674.26it/s]\n",
      "100%|██████████| 8183/8183 [00:00<00:00, 146565.56it/s]\n",
      "100%|██████████| 9663/9663 [00:02<00:00, 3745.53it/s]\n",
      "100%|██████████| 9663/9663 [00:00<00:00, 200670.19it/s]\n",
      "100%|██████████| 9825/9825 [00:02<00:00, 3806.82it/s]\n",
      "100%|██████████| 9825/9825 [00:00<00:00, 152736.37it/s]\n",
      "100%|██████████| 9834/9834 [00:02<00:00, 4180.15it/s]\n",
      "100%|██████████| 9834/9834 [00:00<00:00, 258577.84it/s]\n",
      "100%|██████████| 9835/9835 [00:02<00:00, 4000.28it/s]\n",
      "100%|██████████| 9835/9835 [00:00<00:00, 222644.90it/s]\n",
      "9835it [17:34,  9.33it/s]\n"
     ]
    },
    {
     "name": "stdout",
     "output_type": "stream",
     "text": [
      "Event ID:  107\n"
     ]
    },
    {
     "name": "stderr",
     "output_type": "stream",
     "text": [
      "100%|██████████| 7329/7329 [00:02<00:00, 3621.43it/s]\n",
      "100%|██████████| 7329/7329 [00:00<00:00, 130481.15it/s]\n",
      "100%|██████████| 8537/8537 [00:02<00:00, 3777.43it/s]\n",
      "100%|██████████| 8537/8537 [00:00<00:00, 146178.14it/s]\n",
      "100%|██████████| 8678/8678 [00:02<00:00, 4036.52it/s]\n",
      "100%|██████████| 8678/8678 [00:00<00:00, 207400.53it/s]\n",
      "100%|██████████| 8687/8687 [00:02<00:00, 4007.63it/s]\n",
      "100%|██████████| 8687/8687 [00:00<00:00, 255767.84it/s]\n",
      "8687it [15:27,  9.36it/s]\n"
     ]
    },
    {
     "name": "stdout",
     "output_type": "stream",
     "text": [
      "Event ID:  108\n"
     ]
    },
    {
     "name": "stderr",
     "output_type": "stream",
     "text": [
      "100%|██████████| 7452/7452 [00:01<00:00, 3778.14it/s]\n",
      "100%|██████████| 7452/7452 [00:00<00:00, 248924.48it/s]\n",
      "100%|██████████| 8799/8799 [00:02<00:00, 3951.77it/s]\n",
      "100%|██████████| 8799/8799 [00:00<00:00, 160684.44it/s]\n",
      "100%|██████████| 8976/8976 [00:02<00:00, 3656.61it/s]\n",
      "100%|██████████| 8976/8976 [00:00<00:00, 159776.23it/s]\n",
      "100%|██████████| 8990/8990 [00:02<00:00, 3612.90it/s]\n",
      "100%|██████████| 8990/8990 [00:00<00:00, 156025.96it/s]\n",
      "100%|██████████| 8991/8991 [00:02<00:00, 4046.72it/s]\n",
      "100%|██████████| 8991/8991 [00:00<00:00, 231733.92it/s]\n",
      "8991it [16:02,  9.34it/s]\n"
     ]
    },
    {
     "name": "stdout",
     "output_type": "stream",
     "text": [
      "Event ID:  109\n"
     ]
    },
    {
     "name": "stderr",
     "output_type": "stream",
     "text": [
      "100%|██████████| 7260/7260 [00:01<00:00, 4123.34it/s]\n",
      "100%|██████████| 7260/7260 [00:00<00:00, 145093.59it/s]\n",
      "100%|██████████| 8589/8589 [00:02<00:00, 3855.03it/s]\n",
      "100%|██████████| 8589/8589 [00:00<00:00, 147390.44it/s]\n",
      "100%|██████████| 8751/8751 [00:02<00:00, 3994.59it/s]\n",
      "100%|██████████| 8751/8751 [00:00<00:00, 154262.75it/s]\n",
      "100%|██████████| 8764/8764 [00:02<00:00, 4219.38it/s]\n",
      "100%|██████████| 8764/8764 [00:00<00:00, 263627.36it/s]\n",
      "100%|██████████| 8767/8767 [00:02<00:00, 4115.70it/s]\n",
      "100%|██████████| 8767/8767 [00:00<00:00, 149157.35it/s]\n",
      "8765it [15:35,  9.37it/s]\n"
     ]
    },
    {
     "name": "stdout",
     "output_type": "stream",
     "text": [
      "Event ID:  110\n"
     ]
    },
    {
     "name": "stderr",
     "output_type": "stream",
     "text": [
      "100%|██████████| 7511/7511 [00:01<00:00, 4071.54it/s]\n",
      "100%|██████████| 7511/7511 [00:00<00:00, 147842.98it/s]\n",
      "100%|██████████| 8804/8804 [00:02<00:00, 3615.54it/s]\n",
      "100%|██████████| 8804/8804 [00:00<00:00, 153237.25it/s]\n",
      "100%|██████████| 8979/8979 [00:02<00:00, 3744.40it/s]\n",
      "100%|██████████| 8979/8979 [00:00<00:00, 247699.03it/s]\n",
      "100%|██████████| 8998/8998 [00:02<00:00, 4210.45it/s]\n",
      "100%|██████████| 8998/8998 [00:00<00:00, 155923.50it/s]\n",
      "8995it [16:03,  9.34it/s]\n"
     ]
    },
    {
     "name": "stdout",
     "output_type": "stream",
     "text": [
      "Event ID:  111\n"
     ]
    },
    {
     "name": "stderr",
     "output_type": "stream",
     "text": [
      "100%|██████████| 6953/6953 [00:01<00:00, 4077.81it/s]\n",
      "100%|██████████| 6953/6953 [00:00<00:00, 145851.44it/s]\n",
      "100%|██████████| 8155/8155 [00:01<00:00, 4206.43it/s]\n",
      "100%|██████████| 8155/8155 [00:00<00:00, 167740.89it/s]\n",
      "100%|██████████| 8337/8337 [00:02<00:00, 3740.07it/s]\n",
      "100%|██████████| 8337/8337 [00:00<00:00, 143294.09it/s]\n",
      "100%|██████████| 8353/8353 [00:02<00:00, 3918.61it/s]\n",
      "100%|██████████| 8353/8353 [00:00<00:00, 199383.22it/s]\n",
      "100%|██████████| 8354/8354 [00:01<00:00, 4422.90it/s]\n",
      "100%|██████████| 8354/8354 [00:00<00:00, 251875.93it/s]\n",
      "8354it [14:51,  9.37it/s]\n"
     ]
    },
    {
     "name": "stdout",
     "output_type": "stream",
     "text": [
      "Event ID:  112\n"
     ]
    },
    {
     "name": "stderr",
     "output_type": "stream",
     "text": [
      "100%|██████████| 8138/8138 [00:01<00:00, 4180.89it/s]\n",
      "100%|██████████| 8138/8138 [00:00<00:00, 147258.72it/s]\n",
      "100%|██████████| 9562/9562 [00:02<00:00, 4138.19it/s]\n",
      "100%|██████████| 9562/9562 [00:00<00:00, 179759.38it/s]\n",
      "100%|██████████| 9738/9738 [00:02<00:00, 3701.67it/s]\n",
      "100%|██████████| 9738/9738 [00:00<00:00, 155914.46it/s]\n",
      "100%|██████████| 9755/9755 [00:02<00:00, 3832.20it/s]\n",
      "100%|██████████| 9755/9755 [00:00<00:00, 258021.08it/s]\n",
      "100%|██████████| 9758/9758 [00:02<00:00, 3867.77it/s]\n",
      "100%|██████████| 9758/9758 [00:00<00:00, 208293.56it/s]\n",
      "9758it [17:24,  9.34it/s]\n"
     ]
    },
    {
     "name": "stdout",
     "output_type": "stream",
     "text": [
      "Event ID:  113\n"
     ]
    },
    {
     "name": "stderr",
     "output_type": "stream",
     "text": [
      "100%|██████████| 6216/6216 [00:01<00:00, 4410.61it/s]\n",
      "100%|██████████| 6216/6216 [00:00<00:00, 246341.45it/s]\n",
      "100%|██████████| 7314/7314 [00:01<00:00, 4134.13it/s]\n",
      "100%|██████████| 7314/7314 [00:00<00:00, 247984.25it/s]\n",
      "100%|██████████| 7448/7448 [00:01<00:00, 4073.31it/s]\n",
      "100%|██████████| 7448/7448 [00:00<00:00, 154412.42it/s]\n",
      "100%|██████████| 7462/7462 [00:01<00:00, 4430.90it/s]\n",
      "100%|██████████| 7462/7462 [00:00<00:00, 167845.94it/s]\n",
      "100%|██████████| 7465/7465 [00:01<00:00, 4138.19it/s]\n",
      "100%|██████████| 7465/7465 [00:00<00:00, 150365.60it/s]\n",
      "7465it [13:19,  9.34it/s]\n"
     ]
    },
    {
     "name": "stdout",
     "output_type": "stream",
     "text": [
      "Event ID:  114\n"
     ]
    },
    {
     "name": "stderr",
     "output_type": "stream",
     "text": [
      "100%|██████████| 6412/6412 [00:01<00:00, 3752.36it/s]\n",
      "100%|██████████| 6412/6412 [00:00<00:00, 138948.39it/s]\n",
      "100%|██████████| 7498/7498 [00:01<00:00, 4108.17it/s]\n",
      "100%|██████████| 7498/7498 [00:00<00:00, 254690.20it/s]\n",
      "100%|██████████| 7605/7605 [00:01<00:00, 4101.66it/s]\n",
      "100%|██████████| 7605/7605 [00:00<00:00, 205768.93it/s]\n",
      "100%|██████████| 7618/7618 [00:01<00:00, 4373.48it/s]\n",
      "100%|██████████| 7618/7618 [00:00<00:00, 176561.78it/s]\n",
      "100%|██████████| 7621/7621 [00:02<00:00, 3550.47it/s]\n",
      "100%|██████████| 7621/7621 [00:00<00:00, 163523.68it/s]\n",
      "7620it [13:33,  9.37it/s]\n"
     ]
    },
    {
     "name": "stdout",
     "output_type": "stream",
     "text": [
      "Event ID:  115\n"
     ]
    },
    {
     "name": "stderr",
     "output_type": "stream",
     "text": [
      "100%|██████████| 7562/7562 [00:01<00:00, 3920.48it/s]\n",
      "100%|██████████| 7562/7562 [00:00<00:00, 137088.43it/s]\n",
      "100%|██████████| 8924/8924 [00:02<00:00, 3881.83it/s]\n",
      "100%|██████████| 8924/8924 [00:00<00:00, 145058.28it/s]\n",
      "100%|██████████| 9088/9088 [00:02<00:00, 4111.21it/s]\n",
      "100%|██████████| 9088/9088 [00:00<00:00, 258682.05it/s]\n",
      "100%|██████████| 9101/9101 [00:02<00:00, 4229.82it/s]\n",
      "100%|██████████| 9101/9101 [00:00<00:00, 137772.04it/s]\n",
      "100%|██████████| 9102/9102 [00:02<00:00, 3683.57it/s]\n",
      "100%|██████████| 9102/9102 [00:00<00:00, 199248.21it/s]\n",
      "9102it [16:13,  9.35it/s]\n"
     ]
    },
    {
     "name": "stdout",
     "output_type": "stream",
     "text": [
      "Event ID:  116\n"
     ]
    },
    {
     "name": "stderr",
     "output_type": "stream",
     "text": [
      "100%|██████████| 7481/7481 [00:01<00:00, 3799.13it/s]\n",
      "100%|██████████| 7481/7481 [00:00<00:00, 143500.10it/s]\n",
      "100%|██████████| 8785/8785 [00:02<00:00, 3748.37it/s]\n",
      "100%|██████████| 8785/8785 [00:00<00:00, 136048.98it/s]\n",
      "100%|██████████| 8945/8945 [00:02<00:00, 3841.66it/s]\n",
      "100%|██████████| 8945/8945 [00:00<00:00, 143317.91it/s]\n",
      "100%|██████████| 8957/8957 [00:02<00:00, 3808.28it/s]\n",
      "100%|██████████| 8957/8957 [00:00<00:00, 149821.06it/s]\n",
      "100%|██████████| 8958/8958 [00:02<00:00, 3768.80it/s]\n",
      "100%|██████████| 8958/8958 [00:00<00:00, 261649.28it/s]\n",
      "8958it [15:58,  9.35it/s]\n"
     ]
    },
    {
     "name": "stdout",
     "output_type": "stream",
     "text": [
      "Event ID:  117\n"
     ]
    },
    {
     "name": "stderr",
     "output_type": "stream",
     "text": [
      "100%|██████████| 6695/6695 [00:01<00:00, 4264.73it/s]\n",
      "100%|██████████| 6695/6695 [00:00<00:00, 145680.13it/s]\n",
      "100%|██████████| 7891/7891 [00:01<00:00, 4156.47it/s]\n",
      "100%|██████████| 7891/7891 [00:00<00:00, 148948.51it/s]\n",
      "100%|██████████| 8080/8080 [00:02<00:00, 3769.73it/s]\n",
      "100%|██████████| 8080/8080 [00:00<00:00, 155940.74it/s]\n",
      "100%|██████████| 8096/8096 [00:02<00:00, 3889.98it/s]\n",
      "100%|██████████| 8096/8096 [00:00<00:00, 159215.88it/s]\n",
      "8096it [14:24,  9.36it/s]\n"
     ]
    },
    {
     "name": "stdout",
     "output_type": "stream",
     "text": [
      "Event ID:  118\n"
     ]
    },
    {
     "name": "stderr",
     "output_type": "stream",
     "text": [
      "100%|██████████| 5561/5561 [00:01<00:00, 4380.97it/s]\n",
      "100%|██████████| 5561/5561 [00:00<00:00, 155301.15it/s]\n",
      "100%|██████████| 6518/6518 [00:01<00:00, 4201.38it/s]\n",
      "100%|██████████| 6518/6518 [00:00<00:00, 263518.60it/s]\n",
      "100%|██████████| 6630/6630 [00:01<00:00, 4421.99it/s]\n",
      "100%|██████████| 6630/6630 [00:00<00:00, 174923.17it/s]\n",
      "100%|██████████| 6645/6645 [00:01<00:00, 4104.16it/s]\n",
      "100%|██████████| 6645/6645 [00:00<00:00, 285196.88it/s]\n",
      "100%|██████████| 6646/6646 [00:01<00:00, 3842.83it/s]\n",
      "100%|██████████| 6646/6646 [00:00<00:00, 288245.36it/s]\n",
      "6646it [11:46,  9.41it/s]\n"
     ]
    },
    {
     "name": "stdout",
     "output_type": "stream",
     "text": [
      "Event ID:  119\n"
     ]
    },
    {
     "name": "stderr",
     "output_type": "stream",
     "text": [
      "100%|██████████| 6712/6712 [00:01<00:00, 4314.02it/s]\n",
      "100%|██████████| 6712/6712 [00:00<00:00, 199500.89it/s]\n",
      "100%|██████████| 7946/7946 [00:01<00:00, 4072.90it/s]\n",
      "100%|██████████| 7946/7946 [00:00<00:00, 242406.17it/s]\n",
      "100%|██████████| 8113/8113 [00:01<00:00, 4183.30it/s]\n",
      "100%|██████████| 8113/8113 [00:00<00:00, 256235.93it/s]\n",
      "100%|██████████| 8124/8124 [00:02<00:00, 3961.98it/s]\n",
      "100%|██████████| 8124/8124 [00:00<00:00, 255945.42it/s]\n",
      "100%|██████████| 8125/8125 [00:02<00:00, 3608.65it/s]\n",
      "100%|██████████| 8125/8125 [00:00<00:00, 252982.15it/s]\n",
      "8125it [14:31,  9.32it/s]\n"
     ]
    },
    {
     "name": "stdout",
     "output_type": "stream",
     "text": [
      "Event ID:  120\n"
     ]
    },
    {
     "name": "stderr",
     "output_type": "stream",
     "text": [
      "100%|██████████| 7488/7488 [00:02<00:00, 3564.32it/s]\n",
      "100%|██████████| 7488/7488 [00:00<00:00, 236062.60it/s]\n",
      "100%|██████████| 8803/8803 [00:02<00:00, 4302.17it/s]\n",
      "100%|██████████| 8803/8803 [00:00<00:00, 219838.04it/s]\n",
      "100%|██████████| 8965/8965 [00:02<00:00, 3787.99it/s]\n",
      "100%|██████████| 8965/8965 [00:00<00:00, 245655.10it/s]\n",
      "100%|██████████| 8979/8979 [00:02<00:00, 4332.59it/s]\n",
      "100%|██████████| 8979/8979 [00:00<00:00, 169211.94it/s]\n",
      "100%|██████████| 8981/8981 [00:02<00:00, 3938.08it/s]\n",
      "100%|██████████| 8981/8981 [00:00<00:00, 149840.67it/s]\n",
      "8981it [15:59,  9.36it/s]\n"
     ]
    },
    {
     "name": "stdout",
     "output_type": "stream",
     "text": [
      "Event ID:  121\n"
     ]
    },
    {
     "name": "stderr",
     "output_type": "stream",
     "text": [
      "100%|██████████| 5853/5853 [00:01<00:00, 4308.60it/s]\n",
      "100%|██████████| 5853/5853 [00:00<00:00, 149362.75it/s]\n",
      "100%|██████████| 6863/6863 [00:01<00:00, 4535.96it/s]\n",
      "100%|██████████| 6863/6863 [00:00<00:00, 173875.93it/s]\n",
      "100%|██████████| 6988/6988 [00:01<00:00, 3856.81it/s]\n",
      "100%|██████████| 6988/6988 [00:00<00:00, 278705.61it/s]\n",
      "100%|██████████| 6997/6997 [00:01<00:00, 3853.77it/s]\n",
      "100%|██████████| 6997/6997 [00:00<00:00, 148353.29it/s]\n",
      "100%|██████████| 6998/6998 [00:01<00:00, 4426.69it/s]\n",
      "100%|██████████| 6998/6998 [00:00<00:00, 262958.94it/s]\n",
      "6998it [12:26,  9.38it/s]\n"
     ]
    },
    {
     "name": "stdout",
     "output_type": "stream",
     "text": [
      "Event ID:  122\n"
     ]
    },
    {
     "name": "stderr",
     "output_type": "stream",
     "text": [
      "100%|██████████| 6592/6592 [00:01<00:00, 3849.34it/s]\n",
      "100%|██████████| 6592/6592 [00:00<00:00, 236258.43it/s]\n",
      "100%|██████████| 7718/7718 [00:01<00:00, 4305.58it/s]\n",
      "100%|██████████| 7718/7718 [00:00<00:00, 248225.92it/s]\n",
      "100%|██████████| 7870/7870 [00:02<00:00, 3844.80it/s]\n",
      "100%|██████████| 7870/7870 [00:00<00:00, 262893.51it/s]\n",
      "100%|██████████| 7884/7884 [00:01<00:00, 4207.83it/s]\n",
      "100%|██████████| 7884/7884 [00:00<00:00, 152803.47it/s]\n",
      "100%|██████████| 7885/7885 [00:01<00:00, 3947.09it/s]\n",
      "100%|██████████| 7885/7885 [00:00<00:00, 267311.83it/s]\n",
      "7885it [14:02,  9.36it/s]\n"
     ]
    },
    {
     "name": "stdout",
     "output_type": "stream",
     "text": [
      "Event ID:  123\n"
     ]
    },
    {
     "name": "stderr",
     "output_type": "stream",
     "text": [
      "100%|██████████| 6896/6896 [00:01<00:00, 4074.95it/s]\n",
      "100%|██████████| 6896/6896 [00:00<00:00, 155267.04it/s]\n",
      "100%|██████████| 8123/8123 [00:01<00:00, 4100.22it/s]\n",
      "100%|██████████| 8123/8123 [00:00<00:00, 237063.77it/s]\n",
      "100%|██████████| 8275/8275 [00:02<00:00, 3805.81it/s]\n",
      "100%|██████████| 8275/8275 [00:00<00:00, 155499.80it/s]\n",
      "100%|██████████| 8286/8286 [00:02<00:00, 3551.92it/s]\n",
      "100%|██████████| 8286/8286 [00:00<00:00, 143459.82it/s]\n",
      "100%|██████████| 8288/8288 [00:02<00:00, 3796.21it/s]\n",
      "100%|██████████| 8288/8288 [00:00<00:00, 152007.94it/s]\n",
      "8288it [14:46,  9.35it/s]\n"
     ]
    },
    {
     "name": "stdout",
     "output_type": "stream",
     "text": [
      "Event ID:  124\n"
     ]
    }
   ],
   "source": [
    "path_to_test = \"../data/test\"\n",
    "test_dataset_submissions = []\n",
    "\n",
    "create_submission = True # True for submission \n",
    "if create_submission:\n",
    "    for event_id, hits, cells in load_dataset(path_to_test, parts=['hits', 'cells']):\n",
    "\n",
    "        # Track pattern recognition \n",
    "        model1 = Clusterer1()\n",
    "        labs = model1.predict(hits)\n",
    "        hits['labels'] = labs\n",
    "        \n",
    "        all_hits = pd.DataFrame()\n",
    "        prev_p_len = 0\n",
    "        for i, label in tqdm(enumerate(list(set(labs)))):\n",
    "            myhits = hits[hits['labels'] == label]\n",
    "            X_test = myhits[['x2', 'y2', 'z2']].values\n",
    "\n",
    "            p = model.predict(X_test.reshape(X_test.shape[0],1,3))    \n",
    "            p = [np.argmax(p[j]) + 1 + (i * prev_p_len) for j in range(len(p))]\n",
    "            prev_p_len = len(p)\n",
    "            if prev_p_len < 100:\n",
    "                prev_p_len = 100\n",
    "            myhits['labels1'] = p\n",
    "            all_hits = all_hits.append(myhits)\n",
    "        all_hits.sort_values('hit_id', inplace=True)\n",
    "    \n",
    "        # Prepare submission for an event\n",
    "#         one_submission = create_one_event_submission(event_id, hits, labels)\n",
    "        one_submission = create_one_event_submission(event_id, all_hits, all_hits['labels1'].values)\n",
    "        test_dataset_submissions.append(one_submission)\n",
    "        \n",
    "        print('Event ID: ', event_id)\n",
    "\n",
    "    # Create submission file\n",
    "    submission = pd.concat(test_dataset_submissions, axis=0)\n",
    "    submission.to_csv('submission-004.csv', index=False)"
   ]
  },
  {
   "cell_type": "code",
   "execution_count": null,
   "metadata": {},
   "outputs": [],
   "source": [
    "model_100 = load_model('../cache/checkpoint/checkpoint-6488-100-1-3000.hdf5')"
   ]
  },
  {
   "cell_type": "code",
   "execution_count": null,
   "metadata": {},
   "outputs": [],
   "source": [
    "path_to_train = \"../data/train\"\n",
    "dataset_submissions = []\n",
    "dataset_scores = []\n",
    "\n",
    "mylabels1 = {}\n",
    "for event_id, hits, cells, particles, truth in load_dataset(path_to_train, skip=10, nevents=1):\n",
    "    \n",
    "    truth = pd.merge(truth, particles, how='left', on='particle_id')\n",
    "    hits = pd.merge(hits, truth, how='left', on='hit_id')\n",
    "\n",
    "    hits = hits.dropna()\n",
    "    truth = truth.dropna()\n",
    "\n",
    "    # Track pattern recognition\n",
    "    model1 = Clusterer1()\n",
    "    labs = model1.predict(hits)\n",
    "    hits['labels'] = labs\n",
    "    mylabels1[event_id] = labs\n",
    "    \n",
    "    all_hits = pd.DataFrame()\n",
    "    prev_p_len = 0\n",
    "    for i, label in tqdm(enumerate(list(set(labs)))):\n",
    "#         print(i)\n",
    "#         print(label)\n",
    "        myhits = hits[hits['labels'] == label]\n",
    "        X_test = myhits[['x2', 'y2', 'z2']].values\n",
    "\n",
    "        p = model.predict(X_test.reshape(X_test.shape[0],1,3))    \n",
    "        p = [np.argmax(p[j]) + 1 + (i * prev_p_len) for j in range(len(p))]\n",
    "        prev_p_len = len(p)\n",
    "        if prev_p_len < 100:\n",
    "            prev_p_len = 100\n",
    "        num_instances = [p.count(j) for j in p]\n",
    "        myhits['labels1'] = p\n",
    "        myhits['num_label_instances'] = num_instances\n",
    "        all_hits = all_hits.append(myhits)\n",
    "        all_hits_new = all_hits[all_hits.num_label_instances <= 3]\n",
    "        print(all_hits_new.shape)\n",
    "    all_hits.sort_values('hit_id', inplace=True)\n",
    "    # Prepare submission for an event\n",
    "    one_submission = create_one_event_submission(event_id, all_hits, all_hits['labels1'].values)\n",
    "#     dataset_submissions.append(one_submission)\n",
    "\n",
    "    # Score for the event\n",
    "    score = score_event(all_hits, one_submission)\n",
    "    dataset_scores.append(score)\n",
    "\n",
    "    print(\"Score for event %d: %.9f\" % (event_id, score))\n",
    "print('Mean score: %.9f' % (np.mean(dataset_scores)))"
   ]
  }
 ],
 "metadata": {
  "kernelspec": {
   "display_name": "tmlf",
   "language": "python",
   "name": "tmlf"
  },
  "language_info": {
   "codemirror_mode": {
    "name": "ipython",
    "version": 3
   },
   "file_extension": ".py",
   "mimetype": "text/x-python",
   "name": "python",
   "nbconvert_exporter": "python",
   "pygments_lexer": "ipython3",
   "version": "3.6.4"
  }
 },
 "nbformat": 4,
 "nbformat_minor": 2
}
