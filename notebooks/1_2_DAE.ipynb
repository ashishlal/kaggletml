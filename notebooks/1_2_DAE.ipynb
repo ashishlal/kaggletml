{
 "cells": [
  {
   "cell_type": "code",
   "execution_count": 1,
   "metadata": {},
   "outputs": [],
   "source": [
    "# https://www.kaggle.com/zaburo/wip-reproduce-1st-place-solution"
   ]
  },
  {
   "cell_type": "code",
   "execution_count": 2,
   "metadata": {},
   "outputs": [
    {
     "ename": "ModuleNotFoundError",
     "evalue": "No module named 'chainer'",
     "output_type": "error",
     "traceback": [
      "\u001b[0;31m---------------------------------------------------------------------------\u001b[0m",
      "\u001b[0;31mModuleNotFoundError\u001b[0m                       Traceback (most recent call last)",
      "\u001b[0;32m<ipython-input-2-8af9117620f9>\u001b[0m in \u001b[0;36m<module>\u001b[0;34m()\u001b[0m\n\u001b[1;32m      2\u001b[0m \u001b[0;32mimport\u001b[0m \u001b[0mpandas\u001b[0m \u001b[0;32mas\u001b[0m \u001b[0mpd\u001b[0m\u001b[0;34m\u001b[0m\u001b[0m\n\u001b[1;32m      3\u001b[0m \u001b[0;34m\u001b[0m\u001b[0m\n\u001b[0;32m----> 4\u001b[0;31m \u001b[0;32mimport\u001b[0m \u001b[0mchainer\u001b[0m\u001b[0;34m\u001b[0m\u001b[0m\n\u001b[0m\u001b[1;32m      5\u001b[0m \u001b[0;32mimport\u001b[0m \u001b[0mchainer\u001b[0m\u001b[0;34m.\u001b[0m\u001b[0mlinks\u001b[0m \u001b[0;32mas\u001b[0m \u001b[0mL\u001b[0m\u001b[0;34m\u001b[0m\u001b[0m\n\u001b[1;32m      6\u001b[0m \u001b[0;32mimport\u001b[0m \u001b[0mchainer\u001b[0m\u001b[0;34m.\u001b[0m\u001b[0mfunctions\u001b[0m \u001b[0;32mas\u001b[0m \u001b[0mF\u001b[0m\u001b[0;34m\u001b[0m\u001b[0m\n",
      "\u001b[0;31mModuleNotFoundError\u001b[0m: No module named 'chainer'"
     ]
    }
   ],
   "source": [
    "import numpy as np\n",
    "import pandas as pd\n",
    "\n",
    "import chainer\n",
    "import chainer.links as L\n",
    "import chainer.functions as F\n",
    "\n",
    "from chainer import training\n",
    "from chainer.training import extensions\n",
    "\n",
    "from sklearn.model_selection import KFold\n",
    "from sklearn.metrics import log_loss, roc_auc_score\n",
    "\n",
    "from scipy.special import erfinv\n",
    "\n",
    "from trackml.dataset import load_event, load_dataset\n",
    "from trackml.score import score_event\n",
    "\n",
    "import torch\n",
    "from torch import nn\n",
    "from torch.utils.data import *\n",
    "from torch.optim import *\n",
    "# from fastai.model import *\n",
    "# from fastai.column_data import *\n",
    "# from fastai.dataloader import *\n",
    "from torch.utils.data import DataLoader as torch_dl\n",
    "\n",
    "from keras.models import Model\n",
    "from keras.layers import Dense, Input\n",
    "from keras.datasets import mnist\n",
    "from keras.regularizers import l1\n",
    "from keras.optimizers import Adam\n",
    "\n",
    "import os\n",
    "%matplotlib inline"
   ]
  },
  {
   "cell_type": "code",
   "execution_count": 3,
   "metadata": {},
   "outputs": [],
   "source": [
    "from sklearn.preprocessing import StandardScaler\n",
    "from sklearn.cluster import DBSCAN\n",
    "\n",
    "class Clusterer(object):\n",
    "    \n",
    "    def __init__(self, eps):\n",
    "        self.eps = eps\n",
    "        \n",
    "    \n",
    "    def _preprocess(self, hits):\n",
    "        \n",
    "        x = hits.x.values\n",
    "        y = hits.y.values\n",
    "        z = hits.z.values\n",
    "\n",
    "        r = np.sqrt(x**2 + y**2 + z**2)\n",
    "        hits['x2'] = x/r\n",
    "        hits['y2'] = y/r\n",
    "\n",
    "        r = np.sqrt(x**2 + y**2)\n",
    "        hits['z2'] = z/r\n",
    "\n",
    "        ss = StandardScaler()\n",
    "        X = ss.fit_transform(hits[['x2', 'y2', 'z2']].values)\n",
    "        \n",
    "        return X\n",
    "    \n",
    "    \n",
    "    def predict(self, hits):\n",
    "        \n",
    "        X = self._preprocess(hits)\n",
    "        \n",
    "        cl = DBSCAN(eps=self.eps, min_samples=1, algorithm='kd_tree')\n",
    "        labels = cl.fit_predict(X)\n",
    "        \n",
    "        return labels"
   ]
  },
  {
   "cell_type": "code",
   "execution_count": 87,
   "metadata": {},
   "outputs": [],
   "source": [
    "from sklearn.preprocessing import StandardScaler\n",
    "from sklearn.cluster import DBSCAN\n",
    "\n",
    "class Clusterer1(object):\n",
    "    \n",
    "    def __init__(self, eps):\n",
    "        self.eps = eps\n",
    "        \n",
    "    \n",
    "    def _preprocess(self, hits):\n",
    "        \n",
    "        x = hits.x.values\n",
    "        y = hits.y.values\n",
    "        z = hits.z.values\n",
    "\n",
    "        r = np.sqrt(x**2 + y**2 + z**2)\n",
    "        hits['x2'] = x/r\n",
    "        hits['y2'] = y/r\n",
    "\n",
    "        r = np.sqrt(x**2 + y**2)\n",
    "        hits['z2'] = z/r\n",
    "\n",
    "        ss = StandardScaler()\n",
    "        X = ss.fit_transform(hits[['x2', 'y2', 'z2']].values)\n",
    "        \n",
    "        return X\n",
    "    \n",
    "    \n",
    "    def predict(self, hits):\n",
    "        \n",
    "#         X = self._preprocess(hits)\n",
    "        \n",
    "        cl = DBSCAN(eps=self.eps, min_samples=1, algorithm='kd_tree')\n",
    "        labels = cl.fit_predict(X)\n",
    "        \n",
    "        return labels"
   ]
  },
  {
   "cell_type": "code",
   "execution_count": 4,
   "metadata": {},
   "outputs": [],
   "source": [
    "def create_one_event_submission(event_id, hits, labels):\n",
    "    sub_data = np.column_stack(([event_id]*len(hits), hits.hit_id.values, labels))\n",
    "    submission = pd.DataFrame(data=sub_data, columns=[\"event_id\", \"hit_id\", \"track_id\"]).astype(int)\n",
    "    return submission"
   ]
  },
  {
   "cell_type": "code",
   "execution_count": 5,
   "metadata": {},
   "outputs": [],
   "source": [
    "class MLP(chainer.ChainList):\n",
    "\n",
    "    def __init__(self, topology, dropout=-1, dropout_input=-1):\n",
    "        super(MLP, self).__init__()\n",
    "        self.total_hidden_dim = sum(topology[1:-1])\n",
    "        self.dropout = dropout\n",
    "        self.dropout_input = dropout_input\n",
    "        self.b = None\n",
    "        n_in = topology[0]\n",
    "        for n_out in topology[1:]:\n",
    "            self.add_link(L.Linear(n_in, n_out))\n",
    "            n_in = n_out\n",
    "\n",
    "    def get_hidden_concat(self, X):\n",
    "        hidden_outputs = np.zeros((X.shape[0], self.total_hidden_dim), dtype=np.float32)\n",
    "        child_links = list(self.children())\n",
    "\n",
    "        next_start = 0\n",
    "        for f in child_links[:-1]:\n",
    "            X = F.relu(f(X))\n",
    "\n",
    "            next_end = next_start + X.shape[1]\n",
    "            hidden_outputs[:, next_start:next_end] = chainer.cuda.to_cpu(X.data)\n",
    "            next_start = next_end\n",
    "\n",
    "        return hidden_outputs\n",
    "\n",
    "    def __call__(self, X):\n",
    "        child_links = list(self.children())\n",
    "\n",
    "        if self.dropout_input > 0:\n",
    "            X = F.dropout(X, self.dropout_input)\n",
    "\n",
    "        for f in child_links[:-1]:\n",
    "            X = F.relu(f(X))\n",
    "            if self.dropout > 0:\n",
    "                X = F.dropout(X, self.dropout)\n",
    "\n",
    "        y = child_links[-1](X)\n",
    "        return y\n",
    "\n",
    "\n",
    "class MSERegressor(chainer.Chain):\n",
    "\n",
    "    def __init__(self, base_model):\n",
    "        super(MSERegressor, self).__init__()\n",
    "        with self.init_scope():\n",
    "            self.base_model = base_model\n",
    "\n",
    "    def __call__(self, X, y):\n",
    "        y_hat = self.base_model(X)\n",
    "        loss = F.mean_squared_error(y, y_hat)\n",
    "        chainer.report({'loss': loss}, self)\n",
    "        return loss\n",
    "\n",
    "\n",
    "class SCEClassifier(chainer.Chain):\n",
    "\n",
    "    def __init__(self, base_model):\n",
    "        super(SCEClassifier, self).__init__()\n",
    "        with self.init_scope():\n",
    "            self.base_model = base_model\n",
    "\n",
    "    def __call__(self, X, y):\n",
    "        y_hat = self.base_model(X)\n",
    "        loss = F.sigmoid_cross_entropy(y_hat[:, 0], y)\n",
    "        chainer.report({'loss': loss}, self)\n",
    "        return loss\n",
    "\n",
    "\n",
    "class SwapNoiseIterator(chainer.iterators.SerialIterator):\n",
    "\n",
    "    def __init__(self, X, noise_rate, batch_size, repeat=True, shuffle=True):\n",
    "        self.X = X\n",
    "        self.noise_rate = noise_rate\n",
    "        self.batch_size = batch_size\n",
    "        self._repeat = repeat\n",
    "        self._shuffle = shuffle\n",
    "\n",
    "        self.dataset = None\n",
    "        self.reset_noise()\n",
    "        self.reset()\n",
    "\n",
    "    def reset_noise(self):\n",
    "        X = self.X.copy()\n",
    "\n",
    "        swap_idx = (np.random.uniform(0, 1, X.shape) < self.noise_rate)\n",
    "        swap_nums = swap_idx.sum(axis=0)\n",
    "        for i in range(X.shape[1]):\n",
    "            X[swap_idx[:, i], i] = np.random.choice(self.X[:, i], swap_nums[i])\n",
    "\n",
    "        self.dataset = chainer.datasets.TupleDataset(X, self.X)\n",
    "\n",
    "    def __next__(self):\n",
    "        # All lines are the same as the original SerialIterator\n",
    "        # except the line `self.reset_noise()`\n",
    "\n",
    "        if not self._repeat and self.epoch > 0:\n",
    "            raise StopIteration\n",
    "\n",
    "        self._previous_epoch_detail = self.epoch_detail\n",
    "\n",
    "        i = self.current_position\n",
    "        i_end = i + self.batch_size\n",
    "        N = len(self.dataset)\n",
    "\n",
    "        if self._order is None:\n",
    "            batch = self.dataset[i:i_end]\n",
    "        else:\n",
    "            batch = [self.dataset[index] for index in self._order[i:i_end]]\n",
    "\n",
    "        if i_end >= N:\n",
    "            if self._repeat:\n",
    "                rest = i_end - N\n",
    "                if self._order is not None:\n",
    "                    np.random.shuffle(self._order)\n",
    "\n",
    "                self.reset_noise()\n",
    "\n",
    "                if rest > 0:\n",
    "                    if self._order is None:\n",
    "                        batch.extend(self.dataset[:rest])\n",
    "                    else:\n",
    "                        batch.extend([self.dataset[index]\n",
    "                                      for index in self._order[:rest]])\n",
    "                self.current_position = rest\n",
    "            else:\n",
    "                self.current_position = 0\n",
    "\n",
    "            self.epoch += 1\n",
    "            self.is_new_epoch = True\n",
    "        else:\n",
    "            self.is_new_epoch = False\n",
    "            self.current_position = i_end\n",
    "\n",
    "        return batch\n",
    "\n",
    "    next = __next__\n",
    "\n",
    "    def reset(self):\n",
    "        super(SwapNoiseIterator, self).reset()\n",
    "\n",
    "\n",
    "def fit(model, iterator, settings, gpu):\n",
    "    if gpu >= 0:\n",
    "        model.to_gpu(gpu)\n",
    "\n",
    "    optimizer = chainer.optimizers.SGD(lr=settings['learning_rate'])\n",
    "    optimizer.setup(model)\n",
    "    if 'reg_l2' in settings:\n",
    "        optimizer.add_hook(chainer.optimizer.WeightDecay(settings['reg_l2']))\n",
    "    print(optimizer.lr)\n",
    "\n",
    "    updater = training.StandardUpdater(iterator, optimizer, device=gpu)\n",
    "    trainer = training.Trainer(updater, (settings['nb_epochs'], 'epoch'))\n",
    "\n",
    "    trainer.extend(extensions.ExponentialShift('lr', settings['learning_rate_decay']),\n",
    "                   trigger=(1, 'epoch'))\n",
    "    trainer.extend(extensions.LogReport())\n",
    "    trainer.extend(extensions.PrintReport(['epoch', 'main/loss', 'elapsed_time']))\n",
    "    trainer.extend(extensions.ProgressBar())\n",
    "\n",
    "    trainer.run()\n",
    "    print(optimizer.lr)\n",
    "\n",
    "\n",
    "def predict(model, iterator, gpu):\n",
    "    iterator.reset()\n",
    "\n",
    "    pred = None\n",
    "    next_start = 0\n",
    "\n",
    "    with chainer.no_backprop_mode(), chainer.using_config('train', False):\n",
    "        for batch in iterator:\n",
    "            X_batch = chainer.dataset.concat_examples(batch, gpu)[0]\n",
    "            y_hat = model(X_batch)\n",
    "\n",
    "            if isinstance(y_hat, chainer.Variable):\n",
    "                y_hat = y_hat.data\n",
    "\n",
    "            y_hat = chainer.cuda.to_cpu(y_hat)\n",
    "\n",
    "            if pred is None:\n",
    "                pred = np.zeros((len(iterator.dataset), y_hat.shape[1]), dtype=np.float32)\n",
    "\n",
    "            next_end = next_start + y_hat.shape[0]\n",
    "            pred[next_start:next_end] = y_hat\n",
    "            next_start = next_end\n",
    "\n",
    "    return pred\n",
    "\n",
    "\n"
   ]
  },
  {
   "cell_type": "code",
   "execution_count": 6,
   "metadata": {},
   "outputs": [],
   "source": [
    "seed = 1024\n",
    "gpu = -1\n",
    "submission_name = '../submissions/submission.csv'"
   ]
  },
  {
   "cell_type": "code",
   "execution_count": 7,
   "metadata": {},
   "outputs": [],
   "source": [
    "np.random.seed(seed)\n",
    "if gpu >= 0:\n",
    "    chainer.cuda.get_device_from_id(gpu).use()"
   ]
  },
  {
   "cell_type": "code",
   "execution_count": 8,
   "metadata": {},
   "outputs": [],
   "source": [
    "# now read 1 event\n",
    "path_to_train = \"../data/train\"\n",
    "event_prefix = \"event000001000\"\n",
    "hits, cells, particles, truth = load_event(os.path.join(path_to_train, event_prefix))"
   ]
  },
  {
   "cell_type": "code",
   "execution_count": 9,
   "metadata": {},
   "outputs": [],
   "source": [
    "model = Clusterer(eps=0.008)\n",
    "labels = model.predict(hits)"
   ]
  },
  {
   "cell_type": "code",
   "execution_count": 10,
   "metadata": {},
   "outputs": [],
   "source": [
    "submission = create_one_event_submission(0, hits, labels)\n",
    "score = score_event(truth, submission)"
   ]
  },
  {
   "cell_type": "code",
   "execution_count": 11,
   "metadata": {},
   "outputs": [
    {
     "name": "stdout",
     "output_type": "stream",
     "text": [
      "0.1988556913647304\n"
     ]
    }
   ],
   "source": [
    "print(score)"
   ]
  },
  {
   "cell_type": "code",
   "execution_count": 12,
   "metadata": {},
   "outputs": [],
   "source": [
    "X = hits[['x', 'y', 'z']]"
   ]
  },
  {
   "cell_type": "code",
   "execution_count": 13,
   "metadata": {},
   "outputs": [
    {
     "data": {
      "text/plain": [
       "(120939, 3)"
      ]
     },
     "execution_count": 13,
     "metadata": {},
     "output_type": "execute_result"
    }
   ],
   "source": [
    "X.shape"
   ]
  },
  {
   "cell_type": "code",
   "execution_count": 14,
   "metadata": {},
   "outputs": [
    {
     "data": {
      "text/html": [
       "<div>\n",
       "<style scoped>\n",
       "    .dataframe tbody tr th:only-of-type {\n",
       "        vertical-align: middle;\n",
       "    }\n",
       "\n",
       "    .dataframe tbody tr th {\n",
       "        vertical-align: top;\n",
       "    }\n",
       "\n",
       "    .dataframe thead th {\n",
       "        text-align: right;\n",
       "    }\n",
       "</style>\n",
       "<table border=\"1\" class=\"dataframe\">\n",
       "  <thead>\n",
       "    <tr style=\"text-align: right;\">\n",
       "      <th></th>\n",
       "      <th>x</th>\n",
       "      <th>y</th>\n",
       "      <th>z</th>\n",
       "    </tr>\n",
       "  </thead>\n",
       "  <tbody>\n",
       "    <tr>\n",
       "      <th>0</th>\n",
       "      <td>-64.409897</td>\n",
       "      <td>-7.163700</td>\n",
       "      <td>-1502.5</td>\n",
       "    </tr>\n",
       "    <tr>\n",
       "      <th>1</th>\n",
       "      <td>-55.336102</td>\n",
       "      <td>0.635342</td>\n",
       "      <td>-1502.5</td>\n",
       "    </tr>\n",
       "    <tr>\n",
       "      <th>2</th>\n",
       "      <td>-83.830498</td>\n",
       "      <td>-1.143010</td>\n",
       "      <td>-1502.5</td>\n",
       "    </tr>\n",
       "    <tr>\n",
       "      <th>3</th>\n",
       "      <td>-96.109100</td>\n",
       "      <td>-8.241030</td>\n",
       "      <td>-1502.5</td>\n",
       "    </tr>\n",
       "    <tr>\n",
       "      <th>4</th>\n",
       "      <td>-62.673599</td>\n",
       "      <td>-9.371200</td>\n",
       "      <td>-1502.5</td>\n",
       "    </tr>\n",
       "  </tbody>\n",
       "</table>\n",
       "</div>"
      ],
      "text/plain": [
       "           x         y       z\n",
       "0 -64.409897 -7.163700 -1502.5\n",
       "1 -55.336102  0.635342 -1502.5\n",
       "2 -83.830498 -1.143010 -1502.5\n",
       "3 -96.109100 -8.241030 -1502.5\n",
       "4 -62.673599 -9.371200 -1502.5"
      ]
     },
     "execution_count": 14,
     "metadata": {},
     "output_type": "execute_result"
    }
   ],
   "source": [
    "X.head()"
   ]
  },
  {
   "cell_type": "code",
   "execution_count": 15,
   "metadata": {},
   "outputs": [],
   "source": [
    "trafo_columns = ['x', 'y', 'z']"
   ]
  },
  {
   "cell_type": "code",
   "execution_count": 16,
   "metadata": {},
   "outputs": [
    {
     "name": "stderr",
     "output_type": "stream",
     "text": [
      "/home/watts/anaconda3/envs/tml/lib/python3.6/site-packages/ipykernel_launcher.py:8: SettingWithCopyWarning: \n",
      "A value is trying to be set on a copy of a slice from a DataFrame.\n",
      "Try using .loc[row_indexer,col_indexer] = value instead\n",
      "\n",
      "See the caveats in the documentation: http://pandas.pydata.org/pandas-docs/stable/indexing.html#indexing-view-versus-copy\n",
      "  \n"
     ]
    }
   ],
   "source": [
    "# Gauss Rank transformation\n",
    "for col in trafo_columns:\n",
    "    values = sorted(set(X[col]))\n",
    "    # Because erfinv(1) is inf, we shrink the range into (-0.9, 0.9)\n",
    "    f = pd.Series(np.linspace(-0.9, 0.9, len(values)), index=values)\n",
    "    f = np.sqrt(2) * erfinv(f)\n",
    "    f -= f.mean()\n",
    "    X[col] = X[col].map(f)"
   ]
  },
  {
   "cell_type": "code",
   "execution_count": 17,
   "metadata": {},
   "outputs": [],
   "source": [
    "X = X.values.astype(np.float32)"
   ]
  },
  {
   "cell_type": "code",
   "execution_count": 49,
   "metadata": {},
   "outputs": [],
   "source": [
    "# train denoising autoencoder\n",
    "settings = {\n",
    "    'topology': [3, 100, 100, 100, 3],\n",
    "    'learning_rate': 1e-3,\n",
    "    'batch_size': 128,\n",
    "    'learning_rate_decay': 0.995,\n",
    "    'swap_noise': 0.15,\n",
    "    'nb_epochs': 10\n",
    "}"
   ]
  },
  {
   "cell_type": "code",
   "execution_count": 50,
   "metadata": {},
   "outputs": [],
   "source": [
    "autoencoder = MLP(settings['topology'])"
   ]
  },
  {
   "cell_type": "code",
   "execution_count": 51,
   "metadata": {},
   "outputs": [],
   "source": [
    "model = MSERegressor(autoencoder)"
   ]
  },
  {
   "cell_type": "code",
   "execution_count": 52,
   "metadata": {},
   "outputs": [],
   "source": [
    "iterator = SwapNoiseIterator(X, settings['swap_noise'], settings['batch_size'])"
   ]
  },
  {
   "cell_type": "code",
   "execution_count": 53,
   "metadata": {},
   "outputs": [
    {
     "name": "stdout",
     "output_type": "stream",
     "text": [
      "0.001\n",
      "epoch       main/loss   elapsed_time\n",
      "\u001b[J     total [..................................................]  1.06%\n",
      "this epoch [#####.............................................] 10.58%\n",
      "       100 iter, 0 epoch / 10 epochs\n",
      "       inf iters/sec. Estimated time to finish: 0:00:00.\n",
      "\u001b[4A\u001b[J     total [#.................................................]  2.12%\n",
      "this epoch [##########........................................] 21.17%\n",
      "       200 iter, 0 epoch / 10 epochs\n",
      "    250.51 iters/sec. Estimated time to finish: 0:00:36.917815.\n",
      "\u001b[4A\u001b[J     total [#.................................................]  3.18%\n",
      "this epoch [###############...................................] 31.75%\n",
      "       300 iter, 0 epoch / 10 epochs\n",
      "    248.41 iters/sec. Estimated time to finish: 0:00:36.827199.\n",
      "\u001b[4A\u001b[J     total [##................................................]  4.23%\n",
      "this epoch [#####################.............................] 42.34%\n",
      "       400 iter, 0 epoch / 10 epochs\n",
      "    248.47 iters/sec. Estimated time to finish: 0:00:36.416633.\n",
      "\u001b[4A\u001b[J     total [##................................................]  5.29%\n",
      "this epoch [##########################........................] 52.92%\n",
      "       500 iter, 0 epoch / 10 epochs\n",
      "    250.31 iters/sec. Estimated time to finish: 0:00:35.749412.\n",
      "\u001b[4A\u001b[J     total [###...............................................]  6.35%\n",
      "this epoch [###############################...................] 63.50%\n",
      "       600 iter, 0 epoch / 10 epochs\n",
      "     249.5 iters/sec. Estimated time to finish: 0:00:35.464696.\n",
      "\u001b[4A\u001b[J     total [###...............................................]  7.41%\n",
      "this epoch [#####################################.............] 74.09%\n",
      "       700 iter, 0 epoch / 10 epochs\n",
      "    248.22 iters/sec. Estimated time to finish: 0:00:35.244618.\n",
      "\u001b[4A\u001b[J     total [####..............................................]  8.47%\n",
      "this epoch [##########################################........] 84.67%\n",
      "       800 iter, 0 epoch / 10 epochs\n",
      "    247.91 iters/sec. Estimated time to finish: 0:00:34.884517.\n",
      "\u001b[4A\u001b[J     total [####..............................................]  9.53%\n",
      "this epoch [###############################################...] 95.25%\n",
      "       900 iter, 0 epoch / 10 epochs\n",
      "    248.79 iters/sec. Estimated time to finish: 0:00:34.359723.\n",
      "\u001b[4A\u001b[J1           0.448353    3.69533       \n",
      "\u001b[J     total [#####.............................................] 10.58%\n",
      "this epoch [##................................................]  5.84%\n",
      "      1000 iter, 1 epoch / 10 epochs\n",
      "    247.57 iters/sec. Estimated time to finish: 0:00:34.124657.\n",
      "\u001b[4A\u001b[J     total [#####.............................................] 11.64%\n",
      "this epoch [########..........................................] 16.42%\n",
      "      1100 iter, 1 epoch / 10 epochs\n",
      "    247.75 iters/sec. Estimated time to finish: 0:00:33.696297.\n",
      "\u001b[4A\u001b[J     total [######............................................] 12.70%\n",
      "this epoch [#############.....................................] 27.01%\n",
      "      1200 iter, 1 epoch / 10 epochs\n",
      "    247.77 iters/sec. Estimated time to finish: 0:00:33.291051.\n",
      "\u001b[4A\u001b[J     total [######............................................] 13.76%\n",
      "this epoch [##################................................] 37.59%\n",
      "      1300 iter, 1 epoch / 10 epochs\n",
      "    247.78 iters/sec. Estimated time to finish: 0:00:32.885002.\n",
      "\u001b[4A\u001b[J     total [#######...........................................] 14.82%\n",
      "this epoch [########################..........................] 48.17%\n",
      "      1400 iter, 1 epoch / 10 epochs\n",
      "    247.43 iters/sec. Estimated time to finish: 0:00:32.528185.\n",
      "\u001b[4A\u001b[J     total [#######...........................................] 15.88%\n",
      "this epoch [#############################.....................] 58.76%\n",
      "      1500 iter, 1 epoch / 10 epochs\n",
      "    247.04 iters/sec. Estimated time to finish: 0:00:32.174952.\n",
      "\u001b[4A\u001b[J     total [########..........................................] 16.93%\n",
      "this epoch [##################################................] 69.34%\n",
      "      1600 iter, 1 epoch / 10 epochs\n",
      "    247.21 iters/sec. Estimated time to finish: 0:00:31.747791.\n",
      "\u001b[4A\u001b[J     total [########..........................................] 17.99%\n",
      "this epoch [#######################################...........] 79.93%\n",
      "      1700 iter, 1 epoch / 10 epochs\n",
      "    247.33 iters/sec. Estimated time to finish: 0:00:31.327587.\n",
      "\u001b[4A\u001b[J     total [#########.........................................] 19.05%\n",
      "this epoch [#############################################.....] 90.51%\n",
      "      1800 iter, 1 epoch / 10 epochs\n",
      "    247.75 iters/sec. Estimated time to finish: 0:00:30.870765.\n",
      "\u001b[4A\u001b[J2           0.273084    7.52908       \n",
      "\u001b[J     total [##########........................................] 20.11%\n",
      "this epoch [..................................................]  1.09%\n",
      "      1900 iter, 2 epoch / 10 epochs\n",
      "    247.04 iters/sec. Estimated time to finish: 0:00:30.555047.\n",
      "\u001b[4A\u001b[J     total [##########........................................] 21.17%\n",
      "this epoch [#####.............................................] 11.68%\n",
      "      2000 iter, 2 epoch / 10 epochs\n",
      "    247.22 iters/sec. Estimated time to finish: 0:00:30.128368.\n",
      "\u001b[4A\u001b[J     total [###########.......................................] 22.23%\n",
      "this epoch [###########.......................................] 22.26%\n",
      "      2100 iter, 2 epoch / 10 epochs\n",
      "    247.45 iters/sec. Estimated time to finish: 0:00:29.696896.\n",
      "\u001b[4A\u001b[J     total [###########.......................................] 23.28%\n",
      "this epoch [################..................................] 32.84%\n",
      "      2200 iter, 2 epoch / 10 epochs\n",
      "     247.8 iters/sec. Estimated time to finish: 0:00:29.251342.\n",
      "\u001b[4A\u001b[J     total [############......................................] 24.34%\n",
      "this epoch [#####################.............................] 43.43%\n",
      "      2300 iter, 2 epoch / 10 epochs\n",
      "     248.1 iters/sec. Estimated time to finish: 0:00:28.812728.\n",
      "\u001b[4A\u001b[J     total [############......................................] 25.40%\n",
      "this epoch [###########################.......................] 54.01%\n",
      "      2400 iter, 2 epoch / 10 epochs\n",
      "    248.38 iters/sec. Estimated time to finish: 0:00:28.377224.\n",
      "\u001b[4A\u001b[J     total [#############.....................................] 26.46%\n",
      "this epoch [################################..................] 64.60%\n",
      "      2500 iter, 2 epoch / 10 epochs\n",
      "    248.73 iters/sec. Estimated time to finish: 0:00:27.935776.\n",
      "\u001b[4A\u001b[J     total [#############.....................................] 27.52%\n",
      "this epoch [#####################################.............] 75.18%\n",
      "      2600 iter, 2 epoch / 10 epochs\n",
      "    248.94 iters/sec. Estimated time to finish: 0:00:27.510451.\n",
      "\u001b[4A\u001b[J     total [##############....................................] 28.58%\n",
      "this epoch [##########################################........] 85.76%\n",
      "      2700 iter, 2 epoch / 10 epochs\n",
      "    249.18 iters/sec. Estimated time to finish: 0:00:27.081919.\n",
      "\u001b[4A\u001b[J     total [##############....................................] 29.63%\n",
      "this epoch [################################################..] 96.35%\n",
      "      2800 iter, 2 epoch / 10 epochs\n",
      "    249.35 iters/sec. Estimated time to finish: 0:00:26.662912.\n",
      "\u001b[4A\u001b[J3           0.25724     11.2665       \n",
      "\u001b[J     total [###############...................................] 30.69%\n",
      "this epoch [###...............................................]  6.93%\n",
      "      2900 iter, 3 epoch / 10 epochs\n",
      "    249.22 iters/sec. Estimated time to finish: 0:00:26.274996.\n",
      "\u001b[4A\u001b[J     total [###############...................................] 31.75%\n",
      "this epoch [########..........................................] 17.52%\n",
      "      3000 iter, 3 epoch / 10 epochs\n",
      "    249.32 iters/sec. Estimated time to finish: 0:00:25.863566.\n",
      "\u001b[4A\u001b[J     total [################..................................] 32.81%\n",
      "this epoch [##############....................................] 28.10%\n",
      "      3100 iter, 3 epoch / 10 epochs\n",
      "    249.35 iters/sec. Estimated time to finish: 0:00:25.460101.\n",
      "\u001b[4A\u001b[J     total [################..................................] 33.87%\n",
      "this epoch [###################...............................] 38.68%\n",
      "      3200 iter, 3 epoch / 10 epochs\n",
      "    249.49 iters/sec. Estimated time to finish: 0:00:25.044993.\n",
      "\u001b[4A\u001b[J     total [#################.................................] 34.93%\n",
      "this epoch [########################..........................] 49.27%\n",
      "      3300 iter, 3 epoch / 10 epochs\n",
      "    249.61 iters/sec. Estimated time to finish: 0:00:24.631549.\n"
     ]
    },
    {
     "name": "stdout",
     "output_type": "stream",
     "text": [
      "\u001b[4A\u001b[J     total [#################.................................] 35.99%\n",
      "this epoch [#############################.....................] 59.85%\n",
      "      3400 iter, 3 epoch / 10 epochs\n",
      "    249.79 iters/sec. Estimated time to finish: 0:00:24.214024.\n",
      "\u001b[4A\u001b[J     total [##################................................] 37.04%\n",
      "this epoch [###################################...............] 70.43%\n",
      "      3500 iter, 3 epoch / 10 epochs\n",
      "    249.99 iters/sec. Estimated time to finish: 0:00:23.794509.\n",
      "\u001b[4A\u001b[J     total [###################...............................] 38.10%\n",
      "this epoch [########################################..........] 81.02%\n",
      "      3600 iter, 3 epoch / 10 epochs\n",
      "    250.16 iters/sec. Estimated time to finish: 0:00:23.378335.\n",
      "\u001b[4A\u001b[J     total [###################...............................] 39.16%\n",
      "this epoch [#############################################.....] 91.60%\n",
      "      3700 iter, 3 epoch / 10 epochs\n",
      "    250.13 iters/sec. Estimated time to finish: 0:00:22.981263.\n",
      "\u001b[4A\u001b[J4           0.25679     15.0047       \n",
      "\u001b[J     total [####################..............................] 40.22%\n",
      "this epoch [#.................................................]  2.19%\n",
      "      3800 iter, 4 epoch / 10 epochs\n",
      "       250 iters/sec. Estimated time to finish: 0:00:22.593817.\n",
      "\u001b[4A\u001b[J     total [####################..............................] 41.28%\n",
      "this epoch [######............................................] 12.77%\n",
      "      3900 iter, 4 epoch / 10 epochs\n",
      "    250.16 iters/sec. Estimated time to finish: 0:00:22.179308.\n",
      "\u001b[4A\u001b[J     total [#####################.............................] 42.34%\n",
      "this epoch [###########.......................................] 23.35%\n",
      "      4000 iter, 4 epoch / 10 epochs\n",
      "     250.3 iters/sec. Estimated time to finish: 0:00:21.767090.\n",
      "\u001b[4A\u001b[J     total [#####################.............................] 43.39%\n",
      "this epoch [################..................................] 33.94%\n",
      "      4100 iter, 4 epoch / 10 epochs\n",
      "    250.45 iters/sec. Estimated time to finish: 0:00:21.355050.\n",
      "\u001b[4A\u001b[J     total [######################............................] 44.45%\n",
      "this epoch [######################............................] 44.52%\n",
      "      4200 iter, 4 epoch / 10 epochs\n",
      "    250.53 iters/sec. Estimated time to finish: 0:00:20.949115.\n",
      "\u001b[4A\u001b[J     total [######################............................] 45.51%\n",
      "this epoch [###########################.......................] 55.11%\n",
      "      4300 iter, 4 epoch / 10 epochs\n",
      "    250.63 iters/sec. Estimated time to finish: 0:00:20.541985.\n",
      "\u001b[4A\u001b[J     total [#######################...........................] 46.57%\n",
      "this epoch [################################..................] 65.69%\n",
      "      4400 iter, 4 epoch / 10 epochs\n",
      "    250.69 iters/sec. Estimated time to finish: 0:00:20.137883.\n",
      "\u001b[4A\u001b[J     total [#######################...........................] 47.63%\n",
      "this epoch [######################################............] 76.27%\n",
      "      4500 iter, 4 epoch / 10 epochs\n",
      "    251.99 iters/sec. Estimated time to finish: 0:00:19.637450.\n",
      "\u001b[4A\u001b[J     total [########################..........................] 48.69%\n",
      "this epoch [###########################################.......] 86.86%\n",
      "      4600 iter, 4 epoch / 10 epochs\n",
      "    253.71 iters/sec. Estimated time to finish: 0:00:19.110202.\n",
      "\u001b[4A\u001b[J     total [########################..........................] 49.74%\n",
      "this epoch [################################################..] 97.44%\n",
      "      4700 iter, 4 epoch / 10 epochs\n",
      "    255.44 iters/sec. Estimated time to finish: 0:00:18.588918.\n",
      "\u001b[4A\u001b[J5           0.25714     18.3727       \n",
      "\u001b[J     total [#########################.........................] 50.80%\n",
      "this epoch [####..............................................]  8.02%\n",
      "      4800 iter, 5 epoch / 10 epochs\n",
      "    256.88 iters/sec. Estimated time to finish: 0:00:18.095475.\n",
      "\u001b[4A\u001b[J     total [#########################.........................] 51.86%\n",
      "this epoch [#########.........................................] 18.61%\n",
      "      4900 iter, 5 epoch / 10 epochs\n",
      "    258.45 iters/sec. Estimated time to finish: 0:00:17.598322.\n",
      "\u001b[4A\u001b[J     total [##########################........................] 52.92%\n",
      "this epoch [##############....................................] 29.19%\n",
      "      5000 iter, 5 epoch / 10 epochs\n",
      "    259.86 iters/sec. Estimated time to finish: 0:00:17.118103.\n",
      "\u001b[4A\u001b[J     total [##########################........................] 53.98%\n",
      "this epoch [###################...............................] 39.78%\n",
      "      5100 iter, 5 epoch / 10 epochs\n",
      "    261.49 iters/sec. Estimated time to finish: 0:00:16.629317.\n",
      "\u001b[4A\u001b[J     total [###########################.......................] 55.04%\n",
      "this epoch [#########################.........................] 50.36%\n",
      "      5200 iter, 5 epoch / 10 epochs\n",
      "    262.98 iters/sec. Estimated time to finish: 0:00:16.154603.\n",
      "\u001b[4A\u001b[J     total [############################......................] 56.09%\n",
      "this epoch [##############################....................] 60.94%\n",
      "      5300 iter, 5 epoch / 10 epochs\n",
      "    263.87 iters/sec. Estimated time to finish: 0:00:15.721021.\n",
      "\u001b[4A\u001b[J     total [############################......................] 57.15%\n",
      "this epoch [###################################...............] 71.53%\n",
      "      5400 iter, 5 epoch / 10 epochs\n",
      "    264.91 iters/sec. Estimated time to finish: 0:00:15.281979.\n",
      "\u001b[4A\u001b[J     total [#############################.....................] 58.21%\n",
      "this epoch [#########################################.........] 82.11%\n",
      "      5500 iter, 5 epoch / 10 epochs\n",
      "    266.14 iters/sec. Estimated time to finish: 0:00:14.835848.\n",
      "\u001b[4A\u001b[J     total [#############################.....................] 59.27%\n",
      "this epoch [##############################################....] 92.70%\n",
      "      5600 iter, 5 epoch / 10 epochs\n",
      "    266.97 iters/sec. Estimated time to finish: 0:00:14.414903.\n",
      "\u001b[4A\u001b[J6           0.255844    21.0879       \n",
      "\u001b[J     total [##############################....................] 60.33%\n",
      "this epoch [#.................................................]  3.28%\n",
      "      5700 iter, 6 epoch / 10 epochs\n",
      "    268.12 iters/sec. Estimated time to finish: 0:00:13.980358.\n",
      "\u001b[4A\u001b[J     total [##############################....................] 61.39%\n",
      "this epoch [######............................................] 13.86%\n",
      "      5800 iter, 6 epoch / 10 epochs\n",
      "    269.34 iters/sec. Estimated time to finish: 0:00:13.545704.\n",
      "\u001b[4A\u001b[J     total [###############################...................] 62.44%\n",
      "this epoch [############......................................] 24.45%\n",
      "      5900 iter, 6 epoch / 10 epochs\n",
      "    270.47 iters/sec. Estimated time to finish: 0:00:13.119333.\n",
      "\u001b[4A\u001b[J     total [###############################...................] 63.50%\n",
      "this epoch [#################.................................] 35.03%\n",
      "      6000 iter, 6 epoch / 10 epochs\n",
      "    270.23 iters/sec. Estimated time to finish: 0:00:12.760777.\n",
      "\u001b[4A\u001b[J     total [################################..................] 64.56%\n",
      "this epoch [######################............................] 45.61%\n",
      "      6100 iter, 6 epoch / 10 epochs\n",
      "     269.9 iters/sec. Estimated time to finish: 0:00:12.406003.\n",
      "\u001b[4A\u001b[J     total [################################..................] 65.62%\n",
      "this epoch [############################......................] 56.20%\n",
      "      6200 iter, 6 epoch / 10 epochs\n",
      "    269.48 iters/sec. Estimated time to finish: 0:00:12.053988.\n",
      "\u001b[4A\u001b[J     total [#################################.................] 66.68%\n",
      "this epoch [#################################.................] 66.78%\n",
      "      6300 iter, 6 epoch / 10 epochs\n",
      "    269.15 iters/sec. Estimated time to finish: 0:00:11.697568.\n",
      "\u001b[4A\u001b[J     total [#################################.................] 67.74%\n",
      "this epoch [######################################............] 77.37%\n",
      "      6400 iter, 6 epoch / 10 epochs\n",
      "    268.92 iters/sec. Estimated time to finish: 0:00:11.335560.\n",
      "\u001b[4A\u001b[J     total [##################################................] 68.80%\n",
      "this epoch [###########################################.......] 87.95%\n",
      "      6500 iter, 6 epoch / 10 epochs\n",
      "    268.58 iters/sec. Estimated time to finish: 0:00:10.977620.\n",
      "\u001b[4A\u001b[J     total [##################################................] 69.85%\n",
      "this epoch [#################################################.] 98.53%\n",
      "      6600 iter, 6 epoch / 10 epochs\n",
      "    268.22 iters/sec. Estimated time to finish: 0:00:10.619596.\n"
     ]
    },
    {
     "name": "stdout",
     "output_type": "stream",
     "text": [
      "\u001b[4A\u001b[J7           0.258265    24.5893       \n",
      "\u001b[J     total [###################################...............] 70.91%\n",
      "this epoch [####..............................................]  9.12%\n",
      "      6700 iter, 7 epoch / 10 epochs\n",
      "     267.7 iters/sec. Estimated time to finish: 0:00:10.266525.\n",
      "\u001b[4A\u001b[J     total [###################################...............] 71.97%\n",
      "this epoch [#########.........................................] 19.70%\n",
      "      6800 iter, 7 epoch / 10 epochs\n",
      "    267.36 iters/sec. Estimated time to finish: 0:00:09.905572.\n",
      "\u001b[4A\u001b[J     total [####################################..............] 73.03%\n",
      "this epoch [###############...................................] 30.29%\n",
      "      6900 iter, 7 epoch / 10 epochs\n",
      "    266.93 iters/sec. Estimated time to finish: 0:00:09.546907.\n",
      "\u001b[4A\u001b[J     total [#####################################.............] 74.09%\n",
      "this epoch [####################..............................] 40.87%\n",
      "      7000 iter, 7 epoch / 10 epochs\n",
      "     266.6 iters/sec. Estimated time to finish: 0:00:09.183790.\n",
      "\u001b[4A\u001b[J     total [#####################################.............] 75.15%\n",
      "this epoch [#########################.........................] 51.45%\n",
      "      7100 iter, 7 epoch / 10 epochs\n",
      "    266.27 iters/sec. Estimated time to finish: 0:00:08.819306.\n",
      "\u001b[4A\u001b[J     total [######################################............] 76.20%\n",
      "this epoch [###############################...................] 62.04%\n",
      "      7200 iter, 7 epoch / 10 epochs\n",
      "    265.95 iters/sec. Estimated time to finish: 0:00:08.453913.\n",
      "\u001b[4A\u001b[J     total [######################################............] 77.26%\n",
      "this epoch [####################################..............] 72.62%\n",
      "      7300 iter, 7 epoch / 10 epochs\n",
      "    265.64 iters/sec. Estimated time to finish: 0:00:08.087439.\n",
      "\u001b[4A\u001b[J     total [#######################################...........] 78.32%\n",
      "this epoch [#########################################.........] 83.20%\n",
      "      7400 iter, 7 epoch / 10 epochs\n",
      "    265.34 iters/sec. Estimated time to finish: 0:00:07.719677.\n",
      "\u001b[4A\u001b[J     total [#######################################...........] 79.38%\n",
      "this epoch [##############################################....] 93.79%\n",
      "      7500 iter, 7 epoch / 10 epochs\n",
      "    266.29 iters/sec. Estimated time to finish: 0:00:07.316612.\n",
      "\u001b[4A\u001b[J8           0.253058    28.3694       \n",
      "\u001b[J     total [########################################..........] 80.44%\n",
      "this epoch [##................................................]  4.37%\n",
      "      7600 iter, 8 epoch / 10 epochs\n",
      "    265.18 iters/sec. Estimated time to finish: 0:00:06.970279.\n",
      "\u001b[4A\u001b[J     total [########################################..........] 81.50%\n",
      "this epoch [#######...........................................] 14.96%\n",
      "      7700 iter, 8 epoch / 10 epochs\n",
      "    264.27 iters/sec. Estimated time to finish: 0:00:06.615826.\n",
      "\u001b[4A\u001b[J     total [#########################################.........] 82.55%\n",
      "this epoch [############......................................] 25.54%\n",
      "      7800 iter, 8 epoch / 10 epochs\n",
      "    263.35 iters/sec. Estimated time to finish: 0:00:06.259085.\n",
      "\u001b[4A\u001b[J     total [#########################################.........] 83.61%\n",
      "this epoch [##################................................] 36.12%\n",
      "      7900 iter, 8 epoch / 10 epochs\n",
      "    262.48 iters/sec. Estimated time to finish: 0:00:05.898943.\n",
      "\u001b[4A\u001b[J     total [##########################################........] 84.67%\n",
      "this epoch [#######################...........................] 46.71%\n",
      "      8000 iter, 8 epoch / 10 epochs\n",
      "    261.61 iters/sec. Estimated time to finish: 0:00:05.536383.\n",
      "\u001b[4A\u001b[J     total [##########################################........] 85.73%\n",
      "this epoch [############################......................] 57.29%\n",
      "      8100 iter, 8 epoch / 10 epochs\n",
      "     261.1 iters/sec. Estimated time to finish: 0:00:05.164147.\n",
      "\u001b[4A\u001b[J     total [###########################################.......] 86.79%\n",
      "this epoch [#################################.................] 67.88%\n",
      "      8200 iter, 8 epoch / 10 epochs\n",
      "    260.45 iters/sec. Estimated time to finish: 0:00:04.793108.\n",
      "\u001b[4A\u001b[J     total [###########################################.......] 87.85%\n",
      "this epoch [#######################################...........] 78.46%\n",
      "      8300 iter, 8 epoch / 10 epochs\n",
      "     259.7 iters/sec. Estimated time to finish: 0:00:04.421858.\n",
      "\u001b[4A\u001b[J     total [############################################......] 88.90%\n",
      "this epoch [############################################......] 89.04%\n",
      "      8400 iter, 8 epoch / 10 epochs\n",
      "    259.45 iters/sec. Estimated time to finish: 0:00:04.040631.\n",
      "\u001b[4A\u001b[J     total [############################################......] 89.96%\n",
      "this epoch [#################################################.] 99.63%\n",
      "      8500 iter, 8 epoch / 10 epochs\n",
      "    259.55 iters/sec. Estimated time to finish: 0:00:03.653919.\n",
      "\u001b[4A\u001b[J9           0.255818    32.6792       \n",
      "\u001b[J     total [#############################################.....] 91.02%\n",
      "this epoch [#####.............................................] 10.21%\n",
      "      8600 iter, 9 epoch / 10 epochs\n",
      "    259.32 iters/sec. Estimated time to finish: 0:00:03.271538.\n",
      "\u001b[4A\u001b[J     total [##############################################....] 92.08%\n",
      "this epoch [##########........................................] 20.79%\n",
      "      8700 iter, 9 epoch / 10 epochs\n",
      "     259.1 iters/sec. Estimated time to finish: 0:00:02.888274.\n",
      "\u001b[4A\u001b[J     total [##############################################....] 93.14%\n",
      "this epoch [###############...................................] 31.38%\n",
      "      8800 iter, 9 epoch / 10 epochs\n",
      "    258.43 iters/sec. Estimated time to finish: 0:00:02.508884.\n",
      "\u001b[4A\u001b[J     total [###############################################...] 94.20%\n",
      "this epoch [####################..............................] 41.96%\n",
      "      8900 iter, 9 epoch / 10 epochs\n",
      "    257.79 iters/sec. Estimated time to finish: 0:00:02.127160.\n",
      "\u001b[4A\u001b[J     total [###############################################...] 95.25%\n",
      "this epoch [##########################........................] 52.55%\n",
      "      9000 iter, 9 epoch / 10 epochs\n",
      "    257.18 iters/sec. Estimated time to finish: 0:00:01.743396.\n",
      "\u001b[4A\u001b[J     total [################################################..] 96.31%\n",
      "this epoch [###############################...................] 63.13%\n",
      "      9100 iter, 9 epoch / 10 epochs\n",
      "    257.15 iters/sec. Estimated time to finish: 0:00:01.354671.\n",
      "\u001b[4A\u001b[J     total [################################################..] 97.37%\n",
      "this epoch [####################################..............] 73.71%\n",
      "      9200 iter, 9 epoch / 10 epochs\n",
      "    257.12 iters/sec. Estimated time to finish: 0:00:00.965923.\n",
      "\u001b[4A\u001b[J     total [#################################################.] 98.43%\n",
      "this epoch [##########################################........] 84.30%\n",
      "      9300 iter, 9 epoch / 10 epochs\n",
      "    256.54 iters/sec. Estimated time to finish: 0:00:00.578305.\n",
      "\u001b[4A\u001b[J     total [#################################################.] 99.49%\n",
      "this epoch [###############################################...] 94.88%\n",
      "      9400 iter, 9 epoch / 10 epochs\n",
      "    257.02 iters/sec. Estimated time to finish: 0:00:00.188152.\n",
      "\u001b[4A\u001b[J10          0.252781    36.6783       \n",
      "\u001b[J0.0009511101304657719\n"
     ]
    }
   ],
   "source": [
    "fit(model, iterator, settings, gpu)\n"
   ]
  },
  {
   "cell_type": "code",
   "execution_count": 54,
   "metadata": {},
   "outputs": [],
   "source": [
    "chainer.serializers.save_npz('../cache/dae.npz', autoencoder)"
   ]
  },
  {
   "cell_type": "code",
   "execution_count": 55,
   "metadata": {},
   "outputs": [],
   "source": [
    "# extract hidden layer's outputs.\n",
    "iterator = chainer.iterators.SerialIterator(chainer.datasets.TupleDataset(X),\n",
    "                                            settings['batch_size'], repeat=False, shuffle=False)\n"
   ]
  },
  {
   "cell_type": "code",
   "execution_count": 56,
   "metadata": {},
   "outputs": [],
   "source": [
    "transformed = predict(autoencoder.get_hidden_concat, iterator, gpu)"
   ]
  },
  {
   "cell_type": "code",
   "execution_count": 57,
   "metadata": {},
   "outputs": [
    {
     "data": {
      "text/plain": [
       "(120939, 300)"
      ]
     },
     "execution_count": 57,
     "metadata": {},
     "output_type": "execute_result"
    }
   ],
   "source": [
    "transformed.shape"
   ]
  },
  {
   "cell_type": "code",
   "execution_count": 59,
   "metadata": {},
   "outputs": [
    {
     "data": {
      "text/plain": [
       "array([[0.02773226, 1.2126997 , 1.1007833 , ..., 1.2524167 , 0.9152157 ,\n",
       "        0.        ],\n",
       "       [0.00767012, 1.1918355 , 1.0629389 , ..., 1.2072154 , 0.8939854 ,\n",
       "        0.        ],\n",
       "       [0.        , 1.2096784 , 1.2005502 , ..., 1.2777227 , 0.9145684 ,\n",
       "        0.        ],\n",
       "       ...,\n",
       "       [0.        , 0.        , 1.0201601 , ..., 1.2345532 , 0.        ,\n",
       "        0.4340189 ],\n",
       "       [0.        , 0.        , 0.96291876, ..., 1.2730985 , 0.        ,\n",
       "        0.35862383],\n",
       "       [0.        , 0.        , 0.932927  , ..., 1.2943891 , 0.        ,\n",
       "        0.33030686]], dtype=float32)"
      ]
     },
     "execution_count": 59,
     "metadata": {},
     "output_type": "execute_result"
    }
   ],
   "source": [
    "transformed"
   ]
  },
  {
   "cell_type": "code",
   "execution_count": null,
   "metadata": {},
   "outputs": [],
   "source": []
  },
  {
   "cell_type": "code",
   "execution_count": 60,
   "metadata": {},
   "outputs": [],
   "source": [
    "t1 = predict(autoencoder, iterator, gpu)"
   ]
  },
  {
   "cell_type": "code",
   "execution_count": 61,
   "metadata": {},
   "outputs": [
    {
     "data": {
      "text/plain": [
       "(120939, 3)"
      ]
     },
     "execution_count": 61,
     "metadata": {},
     "output_type": "execute_result"
    }
   ],
   "source": [
    "t1.shape"
   ]
  },
  {
   "cell_type": "code",
   "execution_count": null,
   "metadata": {},
   "outputs": [],
   "source": []
  },
  {
   "cell_type": "code",
   "execution_count": 169,
   "metadata": {},
   "outputs": [],
   "source": [
    "df_t1 = pd.DataFrame(t1)"
   ]
  },
  {
   "cell_type": "code",
   "execution_count": 170,
   "metadata": {},
   "outputs": [
    {
     "data": {
      "text/html": [
       "<div>\n",
       "<style scoped>\n",
       "    .dataframe tbody tr th:only-of-type {\n",
       "        vertical-align: middle;\n",
       "    }\n",
       "\n",
       "    .dataframe tbody tr th {\n",
       "        vertical-align: top;\n",
       "    }\n",
       "\n",
       "    .dataframe thead th {\n",
       "        text-align: right;\n",
       "    }\n",
       "</style>\n",
       "<table border=\"1\" class=\"dataframe\">\n",
       "  <thead>\n",
       "    <tr style=\"text-align: right;\">\n",
       "      <th></th>\n",
       "      <th>0</th>\n",
       "      <th>1</th>\n",
       "      <th>2</th>\n",
       "    </tr>\n",
       "  </thead>\n",
       "  <tbody>\n",
       "    <tr>\n",
       "      <th>0</th>\n",
       "      <td>-0.409690</td>\n",
       "      <td>-0.016581</td>\n",
       "      <td>-1.341979</td>\n",
       "    </tr>\n",
       "    <tr>\n",
       "      <th>1</th>\n",
       "      <td>-0.363309</td>\n",
       "      <td>0.022930</td>\n",
       "      <td>-1.337803</td>\n",
       "    </tr>\n",
       "    <tr>\n",
       "      <th>2</th>\n",
       "      <td>-0.477135</td>\n",
       "      <td>-0.023108</td>\n",
       "      <td>-1.343519</td>\n",
       "    </tr>\n",
       "    <tr>\n",
       "      <th>3</th>\n",
       "      <td>-0.517259</td>\n",
       "      <td>-0.055789</td>\n",
       "      <td>-1.350732</td>\n",
       "    </tr>\n",
       "    <tr>\n",
       "      <th>4</th>\n",
       "      <td>-0.404917</td>\n",
       "      <td>-0.022886</td>\n",
       "      <td>-1.344337</td>\n",
       "    </tr>\n",
       "  </tbody>\n",
       "</table>\n",
       "</div>"
      ],
      "text/plain": [
       "          0         1         2\n",
       "0 -0.409690 -0.016581 -1.341979\n",
       "1 -0.363309  0.022930 -1.337803\n",
       "2 -0.477135 -0.023108 -1.343519\n",
       "3 -0.517259 -0.055789 -1.350732\n",
       "4 -0.404917 -0.022886 -1.344337"
      ]
     },
     "execution_count": 170,
     "metadata": {},
     "output_type": "execute_result"
    }
   ],
   "source": [
    "df_t1.head()"
   ]
  },
  {
   "cell_type": "code",
   "execution_count": 171,
   "metadata": {},
   "outputs": [],
   "source": [
    "df_t1.columns = ['x', 'y', 'z']"
   ]
  },
  {
   "cell_type": "code",
   "execution_count": null,
   "metadata": {},
   "outputs": [],
   "source": []
  },
  {
   "cell_type": "code",
   "execution_count": 172,
   "metadata": {},
   "outputs": [],
   "source": [
    "model = Clusterer(eps=0.008)\n",
    "labels = model.predict(df_t1)"
   ]
  },
  {
   "cell_type": "code",
   "execution_count": 173,
   "metadata": {},
   "outputs": [],
   "source": [
    "df_t1['hit_id'] = hits.hit_id.values"
   ]
  },
  {
   "cell_type": "code",
   "execution_count": 174,
   "metadata": {},
   "outputs": [],
   "source": [
    "submission = create_one_event_submission(0, df_t1, labels)\n",
    "score = score_event(truth, submission)"
   ]
  },
  {
   "cell_type": "code",
   "execution_count": 175,
   "metadata": {},
   "outputs": [
    {
     "name": "stdout",
     "output_type": "stream",
     "text": [
      "0.0005919957141459519\n"
     ]
    }
   ],
   "source": [
    "print(score)"
   ]
  },
  {
   "cell_type": "code",
   "execution_count": 96,
   "metadata": {},
   "outputs": [],
   "source": [
    "from sklearn.decomposition import PCA"
   ]
  },
  {
   "cell_type": "code",
   "execution_count": 97,
   "metadata": {},
   "outputs": [],
   "source": [
    "pca = PCA(n_components=3)"
   ]
  },
  {
   "cell_type": "code",
   "execution_count": 100,
   "metadata": {},
   "outputs": [],
   "source": [
    "X1 = pca.fit_transform(transformed)"
   ]
  },
  {
   "cell_type": "code",
   "execution_count": 101,
   "metadata": {},
   "outputs": [
    {
     "data": {
      "text/plain": [
       "(120939, 3)"
      ]
     },
     "execution_count": 101,
     "metadata": {},
     "output_type": "execute_result"
    }
   ],
   "source": [
    "X1.shape"
   ]
  },
  {
   "cell_type": "code",
   "execution_count": 102,
   "metadata": {},
   "outputs": [
    {
     "data": {
      "text/plain": [
       "array([[ 6.8402724 ,  0.68619484,  1.1305367 ],\n",
       "       [ 6.7369323 ,  0.29595616,  1.1665802 ],\n",
       "       [ 6.8455243 ,  0.81368494,  1.4427891 ],\n",
       "       ...,\n",
       "       [-5.1111493 ,  3.1884348 ,  3.9302871 ],\n",
       "       [-4.971294  ,  3.8695283 ,  3.5528095 ],\n",
       "       [-4.885525  ,  4.2590528 ,  3.3413584 ]], dtype=float32)"
      ]
     },
     "execution_count": 102,
     "metadata": {},
     "output_type": "execute_result"
    }
   ],
   "source": [
    "X1"
   ]
  },
  {
   "cell_type": "code",
   "execution_count": 153,
   "metadata": {},
   "outputs": [],
   "source": [
    "df_x1 = pd.DataFrame(X1)"
   ]
  },
  {
   "cell_type": "code",
   "execution_count": 154,
   "metadata": {},
   "outputs": [],
   "source": [
    "df_x1.columns = ['x', 'y', 'z']"
   ]
  },
  {
   "cell_type": "code",
   "execution_count": 155,
   "metadata": {},
   "outputs": [],
   "source": [
    "model = Clusterer(eps=0.008)\n",
    "labels = model.predict(df_x1)"
   ]
  },
  {
   "cell_type": "code",
   "execution_count": 156,
   "metadata": {},
   "outputs": [],
   "source": [
    "df_x1['hit_id'] = hits.hit_id.values"
   ]
  },
  {
   "cell_type": "code",
   "execution_count": 157,
   "metadata": {},
   "outputs": [],
   "source": [
    "# df_x1['hit_id'] = df_x1.hit_id.values[::-1]"
   ]
  },
  {
   "cell_type": "code",
   "execution_count": 158,
   "metadata": {},
   "outputs": [
    {
     "data": {
      "text/html": [
       "<div>\n",
       "<style scoped>\n",
       "    .dataframe tbody tr th:only-of-type {\n",
       "        vertical-align: middle;\n",
       "    }\n",
       "\n",
       "    .dataframe tbody tr th {\n",
       "        vertical-align: top;\n",
       "    }\n",
       "\n",
       "    .dataframe thead th {\n",
       "        text-align: right;\n",
       "    }\n",
       "</style>\n",
       "<table border=\"1\" class=\"dataframe\">\n",
       "  <thead>\n",
       "    <tr style=\"text-align: right;\">\n",
       "      <th></th>\n",
       "      <th>x</th>\n",
       "      <th>y</th>\n",
       "      <th>z</th>\n",
       "      <th>x2</th>\n",
       "      <th>y2</th>\n",
       "      <th>z2</th>\n",
       "      <th>hit_id</th>\n",
       "    </tr>\n",
       "  </thead>\n",
       "  <tbody>\n",
       "    <tr>\n",
       "      <th>0</th>\n",
       "      <td>6.840272</td>\n",
       "      <td>0.686195</td>\n",
       "      <td>1.130537</td>\n",
       "      <td>0.981818</td>\n",
       "      <td>0.098493</td>\n",
       "      <td>0.164451</td>\n",
       "      <td>120939</td>\n",
       "    </tr>\n",
       "    <tr>\n",
       "      <th>1</th>\n",
       "      <td>6.736932</td>\n",
       "      <td>0.295956</td>\n",
       "      <td>1.166580</td>\n",
       "      <td>0.984415</td>\n",
       "      <td>0.043246</td>\n",
       "      <td>0.172995</td>\n",
       "      <td>120938</td>\n",
       "    </tr>\n",
       "    <tr>\n",
       "      <th>2</th>\n",
       "      <td>6.845524</td>\n",
       "      <td>0.813685</td>\n",
       "      <td>1.442789</td>\n",
       "      <td>0.971951</td>\n",
       "      <td>0.115530</td>\n",
       "      <td>0.209291</td>\n",
       "      <td>120937</td>\n",
       "    </tr>\n",
       "    <tr>\n",
       "      <th>3</th>\n",
       "      <td>6.930990</td>\n",
       "      <td>1.134756</td>\n",
       "      <td>1.410117</td>\n",
       "      <td>0.967552</td>\n",
       "      <td>0.158410</td>\n",
       "      <td>0.200778</td>\n",
       "      <td>120936</td>\n",
       "    </tr>\n",
       "    <tr>\n",
       "      <th>4</th>\n",
       "      <td>6.857177</td>\n",
       "      <td>0.723979</td>\n",
       "      <td>1.071072</td>\n",
       "      <td>0.982688</td>\n",
       "      <td>0.103752</td>\n",
       "      <td>0.155334</td>\n",
       "      <td>120935</td>\n",
       "    </tr>\n",
       "  </tbody>\n",
       "</table>\n",
       "</div>"
      ],
      "text/plain": [
       "          x         y         z        x2        y2        z2  hit_id\n",
       "0  6.840272  0.686195  1.130537  0.981818  0.098493  0.164451  120939\n",
       "1  6.736932  0.295956  1.166580  0.984415  0.043246  0.172995  120938\n",
       "2  6.845524  0.813685  1.442789  0.971951  0.115530  0.209291  120937\n",
       "3  6.930990  1.134756  1.410117  0.967552  0.158410  0.200778  120936\n",
       "4  6.857177  0.723979  1.071072  0.982688  0.103752  0.155334  120935"
      ]
     },
     "execution_count": 158,
     "metadata": {},
     "output_type": "execute_result"
    }
   ],
   "source": [
    "df_x1.head()"
   ]
  },
  {
   "cell_type": "code",
   "execution_count": 159,
   "metadata": {},
   "outputs": [
    {
     "data": {
      "text/plain": [
       "array([    0,     1,     2, ..., 11086, 39638, 30457])"
      ]
     },
     "execution_count": 159,
     "metadata": {},
     "output_type": "execute_result"
    }
   ],
   "source": [
    "labels"
   ]
  },
  {
   "cell_type": "code",
   "execution_count": 160,
   "metadata": {},
   "outputs": [],
   "source": [
    "submission = create_one_event_submission(0, df_x1, labels)\n",
    "score = score_event(truth, submission)"
   ]
  },
  {
   "cell_type": "code",
   "execution_count": 161,
   "metadata": {},
   "outputs": [
    {
     "data": {
      "text/plain": [
       "0.0"
      ]
     },
     "execution_count": 161,
     "metadata": {},
     "output_type": "execute_result"
    }
   ],
   "source": [
    "score"
   ]
  },
  {
   "cell_type": "code",
   "execution_count": 145,
   "metadata": {},
   "outputs": [
    {
     "data": {
      "text/html": [
       "<div>\n",
       "<style scoped>\n",
       "    .dataframe tbody tr th:only-of-type {\n",
       "        vertical-align: middle;\n",
       "    }\n",
       "\n",
       "    .dataframe tbody tr th {\n",
       "        vertical-align: top;\n",
       "    }\n",
       "\n",
       "    .dataframe thead th {\n",
       "        text-align: right;\n",
       "    }\n",
       "</style>\n",
       "<table border=\"1\" class=\"dataframe\">\n",
       "  <thead>\n",
       "    <tr style=\"text-align: right;\">\n",
       "      <th></th>\n",
       "      <th>event_id</th>\n",
       "      <th>hit_id</th>\n",
       "      <th>track_id</th>\n",
       "    </tr>\n",
       "  </thead>\n",
       "  <tbody>\n",
       "    <tr>\n",
       "      <th>0</th>\n",
       "      <td>0</td>\n",
       "      <td>1</td>\n",
       "      <td>0</td>\n",
       "    </tr>\n",
       "    <tr>\n",
       "      <th>1</th>\n",
       "      <td>0</td>\n",
       "      <td>2</td>\n",
       "      <td>1</td>\n",
       "    </tr>\n",
       "    <tr>\n",
       "      <th>2</th>\n",
       "      <td>0</td>\n",
       "      <td>3</td>\n",
       "      <td>2</td>\n",
       "    </tr>\n",
       "    <tr>\n",
       "      <th>3</th>\n",
       "      <td>0</td>\n",
       "      <td>4</td>\n",
       "      <td>3</td>\n",
       "    </tr>\n",
       "    <tr>\n",
       "      <th>4</th>\n",
       "      <td>0</td>\n",
       "      <td>5</td>\n",
       "      <td>0</td>\n",
       "    </tr>\n",
       "    <tr>\n",
       "      <th>5</th>\n",
       "      <td>0</td>\n",
       "      <td>6</td>\n",
       "      <td>0</td>\n",
       "    </tr>\n",
       "    <tr>\n",
       "      <th>6</th>\n",
       "      <td>0</td>\n",
       "      <td>7</td>\n",
       "      <td>0</td>\n",
       "    </tr>\n",
       "    <tr>\n",
       "      <th>7</th>\n",
       "      <td>0</td>\n",
       "      <td>8</td>\n",
       "      <td>4</td>\n",
       "    </tr>\n",
       "    <tr>\n",
       "      <th>8</th>\n",
       "      <td>0</td>\n",
       "      <td>9</td>\n",
       "      <td>5</td>\n",
       "    </tr>\n",
       "    <tr>\n",
       "      <th>9</th>\n",
       "      <td>0</td>\n",
       "      <td>10</td>\n",
       "      <td>6</td>\n",
       "    </tr>\n",
       "    <tr>\n",
       "      <th>10</th>\n",
       "      <td>0</td>\n",
       "      <td>11</td>\n",
       "      <td>7</td>\n",
       "    </tr>\n",
       "    <tr>\n",
       "      <th>11</th>\n",
       "      <td>0</td>\n",
       "      <td>12</td>\n",
       "      <td>8</td>\n",
       "    </tr>\n",
       "    <tr>\n",
       "      <th>12</th>\n",
       "      <td>0</td>\n",
       "      <td>13</td>\n",
       "      <td>9</td>\n",
       "    </tr>\n",
       "    <tr>\n",
       "      <th>13</th>\n",
       "      <td>0</td>\n",
       "      <td>14</td>\n",
       "      <td>9</td>\n",
       "    </tr>\n",
       "    <tr>\n",
       "      <th>14</th>\n",
       "      <td>0</td>\n",
       "      <td>15</td>\n",
       "      <td>9</td>\n",
       "    </tr>\n",
       "    <tr>\n",
       "      <th>15</th>\n",
       "      <td>0</td>\n",
       "      <td>16</td>\n",
       "      <td>9</td>\n",
       "    </tr>\n",
       "    <tr>\n",
       "      <th>16</th>\n",
       "      <td>0</td>\n",
       "      <td>17</td>\n",
       "      <td>10</td>\n",
       "    </tr>\n",
       "    <tr>\n",
       "      <th>17</th>\n",
       "      <td>0</td>\n",
       "      <td>18</td>\n",
       "      <td>11</td>\n",
       "    </tr>\n",
       "    <tr>\n",
       "      <th>18</th>\n",
       "      <td>0</td>\n",
       "      <td>19</td>\n",
       "      <td>6</td>\n",
       "    </tr>\n",
       "    <tr>\n",
       "      <th>19</th>\n",
       "      <td>0</td>\n",
       "      <td>20</td>\n",
       "      <td>1</td>\n",
       "    </tr>\n",
       "    <tr>\n",
       "      <th>20</th>\n",
       "      <td>0</td>\n",
       "      <td>21</td>\n",
       "      <td>4</td>\n",
       "    </tr>\n",
       "    <tr>\n",
       "      <th>21</th>\n",
       "      <td>0</td>\n",
       "      <td>22</td>\n",
       "      <td>12</td>\n",
       "    </tr>\n",
       "    <tr>\n",
       "      <th>22</th>\n",
       "      <td>0</td>\n",
       "      <td>23</td>\n",
       "      <td>13</td>\n",
       "    </tr>\n",
       "    <tr>\n",
       "      <th>23</th>\n",
       "      <td>0</td>\n",
       "      <td>24</td>\n",
       "      <td>14</td>\n",
       "    </tr>\n",
       "    <tr>\n",
       "      <th>24</th>\n",
       "      <td>0</td>\n",
       "      <td>25</td>\n",
       "      <td>15</td>\n",
       "    </tr>\n",
       "    <tr>\n",
       "      <th>25</th>\n",
       "      <td>0</td>\n",
       "      <td>26</td>\n",
       "      <td>16</td>\n",
       "    </tr>\n",
       "    <tr>\n",
       "      <th>26</th>\n",
       "      <td>0</td>\n",
       "      <td>27</td>\n",
       "      <td>17</td>\n",
       "    </tr>\n",
       "    <tr>\n",
       "      <th>27</th>\n",
       "      <td>0</td>\n",
       "      <td>28</td>\n",
       "      <td>18</td>\n",
       "    </tr>\n",
       "    <tr>\n",
       "      <th>28</th>\n",
       "      <td>0</td>\n",
       "      <td>29</td>\n",
       "      <td>19</td>\n",
       "    </tr>\n",
       "    <tr>\n",
       "      <th>29</th>\n",
       "      <td>0</td>\n",
       "      <td>30</td>\n",
       "      <td>20</td>\n",
       "    </tr>\n",
       "    <tr>\n",
       "      <th>...</th>\n",
       "      <td>...</td>\n",
       "      <td>...</td>\n",
       "      <td>...</td>\n",
       "    </tr>\n",
       "    <tr>\n",
       "      <th>120909</th>\n",
       "      <td>0</td>\n",
       "      <td>120910</td>\n",
       "      <td>27771</td>\n",
       "    </tr>\n",
       "    <tr>\n",
       "      <th>120910</th>\n",
       "      <td>0</td>\n",
       "      <td>120911</td>\n",
       "      <td>27771</td>\n",
       "    </tr>\n",
       "    <tr>\n",
       "      <th>120911</th>\n",
       "      <td>0</td>\n",
       "      <td>120912</td>\n",
       "      <td>5501</td>\n",
       "    </tr>\n",
       "    <tr>\n",
       "      <th>120912</th>\n",
       "      <td>0</td>\n",
       "      <td>120913</td>\n",
       "      <td>36967</td>\n",
       "    </tr>\n",
       "    <tr>\n",
       "      <th>120913</th>\n",
       "      <td>0</td>\n",
       "      <td>120914</td>\n",
       "      <td>12086</td>\n",
       "    </tr>\n",
       "    <tr>\n",
       "      <th>120914</th>\n",
       "      <td>0</td>\n",
       "      <td>120915</td>\n",
       "      <td>16007</td>\n",
       "    </tr>\n",
       "    <tr>\n",
       "      <th>120915</th>\n",
       "      <td>0</td>\n",
       "      <td>120916</td>\n",
       "      <td>39533</td>\n",
       "    </tr>\n",
       "    <tr>\n",
       "      <th>120916</th>\n",
       "      <td>0</td>\n",
       "      <td>120917</td>\n",
       "      <td>27771</td>\n",
       "    </tr>\n",
       "    <tr>\n",
       "      <th>120917</th>\n",
       "      <td>0</td>\n",
       "      <td>120918</td>\n",
       "      <td>12086</td>\n",
       "    </tr>\n",
       "    <tr>\n",
       "      <th>120918</th>\n",
       "      <td>0</td>\n",
       "      <td>120919</td>\n",
       "      <td>16005</td>\n",
       "    </tr>\n",
       "    <tr>\n",
       "      <th>120919</th>\n",
       "      <td>0</td>\n",
       "      <td>120920</td>\n",
       "      <td>39480</td>\n",
       "    </tr>\n",
       "    <tr>\n",
       "      <th>120920</th>\n",
       "      <td>0</td>\n",
       "      <td>120921</td>\n",
       "      <td>39362</td>\n",
       "    </tr>\n",
       "    <tr>\n",
       "      <th>120921</th>\n",
       "      <td>0</td>\n",
       "      <td>120922</td>\n",
       "      <td>39433</td>\n",
       "    </tr>\n",
       "    <tr>\n",
       "      <th>120922</th>\n",
       "      <td>0</td>\n",
       "      <td>120923</td>\n",
       "      <td>39533</td>\n",
       "    </tr>\n",
       "    <tr>\n",
       "      <th>120923</th>\n",
       "      <td>0</td>\n",
       "      <td>120924</td>\n",
       "      <td>39633</td>\n",
       "    </tr>\n",
       "    <tr>\n",
       "      <th>120924</th>\n",
       "      <td>0</td>\n",
       "      <td>120925</td>\n",
       "      <td>12089</td>\n",
       "    </tr>\n",
       "    <tr>\n",
       "      <th>120925</th>\n",
       "      <td>0</td>\n",
       "      <td>120926</td>\n",
       "      <td>39434</td>\n",
       "    </tr>\n",
       "    <tr>\n",
       "      <th>120926</th>\n",
       "      <td>0</td>\n",
       "      <td>120927</td>\n",
       "      <td>16005</td>\n",
       "    </tr>\n",
       "    <tr>\n",
       "      <th>120927</th>\n",
       "      <td>0</td>\n",
       "      <td>120928</td>\n",
       "      <td>39634</td>\n",
       "    </tr>\n",
       "    <tr>\n",
       "      <th>120928</th>\n",
       "      <td>0</td>\n",
       "      <td>120929</td>\n",
       "      <td>5469</td>\n",
       "    </tr>\n",
       "    <tr>\n",
       "      <th>120929</th>\n",
       "      <td>0</td>\n",
       "      <td>120930</td>\n",
       "      <td>39635</td>\n",
       "    </tr>\n",
       "    <tr>\n",
       "      <th>120930</th>\n",
       "      <td>0</td>\n",
       "      <td>120931</td>\n",
       "      <td>11768</td>\n",
       "    </tr>\n",
       "    <tr>\n",
       "      <th>120931</th>\n",
       "      <td>0</td>\n",
       "      <td>120932</td>\n",
       "      <td>11757</td>\n",
       "    </tr>\n",
       "    <tr>\n",
       "      <th>120932</th>\n",
       "      <td>0</td>\n",
       "      <td>120933</td>\n",
       "      <td>39439</td>\n",
       "    </tr>\n",
       "    <tr>\n",
       "      <th>120933</th>\n",
       "      <td>0</td>\n",
       "      <td>120934</td>\n",
       "      <td>39636</td>\n",
       "    </tr>\n",
       "    <tr>\n",
       "      <th>120934</th>\n",
       "      <td>0</td>\n",
       "      <td>120935</td>\n",
       "      <td>39637</td>\n",
       "    </tr>\n",
       "    <tr>\n",
       "      <th>120935</th>\n",
       "      <td>0</td>\n",
       "      <td>120936</td>\n",
       "      <td>39487</td>\n",
       "    </tr>\n",
       "    <tr>\n",
       "      <th>120936</th>\n",
       "      <td>0</td>\n",
       "      <td>120937</td>\n",
       "      <td>11086</td>\n",
       "    </tr>\n",
       "    <tr>\n",
       "      <th>120937</th>\n",
       "      <td>0</td>\n",
       "      <td>120938</td>\n",
       "      <td>39638</td>\n",
       "    </tr>\n",
       "    <tr>\n",
       "      <th>120938</th>\n",
       "      <td>0</td>\n",
       "      <td>120939</td>\n",
       "      <td>30457</td>\n",
       "    </tr>\n",
       "  </tbody>\n",
       "</table>\n",
       "<p>120939 rows × 3 columns</p>\n",
       "</div>"
      ],
      "text/plain": [
       "        event_id  hit_id  track_id\n",
       "0              0       1         0\n",
       "1              0       2         1\n",
       "2              0       3         2\n",
       "3              0       4         3\n",
       "4              0       5         0\n",
       "5              0       6         0\n",
       "6              0       7         0\n",
       "7              0       8         4\n",
       "8              0       9         5\n",
       "9              0      10         6\n",
       "10             0      11         7\n",
       "11             0      12         8\n",
       "12             0      13         9\n",
       "13             0      14         9\n",
       "14             0      15         9\n",
       "15             0      16         9\n",
       "16             0      17        10\n",
       "17             0      18        11\n",
       "18             0      19         6\n",
       "19             0      20         1\n",
       "20             0      21         4\n",
       "21             0      22        12\n",
       "22             0      23        13\n",
       "23             0      24        14\n",
       "24             0      25        15\n",
       "25             0      26        16\n",
       "26             0      27        17\n",
       "27             0      28        18\n",
       "28             0      29        19\n",
       "29             0      30        20\n",
       "...          ...     ...       ...\n",
       "120909         0  120910     27771\n",
       "120910         0  120911     27771\n",
       "120911         0  120912      5501\n",
       "120912         0  120913     36967\n",
       "120913         0  120914     12086\n",
       "120914         0  120915     16007\n",
       "120915         0  120916     39533\n",
       "120916         0  120917     27771\n",
       "120917         0  120918     12086\n",
       "120918         0  120919     16005\n",
       "120919         0  120920     39480\n",
       "120920         0  120921     39362\n",
       "120921         0  120922     39433\n",
       "120922         0  120923     39533\n",
       "120923         0  120924     39633\n",
       "120924         0  120925     12089\n",
       "120925         0  120926     39434\n",
       "120926         0  120927     16005\n",
       "120927         0  120928     39634\n",
       "120928         0  120929      5469\n",
       "120929         0  120930     39635\n",
       "120930         0  120931     11768\n",
       "120931         0  120932     11757\n",
       "120932         0  120933     39439\n",
       "120933         0  120934     39636\n",
       "120934         0  120935     39637\n",
       "120935         0  120936     39487\n",
       "120936         0  120937     11086\n",
       "120937         0  120938     39638\n",
       "120938         0  120939     30457\n",
       "\n",
       "[120939 rows x 3 columns]"
      ]
     },
     "execution_count": 145,
     "metadata": {},
     "output_type": "execute_result"
    }
   ],
   "source": [
    "submission"
   ]
  },
  {
   "cell_type": "code",
   "execution_count": 129,
   "metadata": {},
   "outputs": [
    {
     "name": "stdout",
     "output_type": "stream",
     "text": [
      "0.0006715291938320091\n"
     ]
    }
   ],
   "source": [
    "print(score)"
   ]
  },
  {
   "cell_type": "code",
   "execution_count": 177,
   "metadata": {},
   "outputs": [],
   "source": [
    "# say we have a straight line function\n",
    "# y = mx + c\n",
    "# let m = 5, c = 20, x in {0, 100}\n",
    "x = torch.FloatTensor(2500).random_(0, 100)"
   ]
  },
  {
   "cell_type": "code",
   "execution_count": 178,
   "metadata": {},
   "outputs": [],
   "source": [
    "m =5\n",
    "c = 20"
   ]
  },
  {
   "cell_type": "code",
   "execution_count": 179,
   "metadata": {},
   "outputs": [],
   "source": [
    "y = m * x + c"
   ]
  },
  {
   "cell_type": "code",
   "execution_count": 180,
   "metadata": {},
   "outputs": [
    {
     "data": {
      "text/plain": [
       "tensor([  95.,  280.,  480.,  ...,  305.,  480.,  240.])"
      ]
     },
     "execution_count": 180,
     "metadata": {},
     "output_type": "execute_result"
    }
   ],
   "source": [
    "y"
   ]
  },
  {
   "cell_type": "code",
   "execution_count": 182,
   "metadata": {},
   "outputs": [],
   "source": [
    "import matplotlib.pyplot as plt"
   ]
  },
  {
   "cell_type": "code",
   "execution_count": 190,
   "metadata": {},
   "outputs": [
    {
     "data": {
      "image/png": "[encoded data removed]",
      "text/plain": [
       "<matplotlib.figure.Figure at 0x7f215e8da390>"
      ]
     },
     "metadata": {},
     "output_type": "display_data"
    }
   ],
   "source": [
    "plt.plot(x.cpu().numpy(), y.cpu().numpy(), 'r--')\n",
    "plt.show()"
   ]
  },
  {
   "cell_type": "code",
   "execution_count": 194,
   "metadata": {},
   "outputs": [],
   "source": [
    "# now add some noise\n",
    "X = x.cpu().numpy()\n",
    "Y = y.cpu().numpy()"
   ]
  },
  {
   "cell_type": "code",
   "execution_count": 196,
   "metadata": {},
   "outputs": [],
   "source": [
    "X = X+ 20*np.random.randn(2500)\n",
    "Y = Y + 20*np.random.randn(2500) "
   ]
  },
  {
   "cell_type": "code",
   "execution_count": 197,
   "metadata": {},
   "outputs": [
    {
     "data": {
      "text/plain": [
       "array([ 12.56277102,  49.57012975, 125.28102951, ...,  77.01967762,\n",
       "        56.18320855,  52.24584259])"
      ]
     },
     "execution_count": 197,
     "metadata": {},
     "output_type": "execute_result"
    }
   ],
   "source": [
    "X"
   ]
  },
  {
   "cell_type": "code",
   "execution_count": 198,
   "metadata": {},
   "outputs": [
    {
     "data": {
      "text/plain": [
       "array([109.52688216, 281.92500073, 502.88498453, ..., 280.5327945 ,\n",
       "       502.4524292 , 242.19154682])"
      ]
     },
     "execution_count": 198,
     "metadata": {},
     "output_type": "execute_result"
    }
   ],
   "source": [
    "Y"
   ]
  },
  {
   "cell_type": "code",
   "execution_count": 199,
   "metadata": {},
   "outputs": [
    {
     "data": {
      "image/png": "[encoded data removed]",
      "text/plain": [
       "<matplotlib.figure.Figure at 0x7f215eed72e8>"
      ]
     },
     "metadata": {},
     "output_type": "display_data"
    }
   ],
   "source": [
    "plt.plot(X, Y, 'r--')\n",
    "plt.show()"
   ]
  },
  {
   "cell_type": "code",
   "execution_count": 200,
   "metadata": {},
   "outputs": [
    {
     "data": {
      "text/plain": [
       "(2500,)"
      ]
     },
     "execution_count": 200,
     "metadata": {},
     "output_type": "execute_result"
    }
   ],
   "source": [
    "X.shape"
   ]
  },
  {
   "cell_type": "code",
   "execution_count": 203,
   "metadata": {},
   "outputs": [],
   "source": [
    "df = pd.DataFrame(X)"
   ]
  },
  {
   "cell_type": "code",
   "execution_count": 204,
   "metadata": {},
   "outputs": [
    {
     "data": {
      "text/html": [
       "<div>\n",
       "<style scoped>\n",
       "    .dataframe tbody tr th:only-of-type {\n",
       "        vertical-align: middle;\n",
       "    }\n",
       "\n",
       "    .dataframe tbody tr th {\n",
       "        vertical-align: top;\n",
       "    }\n",
       "\n",
       "    .dataframe thead th {\n",
       "        text-align: right;\n",
       "    }\n",
       "</style>\n",
       "<table border=\"1\" class=\"dataframe\">\n",
       "  <thead>\n",
       "    <tr style=\"text-align: right;\">\n",
       "      <th></th>\n",
       "      <th>0</th>\n",
       "    </tr>\n",
       "  </thead>\n",
       "  <tbody>\n",
       "    <tr>\n",
       "      <th>0</th>\n",
       "      <td>12.562771</td>\n",
       "    </tr>\n",
       "    <tr>\n",
       "      <th>1</th>\n",
       "      <td>49.570130</td>\n",
       "    </tr>\n",
       "    <tr>\n",
       "      <th>2</th>\n",
       "      <td>125.281030</td>\n",
       "    </tr>\n",
       "    <tr>\n",
       "      <th>3</th>\n",
       "      <td>33.668240</td>\n",
       "    </tr>\n",
       "    <tr>\n",
       "      <th>4</th>\n",
       "      <td>86.578204</td>\n",
       "    </tr>\n",
       "  </tbody>\n",
       "</table>\n",
       "</div>"
      ],
      "text/plain": [
       "            0\n",
       "0   12.562771\n",
       "1   49.570130\n",
       "2  125.281030\n",
       "3   33.668240\n",
       "4   86.578204"
      ]
     },
     "execution_count": 204,
     "metadata": {},
     "output_type": "execute_result"
    }
   ],
   "source": [
    "df.head()"
   ]
  },
  {
   "cell_type": "code",
   "execution_count": 206,
   "metadata": {},
   "outputs": [],
   "source": [
    "df.columns = ['x']"
   ]
  },
  {
   "cell_type": "code",
   "execution_count": 207,
   "metadata": {},
   "outputs": [
    {
     "data": {
      "text/html": [
       "<div>\n",
       "<style scoped>\n",
       "    .dataframe tbody tr th:only-of-type {\n",
       "        vertical-align: middle;\n",
       "    }\n",
       "\n",
       "    .dataframe tbody tr th {\n",
       "        vertical-align: top;\n",
       "    }\n",
       "\n",
       "    .dataframe thead th {\n",
       "        text-align: right;\n",
       "    }\n",
       "</style>\n",
       "<table border=\"1\" class=\"dataframe\">\n",
       "  <thead>\n",
       "    <tr style=\"text-align: right;\">\n",
       "      <th></th>\n",
       "      <th>x</th>\n",
       "    </tr>\n",
       "  </thead>\n",
       "  <tbody>\n",
       "    <tr>\n",
       "      <th>0</th>\n",
       "      <td>12.562771</td>\n",
       "    </tr>\n",
       "    <tr>\n",
       "      <th>1</th>\n",
       "      <td>49.570130</td>\n",
       "    </tr>\n",
       "    <tr>\n",
       "      <th>2</th>\n",
       "      <td>125.281030</td>\n",
       "    </tr>\n",
       "    <tr>\n",
       "      <th>3</th>\n",
       "      <td>33.668240</td>\n",
       "    </tr>\n",
       "    <tr>\n",
       "      <th>4</th>\n",
       "      <td>86.578204</td>\n",
       "    </tr>\n",
       "  </tbody>\n",
       "</table>\n",
       "</div>"
      ],
      "text/plain": [
       "            x\n",
       "0   12.562771\n",
       "1   49.570130\n",
       "2  125.281030\n",
       "3   33.668240\n",
       "4   86.578204"
      ]
     },
     "execution_count": 207,
     "metadata": {},
     "output_type": "execute_result"
    }
   ],
   "source": [
    "df.head()"
   ]
  },
  {
   "cell_type": "code",
   "execution_count": 208,
   "metadata": {},
   "outputs": [],
   "source": [
    "df['y'] = Y"
   ]
  },
  {
   "cell_type": "code",
   "execution_count": 209,
   "metadata": {},
   "outputs": [
    {
     "data": {
      "text/html": [
       "<div>\n",
       "<style scoped>\n",
       "    .dataframe tbody tr th:only-of-type {\n",
       "        vertical-align: middle;\n",
       "    }\n",
       "\n",
       "    .dataframe tbody tr th {\n",
       "        vertical-align: top;\n",
       "    }\n",
       "\n",
       "    .dataframe thead th {\n",
       "        text-align: right;\n",
       "    }\n",
       "</style>\n",
       "<table border=\"1\" class=\"dataframe\">\n",
       "  <thead>\n",
       "    <tr style=\"text-align: right;\">\n",
       "      <th></th>\n",
       "      <th>x</th>\n",
       "      <th>y</th>\n",
       "    </tr>\n",
       "  </thead>\n",
       "  <tbody>\n",
       "    <tr>\n",
       "      <th>0</th>\n",
       "      <td>12.562771</td>\n",
       "      <td>109.526882</td>\n",
       "    </tr>\n",
       "    <tr>\n",
       "      <th>1</th>\n",
       "      <td>49.570130</td>\n",
       "      <td>281.925001</td>\n",
       "    </tr>\n",
       "    <tr>\n",
       "      <th>2</th>\n",
       "      <td>125.281030</td>\n",
       "      <td>502.884985</td>\n",
       "    </tr>\n",
       "    <tr>\n",
       "      <th>3</th>\n",
       "      <td>33.668240</td>\n",
       "      <td>159.873553</td>\n",
       "    </tr>\n",
       "    <tr>\n",
       "      <th>4</th>\n",
       "      <td>86.578204</td>\n",
       "      <td>492.603055</td>\n",
       "    </tr>\n",
       "  </tbody>\n",
       "</table>\n",
       "</div>"
      ],
      "text/plain": [
       "            x           y\n",
       "0   12.562771  109.526882\n",
       "1   49.570130  281.925001\n",
       "2  125.281030  502.884985\n",
       "3   33.668240  159.873553\n",
       "4   86.578204  492.603055"
      ]
     },
     "execution_count": 209,
     "metadata": {},
     "output_type": "execute_result"
    }
   ],
   "source": [
    "df.head()"
   ]
  },
  {
   "cell_type": "code",
   "execution_count": 211,
   "metadata": {},
   "outputs": [
    {
     "ename": "ModuleNotFoundError",
     "evalue": "No module named 'keras'",
     "output_type": "error",
     "traceback": [
      "\u001b[0;31m---------------------------------------------------------------------------\u001b[0m",
      "\u001b[0;31mModuleNotFoundError\u001b[0m                       Traceback (most recent call last)",
      "\u001b[0;32m<ipython-input-211-36c71005c5dc>\u001b[0m in \u001b[0;36m<module>\u001b[0;34m()\u001b[0m\n\u001b[0;32m----> 1\u001b[0;31m \u001b[0;32mfrom\u001b[0m \u001b[0mkeras\u001b[0m\u001b[0;34m.\u001b[0m\u001b[0mmodels\u001b[0m \u001b[0;32mimport\u001b[0m \u001b[0mModel\u001b[0m\u001b[0;34m\u001b[0m\u001b[0m\n\u001b[0m\u001b[1;32m      2\u001b[0m \u001b[0;32mfrom\u001b[0m \u001b[0mkeras\u001b[0m\u001b[0;34m.\u001b[0m\u001b[0mlayers\u001b[0m \u001b[0;32mimport\u001b[0m \u001b[0mDense\u001b[0m\u001b[0;34m,\u001b[0m \u001b[0mInput\u001b[0m\u001b[0;34m\u001b[0m\u001b[0m\n\u001b[1;32m      3\u001b[0m \u001b[0;32mfrom\u001b[0m \u001b[0mkeras\u001b[0m\u001b[0;34m.\u001b[0m\u001b[0mdatasets\u001b[0m \u001b[0;32mimport\u001b[0m \u001b[0mmnist\u001b[0m\u001b[0;34m\u001b[0m\u001b[0m\n\u001b[1;32m      4\u001b[0m \u001b[0;32mfrom\u001b[0m \u001b[0mkeras\u001b[0m\u001b[0;34m.\u001b[0m\u001b[0mregularizers\u001b[0m \u001b[0;32mimport\u001b[0m \u001b[0ml1\u001b[0m\u001b[0;34m\u001b[0m\u001b[0m\n\u001b[1;32m      5\u001b[0m \u001b[0;32mfrom\u001b[0m \u001b[0mkeras\u001b[0m\u001b[0;34m.\u001b[0m\u001b[0moptimizers\u001b[0m \u001b[0;32mimport\u001b[0m \u001b[0mAdam\u001b[0m\u001b[0;34m\u001b[0m\u001b[0m\n",
      "\u001b[0;31mModuleNotFoundError\u001b[0m: No module named 'keras'"
     ]
    }
   ],
   "source": []
  },
  {
   "cell_type": "code",
   "execution_count": 210,
   "metadata": {},
   "outputs": [
    {
     "ename": "SyntaxError",
     "evalue": "EOL while scanning string literal (<ipython-input-210-ac967de8b0a4>, line 12)",
     "output_type": "error",
     "traceback": [
      "\u001b[0;36m  File \u001b[0;32m\"<ipython-input-210-ac967de8b0a4>\"\u001b[0;36m, line \u001b[0;32m12\u001b[0m\n\u001b[0;31m    autoencoder.compile(optimizer='adam', loss='bin\u001b[0m\n\u001b[0m                                                   ^\u001b[0m\n\u001b[0;31mSyntaxError\u001b[0m\u001b[0;31m:\u001b[0m EOL while scanning string literal\n"
     ]
    }
   ],
   "source": [
    "input_size = 5000\n",
    "hidden_size = 128\n",
    "code_size = 32\n",
    "\n",
    "input_img = Input(shape=(input_size,))\n",
    "hidden_1 = Dense(hidden_size, activation='relu')(input_img)\n",
    "code = Dense(code_size, activation='relu')(hidden_1)\n",
    "hidden_2 = Dense(hidden_size, activation='relu')(code)\n",
    "output_img = Dense(input_size, activation='sigmoid')(hidden_2)\n",
    "\n",
    "autoencoder = Model(input_img, output_img)\n",
    "autoencoder.compile(optimizer='adam', loss='mse')"
   ]
  },
  {
   "cell_type": "code",
   "execution_count": null,
   "metadata": {},
   "outputs": [],
   "source": []
  }
 ],
 "metadata": {
  "kernelspec": {
   "display_name": "tmlf",
   "language": "python",
   "name": "tmlf"
  },
  "language_info": {
   "codemirror_mode": {
    "name": "ipython",
    "version": 3
   },
   "file_extension": ".py",
   "mimetype": "text/x-python",
   "name": "python",
   "nbconvert_exporter": "python",
   "pygments_lexer": "ipython3",
   "version": "3.6.4"
  }
 },
 "nbformat": 4,
 "nbformat_minor": 2
}
